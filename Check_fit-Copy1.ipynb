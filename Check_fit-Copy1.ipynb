{
 "cells": [
  {
   "cell_type": "code",
   "execution_count": 1,
   "metadata": {},
   "outputs": [],
   "source": [
    "import numpy as np\n",
    "import pandas as pd\n",
    "import matplotlib.pylab as plt\n",
    "import matplotlib"
   ]
  },
  {
   "cell_type": "code",
   "execution_count": 2,
   "metadata": {},
   "outputs": [],
   "source": [
    "df = pd.read_csv('Events.csv')"
   ]
  },
  {
   "cell_type": "code",
   "execution_count": 3,
   "metadata": {},
   "outputs": [],
   "source": [
    "df = df[(df['chi2']!=0)]"
   ]
  },
  {
   "cell_type": "code",
   "execution_count": 4,
   "metadata": {},
   "outputs": [
    {
     "data": {
      "image/png": "[encoded data removed]",
      "text/plain": [
       "<Figure size 432x288 with 1 Axes>"
      ]
     },
     "metadata": {
      "needs_background": "light"
     },
     "output_type": "display_data"
    }
   ],
   "source": [
    "plt.hist(df['chi2'],bins=100)\n",
    "plt.show()"
   ]
  },
  {
   "cell_type": "code",
   "execution_count": 5,
   "metadata": {},
   "outputs": [
    {
     "data": {
      "image/png": "[encoded data removed]",
      "text/plain": [
       "<Figure size 432x288 with 1 Axes>"
      ]
     },
     "metadata": {
      "needs_background": "light"
     },
     "output_type": "display_data"
    }
   ],
   "source": [
    "plt.hist(df['sigmat0'])\n",
    "plt.show()"
   ]
  },
  {
   "cell_type": "code",
   "execution_count": 6,
   "metadata": {},
   "outputs": [
    {
     "data": {
      "text/plain": [
       "Index(['Unnamed: 0', 'Unnamed: 1', 'run_number', 'event_number', 'zenith',\n",
       "       'azimuth', 'energy', 'x', 'y', 'z', 'ShowerCOG_x', 'ShowerCOG_y',\n",
       "       'ShowerCOG_z', 'ShowerCOG_time', 'ShowerCOG_zen', 'ShowerCOG_az', 'm',\n",
       "       's', 't0', 'charge', 'chargePe', 'chargeVEM', 'chi2', 'sigmat0',\n",
       "       'sigmam', 'sigmas', 'feimpedance', 'spemean', 'pe_per_vem',\n",
       "       'angular_resolution', 'chi2_ldf', 'chi2_time', 'Laputop_dir_zenith',\n",
       "       'Laputop_dir_azimuth', 'Laputop_time', 'Laputop_pos_x',\n",
       "       'Laputop_pos_y'],\n",
       "      dtype='object')"
      ]
     },
     "execution_count": 6,
     "metadata": {},
     "output_type": "execute_result"
    }
   ],
   "source": [
    "df.keys()"
   ]
  },
  {
   "cell_type": "code",
   "execution_count": 7,
   "metadata": {},
   "outputs": [],
   "source": [
    "r = ((df['x'].values-df['ShowerCOG_x'].values)**2.0 + (df['y'].values-df['ShowerCOG_y'].values)**2.0 + (df['z'].values-df['ShowerCOG_z'].values)**2.0)**0.5"
   ]
  },
  {
   "cell_type": "code",
   "execution_count": 8,
   "metadata": {},
   "outputs": [],
   "source": [
    "for i in range(len(r)):\n",
    "    if df['ShowerCOG_time'].values[i] < df['t0'].values[i]:\n",
    "        r[i] = r[i]\n",
    "    else:\n",
    "        r[i] = -r[i]"
   ]
  },
  {
   "cell_type": "code",
   "execution_count": 9,
   "metadata": {},
   "outputs": [],
   "source": [
    "df['r'] = r"
   ]
  },
  {
   "cell_type": "code",
   "execution_count": 10,
   "metadata": {},
   "outputs": [],
   "source": [
    "c = .299"
   ]
  },
  {
   "cell_type": "code",
   "execution_count": 11,
   "metadata": {},
   "outputs": [],
   "source": [
    "def get_delta(r,a):\n",
    "    delta = a * r**2.0 #+ b * (1-np.exp(-(r**2.0)/(2*sigma**2.0)))\n",
    "    return delta"
   ]
  },
  {
   "cell_type": "code",
   "execution_count": 12,
   "metadata": {},
   "outputs": [],
   "source": [
    "def get_n(x,y,z):\n",
    "    x,y,z = np.array([x,y,z])/(x**2.0+y**2.0+z**2.0)**0.5\n",
    "    return [x,y,z]"
   ]
  },
  {
   "cell_type": "code",
   "execution_count": 13,
   "metadata": {},
   "outputs": [],
   "source": [
    "def get_n_cos(zen,az):\n",
    "    x = -np.sin(zen) * np.cos(az)\n",
    "    y = -np.sin(zen) * np.sin(az)\n",
    "    z = -np.cos(zen)\n",
    "    return x,y,z"
   ]
  },
  {
   "cell_type": "code",
   "execution_count": 14,
   "metadata": {},
   "outputs": [],
   "source": [
    "def get_t(X,x1,y1,z1,a,xc,yc,zc,tc):\n",
    "    x,y,z,r = X\n",
    "    n = get_n(x1,y1,z1)\n",
    "    x_new = np.array([(i-xc)*n[0] for i in x])\n",
    "    y_new = np.array([(i-yc)*n[1] for i in y])\n",
    "    z_new = np.array([(i-zc)*n[2] for i in z])\n",
    "    new = x_new + y_new + z_new\n",
    "    tc = np.array([tc for i in range(len(z_new))])\n",
    "    t = tc + (1/c)*new + get_delta(r,a)\n",
    "    return t"
   ]
  },
  {
   "cell_type": "code",
   "execution_count": 15,
   "metadata": {},
   "outputs": [],
   "source": [
    "def get_angular_resolution(x1,y1,z1,x2,y2,z2):\n",
    "    n1 = np.array(get_n(x1,y1,z1))\n",
    "    n2 = np.array(get_n(x2,y2,z2))\n",
    "    if np.dot(n1,n2)>1:\n",
    "        value = 1\n",
    "        angular_res = np.arccos(value)*180/np.pi\n",
    "    else:\n",
    "        angular_res = np.arccos(np.dot(n1,n2))*180/np.pi\n",
    "    return angular_res"
   ]
  },
  {
   "cell_type": "code",
   "execution_count": 16,
   "metadata": {},
   "outputs": [],
   "source": [
    "def clean(event1):\n",
    "    doms = []\n",
    "    strings = []\n",
    "    chi2 = []\n",
    "    remove_index_list = []\n",
    "    for value in range(len(event1)):\n",
    "        doms.append(event1['Unnamed: 1'].values[value].split(',')[1])\n",
    "        strings.append(event1['Unnamed: 1'].values[value].split(',')[0].split('(')[1])\n",
    "        chi2.append(event1['chi2'].values[value])\n",
    "    doms = np.array(doms)\n",
    "    strings = np.array(strings)\n",
    "    chi2 = np.array(chi2)\n",
    "    \n",
    "    check = []\n",
    "    for string in np.unique(strings):\n",
    "        if np.sum(strings==string)==2:\n",
    "            index_max = np.argmax(chi2[strings==string])\n",
    "            if index_max == 0:\n",
    "                check.append(False)\n",
    "            else:\n",
    "                check.append(True)\n",
    "            if check[-1]:\n",
    "                check.append(False)\n",
    "            else:\n",
    "                check.append(True)\n",
    "        else:\n",
    "            check.append(True)\n",
    "            \n",
    "    for i in range(len(check)):\n",
    "        cutoff = np.mean(chi2[check])+2*np.mean(chi2[check])/len(chi2[check])\n",
    "        if (chi2[i]>=cutoff):\n",
    "            check[i] = False\n",
    "    \n",
    "    for i in range(len(check)):\n",
    "        if not check[i]:\n",
    "            remove_index_list.append(i)\n",
    "    return remove_index_list,check"
   ]
  },
  {
   "cell_type": "code",
   "execution_count": 17,
   "metadata": {},
   "outputs": [],
   "source": [
    "from scipy.optimize import curve_fit"
   ]
  },
  {
   "cell_type": "code",
   "execution_count": 18,
   "metadata": {},
   "outputs": [],
   "source": [
    "from functools import partial"
   ]
  },
  {
   "cell_type": "code",
   "execution_count": 19,
   "metadata": {},
   "outputs": [],
   "source": [
    "events = df['Unnamed: 0'].unique()"
   ]
  },
  {
   "cell_type": "code",
   "execution_count": 20,
   "metadata": {},
   "outputs": [],
   "source": [
    "laputop_zenith = []\n",
    "laputop_azimuth = []\n",
    "mc_zenith = []\n",
    "mc_azimuth = []\n",
    "angular_resolution = []\n",
    "for event in events:\n",
    "    event1 = df.loc[df['Unnamed: 0'] == event]\n",
    "    laputop_zenith.append(event1['Laputop_dir_zenith'].values[0])\n",
    "    laputop_azimuth.append(event1['Laputop_dir_azimuth'].values[0])\n",
    "    mc_zenith.append(event1['zenith'].values[0])\n",
    "    mc_azimuth.append(event1['azimuth'].values[0])\n",
    "    angular_resolution.append(event1['angular_resolution'].values[0])"
   ]
  },
  {
   "cell_type": "code",
   "execution_count": 21,
   "metadata": {},
   "outputs": [],
   "source": [
    "ang_res = []\n",
    "laputop_res = []\n",
    "residuals = []\n",
    "energy = []\n",
    "zenith = []\n",
    "\n",
    "def get_fit(event):\n",
    "\n",
    "    event1 = df.loc[df['Unnamed: 0'] == event]\n",
    "    #event1 = event1.loc[abs(event1['r'])>50]\n",
    "    \n",
    "    energy = event1['energy'].values[0]\n",
    "    zenith = event1['zenith'].values[0]\n",
    "    true_zen = event1['zenith'].values[0]\n",
    "    true_az = event1['azimuth'].values[0]\n",
    "    \n",
    "    true_x,true_y,true_z = get_n_cos(true_zen,true_az)\n",
    "\n",
    "    tc = event1['ShowerCOG_time'].values[0]\n",
    "    xc = event1['ShowerCOG_x'].values[0]\n",
    "    yc = event1['ShowerCOG_y'].values[0]\n",
    "    zc = event1['ShowerCOG_z'].values[0]\n",
    "    zen_shower = event1['ShowerCOG_zen'].values[0]\n",
    "    az_shower = event1['ShowerCOG_az'].values[0]\n",
    "    \n",
    "    x_start,y_start,z_start = get_n_cos(zen_shower,az_shower)\n",
    "    a_start = 4.823*10**-4\n",
    "    \n",
    "    x_o = event1['x'].values\n",
    "    y_o = event1['y'].values\n",
    "    z_o = event1['z'].values\n",
    "    r_o = event1['r'].values\n",
    "    t0_o = event1['t0'].values\n",
    "    \n",
    "    get_t_new = partial(get_t,tc=tc,xc=xc,yc=yc,zc=zc)\n",
    "    \n",
    "    if len(event1)<1000:\n",
    "        remove_index_list = []\n",
    "        check = [True for i in range(len(event1))]\n",
    "    else:\n",
    "        remove_index_list,check = clean(event1)\n",
    "        \n",
    "    fit_original = curve_fit(get_t_new,(x_o[check],y_o[check],z_o[check],r_o[check]),t0_o[check],\n",
    "                    p0=[x_start,y_start,z_start,a_start],\n",
    "                    bounds=((-np.inf,-np.inf,-np.inf,0),(np.inf,np.inf,0,1e-3)),\n",
    "                    maxfev=3000,\n",
    "                    absolute_sigma=True)\n",
    "    \n",
    "    fit_old = curve_fit(get_t_new,(x_o,y_o,z_o,r_o),t0_o,\n",
    "                    p0=[x_start,y_start,z_start,a_start],\n",
    "                    bounds=((-np.inf,-np.inf,-np.inf,0),(np.inf,np.inf,0,1e-3)),\n",
    "                    maxfev=3000,\n",
    "                    absolute_sigma=True)\n",
    "    \n",
    "    ang_res_fit_o = get_angular_resolution(fit_original[0][0],fit_original[0][1],fit_original[0][2],true_x,true_y,true_z)\n",
    "    ang_res_check =  get_angular_resolution(fit_original[0][0],fit_original[0][1],fit_original[0][2],fit_old[0][0],fit_old[0][1],fit_old[0][2])\n",
    "\n",
    "    fit_list = []\n",
    "    fit_list.append(fit_original)\n",
    "    \n",
    "    ang_res_list = []\n",
    "    ang_res_list.append(ang_res_fit_o)\n",
    "    \n",
    "    ang_res_check_list = []\n",
    "    ang_res_check_list.append(ang_res_check)\n",
    "\n",
    "    count = 0\n",
    "    \n",
    "    while True:\n",
    "        if count == 0:\n",
    "            check1 = np.copy(check)\n",
    "\n",
    "        ang_list_test = []\n",
    "        ang_res_true_list = []\n",
    "        fit_check = []\n",
    "        \n",
    "        for i in [0]:\n",
    "            check2 = np.copy(check1)\n",
    "            #check2[np.argmax(event1['chi2'].values[check2])] = False\n",
    "            \n",
    "            #if i in remove_index_list:\n",
    "            #    ang_list_test.append(-np.inf)\n",
    "            #    fit_check.append(fit_list[-1])\n",
    "            #    continue\n",
    "\n",
    "            x = event1['x'].values[check2]\n",
    "            y = event1['y'].values[check2]\n",
    "            z = event1['z'].values[check2]\n",
    "            r = event1['r'].values[check2]\n",
    "            t0 = event1['t0'].values[check2]\n",
    "    \n",
    "        \n",
    "            fit = curve_fit(get_t_new,(x,y,z,r),t0,\n",
    "                        p0=[x_start,y_start,z_start,a_start],\n",
    "                        bounds=((-np.inf,-np.inf,-np.inf,0),(np.inf,np.inf,0,1e-3)),\n",
    "                        maxfev=3000,\n",
    "                        absolute_sigma=True)\n",
    "            \n",
    "            ang_res_new = get_angular_resolution(fit[0][0],fit[0][1],fit[0][2],fit_list[-1][0][0],fit_list[-1][0][1],fit_list[-1][0][2])\n",
    "            ang_res_true = get_angular_resolution(fit[0][0],fit[0][1],fit[0][2],true_x,true_y,true_z)\n",
    "            ang_res_true_list.append(ang_res_true)\n",
    "            ang_list_test.append(ang_res_new)\n",
    "            fit_check.append(fit)\n",
    "            \n",
    "        #remove_index = np.argmax(ang_list_test)\n",
    "        remove_index = np.argmax(event1['chi2'].values==np.max(event1['chi2'].values[check2]))\n",
    "        remove_index_list.append(remove_index)\n",
    "\n",
    "        check1[remove_index]=False\n",
    "        \n",
    "        fit_new = fit\n",
    "        fit_list.append(fit_new)\n",
    "       \n",
    "        ang_res_new = get_angular_resolution(fit_new[0][0],fit_new[0][1],fit_new[0][2],true_x,true_y,true_z)\n",
    "\n",
    "        ang_res_check = get_angular_resolution(fit_new[0][0],fit_new[0][1],fit_new[0][2],fit_list[-2][0][0],fit_list[-2][0][1],fit_list[-2][0][2])\n",
    "        ang_res_check_list.append(ang_res_check)\n",
    "        ang_res_list.append(ang_res_new)\n",
    "        \n",
    "        #plt.scatter(event1['r'][check1],event1['t0'][check1])\n",
    "        #plt.show()\n",
    "        \n",
    "        if (np.sum(check1)<=3):\n",
    "            ang_res_check_list = np.array(ang_res_check_list)\n",
    "            ang_res_final=ang_res_list[-2]\n",
    "            \n",
    "            lap_az = event1['Laputop_dir_azimuth'].values[0]\n",
    "            lap_zen = event1['Laputop_dir_zenith'].values[0]\n",
    "            lapx = -np.sin(lap_zen)*np.cos(lap_az)\n",
    "            lapy = -np.sin(lap_zen)*np.sin(lap_az)\n",
    "            lapz = -np.cos(lap_zen)\n",
    "            laputop = get_angular_resolution(lapx,lapy,lapz,true_x,true_y,true_z)\n",
    "            index = np.argmin(ang_res_check_list[ang_res_check_list!=0])\n",
    "            ang_res_final = ang_res_list[index]\n",
    "            break\n",
    "        count+=1  \n",
    "        \n",
    "    return event,ang_res_list,ang_res_final,laputop\n",
    "        \n",
    "    "
   ]
  },
  {
   "cell_type": "code",
   "execution_count": 22,
   "metadata": {},
   "outputs": [
    {
     "data": {
      "text/plain": [
       "Index(['Unnamed: 0', 'Unnamed: 1', 'run_number', 'event_number', 'zenith',\n",
       "       'azimuth', 'energy', 'x', 'y', 'z', 'ShowerCOG_x', 'ShowerCOG_y',\n",
       "       'ShowerCOG_z', 'ShowerCOG_time', 'ShowerCOG_zen', 'ShowerCOG_az', 'm',\n",
       "       's', 't0', 'charge', 'chargePe', 'chargeVEM', 'chi2', 'sigmat0',\n",
       "       'sigmam', 'sigmas', 'feimpedance', 'spemean', 'pe_per_vem',\n",
       "       'angular_resolution', 'chi2_ldf', 'chi2_time', 'Laputop_dir_zenith',\n",
       "       'Laputop_dir_azimuth', 'Laputop_time', 'Laputop_pos_x', 'Laputop_pos_y',\n",
       "       'r'],\n",
       "      dtype='object')"
      ]
     },
     "execution_count": 22,
     "metadata": {},
     "output_type": "execute_result"
    }
   ],
   "source": [
    "df.keys()"
   ]
  },
  {
   "cell_type": "code",
   "execution_count": 23,
   "metadata": {},
   "outputs": [],
   "source": [
    "import time"
   ]
  },
  {
   "cell_type": "code",
   "execution_count": 24,
   "metadata": {},
   "outputs": [
    {
     "name": "stdout",
     "output_type": "stream",
     "text": [
      "100\n",
      "100\n",
      "100\n",
      "100\n",
      "100\n",
      "100\n",
      "100\n",
      "100\n",
      "100\n",
      "100\n"
     ]
    }
   ],
   "source": [
    "our_dict = {}\n",
    "count = 0\n",
    "for event in events:\n",
    "    if count == 100:\n",
    "        print(count)\n",
    "        count = 0\n",
    "    time1 = time.time()\n",
    "    try:\n",
    "        value,ang_res_list,ang_res_overall,laputop = get_fit(event)\n",
    "    except RuntimeError:\n",
    "        print('fit did not converge')\n",
    "        continue\n",
    "    our_dict[value] = {}\n",
    "    our_dict[value]['list'] = ang_res_list\n",
    "    our_dict[value]['new'] = ang_res_overall\n",
    "    our_dict[value]['laputop'] = laputop\n",
    "    time2 = time.time()\n",
    "    count+=1"
   ]
  },
  {
   "cell_type": "code",
   "execution_count": 25,
   "metadata": {},
   "outputs": [],
   "source": [
    "res1 = []\n",
    "res2 = []\n",
    "res3 = []\n",
    "energy = []\n",
    "zenith = []\n",
    "for i in our_dict.keys():\n",
    "    event1 = df.loc[df['Unnamed: 0'] == i]\n",
    "    res1.append(our_dict[i]['list'][0])\n",
    "    res2.append(our_dict[i]['new'])\n",
    "    res3.append(our_dict[i]['laputop'])\n",
    "    energy.append(event1['energy'].values[0])\n",
    "    zenith.append(event1['zenith'].values[0])\n",
    "res1 = np.array(res1)\n",
    "res2 = np.array(res2)\n",
    "res3 = np.array(res3)"
   ]
  },
  {
   "cell_type": "code",
   "execution_count": 26,
   "metadata": {},
   "outputs": [
    {
     "data": {
      "image/png": "[encoded data removed]",
      "text/plain": [
       "<Figure size 432x288 with 1 Axes>"
      ]
     },
     "metadata": {
      "needs_background": "light"
     },
     "output_type": "display_data"
    }
   ],
   "source": [
    "plt.plot(res1)\n",
    "plt.plot(res2)\n",
    "plt.show()"
   ]
  },
  {
   "cell_type": "code",
   "execution_count": 27,
   "metadata": {},
   "outputs": [
    {
     "data": {
      "image/png": "[encoded data removed]",
      "text/plain": [
       "<Figure size 432x288 with 1 Axes>"
      ]
     },
     "metadata": {
      "needs_background": "light"
     },
     "output_type": "display_data"
    }
   ],
   "source": [
    "hist = plt.hist(res2[res2<10],bins=100)\n",
    "plt.show()"
   ]
  },
  {
   "cell_type": "code",
   "execution_count": 28,
   "metadata": {},
   "outputs": [
    {
     "data": {
      "text/plain": [
       "(array([11., 24., 38., 41., 41., 47., 37., 34., 46., 53., 42., 34., 35.,\n",
       "        35., 21., 36., 24., 28., 29., 20., 14., 12., 16., 18., 14., 15.,\n",
       "         9., 13.,  6., 12., 10.,  9.,  8.,  6.,  5.,  3.,  6.,  5.,  3.,\n",
       "         4.,  6.,  2.,  6.,  7.,  1.,  7.,  3.,  5.,  3.,  4.,  2.,  2.,\n",
       "         0.,  3.,  2.,  0.,  4.,  0.,  2.,  6.,  2.,  3.,  2.,  0.,  0.,\n",
       "         1.,  4.,  1.,  3.,  1.,  1.,  4.,  2.,  0.,  0.,  1.,  2.,  0.,\n",
       "         0.,  0.,  1.,  0.,  0.,  1.,  4.,  0.,  2.,  0.,  1.,  1.,  1.,\n",
       "         0.,  0.,  0.,  0.,  2.,  0.,  0.,  0.,  1.]),\n",
       " array([0.03788411, 0.13611904, 0.23435396, 0.33258888, 0.4308238 ,\n",
       "        0.52905872, 0.62729364, 0.72552857, 0.82376349, 0.92199841,\n",
       "        1.02023333, 1.11846825, 1.21670318, 1.3149381 , 1.41317302,\n",
       "        1.51140794, 1.60964286, 1.70787779, 1.80611271, 1.90434763,\n",
       "        2.00258255, 2.10081747, 2.1990524 , 2.29728732, 2.39552224,\n",
       "        2.49375716, 2.59199208, 2.690227  , 2.78846193, 2.88669685,\n",
       "        2.98493177, 3.08316669, 3.18140161, 3.27963654, 3.37787146,\n",
       "        3.47610638, 3.5743413 , 3.67257622, 3.77081115, 3.86904607,\n",
       "        3.96728099, 4.06551591, 4.16375083, 4.26198576, 4.36022068,\n",
       "        4.4584556 , 4.55669052, 4.65492544, 4.75316036, 4.85139529,\n",
       "        4.94963021, 5.04786513, 5.14610005, 5.24433497, 5.3425699 ,\n",
       "        5.44080482, 5.53903974, 5.63727466, 5.73550958, 5.83374451,\n",
       "        5.93197943, 6.03021435, 6.12844927, 6.22668419, 6.32491912,\n",
       "        6.42315404, 6.52138896, 6.61962388, 6.7178588 , 6.81609372,\n",
       "        6.91432865, 7.01256357, 7.11079849, 7.20903341, 7.30726833,\n",
       "        7.40550326, 7.50373818, 7.6019731 , 7.70020802, 7.79844294,\n",
       "        7.89667787, 7.99491279, 8.09314771, 8.19138263, 8.28961755,\n",
       "        8.38785248, 8.4860874 , 8.58432232, 8.68255724, 8.78079216,\n",
       "        8.87902708, 8.97726201, 9.07549693, 9.17373185, 9.27196677,\n",
       "        9.37020169, 9.46843662, 9.56667154, 9.66490646, 9.76314138,\n",
       "        9.8613763 ]),\n",
       " <a list of 100 Patch objects>)"
      ]
     },
     "execution_count": 28,
     "metadata": {},
     "output_type": "execute_result"
    }
   ],
   "source": [
    "hist"
   ]
  },
  {
   "cell_type": "code",
   "execution_count": 29,
   "metadata": {},
   "outputs": [],
   "source": [
    "#np.save('Model1',our_dict)"
   ]
  },
  {
   "cell_type": "code",
   "execution_count": 30,
   "metadata": {},
   "outputs": [],
   "source": [
    "def Rayleigh(x,sigma):\n",
    "    y = (x/sigma**2.0)*np.exp(-(x**2.0)/(2*sigma**2.0))\n",
    "    return y"
   ]
  },
  {
   "cell_type": "code",
   "execution_count": 31,
   "metadata": {},
   "outputs": [],
   "source": [
    "fit = curve_fit(Rayleigh,hist[0],hist[1][0:-1])"
   ]
  },
  {
   "cell_type": "code",
   "execution_count": 32,
   "metadata": {},
   "outputs": [
    {
     "data": {
      "text/plain": [
       "(array([0.93750988]), array([[3.47615854]]))"
      ]
     },
     "execution_count": 32,
     "metadata": {},
     "output_type": "execute_result"
    }
   ],
   "source": [
    "fit"
   ]
  },
  {
   "cell_type": "code",
   "execution_count": 33,
   "metadata": {},
   "outputs": [
    {
     "name": "stdout",
     "output_type": "stream",
     "text": [
      "mean 1.1749943813194916\n",
      "median 1.1038335240741637\n",
      "95% 2.2947868274293204\n",
      "mode 0.9375098758849372\n",
      "variance 0.37723773863120547\n"
     ]
    }
   ],
   "source": [
    "print('mean',fit[0][0]*(np.pi/2)**0.5)\n",
    "print('median',fit[0][0]*(-2*np.log(1-0.5))**0.5)\n",
    "print('95%',fit[0][0]*(-2*np.log(1-0.95))**0.5)\n",
    "print('mode',fit[0][0])\n",
    "print('variance',((4-np.pi)/2)*fit[0][0]**2.0)"
   ]
  },
  {
   "cell_type": "code",
   "execution_count": null,
   "metadata": {},
   "outputs": [],
   "source": []
  },
  {
   "cell_type": "code",
   "execution_count": null,
   "metadata": {},
   "outputs": [],
   "source": []
  }
 ],
 "metadata": {
  "kernelspec": {
   "display_name": "Python 3",
   "language": "python",
   "name": "python3"
  },
  "language_info": {
   "codemirror_mode": {
    "name": "ipython",
    "version": 3
   },
   "file_extension": ".py",
   "mimetype": "text/x-python",
   "name": "python",
   "nbconvert_exporter": "python",
   "pygments_lexer": "ipython3",
   "version": "3.6.9"
  }
 },
 "nbformat": 4,
 "nbformat_minor": 4
}
