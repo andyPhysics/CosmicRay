{
 "cells": [
  {
   "cell_type": "code",
   "execution_count": 1,
   "metadata": {},
   "outputs": [],
   "source": [
    "import numpy as np\n",
    "import uproot\n",
    "import matplotlib.pyplot as plt\n",
    "import sklearn\n",
    "from random import random\n",
    "from sklearn.model_selection import cross_validate\n",
    "import matplotlib\n",
    "from waveform_methods import binning\n",
    "import pandas as pd\n",
    "\n",
    "from scipy.stats import norm\n",
    "import pickle\n",
    "from statistics import mode\n",
    "from sklearn.metrics import confusion_matrix\n",
    "from sklearn.model_selection import StratifiedKFold\n",
    "from sklearn.preprocessing import scale"
   ]
  },
  {
   "cell_type": "code",
   "execution_count": 2,
   "metadata": {},
   "outputs": [],
   "source": [
    "file = uproot.open('/home/andy/12360.root')\n",
    "file2 = uproot.open('/home/andy/12362.root')"
   ]
  },
  {
   "cell_type": "code",
   "execution_count": 3,
   "metadata": {},
   "outputs": [
    {
     "name": "stdout",
     "output_type": "stream",
     "text": [
      "[b'Count_All_radius', b'Run', b'Event', b'SubEvent', b'SubEventStream', b'SubEventStream_String', b'exists', b'string', b'om', b'pmt', b'vector_index', b'item']\n"
     ]
    }
   ],
   "source": [
    "print(file['All_radius'].keys())"
   ]
  },
  {
   "cell_type": "code",
   "execution_count": 4,
   "metadata": {},
   "outputs": [],
   "source": [
    "Eloss_keys = file['Stoch_Reco'].keys()[6:18]\n",
    "for i in range(len(Eloss_keys)):\n",
    "    if i == 0:\n",
    "        Eloss1 = file['Stoch_Reco'][Eloss_keys[i]].array()\n",
    "    else:\n",
    "        Eloss1 += file['Stoch_Reco'][Eloss_keys[i]].array()\n",
    "Eloss1 = Eloss1/len(Eloss_keys)\n",
    "\n",
    "Eloss_keys = file2['Stoch_Reco'].keys()[6:18]\n",
    "for i in range(len(Eloss_keys)):\n",
    "    if i == 0:\n",
    "        Eloss2 = file2['Stoch_Reco'][Eloss_keys[i]].array()\n",
    "    else:\n",
    "        Eloss2 += file2['Stoch_Reco'][Eloss_keys[i]].array()\n",
    "Eloss2 = Eloss2/len(Eloss_keys)\n",
    "\n",
    "Eloss = np.append(Eloss1,Eloss2)"
   ]
  },
  {
   "cell_type": "code",
   "execution_count": 5,
   "metadata": {},
   "outputs": [],
   "source": [
    "cut = []\n",
    "for i in file['IT73AnalysisInIceQualityCuts'].keys()[6:11]:\n",
    "    cut.append(file['IT73AnalysisInIceQualityCuts'][i].array())\n",
    "cut2 = list(zip(cut))\n",
    "for i in range(len(cut2)):\n",
    "    if i == 0:\n",
    "        final_cut = cut2[i][0]\n",
    "    else:\n",
    "        final_cut = [j and k for j,k in zip(final_cut,cut2[i][0])]\n",
    "        \n",
    "cut = []\n",
    "for i in file2['IT73AnalysisInIceQualityCuts'].keys()[6:11]:\n",
    "    cut.append(file2['IT73AnalysisInIceQualityCuts'][i].array())\n",
    "cut2 = list(zip(cut))\n",
    "for i in range(len(cut2)):\n",
    "    if i == 0:\n",
    "        final_cut2 = cut2[i][0]\n",
    "    else:\n",
    "        final_cut2 = [j and k for j,k in zip(final_cut,cut2[i][0])]\n",
    "        \n",
    "in_ice_cuts = np.append(final_cut,final_cut2)"
   ]
  },
  {
   "cell_type": "code",
   "execution_count": 6,
   "metadata": {},
   "outputs": [],
   "source": [
    "Xmax1 = file['MCPrimaryInfo']['ghMaxDepth'].array()\n",
    "valueDepth = file['MCPrimaryInfo']['longNumCharged'].array()\n",
    "Depth1 = file['MCPrimaryInfo']['longDepth'].array()\n",
    "chi2_1 = file['CurvatureOnlyParams']['chi2_time'].array()\n",
    "red1 = file['MCPrimaryInfo']['ghRedChiSqr'].array()\n",
    "mass1 = [1 for i in range(len(red1))]\n",
    "        \n",
    "Xmax2 = file2['MCPrimaryInfo']['ghMaxDepth'].array()\n",
    "valueDepth = file2['MCPrimaryInfo']['longNumCharged'].array()\n",
    "Depth2 = file2['MCPrimaryInfo']['longDepth'].array()\n",
    "chi2_2 = file2['CurvatureOnlyParams']['chi2_time'].array()\n",
    "red2 = file2['MCPrimaryInfo']['ghRedChiSqr'].array()\n",
    "mass2 = [4 for i in range(len(red2))]\n"
   ]
  },
  {
   "cell_type": "code",
   "execution_count": 7,
   "metadata": {},
   "outputs": [],
   "source": [
    "S125_1 = file['LaputopParams']['s125'].array()\n",
    "S125_2 = file2['LaputopParams']['s125'].array()\n",
    "A1 = file['CurvatureOnlyParams']['A'].array()\n",
    "A2 = file2['CurvatureOnlyParams']['A'].array()\n",
    "D1 = file['CurvatureOnlyParams']['D'].array()\n",
    "D2 = file2['CurvatureOnlyParams']['D'].array()\n",
    "N1 = file['CurvatureOnlyParams']['N'].array()\n",
    "N2 = file2['CurvatureOnlyParams']['N'].array()\n",
    "beta1 = file['LaputopParams']['beta'].array()\n",
    "beta2 = file2['LaputopParams']['beta'].array()\n",
    "zenith1 = file['Laputop']['zenith'].array()\n",
    "zenith2 = file2['Laputop']['zenith'].array()\n",
    "energy1 = file['MCPrimary']['energy'].array()\n",
    "energy2 = file2['MCPrimary']['energy'].array()\n",
    "stoch1_1 = file['Stoch_Reco']['n_he_stoch'].array()\n",
    "stoch1_2 = file2['Stoch_Reco']['n_he_stoch'].array()\n",
    "stoch2_1 = file['Stoch_Reco2']['n_he_stoch'].array()\n",
    "stoch2_2 = file2['Stoch_Reco2']['n_he_stoch'].array()\n",
    "\n",
    "m1 = file['m']['item'].array()\n",
    "m2 = file2['m']['item'].array()\n",
    "s1 = file['s']['item'].array()\n",
    "s2 = file2['s']['item'].array()\n",
    "\n",
    "slc_charge1 = file['LaputopSLCPE']['charge'].array()\n",
    "slc_charge2 = file2['LaputopSLCPE']['charge'].array()\n",
    "\n",
    "slc_charge1 = [np.sum(i[np.isnan(i)==False]) for i in slc_charge1]\n",
    "slc_charge2 = [np.sum(i[np.isnan(i)==False]) for i in slc_charge2]\n",
    "\n",
    "hlc_charge1 = file['LaputopHLCPE']['charge'].array()\n",
    "hlc_charge2 = file2['LaputopHLCPE']['charge'].array()\n",
    "\n",
    "hlc_charge1 = [np.sum(i[np.isnan(i) ==False]) for i in hlc_charge1]\n",
    "hlc_charge2 = [np.sum(i[np.isnan(i)==False]) for i in hlc_charge2]\n",
    "\n",
    "Qtot1 = [i+j for i,j in zip(slc_charge1,hlc_charge1)]\n",
    "Qtot2 = [i+j for i,j in zip(slc_charge2,hlc_charge2)]\n",
    "\n",
    "radius1 = file['All_radius']['item'].array()\n",
    "radius2 = file2['All_radius']['item'].array()\n"
   ]
  },
  {
   "cell_type": "code",
   "execution_count": 54,
   "metadata": {},
   "outputs": [
    {
     "data": {
      "image/png": "[encoded data removed]",
      "text/plain": [
       "<Figure size 432x288 with 1 Axes>"
      ]
     },
     "metadata": {
      "needs_background": "light"
     },
     "output_type": "display_data"
    }
   ],
   "source": [
    "mean1 = []\n",
    "bins1 = []\n",
    "std1 = []\n",
    "for i in range(len(radius1[0:1000])):\n",
    "    mean,std,bins = binning(radius1[i],np.log10(s1[i]),bins=10)\n",
    "    mean1.append(mean)\n",
    "    bins1.append(bins)\n",
    "    std1.append(std)\n",
    "mean,std,bins = binning(np.hstack(bins1),np.hstack(std1),bins=2000)\n",
    "plt.scatter(bins,mean)\n",
    "plt.show()"
   ]
  },
  {
   "cell_type": "code",
   "execution_count": 62,
   "metadata": {},
   "outputs": [
    {
     "data": {
      "image/png": "[encoded data removed]",
      "text/plain": [
       "<Figure size 432x288 with 1 Axes>"
      ]
     },
     "metadata": {
      "needs_background": "light"
     },
     "output_type": "display_data"
    }
   ],
   "source": [
    "plt.scatter(radius1[11],s1[11])\n",
    "plt.show()"
   ]
  },
  {
   "cell_type": "code",
   "execution_count": 63,
   "metadata": {},
   "outputs": [
    {
     "data": {
      "image/png": "[encoded data removed]",
      "text/plain": [
       "<Figure size 432x288 with 1 Axes>"
      ]
     },
     "metadata": {
      "needs_background": "light"
     },
     "output_type": "display_data"
    }
   ],
   "source": [
    "plt.scatter(radius1[11],m1[11])\n",
    "plt.show()"
   ]
  },
  {
   "cell_type": "code",
   "execution_count": 10,
   "metadata": {},
   "outputs": [],
   "source": [
    "s1_mean = np.array([np.mean(i[j<300]) for i,j in zip(s1,radius1)])\n",
    "s2_mean = np.array([np.mean(i[j<300]) for i,j in zip(s2,radius2)])\n",
    "s1_std = np.array([np.std(i[j<300]) for i,j in zip(s1,radius1)])\n",
    "s2_std = np.array([np.std(i[j<300]) for i,j in zip(s2,radius2)])"
   ]
  },
  {
   "cell_type": "code",
   "execution_count": 11,
   "metadata": {},
   "outputs": [],
   "source": [
    "m1_mean = np.array([np.mean(i[j<300]) for i,j in zip(m1,radius1)])\n",
    "m2_mean = np.array([np.mean(i[j<300]) for i,j in zip(m2,radius2)])\n",
    "m1_std = np.array([np.std(i[j<300]) for i,j in zip(m1,radius1)])\n",
    "m2_std = np.array([np.std(i[j<300]) for i,j in zip(m2,radius2)])"
   ]
  },
  {
   "cell_type": "code",
   "execution_count": 56,
   "metadata": {},
   "outputs": [
    {
     "data": {
      "image/png": "[encoded data removed]",
      "text/plain": [
       "<Figure size 432x288 with 1 Axes>"
      ]
     },
     "metadata": {
      "needs_background": "light"
     },
     "output_type": "display_data"
    }
   ],
   "source": [
    "mean,std,bins = binning(np.log10(energy1),np.log10(s1_std),bins=40)\n",
    "mean2,std2,bins2 = binning(np.log10(energy2),np.log10(s2_std),bins=30)\n",
    "plt.errorbar(bins,mean,std)\n",
    "plt.errorbar(bins2,mean2,yerr=std2)\n",
    "plt.xlabel('Energy')\n",
    "plt.ylabel('log10(s_std)')\n",
    "plt.savefig('energy_s_std')"
   ]
  },
  {
   "cell_type": "code",
   "execution_count": 55,
   "metadata": {},
   "outputs": [
    {
     "data": {
      "image/png": "[encoded data removed]",
      "text/plain": [
       "<Figure size 432x288 with 1 Axes>"
      ]
     },
     "metadata": {
      "needs_background": "light"
     },
     "output_type": "display_data"
    }
   ],
   "source": [
    "mean,std,bins = binning(np.log10(energy1),np.log10(m1_std),bins=40)\n",
    "mean2,std2,bins2 = binning(np.log10(energy2),np.log10(m2_std),bins=30)\n",
    "plt.errorbar(bins,mean,yerr=std)\n",
    "plt.errorbar(bins2,mean2,yerr=std2)\n",
    "plt.xlabel('Energy')\n",
    "plt.ylabel('log10(m_std)')\n",
    "plt.savefig('energy_m_std')"
   ]
  },
  {
   "cell_type": "code",
   "execution_count": 14,
   "metadata": {},
   "outputs": [
    {
     "ename": "NameError",
     "evalue": "name 'log_normal' is not defined",
     "output_type": "error",
     "traceback": [
      "\u001b[0;31m---------------------------------------------------------------------------\u001b[0m",
      "\u001b[0;31mNameError\u001b[0m                                 Traceback (most recent call last)",
      "\u001b[0;32m<ipython-input-14-78129d425530>\u001b[0m in \u001b[0;36m<module>\u001b[0;34m\u001b[0m\n\u001b[1;32m     28\u001b[0m \u001b[0;34m\u001b[0m\u001b[0m\n\u001b[1;32m     29\u001b[0m \u001b[0menergy\u001b[0m \u001b[0;34m=\u001b[0m \u001b[0mnp\u001b[0m\u001b[0;34m.\u001b[0m\u001b[0mlog10\u001b[0m\u001b[0;34m(\u001b[0m\u001b[0mnp\u001b[0m\u001b[0;34m.\u001b[0m\u001b[0mappend\u001b[0m\u001b[0;34m(\u001b[0m\u001b[0menergy1\u001b[0m\u001b[0;34m,\u001b[0m\u001b[0menergy2\u001b[0m\u001b[0;34m)\u001b[0m\u001b[0;34m)\u001b[0m\u001b[0;34m\u001b[0m\u001b[0;34m\u001b[0m\u001b[0m\n\u001b[0;32m---> 30\u001b[0;31m \u001b[0ms\u001b[0m \u001b[0;34m=\u001b[0m \u001b[0mlog_normal\u001b[0m\u001b[0;34m[\u001b[0m\u001b[0;34m's'\u001b[0m\u001b[0;34m]\u001b[0m\u001b[0;34m\u001b[0m\u001b[0;34m\u001b[0m\u001b[0m\n\u001b[0m\u001b[1;32m     31\u001b[0m \u001b[0mm\u001b[0m \u001b[0;34m=\u001b[0m \u001b[0mlog_normal\u001b[0m\u001b[0;34m[\u001b[0m\u001b[0;34m'm'\u001b[0m\u001b[0;34m]\u001b[0m\u001b[0;34m\u001b[0m\u001b[0;34m\u001b[0m\u001b[0m\n\u001b[1;32m     32\u001b[0m \u001b[0mfit_status\u001b[0m \u001b[0;34m=\u001b[0m \u001b[0mlog_normal\u001b[0m\u001b[0;34m[\u001b[0m\u001b[0;34m'fit_status'\u001b[0m\u001b[0;34m]\u001b[0m\u001b[0;34m\u001b[0m\u001b[0;34m\u001b[0m\u001b[0m\n",
      "\u001b[0;31mNameError\u001b[0m: name 'log_normal' is not defined"
     ]
    }
   ],
   "source": [
    "A = np.append(A1,A2)\n",
    "D = np.append(D1,D2)\n",
    "N = np.append(N1,N2)\n",
    "S125 = np.log10(np.append(S125_1,S125_2))\n",
    "beta = np.log10(np.append(beta1,beta2))\n",
    "chi2 = np.append(chi2_1,chi2_2)\n",
    "red = np.append(red1,red2)\n",
    "zenith = np.cos(np.append(zenith1,zenith2))\n",
    "Xmax = np.append(Xmax1,Xmax2)\n",
    "red = np.append(red1,red2)\n",
    "mass = np.append(mass1,mass2)\n",
    "slc_charge = np.append(slc_charge1,slc_charge2)\n",
    "hlc_charge = np.append(hlc_charge1,hlc_charge2)\n",
    "qtot = np.append(Qtot1,Qtot2)\n",
    "stoch1 = np.append(stoch1_1,stoch1_2)\n",
    "stoch2 = np.append(stoch2_1,stoch2_2)\n",
    "for i in range(len(stoch1)):\n",
    "    if not in_ice_cuts[i]:\n",
    "        stoch1[i] = 0\n",
    "        stoch2[i] = 0\n",
    "\n",
    "energy_loss = Eloss\n",
    "for i in range(len(energy_loss)):\n",
    "    if ((energy_loss[i] != 0 and in_ice_cuts[i]) and np.isfinite(energy_loss[i])) and not np.isnan(energy_loss[i]):\n",
    "        energy_loss[i] = np.log10(abs(energy_loss[i]))\n",
    "    else:\n",
    "        energy_loss[i] = 0\n",
    "        \n",
    "energy = np.log10(np.append(energy1,energy2))\n",
    "s = log_normal['s']\n",
    "m = log_normal['m']\n",
    "fit_status = log_normal['fit_status']\n",
    "\n",
    "in_ice_cuts = [i and j for i,j in zip(in_ice_cuts,fit_status)]"
   ]
  },
  {
   "cell_type": "code",
   "execution_count": null,
   "metadata": {},
   "outputs": [],
   "source": [
    "values = [mass,\n",
    "            energy_loss,\n",
    "            stoch1,\n",
    "            stoch2,\n",
    "            A,\n",
    "            D,\n",
    "            N,\n",
    "            S125,\n",
    "            beta,\n",
    "            zenith,\n",
    "            chi2,\n",
    "            slc_charge,\n",
    "            hlc_charge,\n",
    "            qtot\n",
    "            ]\n",
    "\n",
    "print(np.corrcoef(values))"
   ]
  },
  {
   "cell_type": "code",
   "execution_count": null,
   "metadata": {},
   "outputs": [],
   "source": [
    "import random\n",
    "from sklearn.model_selection import train_test_split\n",
    "from sklearn.preprocessing import scale\n",
    "\n",
    "input_variable2_old = scale(np.array(list(zip(A,beta,energy_loss,S125,zenith,m,s)))[in_ice_cuts])\n",
    "output_new_old = mass[in_ice_cuts]\n",
    "energy_value = energy[in_ice_cuts]\n",
    "\n",
    "index = range(len(output_new_old))\n",
    "\n",
    "output,validation,output_mass,validation_mass = train_test_split(index,output_new_old,test_size=0.1,random_state=42,shuffle=True)\n",
    "        \n",
    "validation_x = input_variable2_old[validation]\n",
    "validation_y = output_new_old[validation]\n",
    "validation_energy = energy_value[validation]\n",
    "input_variable = np.array(input_variable2_old)[output]\n",
    "output_new = np.array(output_new_old)[output]\n",
    "energy_value = energy_value[output]\n",
    "weights = np.array((qtot**0.5)[in_ice_cuts][output])\n",
    "index = np.array(range(len(weights)))"
   ]
  },
  {
   "cell_type": "code",
   "execution_count": null,
   "metadata": {},
   "outputs": [],
   "source": [
    "import keras\n",
    "from keras import initializers,regularizers\n",
    "from keras.layers import Dense, Dropout, Flatten, Input, Concatenate, LeakyReLU, BatchNormalization\n",
    "from keras.models import Model, load_model\n",
    "import keras.backend as K\n",
    "from tensorflow.python.framework import ops\n",
    "from tensorflow.python.ops import gen_math_ops as math_ops"
   ]
  },
  {
   "cell_type": "code",
   "execution_count": null,
   "metadata": {},
   "outputs": [],
   "source": [
    "train_index,test_index,train_labels,test_labels = train_test_split(index,output_new,test_size=0.2,random_state=42,shuffle=True)"
   ]
  },
  {
   "cell_type": "code",
   "execution_count": null,
   "metadata": {},
   "outputs": [],
   "source": [
    "best_model = keras.callbacks.ModelCheckpoint('Mass_model_best_coinc2.h5',\n",
    "                                             monitor='val_loss',\n",
    "                                             save_best_only=True,\n",
    "                                             save_weights_only=False,\n",
    "                                             mode='auto')\n",
    "callback = keras.callbacks.EarlyStopping(monitor='val_loss', patience=5)"
   ]
  },
  {
   "cell_type": "code",
   "execution_count": null,
   "metadata": {},
   "outputs": [],
   "source": [
    "input_layer = Input(shape=(8,))\n",
    "\n",
    "model1 = Dense(16,activation='sigmoid')(input_layer)\n",
    "\n",
    "#model1 = LeakyReLU()(model1)\n",
    "\n",
    "model1 = Dropout(rate=0.5)(model1)\n",
    "\n",
    "model2 = Dense(16,activation='sigmoid')(model1)\n",
    "\n",
    "#model2 = LeakyReLU()(model2)\n",
    "\n",
    "predictions = Dense(1,activation='linear')(model2)\n",
    "\n",
    "model = Model(inputs=input_layer,outputs=predictions)\n",
    "\n",
    "opt = keras.optimizers.RMSprop(decay=1e-5)\n",
    "#opt= keras.optimizers.Adam(decay=1e-5,lr=1e-4)                                                               \n",
    "\n",
    "model.compile(optimizer=opt , loss = 'mae')\n",
    "\n",
    "print(model.summary())"
   ]
  },
  {
   "cell_type": "code",
   "execution_count": null,
   "metadata": {},
   "outputs": [],
   "source": [
    "history = model.fit(input_variable[train_index],train_labels,\n",
    "                    batch_size=30,\n",
    "                    epochs=100,\n",
    "                    validation_data = (input_variable[test_index],test_labels),\n",
    "                    callbacks=[best_model,callback],\n",
    "                   class_weight = {1:0.125,4:0.875}\n",
    "                   )\n",
    "\n",
    "model.save('Mass_model_coinc2.h5')"
   ]
  },
  {
   "cell_type": "code",
   "execution_count": null,
   "metadata": {},
   "outputs": [],
   "source": [
    "new_model = load_model('Mass_model_best_coinc2.h5')\n",
    "predict = new_model.predict(validation_x)"
   ]
  },
  {
   "cell_type": "code",
   "execution_count": null,
   "metadata": {},
   "outputs": [],
   "source": [
    "plt.hist(predict[validation_y==1],bins=100)\n",
    "plt.show()\n",
    "plt.hist(predict[validation_y==4],bins=100)\n",
    "plt.show()\n",
    "count = 0\n",
    "for i in predict[validation_y==4]>2.5:\n",
    "    if i:\n",
    "        count+=1\n",
    "print(count)\n",
    "\n",
    "count = 0\n",
    "for i in predict[validation_y==1]<2.5:\n",
    "    if i:\n",
    "        count+=1\n",
    "print(count)"
   ]
  },
  {
   "cell_type": "code",
   "execution_count": null,
   "metadata": {},
   "outputs": [],
   "source": [
    "count = 0\n",
    "for i in validation_y==1:\n",
    "    if i:\n",
    "        count+=1\n",
    "print(count)\n",
    "\n",
    "count = 0\n",
    "for i in validation_y==4:\n",
    "    if i:\n",
    "        count+=1\n",
    "print(count)"
   ]
  },
  {
   "cell_type": "code",
   "execution_count": null,
   "metadata": {},
   "outputs": [],
   "source": [
    "index = range(len(validation_energy))\n",
    "array_split = np.array_split(sorted(list(zip(index,validation_energy)),key=lambda x:x[1]),20)"
   ]
  },
  {
   "cell_type": "code",
   "execution_count": null,
   "metadata": {},
   "outputs": [],
   "source": [
    "#model = load_model('Mass_model_best_coinc2.h5')\n",
    "x = []\n",
    "y_proton = []\n",
    "y_iron = []\n",
    "for i in array_split:\n",
    "    index1 = []\n",
    "    for k in list(zip(*i))[0]:\n",
    "        index1.append(int(k))\n",
    "    energy = validation_energy[index1]\n",
    "    mass1 = validation_y[index1]\n",
    "    data = validation_x[index1]\n",
    "    #prediction1 = prediction_model(data)\n",
    "    prediction1 = dnns_classifier.predict(data)\n",
    "    prediction = np.hstack(prediction1)\n",
    "    \n",
    "    for j in range(len(prediction1)):\n",
    "        if prediction1[j] < 2.5:\n",
    "            prediction1[j] = 1\n",
    "        else:\n",
    "            prediction1[j] = 4\n",
    "    cm = confusion_matrix(mass1,prediction1)\n",
    "    x.append((max(energy)+min(energy))/2)\n",
    "    y_proton.append(cm[0][0]/np.sum(cm[0]))\n",
    "    y_iron.append(cm[1][1]/np.sum(cm[1]))"
   ]
  },
  {
   "cell_type": "code",
   "execution_count": null,
   "metadata": {},
   "outputs": [],
   "source": [
    "plt.scatter(x,y_proton,label='proton')\n",
    "plt.scatter(x,y_iron,label='iron')\n",
    "plt.xlabel('Energy')\n",
    "plt.ylabel('Accuracy')\n",
    "plt.legend()\n",
    "plt.savefig('Energy_accuracy_coinc2')"
   ]
  },
  {
   "cell_type": "code",
   "execution_count": null,
   "metadata": {},
   "outputs": [],
   "source": [
    "from imblearn.over_sampling import SMOTE\n",
    "sm = SMOTE()\n",
    "resample_training_inputs,resample_training_output_labels = sm.fit_resample(input_variable[train_index],train_labels)"
   ]
  },
  {
   "cell_type": "code",
   "execution_count": null,
   "metadata": {},
   "outputs": [],
   "source": [
    "from sklearn.neighbors import KNeighborsClassifier\n",
    "knn_classifier = KNeighborsClassifier()\n",
    "knn_classifier.fit(resample_training_inputs,resample_training_output_labels)\n",
    "knn_predictions=knn_classifier.predict(input_variable[test_index])"
   ]
  },
  {
   "cell_type": "code",
   "execution_count": null,
   "metadata": {},
   "outputs": [],
   "source": [
    "cm = confusion_matrix(test_labels,knn_predictions)\n",
    "print(cm[0][0]/np.sum(cm[0]),cm[1][1]/np.sum(cm[1]))"
   ]
  },
  {
   "cell_type": "code",
   "execution_count": null,
   "metadata": {},
   "outputs": [],
   "source": [
    "from sklearn.ensemble import RandomForestClassifier\n",
    "rf_classifier = RandomForestClassifier()\n",
    "rf_classifier.fit(resample_training_inputs,resample_training_output_labels)\n",
    "rf_predictions = rf_classifier.predict(input_variable[test_index])"
   ]
  },
  {
   "cell_type": "code",
   "execution_count": null,
   "metadata": {},
   "outputs": [],
   "source": [
    "cm = confusion_matrix(test_labels,rf_predictions)\n",
    "print(cm[0][0]/np.sum(cm[0]),cm[1][1]/np.sum(cm[1]))"
   ]
  },
  {
   "cell_type": "code",
   "execution_count": null,
   "metadata": {},
   "outputs": [],
   "source": [
    "from sklearn.neural_network import MLPClassifier\n",
    "snn_classifier = MLPClassifier(hidden_layer_sizes = [16]*5,solver='adam')\n",
    "snn_classifier.fit(resample_training_inputs,resample_training_output_labels)\n",
    "snn_predictions= snn_classifier.predict(input_variable[test_index])"
   ]
  },
  {
   "cell_type": "code",
   "execution_count": null,
   "metadata": {},
   "outputs": [],
   "source": [
    "cm = confusion_matrix(test_labels,snn_predictions)\n",
    "print(cm[0][0]/np.sum(cm[0]),cm[1][1]/np.sum(cm[1]))"
   ]
  },
  {
   "cell_type": "code",
   "execution_count": null,
   "metadata": {},
   "outputs": [],
   "source": [
    "from sklearn.svm import SVC\n",
    "svm_classifier = SVC(decision_function_shape='ovr')\n",
    "svm_classifier.fit(resample_training_inputs,resample_training_output_labels)\n",
    "svm_predicitons_labels = svm_classifier.predict(input_variable[test_index])"
   ]
  },
  {
   "cell_type": "code",
   "execution_count": null,
   "metadata": {},
   "outputs": [],
   "source": [
    "cm = confusion_matrix(test_labels,svm_predicitons_labels)\n",
    "print(cm[0][0]/np.sum(cm[0]),cm[1][1]/np.sum(cm[1]))"
   ]
  },
  {
   "cell_type": "code",
   "execution_count": null,
   "metadata": {},
   "outputs": [],
   "source": [
    "from sklearn.multiclass import OneVsRestClassifier\n",
    "dnns_classifier = OneVsRestClassifier(MLPClassifier(hidden_layer_sizes = [16]*5,solver='adam',learning_rate='adaptive',max_iter=300,early_stopping=True))\n",
    "dnns_classifier.fit(resample_training_inputs,resample_training_output_labels)\n",
    "dnns_predictions_labels = dnns_classifier.predict(input_variable[test_index])"
   ]
  },
  {
   "cell_type": "code",
   "execution_count": null,
   "metadata": {},
   "outputs": [],
   "source": [
    "cm = confusion_matrix(test_labels,dnns_predictions_labels)\n",
    "print(cm[0][0]/np.sum(cm[0]),cm[1][1]/np.sum(cm[1]))"
   ]
  },
  {
   "cell_type": "code",
   "execution_count": null,
   "metadata": {},
   "outputs": [],
   "source": [
    "from xgboost import XGBClassifier\n",
    "xgb_classifier = OneVsRestClassifier(XGBClassifier())\n",
    "xgb_classifier.fit(resample_training_inputs,resample_training_output_labels)\n",
    "xgb_classifier_labels = xgb_classifier.predict(input_variable[test_index])"
   ]
  },
  {
   "cell_type": "code",
   "execution_count": null,
   "metadata": {},
   "outputs": [],
   "source": [
    "cm = confusion_matrix(test_labels,xgb_classifier_labels)\n",
    "print(cm[0][0]/np.sum(cm[0]),cm[1][1]/np.sum(cm[1]))"
   ]
  },
  {
   "cell_type": "code",
   "execution_count": null,
   "metadata": {},
   "outputs": [],
   "source": []
  }
 ],
 "metadata": {
  "kernelspec": {
   "display_name": "Python 3",
   "language": "python",
   "name": "python3"
  },
  "language_info": {
   "codemirror_mode": {
    "name": "ipython",
    "version": 3
   },
   "file_extension": ".py",
   "mimetype": "text/x-python",
   "name": "python",
   "nbconvert_exporter": "python",
   "pygments_lexer": "ipython3",
   "version": "3.6.9"
  }
 },
 "nbformat": 4,
 "nbformat_minor": 4
}
