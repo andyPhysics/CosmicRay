{
 "cells": [
  {
   "cell_type": "code",
   "execution_count": 1,
   "metadata": {},
   "outputs": [],
   "source": [
    "import uproot"
   ]
  },
  {
   "cell_type": "code",
   "execution_count": 2,
   "metadata": {},
   "outputs": [],
   "source": [
    "file = uproot.open('/home/andy/12360.root')"
   ]
  },
  {
   "cell_type": "code",
   "execution_count": 10,
   "metadata": {},
   "outputs": [
    {
     "name": "stdout",
     "output_type": "stream",
     "text": [
      "[b'CalibratedHLCWaveforms;249', b'CalibratedHLCWaveforms;248', b'LaputopHLCWaveforms;175', b'LaputopHLCWaveforms;174', b'IceTopHLCPulseInfo;6', b'IceTopHLCPulseInfo;5', b'IceTopHLCVEMPulses;6', b'IceTopHLCVEMPulses;5', b'IceTopHLCPEPulses;6', b'IceTopHLCPEPulses;5', b'All_pulses;5', b'All_pulses;4', b'LaputopHLCPE;4', b'LaputopHLCPE;3', b'All_radius_old;3', b'All_radius_old;2', b'All_radius;3', b'All_radius;2', b'CalibratedSLCWaveforms;2', b'CalibratedSLCWaveforms;1', b'IceTopSLCVEMPulses;2', b'IceTopSLCVEMPulses;1', b'IceTopSLCPEPulses;2', b'IceTopSLCPEPulses;1', b'LaputopSLCPE;2', b'LaputopSLCPE;1', b'MCPrimaryInfo;2', b'MCPrimaryInfo;1', b'CurvatureOnly;1', b'CurvatureOnlyParams;1', b'I3EventHeader;1', b'Laputop;1', b'LaputopParams;1', b'MCPrimary;1', b'ShowerCOG;1', b'aTree;1']\n"
     ]
    }
   ],
   "source": [
    "print(file.keys())"
   ]
  },
  {
   "cell_type": "code",
   "execution_count": 14,
   "metadata": {},
   "outputs": [
    {
     "name": "stdout",
     "output_type": "stream",
     "text": [
      "[b'Run', b'Event', b'SubEvent', b'SubEventStream', b'SubEventStream_String', b'exists', b's125', b'beta', b'age', b'A', b'D', b'N', b'xc_err', b'yc_err', b'ny_err', b'nx_err', b'tc_err', b'log10_s125_err', b'beta_err', b'A_err', b'D_err', b'N_err', b's50', b's70', b's80', b's100', b's150', b's180', b's250', b's500', b'e_proton', b'e_iron', b'e_h4a', b'llh', b'llh_silent', b'chi2', b'chi2_time', b'ndf', b'rlogl', b'nmini']\n"
     ]
    }
   ],
   "source": [
    "print(file['CurvatureOnlyParams'].keys())"
   ]
  },
  {
   "cell_type": "code",
   "execution_count": 32,
   "metadata": {},
   "outputs": [
    {
     "name": "stdout",
     "output_type": "stream",
     "text": [
      "[b'Count_IceTopHLCPulseInfo', b'Run', b'Event', b'SubEvent', b'SubEventStream', b'SubEventStream_String', b'exists', b'string', b'om', b'pmt', b'vector_index', b'amplitude', b'rise_time', b'trailing_edge', b'status', b'status_String', b'channel', b'source_id']\n"
     ]
    }
   ],
   "source": [
    "print(file['IceTopHLCPulseInfo'].keys())"
   ]
  },
  {
   "cell_type": "code",
   "execution_count": 60,
   "metadata": {},
   "outputs": [],
   "source": [
    "import numpy as np"
   ]
  },
  {
   "cell_type": "code",
   "execution_count": 61,
   "metadata": {},
   "outputs": [],
   "source": [
    "data = np.loadtxt('training_output.txt')"
   ]
  },
  {
   "cell_type": "code",
   "execution_count": 62,
   "metadata": {},
   "outputs": [],
   "source": [
    "data_new = list(zip(*data))"
   ]
  },
  {
   "cell_type": "code",
   "execution_count": 63,
   "metadata": {},
   "outputs": [
    {
     "data": {
      "text/plain": [
       "<matplotlib.collections.PathCollection at 0x7f3a4132ad68>"
      ]
     },
     "execution_count": 63,
     "metadata": {},
     "output_type": "execute_result"
    },
    {
     "data": {
      "image/png": "[encoded data removed]",
      "text/plain": [
       "<Figure size 432x288 with 1 Axes>"
      ]
     },
     "metadata": {
      "needs_background": "light"
     },
     "output_type": "display_data"
    }
   ],
   "source": [
    "plt.scatter(data_new[4],data_new[0])"
   ]
  },
  {
   "cell_type": "code",
   "execution_count": 64,
   "metadata": {},
   "outputs": [
    {
     "data": {
      "image/png": "[encoded data removed]",
      "text/plain": [
       "<Figure size 432x288 with 1 Axes>"
      ]
     },
     "metadata": {
      "needs_background": "light"
     },
     "output_type": "display_data"
    }
   ],
   "source": [
    "plt.scatter(data_new[4],data_new[1])\n",
    "plt.show()"
   ]
  },
  {
   "cell_type": "code",
   "execution_count": 65,
   "metadata": {},
   "outputs": [],
   "source": [
    "max_iron = max(data_new[1])"
   ]
  },
  {
   "cell_type": "code",
   "execution_count": 66,
   "metadata": {},
   "outputs": [],
   "source": [
    "max_proton = max(data_new[0])"
   ]
  },
  {
   "cell_type": "code",
   "execution_count": 67,
   "metadata": {},
   "outputs": [
    {
     "name": "stdout",
     "output_type": "stream",
     "text": [
      "0.9393796992481203 49.0 15.0\n",
      "0.8671793079342887 32.0 18.0\n"
     ]
    }
   ],
   "source": [
    "for i,j,k in zip(data_new[1],data_new[4],data_new[5]):\n",
    "    if i == max_iron:\n",
    "        print(i,j,k)\n",
    "\n",
    "for i,j,k in zip(data_new[0],data_new[4],data_new[5]):\n",
    "    if i == max_proton:\n",
    "        print(i,j,k)"
   ]
  },
  {
   "cell_type": "code",
   "execution_count": null,
   "metadata": {},
   "outputs": [],
   "source": []
  }
 ],
 "metadata": {
  "kernelspec": {
   "display_name": "Python 3",
   "language": "python",
   "name": "python3"
  },
  "language_info": {
   "codemirror_mode": {
    "name": "ipython",
    "version": 3
   },
   "file_extension": ".py",
   "mimetype": "text/x-python",
   "name": "python",
   "nbconvert_exporter": "python",
   "pygments_lexer": "ipython3",
   "version": "3.6.9"
  }
 },
 "nbformat": 4,
 "nbformat_minor": 4
}
