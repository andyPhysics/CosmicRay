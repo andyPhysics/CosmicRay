{
 "cells": [
  {
   "cell_type": "code",
   "execution_count": 1,
   "metadata": {},
   "outputs": [],
   "source": [
    "import numpy as np\n",
    "import uproot\n",
    "import matplotlib.pyplot as plt\n",
    "from sklearn.tree import DecisionTreeRegressor, ExtraTreeRegressor\n",
    "from sklearn.ensemble import AdaBoostRegressor, StackingRegressor\n",
    "from sklearn.multioutput import MultiOutputRegressor\n",
    "import sklearn\n",
    "from random import random\n",
    "from sklearn.model_selection import cross_validate\n",
    "import matplotlib\n",
    "from waveform_methods import binning\n",
    "import pandas as pd"
   ]
  },
  {
   "cell_type": "code",
   "execution_count": 2,
   "metadata": {},
   "outputs": [],
   "source": [
    "file = uproot.open('/home/andy/12360.root')\n",
    "file2 = uproot.open('/home/andy/12362.root')"
   ]
  },
  {
   "cell_type": "code",
   "execution_count": 3,
   "metadata": {},
   "outputs": [
    {
     "name": "stdout",
     "output_type": "stream",
     "text": [
      "172382\n"
     ]
    }
   ],
   "source": [
    "Xmax1 = file['MCPrimaryInfo']['ghMaxDepth'].array()\n",
    "valueDepth = file['MCPrimaryInfo']['longNumCharged'].array()\n",
    "Depth1 = file['MCPrimaryInfo']['longDepth'].array()\n",
    "chi2_1 = file['CurvatureOnlyParams']['chi2_time'].array()\n",
    "red1 = file['MCPrimaryInfo']['ghRedChiSqr'].array()\n",
    "mass1 = [1 for i in range(len(red1))]\n",
    "\n",
    "good = []\n",
    "count = 0\n",
    "for i in range(len(Xmax1)):\n",
    "    if (red1[i]<300 and chi2_1[i]<5) and Xmax1[i]<900:\n",
    "        good.append(1)\n",
    "        count+=1\n",
    "    else:\n",
    "        good.append(0)\n",
    "        \n",
    "Xmax2 = file2['MCPrimaryInfo']['ghMaxDepth'].array()\n",
    "valueDepth = file2['MCPrimaryInfo']['longNumCharged'].array()\n",
    "Depth2 = file2['MCPrimaryInfo']['longDepth'].array()\n",
    "chi2_2 = file2['CurvatureOnlyParams']['chi2_time'].array()\n",
    "red2 = file2['MCPrimaryInfo']['ghRedChiSqr'].array()\n",
    "mass2 = [4 for i in range(len(red2))]\n",
    "\n",
    "good2 = []\n",
    "for i in range(len(Xmax2)):\n",
    "    if (red2[i]<300 and chi2_2[i]<5) and Xmax2[i]<650:\n",
    "        good2.append(1)\n",
    "        count+=1\n",
    "    else:\n",
    "        good2.append(0)\n",
    "print(count)"
   ]
  },
  {
   "cell_type": "code",
   "execution_count": 4,
   "metadata": {},
   "outputs": [],
   "source": [
    "S125_1 = np.log10(file['LaputopParams']['s125'].array())\n",
    "S125_2 = np.log10(file2['LaputopParams']['s125'].array())"
   ]
  },
  {
   "cell_type": "code",
   "execution_count": 5,
   "metadata": {},
   "outputs": [],
   "source": [
    "A1 = file['CurvatureOnlyParams']['A'].array()\n",
    "A2 = file2['CurvatureOnlyParams']['A'].array()\n",
    "D1 = file['CurvatureOnlyParams']['D'].array()\n",
    "D2 = file2['CurvatureOnlyParams']['D'].array()\n",
    "N1 = file['CurvatureOnlyParams']['N'].array()\n",
    "N2 = file2['CurvatureOnlyParams']['N'].array()\n",
    "beta1 = file['LaputopParams']['beta'].array()\n",
    "beta2 = file2['LaputopParams']['beta'].array()\n",
    "zenith1 = file['Laputop']['zenith'].array()\n",
    "zenith2 = file2['Laputop']['zenith'].array()\n",
    "rlogl1 = file['CurvatureOnlyParams']['rlogl'].array()\n",
    "nmini1 = file['CurvatureOnlyParams']['nmini'].array()\n",
    "ndf1 = file['CurvatureOnlyParams']['ndf'].array()\n",
    "llh1 = file['CurvatureOnlyParams']['llh'].array()\n",
    "rlogl2 = file2['CurvatureOnlyParams']['rlogl'].array()\n",
    "nmini2 = file2['CurvatureOnlyParams']['nmini'].array()\n",
    "ndf2 = file2['CurvatureOnlyParams']['ndf'].array()\n",
    "llh2 = file2['CurvatureOnlyParams']['llh'].array()\n",
    "\n",
    "Xmax1_new = Xmax1\n",
    "Xmax2_new = Xmax2"
   ]
  },
  {
   "cell_type": "code",
   "execution_count": 6,
   "metadata": {},
   "outputs": [],
   "source": [
    "A = np.append(A1,A2)\n",
    "D = np.append(D1,D2)\n",
    "N = np.append(N1,N2)\n",
    "S125 = np.append(S125_1,S125_2)\n",
    "beta = np.log10(np.append(beta1,beta2))\n",
    "chi2 = np.log10(np.append(chi2_1,chi2_2))\n",
    "zenith = np.cos(np.append(zenith1,zenith2))\n",
    "Xmax = np.append(Xmax1_new,Xmax2_new)\n",
    "goodness = np.append(good,good2)\n",
    "red = np.append(red1,red2)\n",
    "mass = np.append(mass1,mass2)"
   ]
  },
  {
   "cell_type": "code",
   "execution_count": 7,
   "metadata": {},
   "outputs": [
    {
     "name": "stdout",
     "output_type": "stream",
     "text": [
      "[[ 1.          0.30749226 -0.05110983 -0.04803924  0.10285016  0.21427943\n",
      "   0.03255202  0.77079182 -0.04239033 -0.10293111 -0.23799226]\n",
      " [ 0.30749226  1.         -0.0435993  -0.52563202  0.06855834  0.02395401\n",
      "   0.00522173  0.18298388 -0.09536741 -0.14998897  0.0453969 ]\n",
      " [-0.05110983 -0.0435993   1.          0.08137576 -0.0860212  -0.10458563\n",
      "  -0.01237658 -0.04203863  0.04476834  0.0769891  -0.03354958]\n",
      " [-0.04803924 -0.52563202  0.08137576  1.          0.07575187  0.19535921\n",
      "   0.07220079 -0.14748136  0.17610724  0.04298084 -0.14193754]\n",
      " [ 0.10285016  0.06855834 -0.0860212   0.07575187  1.          0.41891977\n",
      "   0.04970585 -0.12331223 -0.04467872 -0.20083333  0.15994521]\n",
      " [ 0.21427943  0.02395401 -0.10458563  0.19535921  0.41891977  1.\n",
      "  -0.04087814 -0.05310425 -0.09956015  0.01339489  0.30870411]\n",
      " [ 0.03255202  0.00522173 -0.01237658  0.07220079  0.04970585 -0.04087814\n",
      "   1.         -0.00276444  0.04444636 -0.19341011 -0.08236207]\n",
      " [ 0.77079182  0.18298388 -0.04203863 -0.14748136 -0.12331223 -0.05310425\n",
      "  -0.00276444  1.         -0.03360769  0.03586892 -0.33235025]\n",
      " [-0.04239033 -0.09536741  0.04476834  0.17610724 -0.04467872 -0.09956015\n",
      "   0.04444636 -0.03360769  1.         -0.02061313 -0.28959955]\n",
      " [-0.10293111 -0.14998897  0.0769891   0.04298084 -0.20083333  0.01339489\n",
      "  -0.19341011  0.03586892 -0.02061313  1.          0.04227521]\n",
      " [-0.23799226  0.0453969  -0.03354958 -0.14193754  0.15994521  0.30870411\n",
      "  -0.08236207 -0.33235025 -0.28959955  0.04227521  1.        ]]\n"
     ]
    }
   ],
   "source": [
    "print(np.corrcoef(np.array([A,D,N,S125,beta,zenith,Xmax,chi2,red,mass,goodness])))"
   ]
  },
  {
   "cell_type": "code",
   "execution_count": 8,
   "metadata": {},
   "outputs": [],
   "source": [
    "input_variable = np.array([np.append(np.append(np.append(i,j),k),l) for i,j,k,l in zip(S125,A,zenith,chi2)])\n",
    "output = list(zip(Xmax,goodness))"
   ]
  },
  {
   "cell_type": "code",
   "execution_count": 9,
   "metadata": {},
   "outputs": [],
   "source": [
    "from sklearn.model_selection import train_test_split\n",
    "seed = 7\n",
    "test_size = 0.2\n",
    "X_train, X_test, y_train_1, y_test_1 = train_test_split(input_variable,output , test_size=test_size, random_state=seed)"
   ]
  },
  {
   "cell_type": "code",
   "execution_count": 10,
   "metadata": {},
   "outputs": [
    {
     "name": "stdout",
     "output_type": "stream",
     "text": [
      "0.7318361955085865 0.7272928502914484 3 5\n"
     ]
    }
   ],
   "source": [
    "from scipy.stats import norm\n",
    "y_train = list(zip(*y_train_1))[1]\n",
    "y_test = list(zip(*y_test_1))[1]\n",
    "for i in [3]:\n",
    "    for j in [5]:\n",
    "        rng = np.random.RandomState(1)\n",
    "        regr_1 = AdaBoostRegressor(DecisionTreeRegressor(max_depth=j,criterion='friedman_mse'),\n",
    "                                n_estimators=i, random_state=rng,loss='square')\n",
    "        regr_1.fit(X_train,y_train)\n",
    "    \n",
    "        y_1= regr_1.predict(X_test)\n",
    "        y_2 = regr_1.predict(X_train)\n",
    "\n",
    "        #mse = [(i-j)**2.0 for i,j in zip(y_1,y_test)]\n",
    "        #mse2 = [(i-j)**2.0 for i,j in zip(y_2,y_train)]\n",
    "        count_0 = 0\n",
    "        count_02 = 0\n",
    "        for value in y_train:\n",
    "            if value==0:\n",
    "                count_0+=1\n",
    "        for value in y_test:\n",
    "            if value==0:\n",
    "                count_02+=1\n",
    "        \n",
    "        count = 0\n",
    "        count2 = 0\n",
    "        for value1,value2 in zip(y_1,y_test):\n",
    "            if value1<0.5 and value2==0:\n",
    "                count+=1\n",
    "\n",
    "        for value1,value2 in zip(y_2,y_train):\n",
    "            if value1<0.5 and value2==0:\n",
    "                count2+=1\n",
    "\n",
    "        print(count/count_02,count2/count_0,i,j)\n",
    "        \n",
    "        #residual = [i-j for i,j in zip(y_1,y_test)]\n",
    "        #mean,std=norm.fit(residual)\n",
    "        #print(mean,std,i,j)"
   ]
  },
  {
   "cell_type": "code",
   "execution_count": 11,
   "metadata": {},
   "outputs": [],
   "source": [
    "check = Xmax>300\n",
    "check2 = Xmax<900\n",
    "new_check= []\n",
    "for i,j in zip(check,check2):\n",
    "    if i and j:\n",
    "        new_check.append(True)\n",
    "    else:\n",
    "        new_check.append(False)\n",
    "    \n",
    "mask = regr_1.predict(input_variable)\n",
    "mask_convert_pre = []\n",
    "for i in mask:\n",
    "    if i>=0.5:\n",
    "        mask_convert_pre.append(True)\n",
    "    else:\n",
    "        mask_convert_pre.append(False)\n",
    "\n",
    "mask_convert = []\n",
    "for i,j in zip(new_check,mask_convert_pre):\n",
    "    if i and j:\n",
    "        mask_convert.append(True)\n",
    "    else:\n",
    "        mask_convert.append(False)"
   ]
  },
  {
   "cell_type": "code",
   "execution_count": 12,
   "metadata": {},
   "outputs": [],
   "source": [
    "mask_new = []\n",
    "import random\n",
    "random.seed(1)\n",
    "for i,j in zip(mask_convert,mass):\n",
    "    value = random.random()\n",
    "    if (j==1 and i) and value < 0.15:\n",
    "        mask_new.append(False)\n",
    "    else:\n",
    "        mask_new.append(i)"
   ]
  },
  {
   "cell_type": "code",
   "execution_count": 13,
   "metadata": {},
   "outputs": [
    {
     "name": "stdout",
     "output_type": "stream",
     "text": [
      "[[ 1.          0.10495297 -0.53447646  0.23156825  0.1526491   0.36316278\n",
      "   0.20176385  0.51469105 -0.01392814 -0.16843856  0.07060271]\n",
      " [ 0.10495297  1.         -0.05426723 -0.54634202 -0.00185964 -0.22000397\n",
      "   0.02592712  0.01531053 -0.06612157 -0.18691821  0.06523613]\n",
      " [-0.53447646 -0.05426723  1.          0.13589256 -0.02080887 -0.07082137\n",
      "  -0.09757153 -0.49230504  0.04904384  0.14651449 -0.07364571]\n",
      " [ 0.23156825 -0.54634202  0.13589256  1.          0.14479957  0.49004041\n",
      "   0.2338944  -0.01138146  0.12933913  0.06367302 -0.12211743]\n",
      " [ 0.1526491  -0.00185964 -0.02080887  0.14479957  1.          0.28458703\n",
      "   0.19742547 -0.14001288 -0.00445515 -0.17696301  0.04787336]\n",
      " [ 0.36316278 -0.22000397 -0.07082137  0.49004041  0.28458703  1.\n",
      "  -0.07002358 -0.04168865 -0.01285383  0.0268446   0.17892384]\n",
      " [ 0.20176385  0.02592712 -0.09757153  0.2338944   0.19742547 -0.07002358\n",
      "   1.          0.0086344   0.05969008 -0.66657325 -0.12386341]\n",
      " [ 0.51469105  0.01531053 -0.49230504 -0.01138146 -0.14001288 -0.04168865\n",
      "   0.0086344   1.         -0.0128819   0.03624452 -0.00698471]\n",
      " [-0.01392814 -0.06612157  0.04904384  0.12933913 -0.00445515 -0.01285383\n",
      "   0.05969008 -0.0128819   1.          0.00233266 -0.3100045 ]\n",
      " [-0.16843856 -0.18691821  0.14651449  0.06367302 -0.17696301  0.0268446\n",
      "  -0.66657325  0.03624452  0.00233266  1.          0.02506951]\n",
      " [ 0.07060271  0.06523613 -0.07364571 -0.12211743  0.04787336  0.17892384\n",
      "  -0.12386341 -0.00698471 -0.3100045   0.02506951  1.        ]]\n"
     ]
    }
   ],
   "source": [
    "print(np.corrcoef(np.array([A[mask_new],\n",
    "                            D[mask_new],\n",
    "                            N[mask_new],\n",
    "                            S125[mask_new],\n",
    "                            beta[mask_new],\n",
    "                            zenith[mask_new],\n",
    "                            Xmax[mask_new],\n",
    "                            chi2[mask_new],\n",
    "                            red[mask_new],\n",
    "                            mass[mask_new],\n",
    "                            goodness[mask_new]])))"
   ]
  },
  {
   "cell_type": "code",
   "execution_count": 14,
   "metadata": {},
   "outputs": [],
   "source": [
    "input_variable2_old = np.array([np.append(i,j) for i,j in zip(D[mask_new],beta[mask_new])])\n",
    "output_new_old = mass[mask_new]\n",
    "\n",
    "import random\n",
    "random.seed(1)\n",
    "validation_x = []\n",
    "validation_y = []\n",
    "input_variable2 = []\n",
    "output_new = []\n",
    "\n",
    "for i in range(len(input_variable2_old)):\n",
    "    if random.random() < 0.1:\n",
    "        validation_x.append(input_variable2_old[i])\n",
    "        validation_y.append(output_new_old[i])\n",
    "    else:\n",
    "        input_variable2.append(input_variable2_old[i])\n",
    "        output_new.append(output_new_old[i])"
   ]
  },
  {
   "cell_type": "code",
   "execution_count": 15,
   "metadata": {},
   "outputs": [],
   "source": [
    "from sklearn.model_selection import train_test_split\n",
    "seed = 7\n",
    "test_size = 0.2\n",
    "X_train, X_test, y_train_1, y_test_1 = train_test_split(input_variable2,output_new , test_size=test_size, random_state=seed)"
   ]
  },
  {
   "cell_type": "code",
   "execution_count": 16,
   "metadata": {},
   "outputs": [],
   "source": [
    "def convert_mass(X):\n",
    "    output = []\n",
    "    count1 = 0\n",
    "    count2 = 0\n",
    "    for i in X:\n",
    "        if i < 2.5:\n",
    "            output.append(1)\n",
    "            count1+=1\n",
    "        else:\n",
    "            output.append(4)\n",
    "            count2+=1\n",
    "    return output"
   ]
  },
  {
   "cell_type": "code",
   "execution_count": 17,
   "metadata": {},
   "outputs": [
    {
     "data": {
      "text/plain": [
       "\"\\nfor i in range(1,100):\\n    for j in range(10,21):\\n        rng = np.random.RandomState(1)\\n        regr_2 = AdaBoostRegressor(DecisionTreeRegressor(max_depth=j,criterion='friedman_mse'),\\n                                        n_estimators=i, random_state=rng,loss='square')\\n        regr_2.fit(X_train,y_train_1)\\n    \\n        new_1= regr_2.predict(X_test)\\n        new_2 = regr_2.predict(X_train)\\n        square = [(i-j)**2.0 for i,j in zip(new_1,y_test_1)]\\n        square2 = [(i-j)**2.0 for i,j in zip(new_2,y_train_1)]\\n        #print(np.mean(square),np.mean(square2),i,j)\\n        mass_predict = []\\n        for k in new_1:\\n            if k <=2.5:\\n                mass_predict.append(1)\\n            elif k>2.5:\\n                mass_predict.append(4)\\n                \\n        mass_predict2 = []\\n        for k in new_2:\\n            if k <=2.5:\\n                mass_predict2.append(1)\\n            elif k>2.5:\\n                mass_predict2.append(4)\\n                \\n        from sklearn.metrics import confusion_matrix\\n        cm=confusion_matrix(y_test_1,mass_predict)\\n        cm2 = confusion_matrix(y_train_1,mass_predict2)\\n        print(cm[0][0]/np.sum(cm[0]),cm[1][1]/np.sum(cm[1]),cm2[0][0]/np.sum(cm2[0]),cm2[1][1]/np.sum(cm2[1]),i,j)\\n\""
      ]
     },
     "execution_count": 17,
     "metadata": {},
     "output_type": "execute_result"
    }
   ],
   "source": [
    "from scipy.stats import norm\n",
    "'''\n",
    "for i in range(1,100):\n",
    "    for j in range(10,21):\n",
    "        rng = np.random.RandomState(1)\n",
    "        regr_2 = AdaBoostRegressor(DecisionTreeRegressor(max_depth=j,criterion='friedman_mse'),\n",
    "                                        n_estimators=i, random_state=rng,loss='square')\n",
    "        regr_2.fit(X_train,y_train_1)\n",
    "    \n",
    "        new_1= regr_2.predict(X_test)\n",
    "        new_2 = regr_2.predict(X_train)\n",
    "        square = [(i-j)**2.0 for i,j in zip(new_1,y_test_1)]\n",
    "        square2 = [(i-j)**2.0 for i,j in zip(new_2,y_train_1)]\n",
    "        #print(np.mean(square),np.mean(square2),i,j)\n",
    "        mass_predict = []\n",
    "        for k in new_1:\n",
    "            if k <=2.5:\n",
    "                mass_predict.append(1)\n",
    "            elif k>2.5:\n",
    "                mass_predict.append(4)\n",
    "                \n",
    "        mass_predict2 = []\n",
    "        for k in new_2:\n",
    "            if k <=2.5:\n",
    "                mass_predict2.append(1)\n",
    "            elif k>2.5:\n",
    "                mass_predict2.append(4)\n",
    "                \n",
    "        from sklearn.metrics import confusion_matrix\n",
    "        cm=confusion_matrix(y_test_1,mass_predict)\n",
    "        cm2 = confusion_matrix(y_train_1,mass_predict2)\n",
    "        print(cm[0][0]/np.sum(cm[0]),cm[1][1]/np.sum(cm[1]),cm2[0][0]/np.sum(cm2[0]),cm2[1][1]/np.sum(cm2[1]),i,j)\n",
    "'''"
   ]
  },
  {
   "cell_type": "code",
   "execution_count": 18,
   "metadata": {},
   "outputs": [
    {
     "name": "stdout",
     "output_type": "stream",
     "text": [
      "2.2481736182263674 2.2468737163769004\n"
     ]
    }
   ],
   "source": [
    "rng = np.random.RandomState(1)\n",
    "regr_3 = AdaBoostRegressor(DecisionTreeRegressor(max_depth=10,criterion='friedman_mse'),\n",
    "                            n_estimators=63, random_state=rng,loss='square')\n",
    "regr_3.fit(X_train,y_train_1)\n",
    "    \n",
    "new_1= regr_3.predict(X_test)\n",
    "new_2 = regr_3.predict(X_train)\n",
    "mse = [(m-n)**2.0 for m,n in zip(new_1,y_test_1)]\n",
    "mse2 = [(m-n)**2.0 for m,n in zip(new_2,y_train_1) ]\n",
    "print(np.mean(mse),np.mean(mse2))"
   ]
  },
  {
   "cell_type": "code",
   "execution_count": 19,
   "metadata": {},
   "outputs": [],
   "source": [
    "mass_predict = []\n",
    "for i in new_1:\n",
    "    if i <2.5:\n",
    "        mass_predict.append(1)\n",
    "    else:\n",
    "        mass_predict.append(4)"
   ]
  },
  {
   "cell_type": "code",
   "execution_count": 20,
   "metadata": {},
   "outputs": [
    {
     "name": "stdout",
     "output_type": "stream",
     "text": [
      "[[12016   641]\n",
      " [10984  1197]]\n"
     ]
    }
   ],
   "source": [
    "from sklearn.metrics import confusion_matrix\n",
    "print(confusion_matrix(y_test_1,mass_predict))\n",
    "cm=confusion_matrix(y_test_1,mass_predict)"
   ]
  },
  {
   "cell_type": "code",
   "execution_count": 21,
   "metadata": {},
   "outputs": [
    {
     "name": "stdout",
     "output_type": "stream",
     "text": [
      "0.9493560875404914 0.09826779410557425\n"
     ]
    }
   ],
   "source": [
    "print(cm[0][0]/np.sum(cm[0]),cm[1][1]/np.sum(cm[1]))"
   ]
  },
  {
   "cell_type": "code",
   "execution_count": 22,
   "metadata": {},
   "outputs": [
    {
     "name": "stdout",
     "output_type": "stream",
     "text": [
      "2.2449837774607855 2.234356118626378 2.5003114035998255 4\n"
     ]
    }
   ],
   "source": [
    "rng = np.random.RandomState(1)\n",
    "regr_4 = AdaBoostRegressor(DecisionTreeRegressor(max_depth=19,criterion='friedman_mse'),\n",
    "                            n_estimators=65, random_state=rng,loss='square')\n",
    "regr_4.fit(X_train,y_train_1)\n",
    "    \n",
    "new_3= regr_4.predict(X_test)\n",
    "new_4 = regr_4.predict(X_train)\n",
    "\n",
    "mse = [(m-n)**2.0 for m,n in zip(new_3,y_test_1)]\n",
    "mse2 = [(m-n)**2.0 for m,n in zip(new_4,y_train_1) ]\n",
    "print(np.mean(mse),np.mean(mse2),i,j)"
   ]
  },
  {
   "cell_type": "code",
   "execution_count": 23,
   "metadata": {},
   "outputs": [],
   "source": [
    "mass_predict1 = []\n",
    "for i in new_3:\n",
    "    if i <2.5:\n",
    "        mass_predict1.append(1)\n",
    "    else:\n",
    "        mass_predict1.append(4)"
   ]
  },
  {
   "cell_type": "code",
   "execution_count": 24,
   "metadata": {},
   "outputs": [
    {
     "name": "stdout",
     "output_type": "stream",
     "text": [
      "[[ 3121  9536]\n",
      " [ 1592 10589]]\n"
     ]
    }
   ],
   "source": [
    "from sklearn.metrics import confusion_matrix\n",
    "print(confusion_matrix(y_test_1,mass_predict1))\n",
    "cm=confusion_matrix(y_test_1,mass_predict1)"
   ]
  },
  {
   "cell_type": "code",
   "execution_count": 25,
   "metadata": {},
   "outputs": [
    {
     "name": "stdout",
     "output_type": "stream",
     "text": [
      "0.2465829185430987 0.8693046547902471\n"
     ]
    }
   ],
   "source": [
    "print(cm[0][0]/np.sum(cm[0]),cm[1][1]/np.sum(cm[1]))"
   ]
  },
  {
   "cell_type": "code",
   "execution_count": 26,
   "metadata": {},
   "outputs": [
    {
     "name": "stdout",
     "output_type": "stream",
     "text": [
      "0.9155700477465937 0.8278532284965452\n"
     ]
    }
   ],
   "source": [
    "predict1 = regr_3.predict(validation_x)\n",
    "    \n",
    "mass_predict = []\n",
    "for i in predict1:\n",
    "    if i <2.5:\n",
    "        mass_predict.append(1)\n",
    "    else:\n",
    "        mass_predict.append(4)\n",
    "cm=confusion_matrix(validation_y,mass_predict)\n",
    "    \n",
    "predict2 = regr_4.predict(validation_x)\n",
    "    \n",
    "mass_predict = []\n",
    "for i in predict2:\n",
    "    if i <2.5:\n",
    "        mass_predict.append(1)\n",
    "    else:\n",
    "        mass_predict.append(4)\n",
    "cm1=confusion_matrix(validation_y,mass_predict)\n",
    "print(cm[0][0]/np.sum(cm[0]),cm1[1][1]/np.sum(cm1[1]))"
   ]
  },
  {
   "cell_type": "code",
   "execution_count": 27,
   "metadata": {},
   "outputs": [],
   "source": [
    "#import pickle\n",
    "#pickle.dump(regr_3, open('proton_model.sav', 'wb'))\n",
    "#pickle.dump(regr_4, open('iron_model.sav','wb'))"
   ]
  },
  {
   "cell_type": "code",
   "execution_count": null,
   "metadata": {},
   "outputs": [],
   "source": []
  }
 ],
 "metadata": {
  "kernelspec": {
   "display_name": "Python 3",
   "language": "python",
   "name": "python3"
  },
  "language_info": {
   "codemirror_mode": {
    "name": "ipython",
    "version": 3
   },
   "file_extension": ".py",
   "mimetype": "text/x-python",
   "name": "python",
   "nbconvert_exporter": "python",
   "pygments_lexer": "ipython3",
   "version": "3.6.9"
  }
 },
 "nbformat": 4,
 "nbformat_minor": 4
}
