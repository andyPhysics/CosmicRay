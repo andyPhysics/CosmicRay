{
 "cells": [
  {
   "cell_type": "code",
   "execution_count": 1,
   "metadata": {},
   "outputs": [],
   "source": [
    "import numpy as np\n",
    "import uproot\n",
    "import matplotlib.pyplot as plt\n",
    "from sklearn.tree import DecisionTreeRegressor, ExtraTreeRegressor\n",
    "from sklearn.ensemble import AdaBoostRegressor, StackingRegressor\n",
    "from sklearn.multioutput import MultiOutputRegressor\n",
    "import sklearn\n",
    "from random import random\n",
    "from sklearn.model_selection import cross_validate\n",
    "import matplotlib\n",
    "from waveform_methods import binning\n",
    "import pandas as pd"
   ]
  },
  {
   "cell_type": "code",
   "execution_count": 2,
   "metadata": {},
   "outputs": [],
   "source": [
    "file = uproot.open('/home/andy/12360.root')\n",
    "file2 = uproot.open('/home/andy/12362.root')"
   ]
  },
  {
   "cell_type": "code",
   "execution_count": 3,
   "metadata": {},
   "outputs": [
    {
     "name": "stdout",
     "output_type": "stream",
     "text": [
      "172382\n"
     ]
    }
   ],
   "source": [
    "Xmax1 = file['MCPrimaryInfo']['ghMaxDepth'].array()\n",
    "valueDepth = file['MCPrimaryInfo']['longNumCharged'].array()\n",
    "Depth1 = file['MCPrimaryInfo']['longDepth'].array()\n",
    "chi2_1 = file['CurvatureOnlyParams']['chi2_time'].array()\n",
    "red1 = file['MCPrimaryInfo']['ghRedChiSqr'].array()\n",
    "mass1 = [1 for i in range(len(red1))]\n",
    "\n",
    "good = []\n",
    "count = 0\n",
    "for i in range(len(Xmax1)):\n",
    "    if (red1[i]<300 and chi2_1[i]<5) and Xmax1[i]<900:\n",
    "        good.append(1)\n",
    "        count+=1\n",
    "    else:\n",
    "        good.append(0)\n",
    "        \n",
    "Xmax2 = file2['MCPrimaryInfo']['ghMaxDepth'].array()\n",
    "valueDepth = file2['MCPrimaryInfo']['longNumCharged'].array()\n",
    "Depth2 = file2['MCPrimaryInfo']['longDepth'].array()\n",
    "chi2_2 = file2['CurvatureOnlyParams']['chi2_time'].array()\n",
    "red2 = file2['MCPrimaryInfo']['ghRedChiSqr'].array()\n",
    "mass2 = [4 for i in range(len(red2))]\n",
    "\n",
    "good2 = []\n",
    "for i in range(len(Xmax2)):\n",
    "    if (red2[i]<300 and chi2_2[i]<5) and Xmax2[i]<650:\n",
    "        good2.append(1)\n",
    "        count+=1\n",
    "    else:\n",
    "        good2.append(0)\n",
    "print(count)"
   ]
  },
  {
   "cell_type": "code",
   "execution_count": 4,
   "metadata": {},
   "outputs": [],
   "source": [
    "S125_1 = np.log10(file['LaputopParams']['s125'].array())\n",
    "S125_2 = np.log10(file2['LaputopParams']['s125'].array())"
   ]
  },
  {
   "cell_type": "code",
   "execution_count": 5,
   "metadata": {},
   "outputs": [],
   "source": [
    "A1 = file['CurvatureOnlyParams']['A'].array()\n",
    "A2 = file2['CurvatureOnlyParams']['A'].array()\n",
    "D1 = file['CurvatureOnlyParams']['D'].array()\n",
    "D2 = file2['CurvatureOnlyParams']['D'].array()\n",
    "N1 = file['CurvatureOnlyParams']['N'].array()\n",
    "N2 = file2['CurvatureOnlyParams']['N'].array()\n",
    "beta1 = file['LaputopParams']['beta'].array()\n",
    "beta2 = file2['LaputopParams']['beta'].array()\n",
    "zenith1 = file['Laputop']['zenith'].array()\n",
    "zenith2 = file2['Laputop']['zenith'].array()\n",
    "rlogl1 = file['CurvatureOnlyParams']['rlogl'].array()\n",
    "nmini1 = file['CurvatureOnlyParams']['nmini'].array()\n",
    "ndf1 = file['CurvatureOnlyParams']['ndf'].array()\n",
    "llh1 = file['CurvatureOnlyParams']['llh'].array()\n",
    "rlogl2 = file2['CurvatureOnlyParams']['rlogl'].array()\n",
    "nmini2 = file2['CurvatureOnlyParams']['nmini'].array()\n",
    "ndf2 = file2['CurvatureOnlyParams']['ndf'].array()\n",
    "llh2 = file2['CurvatureOnlyParams']['llh'].array()\n",
    "\n",
    "Xmax1_new = Xmax1\n",
    "Xmax2_new = Xmax2"
   ]
  },
  {
   "cell_type": "code",
   "execution_count": 6,
   "metadata": {},
   "outputs": [],
   "source": [
    "A = np.log10(np.append(A1,A2))\n",
    "D = np.append(D1,D2)\n",
    "N = np.append(N1,N2)\n",
    "S125 = np.append(S125_1,S125_2)\n",
    "beta = np.log10(np.append(beta1,beta2))\n",
    "chi2 = np.append(chi2_1,chi2_2)\n",
    "zenith = np.cos(np.append(zenith1,zenith2))\n",
    "Xmax = np.append(Xmax1_new,Xmax2_new)\n",
    "goodness = np.append(good,good2)\n",
    "red = np.append(red1,red2)\n",
    "mass = np.append(mass1,mass2)"
   ]
  },
  {
   "cell_type": "code",
   "execution_count": 7,
   "metadata": {},
   "outputs": [
    {
     "name": "stdout",
     "output_type": "stream",
     "text": [
      "[[ 1.          0.11042152 -0.06389393  0.07506336  0.10801262  0.20482409\n",
      "   0.02356671  0.08135272 -0.01841696 -0.07125706 -0.05894829]\n",
      " [ 0.11042152  1.         -0.0435993  -0.52563202  0.06855834  0.02395401\n",
      "   0.00522173  0.06673223 -0.09536741 -0.14998897  0.0453969 ]\n",
      " [-0.06389393 -0.0435993   1.          0.08137576 -0.0860212  -0.10458563\n",
      "  -0.01237658  0.42102965  0.04476834  0.0769891  -0.03354958]\n",
      " [ 0.07506336 -0.52563202  0.08137576  1.          0.07575187  0.19535921\n",
      "   0.07220079 -0.05334439  0.17610724  0.04298084 -0.14193754]\n",
      " [ 0.10801262  0.06855834 -0.0860212   0.07575187  1.          0.41891977\n",
      "   0.04970585 -0.02705426 -0.04467872 -0.20083333  0.15994521]\n",
      " [ 0.20482409  0.02395401 -0.10458563  0.19535921  0.41891977  1.\n",
      "  -0.04087814 -0.0246141  -0.09956015  0.01339489  0.30870411]\n",
      " [ 0.02356671  0.00522173 -0.01237658  0.07220079  0.04970585 -0.04087814\n",
      "   1.         -0.00294529  0.04444636 -0.19341011 -0.08236207]\n",
      " [ 0.08135272  0.06673223  0.42102965 -0.05334439 -0.02705426 -0.0246141\n",
      "  -0.00294529  1.         -0.00375543  0.00542323 -0.09060697]\n",
      " [-0.01841696 -0.09536741  0.04476834  0.17610724 -0.04467872 -0.09956015\n",
      "   0.04444636 -0.00375543  1.         -0.02061313 -0.28959955]\n",
      " [-0.07125706 -0.14998897  0.0769891   0.04298084 -0.20083333  0.01339489\n",
      "  -0.19341011  0.00542323 -0.02061313  1.          0.04227521]\n",
      " [-0.05894829  0.0453969  -0.03354958 -0.14193754  0.15994521  0.30870411\n",
      "  -0.08236207 -0.09060697 -0.28959955  0.04227521  1.        ]]\n"
     ]
    }
   ],
   "source": [
    "print(np.corrcoef(np.array([A,D,N,S125,beta,zenith,Xmax,chi2,red,mass,goodness])))"
   ]
  },
  {
   "cell_type": "code",
   "execution_count": 8,
   "metadata": {},
   "outputs": [],
   "source": [
    "input_variable = np.array([np.append(np.append(i,j),k) for i,j,k in zip(S125,beta,zenith)])\n",
    "output = list(zip(Xmax,goodness))"
   ]
  },
  {
   "cell_type": "code",
   "execution_count": 9,
   "metadata": {},
   "outputs": [],
   "source": [
    "from sklearn.model_selection import train_test_split\n",
    "seed = 7\n",
    "test_size = 0.2\n",
    "X_train, X_test, y_train_1, y_test_1 = train_test_split(input_variable,output , test_size=test_size, random_state=seed)"
   ]
  },
  {
   "cell_type": "code",
   "execution_count": 10,
   "metadata": {},
   "outputs": [
    {
     "name": "stdout",
     "output_type": "stream",
     "text": [
      "0.4552326434757082 0.46006419242972035 5 7\n"
     ]
    }
   ],
   "source": [
    "from scipy.stats import norm\n",
    "y_train = list(zip(*y_train_1))[1]\n",
    "y_test = list(zip(*y_test_1))[1]\n",
    "for i in [5]:\n",
    "    for j in [7]:\n",
    "        rng = np.random.RandomState(1)\n",
    "        regr_1 = AdaBoostRegressor(DecisionTreeRegressor(max_depth=j,criterion='friedman_mse'),\n",
    "                                n_estimators=i, random_state=rng,loss='square')\n",
    "        regr_1.fit(X_train,y_train)\n",
    "    \n",
    "        y_1= regr_1.predict(X_test)\n",
    "        y_2 = regr_1.predict(X_train)\n",
    "\n",
    "        #mse = [(i-j)**2.0 for i,j in zip(y_1,y_test)]\n",
    "        #mse2 = [(i-j)**2.0 for i,j in zip(y_2,y_train)]\n",
    "        count_0 = 0\n",
    "        count_02 = 0\n",
    "        for value in y_train:\n",
    "            if value==0:\n",
    "                count_0+=1\n",
    "        for value in y_test:\n",
    "            if value==0:\n",
    "                count_02+=1\n",
    "        \n",
    "        count = 0\n",
    "        count2 = 0\n",
    "        for value1,value2 in zip(y_1,y_test):\n",
    "            if value1<0.5 and value2==0:\n",
    "                count+=1\n",
    "\n",
    "        for value1,value2 in zip(y_2,y_train):\n",
    "            if value1<0.5 and value2==0:\n",
    "                count2+=1\n",
    "\n",
    "        print(count/count_02,count2/count_0,i,j)\n",
    "        \n",
    "        #residual = [i-j for i,j in zip(y_1,y_test)]\n",
    "        #mean,std=norm.fit(residual)\n",
    "        #print(mean,std,i,j)"
   ]
  },
  {
   "cell_type": "code",
   "execution_count": 11,
   "metadata": {},
   "outputs": [],
   "source": [
    "check = Xmax>300\n",
    "check2 = Xmax<900\n",
    "new_check= []\n",
    "for i,j in zip(check,check2):\n",
    "    if i and j:\n",
    "        new_check.append(True)\n",
    "    else:\n",
    "        new_check.append(False)\n",
    "    \n",
    "mask = regr_1.predict(input_variable)\n",
    "mask_convert_pre = []\n",
    "for i in mask:\n",
    "    if i>=0.5:\n",
    "        mask_convert_pre.append(True)\n",
    "    else:\n",
    "        mask_convert_pre.append(False)\n",
    "\n",
    "mask_convert = []\n",
    "for i,j in zip(new_check,mask_convert_pre):\n",
    "    if i and j:\n",
    "        mask_convert.append(True)\n",
    "    else:\n",
    "        mask_convert.append(False)"
   ]
  },
  {
   "cell_type": "code",
   "execution_count": 12,
   "metadata": {},
   "outputs": [],
   "source": [
    "mask_new = []\n",
    "import random\n",
    "random.seed(1)\n",
    "for i,j in zip(mask_convert,mass):\n",
    "    value = random.random()\n",
    "    if (j==1 and i) and value < 0.15:\n",
    "        mask_new.append(False)\n",
    "    else:\n",
    "        mask_new.append(i)"
   ]
  },
  {
   "cell_type": "code",
   "execution_count": 13,
   "metadata": {},
   "outputs": [
    {
     "name": "stdout",
     "output_type": "stream",
     "text": [
      "[[ 1.          0.13181291 -0.07013935  0.07577019  0.0569547   0.15162731\n",
      "   0.09370008  0.18072973 -0.00460125 -0.07487626 -0.17757486]\n",
      " [ 0.13181291  1.         -0.02796061 -0.51523911  0.00280179 -0.14047535\n",
      "  -0.00880767  0.11537634 -0.06415745 -0.1589495  -0.04391449]\n",
      " [-0.07013935 -0.02796061  1.          0.05379337 -0.04451649 -0.04931599\n",
      "  -0.04387593  0.71868168  0.02206486  0.06960711  0.01707647]\n",
      " [ 0.07577019 -0.51523911  0.05379337  1.          0.11537156  0.37172369\n",
      "   0.2872425  -0.0806815   0.13195011  0.05286084 -0.09125929]\n",
      " [ 0.0569547   0.00280179 -0.04451649  0.11537156  1.          0.26086278\n",
      "   0.21939849 -0.04104283 -0.00806429 -0.19882028  0.05351253]\n",
      " [ 0.15162731 -0.14047535 -0.04931599  0.37172369  0.26086278  1.\n",
      "  -0.05228518 -0.04242099 -0.01214298  0.02005325  0.0887856 ]\n",
      " [ 0.09370008 -0.00880767 -0.04387593  0.2872425   0.21939849 -0.05228518\n",
      "   1.         -0.0177553   0.05867406 -0.66511768 -0.06744135]\n",
      " [ 0.18072973  0.11537634  0.71868168 -0.0806815  -0.04104283 -0.04242099\n",
      "  -0.0177553   1.         -0.00605077  0.00539392 -0.20031684]\n",
      " [-0.00460125 -0.06415745  0.02206486  0.13195011 -0.00806429 -0.01214298\n",
      "   0.05867406 -0.00605077  1.          0.00754939 -0.24789168]\n",
      " [-0.07487626 -0.1589495   0.06960711  0.05286084 -0.19882028  0.02005325\n",
      "  -0.66511768  0.00539392  0.00754939  1.         -0.00675146]\n",
      " [-0.17757486 -0.04391449  0.01707647 -0.09125929  0.05351253  0.0887856\n",
      "  -0.06744135 -0.20031684 -0.24789168 -0.00675146  1.        ]]\n"
     ]
    }
   ],
   "source": [
    "print(np.corrcoef(np.array([A[mask_new],\n",
    "                            D[mask_new],\n",
    "                            N[mask_new],\n",
    "                            S125[mask_new],\n",
    "                            beta[mask_new],\n",
    "                            zenith[mask_new],\n",
    "                            Xmax[mask_new],\n",
    "                            chi2[mask_new],\n",
    "                            red[mask_new],\n",
    "                            mass[mask_new],\n",
    "                            goodness[mask_new]])))"
   ]
  },
  {
   "cell_type": "code",
   "execution_count": 14,
   "metadata": {},
   "outputs": [],
   "source": [
    "input_variable2_old = np.array([np.append(i,j) for i,j in zip(D[mask_new],beta[mask_new])])\n",
    "output_new_old = mass[mask_new]\n",
    "\n",
    "import random\n",
    "random.seed(1)\n",
    "validation_x = []\n",
    "validation_y = []\n",
    "input_variable2 = []\n",
    "output_new = []\n",
    "\n",
    "for i in range(len(input_variable2_old)):\n",
    "    if random.random() < 0.1:\n",
    "        validation_x.append(input_variable2_old[i])\n",
    "        validation_y.append(output_new_old[i])\n",
    "    else:\n",
    "        input_variable2.append(input_variable2_old[i])\n",
    "        output_new.append(output_new_old[i])"
   ]
  },
  {
   "cell_type": "code",
   "execution_count": 15,
   "metadata": {},
   "outputs": [],
   "source": [
    "from sklearn.model_selection import train_test_split\n",
    "seed = 7\n",
    "test_size = 0.2\n",
    "X_train, X_test, y_train_1, y_test_1 = train_test_split(input_variable2,output_new , test_size=test_size, random_state=seed)"
   ]
  },
  {
   "cell_type": "code",
   "execution_count": 16,
   "metadata": {},
   "outputs": [],
   "source": [
    "def convert_mass(X):\n",
    "    output = []\n",
    "    count1 = 0\n",
    "    count2 = 0\n",
    "    for i in X:\n",
    "        if i < 2.5:\n",
    "            output.append(1)\n",
    "            count1+=1\n",
    "        else:\n",
    "            output.append(4)\n",
    "            count2+=1\n",
    "    return output"
   ]
  },
  {
   "cell_type": "code",
   "execution_count": 17,
   "metadata": {},
   "outputs": [
    {
     "data": {
      "text/plain": [
       "\"\\nfor i in range(1,100):\\n    for j in range(10,21):\\n        rng = np.random.RandomState(1)\\n        regr_2 = AdaBoostRegressor(DecisionTreeRegressor(max_depth=j,criterion='friedman_mse'),\\n                                        n_estimators=i, random_state=rng,loss='square')\\n        regr_2.fit(X_train,y_train_1)\\n    \\n        new_1= regr_2.predict(X_test)\\n        new_2 = regr_2.predict(X_train)\\n        square = [(i-j)**2.0 for i,j in zip(new_1,y_test_1)]\\n        square2 = [(i-j)**2.0 for i,j in zip(new_2,y_train_1)]\\n        #print(np.mean(square),np.mean(square2),i,j)\\n        mass_predict = []\\n        for k in new_1:\\n            if k <=2.5:\\n                mass_predict.append(1)\\n            elif k>2.5:\\n                mass_predict.append(4)\\n                \\n        mass_predict2 = []\\n        for k in new_2:\\n            if k <=2.5:\\n                mass_predict2.append(1)\\n            elif k>2.5:\\n                mass_predict2.append(4)\\n                \\n        from sklearn.metrics import confusion_matrix\\n        cm=confusion_matrix(y_test_1,mass_predict)\\n        cm2 = confusion_matrix(y_train_1,mass_predict2)\\n        print(cm[0][0]/np.sum(cm[0]),cm[1][1]/np.sum(cm[1]),cm2[0][0]/np.sum(cm2[0]),cm2[1][1]/np.sum(cm2[1]),i,j)\\n\""
      ]
     },
     "execution_count": 17,
     "metadata": {},
     "output_type": "execute_result"
    }
   ],
   "source": [
    "from scipy.stats import norm\n",
    "'''\n",
    "for i in range(1,100):\n",
    "    for j in range(10,21):\n",
    "        rng = np.random.RandomState(1)\n",
    "        regr_2 = AdaBoostRegressor(DecisionTreeRegressor(max_depth=j,criterion='friedman_mse'),\n",
    "                                        n_estimators=i, random_state=rng,loss='square')\n",
    "        regr_2.fit(X_train,y_train_1)\n",
    "    \n",
    "        new_1= regr_2.predict(X_test)\n",
    "        new_2 = regr_2.predict(X_train)\n",
    "        square = [(i-j)**2.0 for i,j in zip(new_1,y_test_1)]\n",
    "        square2 = [(i-j)**2.0 for i,j in zip(new_2,y_train_1)]\n",
    "        #print(np.mean(square),np.mean(square2),i,j)\n",
    "        mass_predict = []\n",
    "        for k in new_1:\n",
    "            if k <=2.5:\n",
    "                mass_predict.append(1)\n",
    "            elif k>2.5:\n",
    "                mass_predict.append(4)\n",
    "                \n",
    "        mass_predict2 = []\n",
    "        for k in new_2:\n",
    "            if k <=2.5:\n",
    "                mass_predict2.append(1)\n",
    "            elif k>2.5:\n",
    "                mass_predict2.append(4)\n",
    "                \n",
    "        from sklearn.metrics import confusion_matrix\n",
    "        cm=confusion_matrix(y_test_1,mass_predict)\n",
    "        cm2 = confusion_matrix(y_train_1,mass_predict2)\n",
    "        print(cm[0][0]/np.sum(cm[0]),cm[1][1]/np.sum(cm[1]),cm2[0][0]/np.sum(cm2[0]),cm2[1][1]/np.sum(cm2[1]),i,j)\n",
    "'''"
   ]
  },
  {
   "cell_type": "code",
   "execution_count": 18,
   "metadata": {},
   "outputs": [
    {
     "name": "stdout",
     "output_type": "stream",
     "text": [
      "2.248716281731893 2.2481204759795443\n"
     ]
    }
   ],
   "source": [
    "rng = np.random.RandomState(1)\n",
    "regr_3 = AdaBoostRegressor(DecisionTreeRegressor(max_depth=11,criterion='friedman_mse'),\n",
    "                            n_estimators=51, random_state=rng,loss='square')\n",
    "regr_3.fit(X_train,y_train_1)\n",
    "    \n",
    "new_1= regr_3.predict(X_test)\n",
    "new_2 = regr_3.predict(X_train)\n",
    "mse = [(m-n)**2.0 for m,n in zip(new_1,y_test_1)]\n",
    "mse2 = [(m-n)**2.0 for m,n in zip(new_2,y_train_1) ]\n",
    "print(np.mean(mse),np.mean(mse2))"
   ]
  },
  {
   "cell_type": "code",
   "execution_count": 19,
   "metadata": {},
   "outputs": [],
   "source": [
    "mass_predict = []\n",
    "for i in new_1:\n",
    "    if i <2.5:\n",
    "        mass_predict.append(1)\n",
    "    else:\n",
    "        mass_predict.append(4)"
   ]
  },
  {
   "cell_type": "code",
   "execution_count": 20,
   "metadata": {},
   "outputs": [
    {
     "name": "stdout",
     "output_type": "stream",
     "text": [
      "[[14075  1296]\n",
      " [12091  3333]]\n"
     ]
    }
   ],
   "source": [
    "from sklearn.metrics import confusion_matrix\n",
    "print(confusion_matrix(y_test_1,mass_predict))\n",
    "cm=confusion_matrix(y_test_1,mass_predict)"
   ]
  },
  {
   "cell_type": "code",
   "execution_count": 21,
   "metadata": {},
   "outputs": [
    {
     "name": "stdout",
     "output_type": "stream",
     "text": [
      "0.915685381562683 0.21609180497925312\n"
     ]
    }
   ],
   "source": [
    "print(cm[0][0]/np.sum(cm[0]),cm[1][1]/np.sum(cm[1]))"
   ]
  },
  {
   "cell_type": "code",
   "execution_count": 22,
   "metadata": {},
   "outputs": [
    {
     "name": "stdout",
     "output_type": "stream",
     "text": [
      "2.2483631524950685 2.2474764507231946 2.499228136979957 4\n"
     ]
    }
   ],
   "source": [
    "rng = np.random.RandomState(1)\n",
    "regr_4 = AdaBoostRegressor(DecisionTreeRegressor(max_depth=13,criterion='friedman_mse'),\n",
    "                            n_estimators=79, random_state=rng,loss='square')\n",
    "regr_4.fit(X_train,y_train_1)\n",
    "    \n",
    "new_3= regr_4.predict(X_test)\n",
    "new_4 = regr_4.predict(X_train)\n",
    "\n",
    "mse = [(m-n)**2.0 for m,n in zip(new_3,y_test_1)]\n",
    "mse2 = [(m-n)**2.0 for m,n in zip(new_4,y_train_1) ]\n",
    "print(np.mean(mse),np.mean(mse2),i,j)"
   ]
  },
  {
   "cell_type": "code",
   "execution_count": 23,
   "metadata": {},
   "outputs": [],
   "source": [
    "mass_predict1 = []\n",
    "for i in new_3:\n",
    "    if i <2.5:\n",
    "        mass_predict1.append(1)\n",
    "    else:\n",
    "        mass_predict1.append(4)"
   ]
  },
  {
   "cell_type": "code",
   "execution_count": 24,
   "metadata": {},
   "outputs": [
    {
     "name": "stdout",
     "output_type": "stream",
     "text": [
      "[[ 5162 10209]\n",
      " [ 2611 12813]]\n"
     ]
    }
   ],
   "source": [
    "from sklearn.metrics import confusion_matrix\n",
    "print(confusion_matrix(y_test_1,mass_predict1))\n",
    "cm=confusion_matrix(y_test_1,mass_predict1)"
   ]
  },
  {
   "cell_type": "code",
   "execution_count": 25,
   "metadata": {},
   "outputs": [
    {
     "name": "stdout",
     "output_type": "stream",
     "text": [
      "0.33582720707826424 0.8307183609958506\n"
     ]
    }
   ],
   "source": [
    "print(cm[0][0]/np.sum(cm[0]),cm[1][1]/np.sum(cm[1]))"
   ]
  },
  {
   "cell_type": "code",
   "execution_count": 26,
   "metadata": {},
   "outputs": [
    {
     "name": "stdout",
     "output_type": "stream",
     "text": [
      "0.9155700477465937 0.8278532284965452\n"
     ]
    }
   ],
   "source": [
    "predict1 = regr_3.predict(validation_x)\n",
    "    \n",
    "mass_predict = []\n",
    "for i in predict1:\n",
    "    if i <2.5:\n",
    "        mass_predict.append(1)\n",
    "    else:\n",
    "        mass_predict.append(4)\n",
    "cm=confusion_matrix(validation_y,mass_predict)\n",
    "    \n",
    "predict2 = regr_4.predict(validation_x)\n",
    "    \n",
    "mass_predict = []\n",
    "for i in predict2:\n",
    "    if i <2.5:\n",
    "        mass_predict.append(1)\n",
    "    else:\n",
    "        mass_predict.append(4)\n",
    "cm1=confusion_matrix(validation_y,mass_predict)\n",
    "print(cm[0][0]/np.sum(cm[0]),cm1[1][1]/np.sum(cm1[1]))"
   ]
  },
  {
   "cell_type": "code",
   "execution_count": 27,
   "metadata": {},
   "outputs": [],
   "source": [
    "#import pickle\n",
    "#pickle.dump(regr_3, open('proton_model.sav', 'wb'))\n",
    "#pickle.dump(regr_4, open('iron_model.sav','wb'))"
   ]
  },
  {
   "cell_type": "code",
   "execution_count": null,
   "metadata": {},
   "outputs": [],
   "source": []
  }
 ],
 "metadata": {
  "kernelspec": {
   "display_name": "Python 3",
   "language": "python",
   "name": "python3"
  },
  "language_info": {
   "codemirror_mode": {
    "name": "ipython",
    "version": 3
   },
   "file_extension": ".py",
   "mimetype": "text/x-python",
   "name": "python",
   "nbconvert_exporter": "python",
   "pygments_lexer": "ipython3",
   "version": "3.6.9"
  }
 },
 "nbformat": 4,
 "nbformat_minor": 4
}
