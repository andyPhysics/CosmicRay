{
 "cells": [
  {
   "cell_type": "code",
   "execution_count": 1,
   "metadata": {},
   "outputs": [],
   "source": [
    "import numpy as np\n",
    "import uproot\n",
    "import matplotlib.pyplot as plt\n",
    "import sklearn\n",
    "from random import random\n",
    "from sklearn.model_selection import cross_validate\n",
    "import matplotlib\n",
    "from waveform_methods import binning\n",
    "import pandas as pd\n",
    "\n",
    "from scipy.stats import norm\n",
    "import pickle\n",
    "from statistics import mode\n",
    "from sklearn.metrics import confusion_matrix\n",
    "from sklearn.model_selection import StratifiedKFold\n",
    "from sklearn.preprocessing import scale"
   ]
  },
  {
   "cell_type": "code",
   "execution_count": 2,
   "metadata": {},
   "outputs": [],
   "source": [
    "file = uproot.open('/home/andy/12360.root')\n",
    "file2 = uproot.open('/home/andy/12362.root')\n",
    "file3 = uproot.open('/home/andy/12630.root')\n",
    "file4 = uproot.open('/home/andy/12631.root')"
   ]
  },
  {
   "cell_type": "code",
   "execution_count": 3,
   "metadata": {},
   "outputs": [
    {
     "name": "stdout",
     "output_type": "stream",
     "text": [
      "[b'Run', b'Event', b'SubEvent', b'SubEventStream', b'SubEventStream_String', b'exists', b'eloss_1000', b'eloss_1500', b'eloss_1600', b'eloss_1700', b'eloss_1800', b'eloss_1900', b'eloss_2000', b'eloss_2100', b'eloss_2200', b'eloss_2300', b'eloss_2400', b'eloss_3000', b'a_estim', b'a_estim_err', b'e0_estim', b'e0_estim_err', b'stoch_energy', b'rel_stoch_energy', b'total_stoch_energy', b'total_rel_stoch_energy', b'highest_stoch_energy', b'highest_rel_stoch_energy', b'chi2', b'chi2_red', b'stoch_depth', b'n_he_stoch', b'fit_status', b'fit_status_String']\n"
     ]
    }
   ],
   "source": [
    "print(file['Stoch_Reco'].keys())"
   ]
  },
  {
   "cell_type": "code",
   "execution_count": 4,
   "metadata": {},
   "outputs": [],
   "source": [
    "Eloss_keys = file['Stoch_Reco'].keys()[6:18]\n",
    "for i in range(len(Eloss_keys)):\n",
    "    if i == 0:\n",
    "        Eloss1 = file['Stoch_Reco'][Eloss_keys[i]].array()\n",
    "    else:\n",
    "        Eloss1 += file['Stoch_Reco'][Eloss_keys[i]].array()\n",
    "Eloss1 = Eloss1/len(Eloss_keys)\n",
    "\n",
    "Eloss_keys = file2['Stoch_Reco'].keys()[6:18]\n",
    "for i in range(len(Eloss_keys)):\n",
    "    if i == 0:\n",
    "        Eloss2 = file2['Stoch_Reco'][Eloss_keys[i]].array()\n",
    "    else:\n",
    "        Eloss2 += file2['Stoch_Reco'][Eloss_keys[i]].array()\n",
    "Eloss2 = Eloss2/len(Eloss_keys)\n",
    "\n",
    "Eloss_keys = file3['Stoch_Reco'].keys()[6:18]\n",
    "for i in range(len(Eloss_keys)):\n",
    "    if i == 0:\n",
    "        Eloss3 = file3['Stoch_Reco'][Eloss_keys[i]].array()\n",
    "    else:\n",
    "        Eloss3 += file3['Stoch_Reco'][Eloss_keys[i]].array()\n",
    "Eloss3 = Eloss3/len(Eloss_keys)\n",
    "\n",
    "Eloss_keys = file4['Stoch_Reco'].keys()[6:18]\n",
    "for i in range(len(Eloss_keys)):\n",
    "    if i == 0:\n",
    "        Eloss4 = file4['Stoch_Reco'][Eloss_keys[i]].array()\n",
    "    else:\n",
    "        Eloss4 += file4['Stoch_Reco'][Eloss_keys[i]].array()\n",
    "Eloss4 = Eloss4/len(Eloss_keys)\n",
    "\n",
    "Eloss = np.append(np.append(np.append(Eloss1,Eloss2),Eloss3),Eloss4)"
   ]
  },
  {
   "cell_type": "code",
   "execution_count": 5,
   "metadata": {},
   "outputs": [],
   "source": [
    "cut = []\n",
    "for i in file['IT73AnalysisInIceQualityCuts'].keys()[6:11]:\n",
    "    cut.append(file['IT73AnalysisInIceQualityCuts'][i].array())\n",
    "cut = list(zip(cut))\n",
    "for i in range(len(cut)):\n",
    "    if i == 0:\n",
    "        final_cut = cut[i][0]\n",
    "    else:\n",
    "        final_cut = [j and k for j,k in zip(final_cut,cut[i][0])]\n",
    "        \n",
    "cut = []\n",
    "for i in file2['IT73AnalysisInIceQualityCuts'].keys()[6:11]:\n",
    "    cut.append(file2['IT73AnalysisInIceQualityCuts'][i].array())\n",
    "cut2 = list(zip(cut))\n",
    "for i in range(len(cut2)):\n",
    "    if i == 0:\n",
    "        final_cut2 = cut2[i][0]\n",
    "    else:\n",
    "        final_cut2 = [j and k for j,k in zip(final_cut2,cut2[i][0])]\n",
    "        \n",
    "cut = []\n",
    "for i in file3['IT73AnalysisInIceQualityCuts'].keys()[6:11]:\n",
    "    cut.append(file3['IT73AnalysisInIceQualityCuts'][i].array())\n",
    "cut3 = list(zip(cut))\n",
    "for i in range(len(cut3)):\n",
    "    if i == 0:\n",
    "        final_cut3 = cut3[i][0]\n",
    "    else:\n",
    "        final_cut3 = [j and k for j,k in zip(final_cut3,cut3[i][0])]\n",
    "        \n",
    "cut = []\n",
    "for i in file4['IT73AnalysisInIceQualityCuts'].keys()[6:11]:\n",
    "    cut.append(file4['IT73AnalysisInIceQualityCuts'][i].array())\n",
    "cut4 = list(zip(cut))\n",
    "for i in range(len(cut4)):\n",
    "    if i == 0:\n",
    "        final_cut4 = cut4[i][0]\n",
    "    else:\n",
    "        final_cut4 = [j and k for j,k in zip(final_cut4,cut4[i][0])]\n",
    "        \n",
    "in_ice_cuts = np.append(np.append(np.append(final_cut,final_cut2),final_cut3),final_cut4)"
   ]
  },
  {
   "cell_type": "code",
   "execution_count": 6,
   "metadata": {},
   "outputs": [],
   "source": [
    "Xmax1 = file['MCPrimaryInfo']['ghMaxDepth'].array()\n",
    "valueDepth = file['MCPrimaryInfo']['longNumCharged'].array()\n",
    "Depth1 = file['MCPrimaryInfo']['longDepth'].array()\n",
    "chi2_1 = file['CurvatureOnlyParams']['chi2_time'].array()\n",
    "red1 = file['MCPrimaryInfo']['ghRedChiSqr'].array()\n",
    "mass1 = [1 for i in range(len(red1))]\n",
    "        \n",
    "Xmax2 = file2['MCPrimaryInfo']['ghMaxDepth'].array()\n",
    "valueDepth = file2['MCPrimaryInfo']['longNumCharged'].array()\n",
    "Depth2 = file2['MCPrimaryInfo']['longDepth'].array()\n",
    "chi2_2 = file2['CurvatureOnlyParams']['chi2_time'].array()\n",
    "red2 = file2['MCPrimaryInfo']['ghRedChiSqr'].array()\n",
    "mass2 = [4 for i in range(len(red2))]\n",
    "\n",
    "Xmax3 = file3['MCPrimaryInfo']['ghMaxDepth'].array()\n",
    "valueDepth = file3['MCPrimaryInfo']['longNumCharged'].array()\n",
    "Depth3 = file3['MCPrimaryInfo']['longDepth'].array()\n",
    "chi2_3 = file3['CurvatureOnlyParams']['chi2_time'].array()\n",
    "red3 = file3['MCPrimaryInfo']['ghRedChiSqr'].array()\n",
    "mass3 = [2 for i in range(len(red3))]\n",
    "\n",
    "Xmax4 = file4['MCPrimaryInfo']['ghMaxDepth'].array()\n",
    "valueDepth = file4['MCPrimaryInfo']['longNumCharged'].array()\n",
    "Depth4 = file4['MCPrimaryInfo']['longDepth'].array()\n",
    "chi2_4 = file4['CurvatureOnlyParams']['chi2_time'].array()\n",
    "red4 = file4['MCPrimaryInfo']['ghRedChiSqr'].array()\n",
    "mass4 = [3 for i in range(len(red4))]\n"
   ]
  },
  {
   "cell_type": "code",
   "execution_count": 7,
   "metadata": {},
   "outputs": [],
   "source": [
    "S125_1 = file['LaputopParams']['s125'].array()\n",
    "S125_2 = file2['LaputopParams']['s125'].array()\n",
    "S125_3 = file3['LaputopParams']['s125'].array()\n",
    "S125_4 = file4['LaputopParams']['s125'].array()\n",
    "\n",
    "A1 = file['CurvatureOnlyParams']['A'].array()\n",
    "A2 = file2['CurvatureOnlyParams']['A'].array()\n",
    "A3 = file3['CurvatureOnlyParams']['A'].array()\n",
    "A4 = file4['CurvatureOnlyParams']['A'].array()\n",
    "\n",
    "D1 = file['CurvatureOnlyParams']['D'].array()\n",
    "D2 = file2['CurvatureOnlyParams']['D'].array()\n",
    "D3 = file3['CurvatureOnlyParams']['D'].array()\n",
    "D4 = file4['CurvatureOnlyParams']['D'].array()\n",
    "\n",
    "N1 = file['CurvatureOnlyParams']['N'].array()\n",
    "N2 = file2['CurvatureOnlyParams']['N'].array()\n",
    "N3 = file3['CurvatureOnlyParams']['N'].array()\n",
    "N4 = file4['CurvatureOnlyParams']['N'].array()\n",
    "\n",
    "beta1 = file['LaputopParams']['beta'].array()\n",
    "beta2 = file2['LaputopParams']['beta'].array()\n",
    "beta3 = file3['LaputopParams']['beta'].array()\n",
    "beta4 = file4['LaputopParams']['beta'].array()\n",
    "\n",
    "zenith1 = file['Laputop']['zenith'].array()\n",
    "zenith2 = file2['Laputop']['zenith'].array()\n",
    "zenith3 = file3['Laputop']['zenith'].array()\n",
    "zenith4 = file4['Laputop']['zenith'].array()\n",
    "\n",
    "energy1 = file['MCPrimary']['energy'].array()\n",
    "energy2 = file2['MCPrimary']['energy'].array()\n",
    "energy3 = file3['MCPrimary']['energy'].array()\n",
    "energy4 = file4['MCPrimary']['energy'].array()\n",
    "\n",
    "stoch1_1 = file['Stoch_Reco']['n_he_stoch'].array()\n",
    "stoch1_2 = file2['Stoch_Reco']['n_he_stoch'].array()\n",
    "stoch1_3 = file3['Stoch_Reco']['n_he_stoch'].array()\n",
    "stoch1_4 = file4['Stoch_Reco']['n_he_stoch'].array()\n",
    "\n",
    "stoch2_1 = file['Stoch_Reco2']['n_he_stoch'].array()\n",
    "stoch2_2 = file2['Stoch_Reco2']['n_he_stoch'].array()\n",
    "stoch2_3 = file3['Stoch_Reco2']['n_he_stoch'].array()\n",
    "stoch2_4 = file4['Stoch_Reco2']['n_he_stoch'].array()\n",
    "\n",
    "slc_charge1 = file['LaputopSLCPE']['charge'].array()\n",
    "slc_charge2 = file2['LaputopSLCPE']['charge'].array()\n",
    "slc_charge3 = file3['LaputopSLCPE']['charge'].array()\n",
    "slc_charge4 = file4['LaputopSLCPE']['charge'].array()\n",
    "\n",
    "slc_charge1 = [np.sum(i[np.isnan(i)==False]) for i in slc_charge1]\n",
    "slc_charge2 = [np.sum(i[np.isnan(i)==False]) for i in slc_charge2]\n",
    "slc_charge3 = [np.sum(i[np.isnan(i)==False]) for i in slc_charge3]\n",
    "slc_charge4 = [np.sum(i[np.isnan(i)==False]) for i in slc_charge4]\n",
    "\n",
    "hlc_charge1 = file['LaputopHLCPE']['charge'].array()\n",
    "hlc_charge2 = file2['LaputopHLCPE']['charge'].array()\n",
    "hlc_charge3 = file3['LaputopHLCPE']['charge'].array()\n",
    "hlc_charge4 = file4['LaputopHLCPE']['charge'].array()\n",
    "\n",
    "hlc_charge1 = [np.sum(i[np.isnan(i) ==False]) for i in hlc_charge1]\n",
    "hlc_charge2 = [np.sum(i[np.isnan(i)==False]) for i in hlc_charge2]\n",
    "hlc_charge3 = [np.sum(i[np.isnan(i) ==False]) for i in hlc_charge3]\n",
    "hlc_charge4 = [np.sum(i[np.isnan(i)==False]) for i in hlc_charge4]\n",
    "\n",
    "Qtot1 = [i+j for i,j in zip(slc_charge1,hlc_charge1)]\n",
    "Qtot2 = [i+j for i,j in zip(slc_charge2,hlc_charge2)]\n",
    "Qtot3 = [i+j for i,j in zip(slc_charge3,hlc_charge3)]\n",
    "Qtot4 = [i+j for i,j in zip(slc_charge4,hlc_charge4)]"
   ]
  },
  {
   "cell_type": "code",
   "execution_count": 8,
   "metadata": {},
   "outputs": [],
   "source": [
    "A = np.append(np.append(np.append(A1,A2),A3),A4)\n",
    "D = np.append(np.append(np.append(D1,D2),D3),D4)\n",
    "N = np.append(np.append(np.append(N1,N2),N3),N4)\n",
    "S125 = np.log10(np.append(np.append(np.append(S125_1,S125_2),S125_3),S125_4))\n",
    "beta = np.log10(np.append(np.append(np.append(beta1,beta2),beta3),beta4))\n",
    "chi2 = np.append(np.append(np.append(chi2_1,chi2_2),chi2_3),chi2_4)\n",
    "red = np.append(np.append(np.append(red1,red2),red3),red4)\n",
    "zenith = np.cos(np.append(np.append(np.append(zenith1,zenith2),zenith3),zenith4))\n",
    "Xmax = np.append(np.append(np.append(Xmax1,Xmax2),Xmax3),Xmax4)\n",
    "red = np.append(np.append(np.append(red1,red2),red3),red4)\n",
    "mass = np.append(np.append(np.append(mass1,mass2),mass3),mass4)\n",
    "slc_charge = np.append(np.append(np.append(slc_charge1,slc_charge2),slc_charge3),slc_charge4)\n",
    "hlc_charge = np.append(np.append(np.append(hlc_charge1,hlc_charge2),hlc_charge3),hlc_charge4)\n",
    "qtot =np.append(np.append( np.append(Qtot1,Qtot2),Qtot3),Qtot4)\n",
    "stoch1 = np.append(np.append(np.append(stoch1_1,stoch1_2),stoch1_3),stoch1_4)\n",
    "stoch2 = np.append(np.append(np.append(stoch2_1,stoch2_2),stoch2_3),stoch2_4)\n",
    "for i in range(len(stoch1)):\n",
    "    if not in_ice_cuts[i]:\n",
    "        stoch1[i] = 0\n",
    "        stoch2[i] = 0\n",
    "\n",
    "energy_loss = Eloss\n",
    "for i in range(len(energy_loss)):\n",
    "    if ((energy_loss[i] != 0 and in_ice_cuts[i]) and np.isfinite(energy_loss[i])) and not np.isnan(energy_loss[i]):\n",
    "        energy_loss[i] = np.log10(abs(energy_loss[i]))\n",
    "    else:\n",
    "        energy_loss[i] = 0\n",
    "        \n",
    "energy = np.log10(np.append(np.append(np.append(energy1,energy2),energy3),energy4))"
   ]
  },
  {
   "cell_type": "code",
   "execution_count": 9,
   "metadata": {},
   "outputs": [
    {
     "name": "stdout",
     "output_type": "stream",
     "text": [
      "[[ 1.                 nan         nan         nan -0.14380063 -0.09513678\n",
      "   0.09118868  0.02996411 -0.15106193  0.00446419         nan  0.21074023\n",
      "  -0.01170223 -0.01015536]\n",
      " [        nan         nan         nan         nan         nan         nan\n",
      "          nan         nan         nan         nan         nan         nan\n",
      "          nan         nan]\n",
      " [        nan         nan         nan         nan         nan         nan\n",
      "          nan         nan         nan         nan         nan         nan\n",
      "          nan         nan]\n",
      " [        nan         nan         nan         nan         nan         nan\n",
      "          nan         nan         nan         nan         nan         nan\n",
      "          nan         nan]\n",
      " [-0.14380063         nan         nan         nan  1.          0.3679269\n",
      "  -0.07786714 -0.20433183  0.20146887  0.33351935         nan -0.3535373\n",
      "  -0.12111291 -0.12355531]\n",
      " [-0.09513678         nan         nan         nan  0.3679269   1.\n",
      "  -0.01436456 -0.55052398  0.04491631 -0.00978005         nan -0.27060165\n",
      "  -0.27788916 -0.27955777]\n",
      " [ 0.09118868         nan         nan         nan -0.07786714 -0.01436456\n",
      "   1.          0.08257849 -0.15255654 -0.19302098         nan  0.16240472\n",
      "   0.16918192  0.17018075]\n",
      " [ 0.02996411         nan         nan         nan -0.20433183 -0.55052398\n",
      "   0.08257849  1.          0.06670557  0.19314992         nan  0.3147663\n",
      "   0.6659242   0.66749352]\n",
      " [-0.15106193         nan         nan         nan  0.20146887  0.04491631\n",
      "  -0.15255654  0.06670557  1.          0.40491548         nan -0.22754474\n",
      "   0.0701582   0.06842559]\n",
      " [ 0.00446419         nan         nan         nan  0.33351935 -0.00978005\n",
      "  -0.19302098  0.19314992  0.40491548  1.                 nan -0.49506538\n",
      "   0.13857942  0.13482507]\n",
      " [        nan         nan         nan         nan         nan         nan\n",
      "          nan         nan         nan         nan         nan         nan\n",
      "          nan         nan]\n",
      " [ 0.21074023         nan         nan         nan -0.3535373  -0.27060165\n",
      "   0.16240472  0.3147663  -0.22754474 -0.49506538         nan  1.\n",
      "   0.14540198  0.15252427]\n",
      " [-0.01170223         nan         nan         nan -0.12111291 -0.27788916\n",
      "   0.16918192  0.6659242   0.0701582   0.13857942         nan  0.14540198\n",
      "   1.          0.99997406]\n",
      " [-0.01015536         nan         nan         nan -0.12355531 -0.27955777\n",
      "   0.17018075  0.66749352  0.06842559  0.13482507         nan  0.15252427\n",
      "   0.99997406  1.        ]]\n"
     ]
    },
    {
     "name": "stderr",
     "output_type": "stream",
     "text": [
      "/home/andy/.local/lib/python3.6/site-packages/numpy/lib/function_base.py:2534: RuntimeWarning:\n",
      "\n",
      "invalid value encountered in true_divide\n",
      "\n",
      "/home/andy/.local/lib/python3.6/site-packages/numpy/lib/function_base.py:2535: RuntimeWarning:\n",
      "\n",
      "invalid value encountered in true_divide\n",
      "\n"
     ]
    }
   ],
   "source": [
    "values = [mass[in_ice_cuts==False],\n",
    "            energy_loss[in_ice_cuts==False],\n",
    "            stoch1[in_ice_cuts==False],\n",
    "            stoch2[in_ice_cuts==False],\n",
    "            A[in_ice_cuts==False],\n",
    "            D[in_ice_cuts==False],\n",
    "            N[in_ice_cuts==False],\n",
    "            S125[in_ice_cuts==False],\n",
    "            beta[in_ice_cuts==False],\n",
    "            zenith[in_ice_cuts==False],\n",
    "            chi2[in_ice_cuts==False],\n",
    "            slc_charge[in_ice_cuts==False],\n",
    "            hlc_charge[in_ice_cuts==False],\n",
    "            qtot[in_ice_cuts==False]\n",
    "            ]\n",
    "\n",
    "print(np.corrcoef(values))"
   ]
  },
  {
   "cell_type": "code",
   "execution_count": 10,
   "metadata": {},
   "outputs": [],
   "source": [
    "import random\n",
    "from sklearn.model_selection import train_test_split\n",
    "\n",
    "#model coinc:slc_charge,A,N,beta,energy_loss,stoch1,zenith\n",
    "#model not coinc:slc_charge,beta,A,zenith\n",
    "check = [i and j for i,j in zip(in_ice_cuts,np.isfinite(chi2))]\n",
    "\n",
    "input_variable2_old = np.array(list(zip(slc_charge,A,energy_loss,S125,zenith)))[check]\n",
    "output_new_old = mass[check]\n",
    "energy_value = energy[check]\n",
    "\n",
    "index = range(len(energy_value))\n",
    "\n",
    "output,validation,output_mass,validation_mass = train_test_split(index,output_new_old,test_size=0.1,random_state=42)\n",
    "        \n",
    "validation_x = input_variable2_old[validation]\n",
    "validation_y = output_new_old[validation]\n",
    "validation_energy = energy_value[validation]\n",
    "input_variable = np.array(input_variable2_old)[output]\n",
    "output_new = np.array(output_new_old)[output]/4\n",
    "energy_value1 = energy_value[output]\n",
    "weights = np.array((qtot**0.5)[check][output])\n",
    "index = np.array(range(len(weights)))"
   ]
  },
  {
   "cell_type": "code",
   "execution_count": 11,
   "metadata": {},
   "outputs": [
    {
     "name": "stderr",
     "output_type": "stream",
     "text": [
      "Using TensorFlow backend.\n"
     ]
    }
   ],
   "source": [
    "from sklearn.preprocessing import minmax_scale\n",
    "import keras\n",
    "from keras import initializers,regularizers\n",
    "from keras.layers import Dense, Dropout, Flatten, Input, Concatenate, LeakyReLU\n",
    "from keras.models import Model, load_model\n",
    "import keras.backend as K\n",
    "from tensorflow.python.framework import ops\n",
    "from tensorflow.python.ops import gen_math_ops as math_ops"
   ]
  },
  {
   "cell_type": "code",
   "execution_count": 12,
   "metadata": {},
   "outputs": [],
   "source": [
    "train_index,test_index,train_labels,test_labels = train_test_split(index,output_new,test_size=0.2,random_state=42)"
   ]
  },
  {
   "cell_type": "code",
   "execution_count": 13,
   "metadata": {},
   "outputs": [],
   "source": [
    "best_model = keras.callbacks.ModelCheckpoint('Mass_model_all_best_coinc.h5',\n",
    "                                             monitor='val_loss',\n",
    "                                             save_best_only=True,\n",
    "                                             save_weights_only=False,\n",
    "                                             mode='auto')"
   ]
  },
  {
   "cell_type": "code",
   "execution_count": 14,
   "metadata": {},
   "outputs": [
    {
     "name": "stdout",
     "output_type": "stream",
     "text": [
      "Model: \"model_1\"\n",
      "_________________________________________________________________\n",
      "Layer (type)                 Output Shape              Param #   \n",
      "=================================================================\n",
      "input_1 (InputLayer)         (None, 5)                 0         \n",
      "_________________________________________________________________\n",
      "dense_1 (Dense)              (None, 7)                 42        \n",
      "_________________________________________________________________\n",
      "dropout_1 (Dropout)          (None, 7)                 0         \n",
      "_________________________________________________________________\n",
      "dense_2 (Dense)              (None, 4)                 32        \n",
      "_________________________________________________________________\n",
      "dense_3 (Dense)              (None, 1)                 5         \n",
      "=================================================================\n",
      "Total params: 79\n",
      "Trainable params: 79\n",
      "Non-trainable params: 0\n",
      "_________________________________________________________________\n",
      "None\n"
     ]
    }
   ],
   "source": [
    "input_layer = Input(shape=(5,))\n",
    "\n",
    "model1 = Dense(7,activation='sigmoid')(input_layer)\n",
    "\n",
    "#model1 = LeakyReLU()(model1)\n",
    "\n",
    "model1 = Dropout(rate=0.1)(model1)\n",
    "\n",
    "model2 = Dense(4,activation='sigmoid')(model1)\n",
    "\n",
    "#model2 = LeakyReLU()(model2)\n",
    "\n",
    "predictions = Dense(1,activation='sigmoid')(model2)\n",
    "\n",
    "model = Model(inputs=input_layer,outputs=predictions)\n",
    "\n",
    "opt = keras.optimizers.RMSprop(decay=1e-5)\n",
    "#opt= keras.optimizers.Adam(decay=1e-5,lr=1e-4)                                                               \n",
    "\n",
    "model.compile(optimizer=opt , loss = 'mse')\n",
    "\n",
    "print(model.summary())"
   ]
  },
  {
   "cell_type": "code",
   "execution_count": 15,
   "metadata": {},
   "outputs": [
    {
     "name": "stdout",
     "output_type": "stream",
     "text": [
      "Train on 62136 samples, validate on 15535 samples\n",
      "Epoch 1/100\n",
      "62136/62136 [==============================] - 2s 30us/step - loss: 0.0746 - val_loss: 0.0710\n",
      "Epoch 2/100\n",
      "62136/62136 [==============================] - 2s 27us/step - loss: 0.0676 - val_loss: 0.0611\n",
      "Epoch 3/100\n",
      "62136/62136 [==============================] - 2s 29us/step - loss: 0.0610 - val_loss: 0.0554\n",
      "Epoch 4/100\n",
      "62136/62136 [==============================] - 2s 28us/step - loss: 0.0581 - val_loss: 0.0538\n",
      "Epoch 5/100\n",
      "62136/62136 [==============================] - 2s 31us/step - loss: 0.0567 - val_loss: 0.0530\n",
      "Epoch 6/100\n",
      "62136/62136 [==============================] - 2s 28us/step - loss: 0.0557 - val_loss: 0.0526\n",
      "Epoch 7/100\n",
      "62136/62136 [==============================] - 2s 27us/step - loss: 0.0555 - val_loss: 0.0523\n",
      "Epoch 8/100\n",
      "62136/62136 [==============================] - 2s 29us/step - loss: 0.0550 - val_loss: 0.0521\n",
      "Epoch 9/100\n",
      "62136/62136 [==============================] - 2s 28us/step - loss: 0.0543 - val_loss: 0.0518\n",
      "Epoch 10/100\n",
      "62136/62136 [==============================] - 2s 29us/step - loss: 0.0539 - val_loss: 0.0513\n",
      "Epoch 11/100\n",
      "62136/62136 [==============================] - 2s 33us/step - loss: 0.0536 - val_loss: 0.0516\n",
      "Epoch 12/100\n",
      "62136/62136 [==============================] - 2s 30us/step - loss: 0.0534 - val_loss: 0.0515\n",
      "Epoch 13/100\n",
      "62136/62136 [==============================] - 2s 33us/step - loss: 0.0532 - val_loss: 0.0510\n",
      "Epoch 14/100\n",
      "62136/62136 [==============================] - 2s 34us/step - loss: 0.0529 - val_loss: 0.0509\n",
      "Epoch 15/100\n",
      "62136/62136 [==============================] - 2s 29us/step - loss: 0.0527 - val_loss: 0.0510\n",
      "Epoch 16/100\n",
      "62136/62136 [==============================] - 2s 31us/step - loss: 0.0526 - val_loss: 0.0506\n",
      "Epoch 17/100\n",
      "62136/62136 [==============================] - 2s 39us/step - loss: 0.0525 - val_loss: 0.0505\n",
      "Epoch 18/100\n",
      "62136/62136 [==============================] - 3s 42us/step - loss: 0.0522 - val_loss: 0.0504\n",
      "Epoch 19/100\n",
      "62136/62136 [==============================] - 2s 39us/step - loss: 0.0522 - val_loss: 0.0503\n",
      "Epoch 20/100\n",
      "62136/62136 [==============================] - 2s 37us/step - loss: 0.0520 - val_loss: 0.0503\n",
      "Epoch 21/100\n",
      "62136/62136 [==============================] - 2s 39us/step - loss: 0.0519 - val_loss: 0.0502\n",
      "Epoch 22/100\n",
      "62136/62136 [==============================] - 2s 39us/step - loss: 0.0519 - val_loss: 0.0504\n",
      "Epoch 23/100\n",
      "62136/62136 [==============================] - 2s 37us/step - loss: 0.0518 - val_loss: 0.0501\n",
      "Epoch 24/100\n",
      "62136/62136 [==============================] - 2s 40us/step - loss: 0.0517 - val_loss: 0.0501\n",
      "Epoch 25/100\n",
      "62136/62136 [==============================] - 3s 43us/step - loss: 0.0516 - val_loss: 0.0500\n",
      "Epoch 26/100\n",
      "62136/62136 [==============================] - 2s 39us/step - loss: 0.0517 - val_loss: 0.0502\n",
      "Epoch 27/100\n",
      "62136/62136 [==============================] - 2s 38us/step - loss: 0.0514 - val_loss: 0.0500\n",
      "Epoch 28/100\n",
      "62136/62136 [==============================] - 2s 37us/step - loss: 0.0516 - val_loss: 0.0500\n",
      "Epoch 29/100\n",
      "62136/62136 [==============================] - 3s 44us/step - loss: 0.0516 - val_loss: 0.0500\n",
      "Epoch 30/100\n",
      "62136/62136 [==============================] - 2s 38us/step - loss: 0.0515 - val_loss: 0.0499\n",
      "Epoch 31/100\n",
      "62136/62136 [==============================] - 2s 33us/step - loss: 0.0514 - val_loss: 0.0499\n",
      "Epoch 32/100\n",
      "62136/62136 [==============================] - 2s 29us/step - loss: 0.0514 - val_loss: 0.0500\n",
      "Epoch 33/100\n",
      "62136/62136 [==============================] - 2s 29us/step - loss: 0.0513 - val_loss: 0.0498\n",
      "Epoch 34/100\n",
      "62136/62136 [==============================] - 2s 30us/step - loss: 0.0513 - val_loss: 0.0499\n",
      "Epoch 35/100\n",
      "62136/62136 [==============================] - 2s 31us/step - loss: 0.0512 - val_loss: 0.0498\n",
      "Epoch 36/100\n",
      "62136/62136 [==============================] - 2s 32us/step - loss: 0.0512 - val_loss: 0.0498\n",
      "Epoch 37/100\n",
      "62136/62136 [==============================] - 2s 31us/step - loss: 0.0511 - val_loss: 0.0498\n",
      "Epoch 38/100\n",
      "62136/62136 [==============================] - 2s 30us/step - loss: 0.0512 - val_loss: 0.0498\n",
      "Epoch 39/100\n",
      "62136/62136 [==============================] - 2s 31us/step - loss: 0.0512 - val_loss: 0.0498\n",
      "Epoch 40/100\n",
      "62136/62136 [==============================] - 2s 31us/step - loss: 0.0511 - val_loss: 0.0498\n",
      "Epoch 41/100\n",
      "62136/62136 [==============================] - 2s 32us/step - loss: 0.0510 - val_loss: 0.0497\n",
      "Epoch 42/100\n",
      "62136/62136 [==============================] - 2s 31us/step - loss: 0.0510 - val_loss: 0.0498\n",
      "Epoch 43/100\n",
      "62136/62136 [==============================] - 2s 32us/step - loss: 0.0510 - val_loss: 0.0497\n",
      "Epoch 44/100\n",
      "62136/62136 [==============================] - 2s 32us/step - loss: 0.0509 - val_loss: 0.0497\n",
      "Epoch 45/100\n",
      "62136/62136 [==============================] - 2s 32us/step - loss: 0.0510 - val_loss: 0.0498\n",
      "Epoch 46/100\n",
      "62136/62136 [==============================] - 2s 32us/step - loss: 0.0509 - val_loss: 0.0498\n",
      "Epoch 47/100\n",
      "62136/62136 [==============================] - 2s 32us/step - loss: 0.0510 - val_loss: 0.0498\n",
      "Epoch 48/100\n",
      "62136/62136 [==============================] - 2s 31us/step - loss: 0.0509 - val_loss: 0.0497\n",
      "Epoch 49/100\n",
      "62136/62136 [==============================] - 2s 32us/step - loss: 0.0508 - val_loss: 0.0497\n",
      "Epoch 50/100\n",
      "62136/62136 [==============================] - 2s 31us/step - loss: 0.0508 - val_loss: 0.0497\n",
      "Epoch 51/100\n",
      "62136/62136 [==============================] - 2s 32us/step - loss: 0.0507 - val_loss: 0.0497\n",
      "Epoch 52/100\n",
      "62136/62136 [==============================] - 2s 32us/step - loss: 0.0509 - val_loss: 0.0497\n",
      "Epoch 53/100\n",
      "62136/62136 [==============================] - 2s 32us/step - loss: 0.0509 - val_loss: 0.0497\n"
     ]
    }
   ],
   "source": [
    "callback = keras.callbacks.EarlyStopping(monitor='val_loss', patience=5)\n",
    "\n",
    "history = model.fit(input_variable[train_index],train_labels,\n",
    "                    batch_size=30,\n",
    "                    epochs=100,\n",
    "                    validation_data = (input_variable[test_index],test_labels),\n",
    "                    callbacks=[best_model,callback],\n",
    "                    #class_weight=weights[train_index]\n",
    "                   )\n",
    "\n",
    "model.save('Mass_model_all_coinc.h5')"
   ]
  },
  {
   "cell_type": "code",
   "execution_count": 31,
   "metadata": {},
   "outputs": [],
   "source": [
    "#model_name = 'Mass_model_all_best_coinc.h5'\n",
    "model_name = 'Mass_model_best_coinc2.h5'\n",
    "new_model = load_model(model_name)\n",
    "predict = new_model.predict(validation_x)\n",
    "predict = predict"
   ]
  },
  {
   "cell_type": "code",
   "execution_count": 32,
   "metadata": {},
   "outputs": [
    {
     "data": {
      "image/png": "[encoded data removed]",
      "text/plain": [
       "<Figure size 432x288 with 1 Axes>"
      ]
     },
     "metadata": {
      "needs_background": "light"
     },
     "output_type": "display_data"
    },
    {
     "data": {
      "image/png": "[encoded data removed]",
      "text/plain": [
       "<Figure size 432x288 with 1 Axes>"
      ]
     },
     "metadata": {
      "needs_background": "light"
     },
     "output_type": "display_data"
    },
    {
     "data": {
      "image/png": "[encoded data removed]",
      "text/plain": [
       "<Figure size 432x288 with 1 Axes>"
      ]
     },
     "metadata": {
      "needs_background": "light"
     },
     "output_type": "display_data"
    },
    {
     "data": {
      "image/png": "[encoded data removed]",
      "text/plain": [
       "<Figure size 432x288 with 1 Axes>"
      ]
     },
     "metadata": {
      "needs_background": "light"
     },
     "output_type": "display_data"
    }
   ],
   "source": [
    "validation_y1 = validation_y\n",
    "\n",
    "plt.hist(predict[validation_y1==1],bins=100)\n",
    "plt.show()\n",
    "plt.hist(predict[validation_y1==4],bins=100)\n",
    "plt.show()\n",
    "plt.hist(predict[validation_y1==2],bins=100)\n",
    "plt.show()\n",
    "plt.hist(predict[validation_y1==3],bins=100)\n",
    "plt.show()"
   ]
  },
  {
   "cell_type": "code",
   "execution_count": 28,
   "metadata": {},
   "outputs": [],
   "source": [
    "index = range(len(validation_energy))\n",
    "array_split = np.array_split(sorted(list(zip(index,validation_energy)),key=lambda x:x[1]),20)"
   ]
  },
  {
   "cell_type": "code",
   "execution_count": 29,
   "metadata": {},
   "outputs": [],
   "source": [
    "model = load_model(model_name)\n",
    "x = []\n",
    "y_proton = []\n",
    "y_iron = []\n",
    "y_helium = []\n",
    "y_oxygen = []\n",
    "for i in array_split:\n",
    "    index1 = []\n",
    "    for k in list(zip(*i))[0]:\n",
    "        index1.append(int(k))\n",
    "    energy = validation_energy[index1]\n",
    "    mass1 = validation_y1[index1]\n",
    "    data = validation_x[index1]\n",
    "    #prediction1 = prediction_model(data)\n",
    "    prediction1 = model.predict(data)\n",
    "    for j in range(len(prediction1)):\n",
    "        if prediction1[j] < 1.5/4:\n",
    "            prediction1[j] = 1\n",
    "        elif (prediction1[j] >= 1.5/4 and prediction1[j] < 2.5/4):\n",
    "            prediction1[j]= 2\n",
    "        elif (prediction1[j] >= 2.5/4 and prediction1[j] < 3.5/4):\n",
    "            prediction1[j] = 3\n",
    "        else:\n",
    "            prediction1[j] = 4\n",
    "\n",
    "    cm = confusion_matrix(mass1,prediction1)\n",
    "    x.append((max(energy)+min(energy))/2)\n",
    "    y_proton.append(cm[0][0]/np.sum(cm[0]))\n",
    "    y_iron.append(cm[3][3]/np.sum(cm[3]))\n",
    "    y_helium.append(cm[1][1]/np.sum(cm[1]))\n",
    "    y_oxygen.append(cm[2][2]/np.sum(cm[2]))"
   ]
  },
  {
   "cell_type": "code",
   "execution_count": 30,
   "metadata": {},
   "outputs": [
    {
     "data": {
      "image/png": "[encoded data removed]",
      "text/plain": [
       "<Figure size 432x288 with 1 Axes>"
      ]
     },
     "metadata": {
      "needs_background": "light"
     },
     "output_type": "display_data"
    }
   ],
   "source": [
    "plt.scatter(x,y_proton,label='proton')\n",
    "plt.scatter(x,y_iron,label='iron')\n",
    "plt.scatter(x,y_helium,label='helium')\n",
    "plt.scatter(x,y_oxygen,label='oxygen')\n",
    "plt.xlabel('Energy')\n",
    "plt.ylabel('Accuracy')\n",
    "plt.legend()\n",
    "plt.show()"
   ]
  },
  {
   "cell_type": "code",
   "execution_count": null,
   "metadata": {},
   "outputs": [],
   "source": []
  }
 ],
 "metadata": {
  "kernelspec": {
   "display_name": "Python 3",
   "language": "python",
   "name": "python3"
  },
  "language_info": {
   "codemirror_mode": {
    "name": "ipython",
    "version": 3
   },
   "file_extension": ".py",
   "mimetype": "text/x-python",
   "name": "python",
   "nbconvert_exporter": "python",
   "pygments_lexer": "ipython3",
   "version": "3.6.9"
  }
 },
 "nbformat": 4,
 "nbformat_minor": 4
}
