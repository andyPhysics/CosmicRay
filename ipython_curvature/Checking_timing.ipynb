{
 "cells": [
  {
   "cell_type": "code",
   "execution_count": 1,
   "metadata": {},
   "outputs": [],
   "source": [
    "import numpy as np\n",
    "import uproot\n",
    "import matplotlib.pyplot as plt\n",
    "import sklearn\n",
    "from random import random\n",
    "from sklearn.model_selection import cross_validate\n",
    "import matplotlib\n",
    "from waveform_methods import binning\n",
    "import pandas as pd\n",
    "\n",
    "from scipy.stats import norm\n",
    "import pickle\n",
    "from statistics import mode\n",
    "from sklearn.metrics import confusion_matrix\n",
    "from sklearn.model_selection import StratifiedKFold\n",
    "from sklearn.preprocessing import scale\n",
    "from scipy.optimize import curve_fit"
   ]
  },
  {
   "cell_type": "code",
   "execution_count": 2,
   "metadata": {},
   "outputs": [],
   "source": [
    "file = uproot.open('/home/andy/12360.root')\n",
    "file2 = uproot.open('/home/andy/12362.root')"
   ]
  },
  {
   "cell_type": "code",
   "execution_count": 3,
   "metadata": {},
   "outputs": [
    {
     "name": "stdout",
     "output_type": "stream",
     "text": [
      "[b'CalibratedHLCWaveforms;249', b'CalibratedHLCWaveforms;248', b'LaputopHLCWaveforms;175', b'LaputopHLCWaveforms;174', b'IceTopHLCPulseInfo;6', b'IceTopHLCPulseInfo;5', b'IceTopHLCVEMPulses;6', b'IceTopHLCVEMPulses;5', b'IceTopHLCPEPulses;6', b'IceTopHLCPEPulses;5', b'All_pulses;4', b'All_pulses;3', b'All_10;3', b'All_10;2', b'All_50;3', b'All_50;2', b'All_90;3', b'All_90;2', b'Millipede;3', b'Millipede;2', b'LaputopHLCPE;3', b'LaputopHLCPE;2', b'CalibratedSLCWaveforms;2', b'CalibratedSLCWaveforms;1', b'All_radius_old;2', b'All_radius_old;1', b'All_radius;2', b'All_radius;1', b'IceTopSLCVEMPulses;2', b'IceTopSLCVEMPulses;1', b'IceTopSLCPEPulses;2', b'IceTopSLCPEPulses;1', b'Millipede_dEdX;2', b'Millipede_dEdX;1', b'LaputopSLCPE;2', b'LaputopSLCPE;1', b'MCPrimaryInfo;2', b'MCPrimaryInfo;1', b'CurvatureOnly;1', b'CurvatureOnlyParams;1', b'I3EventHeader;1', b'IT73AnalysisInIceQualityCuts;1', b'Laputop;1', b'LaputopParams;1', b'MCPrimary;1', b'ShowerCOG;1', b'MillipedeFitParams;1', b'Stoch_Reco;1', b'Stoch_Reco2;1', b'aTree;1']\n"
     ]
    }
   ],
   "source": [
    "print(file.keys())"
   ]
  },
  {
   "cell_type": "code",
   "execution_count": 4,
   "metadata": {},
   "outputs": [],
   "source": [
    "radius1 = file['All_radius']['item'].array()\n",
    "radius2 = file2['All_radius']['item'].array()"
   ]
  },
  {
   "cell_type": "code",
   "execution_count": 5,
   "metadata": {},
   "outputs": [
    {
     "name": "stdout",
     "output_type": "stream",
     "text": [
      "[b'Count_LaputopHLCWaveforms', b'Run', b'Event', b'SubEvent', b'SubEventStream', b'SubEventStream_String', b'exists', b'string', b'om', b'ok', b't0', b'dt', b'nbins', b'wf']\n"
     ]
    }
   ],
   "source": [
    "print(file['LaputopHLCWaveforms'].keys())"
   ]
  },
  {
   "cell_type": "code",
   "execution_count": 65,
   "metadata": {},
   "outputs": [
    {
     "data": {
      "image/png": "[encoded data removed]",
      "text/plain": [
       "<Figure size 432x288 with 1 Axes>"
      ]
     },
     "metadata": {
      "needs_background": "light"
     },
     "output_type": "display_data"
    }
   ],
   "source": [
    "waveforms = file['LaputopHLCWaveforms']['wf'].array()\n",
    "t0 = file['LaputopHLCWaveforms']['t0'].array()\n",
    "dt = file['LaputopHLCWaveforms']['dt'].array()\n",
    "count = 0\n",
    "time = []\n",
    "wf = []\n",
    "event = 10000\n",
    "for j in range(len(waveforms[event])):\n",
    "    if radius1[event][j] < 300:\n",
    "        time +=[t0[event][j]+i*dt[event][j] for i in range(len(waveforms[event][j]))]\n",
    "        wf += list(waveforms[event][j]/np.sum(waveforms[event][j]))\n",
    "\n",
    "mean,std,bins = binning(time,wf,bins=100)\n",
    "plt.loglog(bins,mean)\n",
    "plt.savefig('example_waveform')"
   ]
  },
  {
   "cell_type": "code",
   "execution_count": null,
   "metadata": {},
   "outputs": [],
   "source": []
  }
 ],
 "metadata": {
  "kernelspec": {
   "display_name": "Python 3",
   "language": "python",
   "name": "python3"
  },
  "language_info": {
   "codemirror_mode": {
    "name": "ipython",
    "version": 3
   },
   "file_extension": ".py",
   "mimetype": "text/x-python",
   "name": "python",
   "nbconvert_exporter": "python",
   "pygments_lexer": "ipython3",
   "version": "3.6.9"
  }
 },
 "nbformat": 4,
 "nbformat_minor": 4
}
