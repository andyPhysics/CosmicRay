{
 "cells": [
  {
   "cell_type": "code",
   "execution_count": 1,
   "metadata": {},
   "outputs": [],
   "source": [
    "import numpy as np\n",
    "import uproot\n",
    "import matplotlib.pyplot as plt\n",
    "from sklearn.tree import DecisionTreeRegressor, ExtraTreeRegressor\n",
    "from sklearn.ensemble import AdaBoostRegressor, StackingRegressor\n",
    "from sklearn.multioutput import MultiOutputRegressor\n",
    "from random import random\n",
    "from sklearn.model_selection import cross_validate\n",
    "import matplotlib\n",
    "from waveform_methods import binning\n",
    "import pandas as pd"
   ]
  },
  {
   "cell_type": "code",
   "execution_count": 2,
   "metadata": {},
   "outputs": [],
   "source": [
    "file = uproot.open('/home/andy/12360.root')\n",
    "file2 = uproot.open('/home/andy/12362.root')"
   ]
  },
  {
   "cell_type": "code",
   "execution_count": 3,
   "metadata": {},
   "outputs": [
    {
     "name": "stdout",
     "output_type": "stream",
     "text": [
      "172382\n"
     ]
    }
   ],
   "source": [
    "Xmax1 = file['MCPrimaryInfo']['ghMaxDepth'].array()\n",
    "valueDepth = file['MCPrimaryInfo']['longNumCharged'].array()\n",
    "Depth1 = file['MCPrimaryInfo']['longDepth'].array()\n",
    "chi2_1 = file['CurvatureOnlyParams']['chi2_time'].array()\n",
    "red1 = file['MCPrimaryInfo']['ghRedChiSqr'].array()\n",
    "mass1 = [1 for i in range(len(red1))]\n",
    "\n",
    "good = []\n",
    "count = 0\n",
    "for i in range(len(Xmax1)):\n",
    "    if (red1[i]<300 and chi2_1[i]<5) and Xmax1[i]<900:\n",
    "        good.append(1)\n",
    "        count+=1\n",
    "    else:\n",
    "        good.append(0)\n",
    "        \n",
    "Xmax2 = file2['MCPrimaryInfo']['ghMaxDepth'].array()\n",
    "valueDepth = file2['MCPrimaryInfo']['longNumCharged'].array()\n",
    "Depth2 = file2['MCPrimaryInfo']['longDepth'].array()\n",
    "chi2_2 = file2['CurvatureOnlyParams']['chi2_time'].array()\n",
    "red2 = file2['MCPrimaryInfo']['ghRedChiSqr'].array()\n",
    "mass2 = [4 for i in range(len(red2))]\n",
    "\n",
    "good2 = []\n",
    "for i in range(len(Xmax2)):\n",
    "    if (red2[i]<300 and chi2_2[i]<5) and Xmax2[i]<650:\n",
    "        good2.append(1)\n",
    "        count+=1\n",
    "    else:\n",
    "        good2.append(0)\n",
    "print(count)"
   ]
  },
  {
   "cell_type": "code",
   "execution_count": 4,
   "metadata": {},
   "outputs": [],
   "source": [
    "S125_1 = np.log10(file['LaputopParams']['s125'].array())\n",
    "S125_2 = np.log10(file2['LaputopParams']['s125'].array())"
   ]
  },
  {
   "cell_type": "code",
   "execution_count": 5,
   "metadata": {},
   "outputs": [],
   "source": [
    "A1 = file['CurvatureOnlyParams']['A'].array()\n",
    "A2 = file2['CurvatureOnlyParams']['A'].array()\n",
    "D1 = file['CurvatureOnlyParams']['D'].array()\n",
    "D2 = file2['CurvatureOnlyParams']['D'].array()\n",
    "N1 = file['CurvatureOnlyParams']['N'].array()\n",
    "N2 = file2['CurvatureOnlyParams']['N'].array()\n",
    "beta1 = file['LaputopParams']['beta'].array()\n",
    "beta2 = file2['LaputopParams']['beta'].array()\n",
    "zenith1 = file['Laputop']['zenith'].array()\n",
    "zenith2 = file2['Laputop']['zenith'].array()\n",
    "rlogl1 = file['CurvatureOnlyParams']['rlogl'].array()\n",
    "nmini1 = file['CurvatureOnlyParams']['nmini'].array()\n",
    "ndf1 = file['CurvatureOnlyParams']['ndf'].array()\n",
    "llh1 = file['CurvatureOnlyParams']['llh'].array()\n",
    "rlogl2 = file2['CurvatureOnlyParams']['rlogl'].array()\n",
    "nmini2 = file2['CurvatureOnlyParams']['nmini'].array()\n",
    "ndf2 = file2['CurvatureOnlyParams']['ndf'].array()\n",
    "llh2 = file2['CurvatureOnlyParams']['llh'].array()\n",
    "\n",
    "Xmax1_new = Xmax1\n",
    "Xmax2_new = Xmax2"
   ]
  },
  {
   "cell_type": "code",
   "execution_count": 6,
   "metadata": {},
   "outputs": [],
   "source": [
    "A = np.log10(np.append(A1,A2))\n",
    "D = np.append(D1,D2)\n",
    "N = np.append(N1,N2)\n",
    "S125 = np.append(S125_1,S125_2)\n",
    "beta = np.log10(np.append(beta1,beta2))\n",
    "chi2 = np.append(chi2_1,chi2_2)\n",
    "zenith = np.cos(np.append(zenith1,zenith2))\n",
    "Xmax = np.append(Xmax1_new,Xmax2_new)\n",
    "goodness = np.append(good,good2)\n",
    "red = np.append(red1,red2)\n",
    "mass = np.append(mass1,mass2)"
   ]
  },
  {
   "cell_type": "code",
   "execution_count": 7,
   "metadata": {},
   "outputs": [],
   "source": [
    "input_variable = np.array([np.append(np.append(i,j),k) for i,j,k in zip(S125,beta,zenith)])\n",
    "output = list(zip(Xmax,goodness))"
   ]
  },
  {
   "cell_type": "code",
   "execution_count": 8,
   "metadata": {},
   "outputs": [],
   "source": [
    "from sklearn.model_selection import train_test_split\n",
    "seed = 7\n",
    "test_size = 0.2\n",
    "X_train, X_test, y_train_1, y_test_1 = train_test_split(input_variable,output , test_size=test_size, random_state=seed)"
   ]
  },
  {
   "cell_type": "code",
   "execution_count": 11,
   "metadata": {},
   "outputs": [
    {
     "name": "stdout",
     "output_type": "stream",
     "text": [
      "0.4552326434757082 0.46006419242972035\n"
     ]
    }
   ],
   "source": [
    "y_train = list(zip(*y_train_1))[1]\n",
    "y_test = list(zip(*y_test_1))[1]\n",
    "rng = np.random.RandomState(1)\n",
    "regr_1 = AdaBoostRegressor(DecisionTreeRegressor(max_depth=7,criterion='friedman_mse'),\n",
    "                            n_estimators=5, random_state=rng,loss='square')\n",
    "regr_1.fit(X_train,y_train)\n",
    "    \n",
    "y_1= regr_1.predict(X_test)\n",
    "y_2 = regr_1.predict(X_train)\n",
    "\n",
    "count_0 = 0\n",
    "count_02 = 0\n",
    "for value in y_train:\n",
    "    if value==0:\n",
    "        count_0+=1\n",
    "for value in y_test:\n",
    "    if value==0:\n",
    "        count_02+=1\n",
    "        \n",
    "count = 0\n",
    "count2 = 0\n",
    "for value1,value2 in zip(y_1,y_test):\n",
    "    if value1<0.5 and value2==0:\n",
    "        count+=1\n",
    "\n",
    "for value1,value2 in zip(y_2,y_train):\n",
    "    if value1<0.5 and value2==0:\n",
    "        count2+=1\n",
    "\n",
    "print(count/count_02,count2/count_0,)"
   ]
  },
  {
   "cell_type": "code",
   "execution_count": 12,
   "metadata": {},
   "outputs": [],
   "source": [
    "check = Xmax>300\n",
    "check2 = Xmax<900\n",
    "new_check= []\n",
    "for i,j in zip(check,check2):\n",
    "    if i and j:\n",
    "        new_check.append(True)\n",
    "    else:\n",
    "        new_check.append(False)\n",
    "    \n",
    "mask = regr_1.predict(input_variable)\n",
    "mask_convert_pre = []\n",
    "for i in mask:\n",
    "    if i>=0.5:\n",
    "        mask_convert_pre.append(True)\n",
    "    else:\n",
    "        mask_convert_pre.append(False)\n",
    "\n",
    "mask_convert = []\n",
    "for i,j in zip(new_check,mask_convert_pre):\n",
    "    if i and j:\n",
    "        mask_convert.append(True)\n",
    "    else:\n",
    "        mask_convert.append(False)"
   ]
  },
  {
   "cell_type": "code",
   "execution_count": 13,
   "metadata": {},
   "outputs": [
    {
     "name": "stdout",
     "output_type": "stream",
     "text": [
      "[[ 1.          0.13216003 -0.06992996  0.07621445  0.05489924  0.15042306\n",
      "   0.09380134  0.15893839 -0.00453584 -0.07362787 -0.17353523]\n",
      " [ 0.13216003  1.         -0.02965211 -0.51452004  0.00223243 -0.13862801\n",
      "  -0.00464256  0.10350347 -0.06472633 -0.15834258 -0.04387069]\n",
      " [-0.06992996 -0.02965211  1.          0.05188534 -0.04363735 -0.04930809\n",
      "  -0.04757658  0.63551711  0.02215767  0.06987297  0.017277  ]\n",
      " [ 0.07621445 -0.51452004  0.05188534  1.          0.11606144  0.37025016\n",
      "   0.28211679 -0.07263374  0.13233394  0.05243804 -0.09357577]\n",
      " [ 0.05489924  0.00223243 -0.04363735  0.11606144  1.          0.26102807\n",
      "   0.22185904 -0.0410097  -0.00821978 -0.19875661  0.05436811]\n",
      " [ 0.15042306 -0.13862801 -0.04930809  0.37025016  0.26102807  1.\n",
      "  -0.05258422 -0.03980583 -0.01332203  0.01897163  0.09013254]\n",
      " [ 0.09380134 -0.00464256 -0.04757658  0.28211679  0.22185904 -0.05258422\n",
      "   1.         -0.01587168  0.05792182 -0.65618207 -0.06744687]\n",
      " [ 0.15893839  0.10350347  0.63551711 -0.07263374 -0.0410097  -0.03980583\n",
      "  -0.01587168  1.         -0.00551813  0.00392349 -0.18052916]\n",
      " [-0.00453584 -0.06472633  0.02215767  0.13233394 -0.00821978 -0.01332203\n",
      "   0.05792182 -0.00551813  1.          0.00791305 -0.24961737]\n",
      " [-0.07362787 -0.15834258  0.06987297  0.05243804 -0.19875661  0.01897163\n",
      "  -0.65618207  0.00392349  0.00791305  1.         -0.00723265]\n",
      " [-0.17353523 -0.04387069  0.017277   -0.09357577  0.05436811  0.09013254\n",
      "  -0.06744687 -0.18052916 -0.24961737 -0.00723265  1.        ]]\n"
     ]
    }
   ],
   "source": [
    "print(np.corrcoef(np.array([A[mask_convert],\n",
    "                            D[mask_convert],\n",
    "                            N[mask_convert],\n",
    "                            S125[mask_convert],\n",
    "                            beta[mask_convert],\n",
    "                            zenith[mask_convert],\n",
    "                            Xmax[mask_convert],\n",
    "                            chi2[mask_convert],\n",
    "                            red[mask_convert],\n",
    "                            mass[mask_convert],\n",
    "                            goodness[mask_convert]])))"
   ]
  },
  {
   "cell_type": "code",
   "execution_count": 14,
   "metadata": {},
   "outputs": [],
   "source": [
    "mask_new = []\n",
    "import random\n",
    "for i,j in zip(mask_convert,mass):\n",
    "    if (i and j==1) and random.random()<0.15:\n",
    "        mask_new.append(False)\n",
    "    else:\n",
    "        mask_new.append(i)"
   ]
  },
  {
   "cell_type": "code",
   "execution_count": 57,
   "metadata": {},
   "outputs": [],
   "source": [
    "input_variable2 = np.array([np.append(i,j) for i,j in zip(D[mask_new],beta[mask_new])])\n",
    "output_new = mass[mask_new]"
   ]
  },
  {
   "cell_type": "code",
   "execution_count": 59,
   "metadata": {},
   "outputs": [],
   "source": [
    "from sklearn.preprocessing import OneHotEncoder\n",
    "onehot_encoder = OneHotEncoder(sparse=False)\n",
    "onehot_encoded = onehot_encoder.fit_transform(output_new.reshape(-1,1))"
   ]
  },
  {
   "cell_type": "code",
   "execution_count": 60,
   "metadata": {},
   "outputs": [],
   "source": [
    "from sklearn.preprocessing import minmax_scale\n",
    "input_variable_scaled = minmax_scale(input_variable2)"
   ]
  },
  {
   "cell_type": "code",
   "execution_count": 61,
   "metadata": {},
   "outputs": [],
   "source": [
    "from sklearn.model_selection import train_test_split\n",
    "seed = 7\n",
    "test_size = 0.2\n",
    "X_train, X_test, y_train_1, y_test_1 = train_test_split(input_variable2,onehot_encoded, test_size=test_size, random_state=seed)"
   ]
  },
  {
   "cell_type": "code",
   "execution_count": 62,
   "metadata": {},
   "outputs": [],
   "source": [
    "import keras\n",
    "from keras import initializers,regularizers\n",
    "from keras.layers import Dense, Dropout, Flatten, Input, Concatenate, LeakyReLU\n",
    "from keras.models import Model\n",
    "import keras.backend as K\n",
    "from tensorflow.python.framework import ops\n",
    "from tensorflow.python.ops import gen_math_ops as math_ops"
   ]
  },
  {
   "cell_type": "code",
   "execution_count": 65,
   "metadata": {},
   "outputs": [
    {
     "name": "stdout",
     "output_type": "stream",
     "text": [
      "Train on 136868 samples, validate on 34218 samples\n",
      "Epoch 1/10\n",
      "136868/136868 [==============================] - 4s 27us/step - loss: 0.7167 - val_loss: 0.7831\n",
      "Epoch 2/10\n",
      "136868/136868 [==============================] - 3s 25us/step - loss: 0.6824 - val_loss: 0.6997\n",
      "Epoch 3/10\n",
      "136868/136868 [==============================] - 3s 26us/step - loss: 0.6791 - val_loss: 0.6718\n",
      "Epoch 4/10\n",
      "136868/136868 [==============================] - 3s 25us/step - loss: 0.6757 - val_loss: 0.6864\n",
      "Epoch 5/10\n",
      "136868/136868 [==============================] - 3s 25us/step - loss: 0.6725 - val_loss: 0.6657\n",
      "Epoch 6/10\n",
      "136868/136868 [==============================] - 4s 27us/step - loss: 0.6697 - val_loss: 0.6651\n",
      "Epoch 7/10\n",
      "136868/136868 [==============================] - 4s 27us/step - loss: 0.6686 - val_loss: 0.6591\n",
      "Epoch 8/10\n",
      "136868/136868 [==============================] - 4s 26us/step - loss: 0.6672 - val_loss: 0.6655\n",
      "Epoch 9/10\n",
      "136868/136868 [==============================] - 4s 26us/step - loss: 0.6662 - val_loss: 0.6612\n",
      "Epoch 10/10\n",
      "136868/136868 [==============================] - 4s 27us/step - loss: 0.6655 - val_loss: 0.6604\n"
     ]
    }
   ],
   "source": [
    "input_layer = Input(shape=(2,))\n",
    "\n",
    "model1 = Dense(7)(input_layer)\n",
    "\n",
    "model1 = LeakyReLU()(model1)\n",
    "\n",
    "model2 = Dense(4)(model1)\n",
    "\n",
    "model2 = LeakyReLU()(model1)\n",
    "\n",
    "model2 = Concatenate(axis=-1)([model1,model2])\n",
    "\n",
    "predictions = Dense(2,activation='softmax')(model2)\n",
    "\n",
    "model = Model(inputs=input_layer,outputs=predictions)\n",
    "\n",
    "opt = keras.optimizers.RMSprop(decay=1e-5)\n",
    "#opt= keras.optimizers.Adam(decay=1e-5,lr=3e-4)   \n",
    "\n",
    "model.compile(optimizer=opt , loss = 'binary_crossentropy')\n",
    "\n",
    "history = model.fit(X_train,y_train_1,\n",
    "                    epochs=10,\n",
    "                    validation_data = (X_test,y_test_1))\n"
   ]
  },
  {
   "cell_type": "code",
   "execution_count": 72,
   "metadata": {},
   "outputs": [],
   "source": [
    "value = model.predict(X_test)\n",
    "predicted = np.hstack(onehot_encoder.inverse_transform(value))\n",
    "true = np.hstack(onehot_encoder.inverse_transform(y_test_1))"
   ]
  },
  {
   "cell_type": "code",
   "execution_count": 73,
   "metadata": {},
   "outputs": [
    {
     "name": "stdout",
     "output_type": "stream",
     "text": [
      "[[12427  4669]\n",
      " [ 8077  9045]]\n"
     ]
    }
   ],
   "source": [
    "from sklearn.metrics import confusion_matrix\n",
    "print(confusion_matrix(true,predicted))"
   ]
  },
  {
   "cell_type": "code",
   "execution_count": 74,
   "metadata": {},
   "outputs": [
    {
     "name": "stdout",
     "output_type": "stream",
     "text": [
      "0.7268951801591016\n"
     ]
    }
   ],
   "source": [
    "print(12427/(12427+4669))"
   ]
  },
  {
   "cell_type": "code",
   "execution_count": 75,
   "metadata": {},
   "outputs": [
    {
     "name": "stdout",
     "output_type": "stream",
     "text": [
      "0.5282677257329751\n"
     ]
    }
   ],
   "source": [
    "print(9045/(8077+9045))"
   ]
  },
  {
   "cell_type": "code",
   "execution_count": null,
   "metadata": {},
   "outputs": [],
   "source": []
  }
 ],
 "metadata": {
  "kernelspec": {
   "display_name": "Python 3",
   "language": "python",
   "name": "python3"
  },
  "language_info": {
   "codemirror_mode": {
    "name": "ipython",
    "version": 3
   },
   "file_extension": ".py",
   "mimetype": "text/x-python",
   "name": "python",
   "nbconvert_exporter": "python",
   "pygments_lexer": "ipython3",
   "version": "3.6.9"
  }
 },
 "nbformat": 4,
 "nbformat_minor": 4
}
