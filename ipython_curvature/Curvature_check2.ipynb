{
 "cells": [
  {
   "cell_type": "code",
   "execution_count": 1,
   "metadata": {},
   "outputs": [],
   "source": [
    "import numpy as np\n",
    "import uproot\n",
    "import matplotlib.pyplot as plt\n",
    "from sklearn.tree import DecisionTreeRegressor, ExtraTreeRegressor\n",
    "from sklearn.ensemble import AdaBoostRegressor, StackingRegressor\n",
    "from sklearn.multioutput import MultiOutputRegressor\n",
    "from random import random\n",
    "from sklearn.model_selection import cross_validate\n",
    "import matplotlib\n",
    "from waveform_methods import binning\n",
    "import pandas as pd"
   ]
  },
  {
   "cell_type": "code",
   "execution_count": 2,
   "metadata": {},
   "outputs": [],
   "source": [
    "file = uproot.open('/home/andy/12360.root')\n",
    "file2 = uproot.open('/home/andy/12362.root')"
   ]
  },
  {
   "cell_type": "code",
   "execution_count": 3,
   "metadata": {},
   "outputs": [
    {
     "name": "stdout",
     "output_type": "stream",
     "text": [
      "172382\n"
     ]
    }
   ],
   "source": [
    "Xmax1 = file['MCPrimaryInfo']['ghMaxDepth'].array()\n",
    "valueDepth = file['MCPrimaryInfo']['longNumCharged'].array()\n",
    "Depth1 = file['MCPrimaryInfo']['longDepth'].array()\n",
    "chi2_1 = file['CurvatureOnlyParams']['chi2_time'].array()\n",
    "red1 = file['MCPrimaryInfo']['ghRedChiSqr'].array()\n",
    "mass1 = [1 for i in range(len(red1))]\n",
    "\n",
    "good = []\n",
    "count = 0\n",
    "for i in range(len(Xmax1)):\n",
    "    if (red1[i]<300 and chi2_1[i]<5) and Xmax1[i]<900:\n",
    "        good.append(1)\n",
    "        count+=1\n",
    "    else:\n",
    "        good.append(0)\n",
    "        \n",
    "Xmax2 = file2['MCPrimaryInfo']['ghMaxDepth'].array()\n",
    "valueDepth = file2['MCPrimaryInfo']['longNumCharged'].array()\n",
    "Depth2 = file2['MCPrimaryInfo']['longDepth'].array()\n",
    "chi2_2 = file2['CurvatureOnlyParams']['chi2_time'].array()\n",
    "red2 = file2['MCPrimaryInfo']['ghRedChiSqr'].array()\n",
    "mass2 = [4 for i in range(len(red2))]\n",
    "\n",
    "good2 = []\n",
    "for i in range(len(Xmax2)):\n",
    "    if (red2[i]<300 and chi2_2[i]<5) and Xmax2[i]<650:\n",
    "        good2.append(1)\n",
    "        count+=1\n",
    "    else:\n",
    "        good2.append(0)\n",
    "print(count)"
   ]
  },
  {
   "cell_type": "code",
   "execution_count": 4,
   "metadata": {},
   "outputs": [],
   "source": [
    "S125_1 = np.log10(file['LaputopParams']['s125'].array())\n",
    "S125_2 = np.log10(file2['LaputopParams']['s125'].array())"
   ]
  },
  {
   "cell_type": "code",
   "execution_count": 5,
   "metadata": {},
   "outputs": [],
   "source": [
    "A1 = file['CurvatureOnlyParams']['A'].array()\n",
    "A2 = file2['CurvatureOnlyParams']['A'].array()\n",
    "D1 = file['CurvatureOnlyParams']['D'].array()\n",
    "D2 = file2['CurvatureOnlyParams']['D'].array()\n",
    "N1 = file['CurvatureOnlyParams']['N'].array()\n",
    "N2 = file2['CurvatureOnlyParams']['N'].array()\n",
    "beta1 = file['LaputopParams']['beta'].array()\n",
    "beta2 = file2['LaputopParams']['beta'].array()\n",
    "zenith1 = file['Laputop']['zenith'].array()\n",
    "zenith2 = file2['Laputop']['zenith'].array()\n",
    "rlogl1 = file['CurvatureOnlyParams']['rlogl'].array()\n",
    "nmini1 = file['CurvatureOnlyParams']['nmini'].array()\n",
    "ndf1 = file['CurvatureOnlyParams']['ndf'].array()\n",
    "llh1 = file['CurvatureOnlyParams']['llh'].array()\n",
    "rlogl2 = file2['CurvatureOnlyParams']['rlogl'].array()\n",
    "nmini2 = file2['CurvatureOnlyParams']['nmini'].array()\n",
    "ndf2 = file2['CurvatureOnlyParams']['ndf'].array()\n",
    "llh2 = file2['CurvatureOnlyParams']['llh'].array()\n",
    "\n",
    "Xmax1_new = Xmax1\n",
    "Xmax2_new = Xmax2"
   ]
  },
  {
   "cell_type": "code",
   "execution_count": 6,
   "metadata": {},
   "outputs": [],
   "source": [
    "A = np.append(A1,A2)\n",
    "D = np.append(D1,D2)\n",
    "N = np.append(N1,N2)\n",
    "S125 = np.append(S125_1,S125_2)\n",
    "beta = np.log10(np.append(beta1,beta2))\n",
    "chi2 = np.log10(np.append(chi2_1,chi2_2))\n",
    "zenith = np.cos(np.append(zenith1,zenith2))\n",
    "Xmax = np.append(Xmax1_new,Xmax2_new)\n",
    "goodness = np.append(good,good2)\n",
    "red = np.append(red1,red2)\n",
    "mass = np.append(mass1,mass2)"
   ]
  },
  {
   "cell_type": "code",
   "execution_count": 7,
   "metadata": {},
   "outputs": [],
   "source": [
    "input_variable = np.array([np.append(np.append(np.append(i,j),k),l) for i,j,k,l in zip(S125,A,zenith,chi2)])\n",
    "output = list(zip(Xmax,goodness))"
   ]
  },
  {
   "cell_type": "code",
   "execution_count": 8,
   "metadata": {},
   "outputs": [],
   "source": [
    "from sklearn.model_selection import train_test_split\n",
    "seed = 7\n",
    "test_size = 0.2\n",
    "X_train, X_test, y_train_1, y_test_1 = train_test_split(input_variable,output , test_size=test_size, random_state=seed)"
   ]
  },
  {
   "cell_type": "code",
   "execution_count": 10,
   "metadata": {},
   "outputs": [
    {
     "name": "stdout",
     "output_type": "stream",
     "text": [
      "0.7318361955085865 0.7272928502914484\n"
     ]
    }
   ],
   "source": [
    "y_train = list(zip(*y_train_1))[1]\n",
    "y_test = list(zip(*y_test_1))[1]\n",
    "rng = np.random.RandomState(1)\n",
    "regr_1 = AdaBoostRegressor(DecisionTreeRegressor(max_depth=5,criterion='friedman_mse'),\n",
    "                            n_estimators=3, random_state=rng,loss='square')\n",
    "regr_1.fit(X_train,y_train)\n",
    "    \n",
    "y_1= regr_1.predict(X_test)\n",
    "y_2 = regr_1.predict(X_train)\n",
    "\n",
    "count_0 = 0\n",
    "count_02 = 0\n",
    "for value in y_train:\n",
    "    if value==0:\n",
    "        count_0+=1\n",
    "for value in y_test:\n",
    "    if value==0:\n",
    "        count_02+=1\n",
    "        \n",
    "count = 0\n",
    "count2 = 0\n",
    "for value1,value2 in zip(y_1,y_test):\n",
    "    if value1<0.5 and value2==0:\n",
    "        count+=1\n",
    "\n",
    "for value1,value2 in zip(y_2,y_train):\n",
    "    if value1<0.5 and value2==0:\n",
    "        count2+=1\n",
    "\n",
    "print(count/count_02,count2/count_0,)"
   ]
  },
  {
   "cell_type": "code",
   "execution_count": 11,
   "metadata": {},
   "outputs": [],
   "source": [
    "check = Xmax>300\n",
    "check2 = Xmax<900\n",
    "new_check= []\n",
    "for i,j in zip(check,check2):\n",
    "    if i and j:\n",
    "        new_check.append(True)\n",
    "    else:\n",
    "        new_check.append(False)\n",
    "    \n",
    "mask = regr_1.predict(input_variable)\n",
    "mask_convert_pre = []\n",
    "for i in mask:\n",
    "    if i>=0.5:\n",
    "        mask_convert_pre.append(True)\n",
    "    else:\n",
    "        mask_convert_pre.append(False)\n",
    "\n",
    "mask_convert = []\n",
    "for i,j in zip(new_check,mask_convert_pre):\n",
    "    if i and j:\n",
    "        mask_convert.append(True)\n",
    "    else:\n",
    "        mask_convert.append(False)"
   ]
  },
  {
   "cell_type": "code",
   "execution_count": 12,
   "metadata": {},
   "outputs": [
    {
     "name": "stdout",
     "output_type": "stream",
     "text": [
      "[[ 1.          0.10769763 -0.53568563  0.23258881  0.15365011  0.36393119\n",
      "   0.2021192   0.51499543 -0.01496563 -0.16783158  0.07278479]\n",
      " [ 0.10769763  1.         -0.0547396  -0.54530852 -0.00119416 -0.21704836\n",
      "   0.02970534  0.0157585  -0.06633587 -0.18580628  0.06644586]\n",
      " [-0.53568563 -0.0547396   1.          0.13077147 -0.02219754 -0.07379707\n",
      "  -0.10090535 -0.49221396  0.04986321  0.1456864  -0.07579124]\n",
      " [ 0.23258881 -0.54530852  0.13077147  1.          0.14523713  0.48884709\n",
      "   0.22834403 -0.0097806   0.12946698  0.06284922 -0.12252494]\n",
      " [ 0.15365011 -0.00119416 -0.02219754  0.14523713  1.          0.28431626\n",
      "   0.19943719 -0.13933369 -0.00519244 -0.1774666   0.04933238]\n",
      " [ 0.36393119 -0.21704836 -0.07379707  0.48884709  0.28431626  1.\n",
      "  -0.07182661 -0.0403996  -0.01568275  0.02571152  0.18291602]\n",
      " [ 0.2021192   0.02970534 -0.10090535  0.22834403  0.19943719 -0.07182661\n",
      "   1.          0.0105383   0.05928502 -0.65710827 -0.12261836]\n",
      " [ 0.51499543  0.0157585  -0.49221396 -0.0097806  -0.13933369 -0.0403996\n",
      "   0.0105383   1.         -0.01191339  0.03667557 -0.00676814]\n",
      " [-0.01496563 -0.06633587  0.04986321  0.12946698 -0.00519244 -0.01568275\n",
      "   0.05928502 -0.01191339  1.          0.00214844 -0.3134495 ]\n",
      " [-0.16783158 -0.18580628  0.1456864   0.06284922 -0.1774666   0.02571152\n",
      "  -0.65710827  0.03667557  0.00214844  1.          0.02414329]\n",
      " [ 0.07278479  0.06644586 -0.07579124 -0.12252494  0.04933238  0.18291602\n",
      "  -0.12261836 -0.00676814 -0.3134495   0.02414329  1.        ]]\n"
     ]
    }
   ],
   "source": [
    "print(np.corrcoef(np.array([A[mask_convert],\n",
    "                            D[mask_convert],\n",
    "                            N[mask_convert],\n",
    "                            S125[mask_convert],\n",
    "                            beta[mask_convert],\n",
    "                            zenith[mask_convert],\n",
    "                            Xmax[mask_convert],\n",
    "                            chi2[mask_convert],\n",
    "                            red[mask_convert],\n",
    "                            mass[mask_convert],\n",
    "                            goodness[mask_convert]])))"
   ]
  },
  {
   "cell_type": "code",
   "execution_count": 13,
   "metadata": {},
   "outputs": [],
   "source": [
    "mask_new = []\n",
    "import random\n",
    "for i,j in zip(mask_convert,mass):\n",
    "    if (i and j==1) and random.random()<0.15:\n",
    "        mask_new.append(False)\n",
    "    else:\n",
    "        mask_new.append(i)"
   ]
  },
  {
   "cell_type": "code",
   "execution_count": 24,
   "metadata": {},
   "outputs": [],
   "source": [
    "input_variable2 = np.array([np.append(np.append(np.append(i,j),k),l) for i,j,k,l in zip(A[mask_new],D[mask_new],N[mask_new],beta[mask_new])])\n",
    "output_new = mass[mask_new]"
   ]
  },
  {
   "cell_type": "code",
   "execution_count": 25,
   "metadata": {},
   "outputs": [],
   "source": [
    "from sklearn.preprocessing import OneHotEncoder\n",
    "onehot_encoder = OneHotEncoder(sparse=False)\n",
    "onehot_encoded = onehot_encoder.fit_transform(output_new.reshape(-1,1))"
   ]
  },
  {
   "cell_type": "code",
   "execution_count": 26,
   "metadata": {},
   "outputs": [],
   "source": [
    "from sklearn.preprocessing import minmax_scale\n",
    "input_variable_scaled = minmax_scale(input_variable2)"
   ]
  },
  {
   "cell_type": "code",
   "execution_count": 27,
   "metadata": {},
   "outputs": [],
   "source": [
    "from sklearn.model_selection import train_test_split\n",
    "seed = 7\n",
    "test_size = 0.2\n",
    "X_train, X_test, y_train_1, y_test_1 = train_test_split(input_variable2,onehot_encoded, test_size=test_size, random_state=seed)"
   ]
  },
  {
   "cell_type": "code",
   "execution_count": 28,
   "metadata": {},
   "outputs": [],
   "source": [
    "import keras\n",
    "from keras import initializers,regularizers\n",
    "from keras.layers import Dense, Dropout, Flatten, Input, Concatenate, LeakyReLU\n",
    "from keras.models import Model\n",
    "import keras.backend as K\n",
    "from tensorflow.python.framework import ops\n",
    "from tensorflow.python.ops import gen_math_ops as math_ops"
   ]
  },
  {
   "cell_type": "code",
   "execution_count": 30,
   "metadata": {},
   "outputs": [
    {
     "name": "stdout",
     "output_type": "stream",
     "text": [
      "Train on 110354 samples, validate on 27589 samples\n",
      "Epoch 1/10\n",
      "110354/110354 [==============================] - 3s 26us/step - loss: 0.6964 - val_loss: 0.6861\n",
      "Epoch 2/10\n",
      "110354/110354 [==============================] - 3s 26us/step - loss: 0.6725 - val_loss: 0.6612\n",
      "Epoch 3/10\n",
      "110354/110354 [==============================] - 3s 25us/step - loss: 0.6686 - val_loss: 0.6670\n",
      "Epoch 4/10\n",
      "110354/110354 [==============================] - 3s 25us/step - loss: 0.6672 - val_loss: 0.6573\n",
      "Epoch 5/10\n",
      "110354/110354 [==============================] - 3s 26us/step - loss: 0.6647 - val_loss: 0.6662\n",
      "Epoch 6/10\n",
      "110354/110354 [==============================] - 3s 23us/step - loss: 0.6636 - val_loss: 0.6562\n",
      "Epoch 7/10\n",
      "110354/110354 [==============================] - 3s 24us/step - loss: 0.6617 - val_loss: 0.6571\n",
      "Epoch 8/10\n",
      "110354/110354 [==============================] - 3s 23us/step - loss: 0.6611 - val_loss: 0.6741\n",
      "Epoch 9/10\n",
      "110354/110354 [==============================] - 3s 24us/step - loss: 0.6606 - val_loss: 0.6619\n",
      "Epoch 10/10\n",
      "110354/110354 [==============================] - 3s 26us/step - loss: 0.6592 - val_loss: 0.6514\n"
     ]
    }
   ],
   "source": [
    "input_layer = Input(shape=(4,))\n",
    "\n",
    "model1 = Dense(7)(input_layer)\n",
    "\n",
    "model1 = LeakyReLU()(model1)\n",
    "\n",
    "model2 = Dense(4)(model1)\n",
    "\n",
    "model2 = LeakyReLU()(model1)\n",
    "\n",
    "model2 = Concatenate(axis=-1)([model1,model2])\n",
    "\n",
    "predictions = Dense(2,activation='softmax')(model2)\n",
    "\n",
    "model = Model(inputs=input_layer,outputs=predictions)\n",
    "\n",
    "opt = keras.optimizers.RMSprop(decay=1e-5)\n",
    "#opt= keras.optimizers.Adam(decay=1e-5,lr=3e-4)   \n",
    "\n",
    "model.compile(optimizer=opt , loss = 'binary_crossentropy')\n",
    "\n",
    "history = model.fit(X_train,y_train_1,\n",
    "                    epochs=10,\n",
    "                    validation_data = (X_test,y_test_1))\n"
   ]
  },
  {
   "cell_type": "code",
   "execution_count": 31,
   "metadata": {},
   "outputs": [],
   "source": [
    "value = model.predict(X_test)\n",
    "predicted = np.hstack(onehot_encoder.inverse_transform(value))\n",
    "true = np.hstack(onehot_encoder.inverse_transform(y_test_1))"
   ]
  },
  {
   "cell_type": "code",
   "execution_count": 32,
   "metadata": {},
   "outputs": [
    {
     "name": "stdout",
     "output_type": "stream",
     "text": [
      "[[9854 4158]\n",
      " [6166 7411]]\n"
     ]
    }
   ],
   "source": [
    "from sklearn.metrics import confusion_matrix\n",
    "print(confusion_matrix(true,predicted))"
   ]
  },
  {
   "cell_type": "code",
   "execution_count": null,
   "metadata": {},
   "outputs": [],
   "source": []
  }
 ],
 "metadata": {
  "kernelspec": {
   "display_name": "Python 3",
   "language": "python",
   "name": "python3"
  },
  "language_info": {
   "codemirror_mode": {
    "name": "ipython",
    "version": 3
   },
   "file_extension": ".py",
   "mimetype": "text/x-python",
   "name": "python",
   "nbconvert_exporter": "python",
   "pygments_lexer": "ipython3",
   "version": "3.6.9"
  }
 },
 "nbformat": 4,
 "nbformat_minor": 4
}
