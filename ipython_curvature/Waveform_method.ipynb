{
 "cells": [
  {
   "cell_type": "code",
   "execution_count": 25,
   "metadata": {},
   "outputs": [],
   "source": [
    "import numpy as np\n",
    "import matplotlib.pylab as plt\n",
    "import plotly.graph_objects as go\n",
    "from plotly.offline import plot\n",
    "from ipywidgets import widgets\n",
    "import uproot\n",
    "from icecube.icetray import *\n",
    "\n",
    "from waveform_methods import *"
   ]
  },
  {
   "cell_type": "code",
   "execution_count": 26,
   "metadata": {},
   "outputs": [],
   "source": [
    "run = 72\n",
    "event = 5039\n",
    "x_new = process_file(run,event,'12360.npy','geometry.npy')\n",
    "file_1 = np.load('12360.npy',allow_pickle=True,encoding='latin1').item()\n",
    "file_2 = np.load('12362.npy',allow_pickle=True,encoding='latin1').item()\n",
    "run2 = 10\n",
    "event2 = 11876"
   ]
  },
  {
   "cell_type": "code",
   "execution_count": 27,
   "metadata": {},
   "outputs": [
    {
     "name": "stdout",
     "output_type": "stream",
     "text": [
      "dict_keys(['energy', 'zenith', 'azimuth', 'x', 'y', 'z', 'time', 't_cog', 'waveform_info', 'waveforms', 'waveform_time', 'waveform_binwidth', 'waveform_radius', 'All_pulses', 'SLCKeys', 'SLC_Info'])\n",
      "72 5039 66.19691436915595 23.329175346075335\n"
     ]
    }
   ],
   "source": [
    "print(file_1[72][12866].keys())\n",
    "found = False\n",
    "for i in file_1.keys():\n",
    "    for j in file_1[i].keys():\n",
    "        if 20<file_1[i][j]['zenith']*180.0/np.pi < 30:\n",
    "            found = True\n",
    "            print(i,j,file_1[i][j]['azimuth']*180.0/np.pi,file_1[i][j]['zenith']*180.0/np.pi)\n",
    "            break\n",
    "    if found:\n",
    "        break"
   ]
  },
  {
   "cell_type": "code",
   "execution_count": 28,
   "metadata": {},
   "outputs": [],
   "source": [
    "file1 = '12360.npy'\n",
    "file2 = '12362.npy'"
   ]
  },
  {
   "cell_type": "code",
   "execution_count": 5,
   "metadata": {},
   "outputs": [],
   "source": [
    "get_event(x_new,run,event,1000,'event2.html',True)\n",
    "waveform_output(x_new,run,event,'event2_waveforms.html',True,CDF=True)"
   ]
  },
  {
   "cell_type": "code",
   "execution_count": 29,
   "metadata": {},
   "outputs": [],
   "source": [
    "radius = []\n",
    "signal_50 = []\n",
    "signal_90 = []\n",
    "energy = []\n",
    "charge = []\n",
    "time_90 = []\n",
    "time = []\n",
    "SLC_charge = []\n",
    "HLC_charge = []\n",
    "radius_SLC = []\n",
    "all_charge = []\n",
    "all_time = []\n",
    "all_radius = []\n",
    "\n",
    "for run in file_1.keys():\n",
    "    for event in file_1[run].keys():\n",
    "        x_new = file_1[run][event]\n",
    "        signal_90_prime = []\n",
    "        signal_50_prime = []\n",
    "        time_90_prime = []\n",
    "        charge_prime = []\n",
    "        radius_prime = []\n",
    "        time_prime = []\n",
    "        SLC_charge_prime = []\n",
    "        HLC_charge_prime = []\n",
    "        radius_SLC_prime = []\n",
    "        all_charge_prime = []\n",
    "        all_time_prime = []\n",
    "        all_radius_prime = []\n",
    "        \n",
    "        for i in x_new['waveform_radius'].keys():\n",
    "            radius_prime.append(x_new['waveform_radius'][i])\n",
    "            i=str(i)\n",
    "        #for i  in list(x_new['waveform_info'].keys()):\n",
    "            signal_90_prime.append(x_new['waveform_info'][i]['Time_90']-x_new['waveform_info'][i]['Time_10'])\n",
    "            signal_50_prime.append(x_new['waveform_info'][i]['Time_50']-x_new['waveform_info'][i]['Time_10'])\n",
    "            time_90_prime.append(x_new['waveform_info'][i]['Time_90'])\n",
    "            charge_prime.append(x_new['waveform_info'][i]['Charge_PE'])\n",
    "            time_prime.append(x_new['waveform_info'][i]['Time_90'])\n",
    "            HLC_charge_prime.append(x_new['waveform_info'][i]['Charge_PE'])\n",
    "            \n",
    "            value = i.split(',')[0].split('(')[-1]\n",
    "                \n",
    "            \n",
    "        for key in x_new['SLC_Info']['charge'].keys():\n",
    "            charge_prime.append(x_new['SLC_Info']['charge'][key])\n",
    "            time_prime.append(x_new['SLC_Info']['time'][key])\n",
    "            SLC_charge_prime.append(x_new['SLC_Info']['charge'][key])\n",
    "            radius_SLC_prime.append(x_new['SLC_Info']['radius'][key])\n",
    "            \n",
    "        for key in x_new['All_pulses'].keys():\n",
    "            all_charge_prime.append(x_new['All_pulses'][key]['charge'])\n",
    "            all_time_prime.append(x_new['All_pulses'][key]['time'])\n",
    "            all_radius_prime.append(x_new['All_pulses'][key]['radius'])\n",
    "        \n",
    "        radius.append(radius_prime)\n",
    "        signal_50.append(signal_50_prime)\n",
    "        signal_90.append(signal_90_prime)\n",
    "        charge.append(charge_prime)\n",
    "        time_90.append(time_90_prime)\n",
    "        energy.append(x_new['energy'])\n",
    "        time.append(time_prime)\n",
    "        SLC_charge.append(SLC_charge_prime)\n",
    "        HLC_charge.append(HLC_charge_prime)\n",
    "        radius_SLC.append(radius_SLC_prime)\n",
    "        all_charge.append(all_charge_prime)\n",
    "        all_time.append(all_time_prime)\n",
    "        all_radius.append(all_radius_prime)\n"
   ]
  },
  {
   "cell_type": "code",
   "execution_count": 30,
   "metadata": {},
   "outputs": [],
   "source": [
    "for run in file_2.keys():\n",
    "    for event in file_2[run].keys():\n",
    "        x_new = file_2[run][event]\n",
    "        signal_90_prime = []\n",
    "        signal_50_prime = []\n",
    "        time_90_prime = []\n",
    "        charge_prime = []\n",
    "        radius_prime = []\n",
    "        time_prime = []\n",
    "        SLC_charge_prime = []\n",
    "        HLC_charge_prime = []\n",
    "        radius_SLC_prime = []\n",
    "        all_charge_prime = []\n",
    "        all_time_prime = []\n",
    "        all_radius_prime = []\n",
    "        \n",
    "        for i in x_new['waveform_radius'].keys():\n",
    "            radius_prime.append(x_new['waveform_radius'][i])\n",
    "        #for i  in list(x_new['waveform_info'].keys()):\n",
    "            i = str(i)\n",
    "            signal_90_prime.append(x_new['waveform_info'][i]['Time_90']-x_new['waveform_info'][i]['Time_10'])\n",
    "            signal_50_prime.append(x_new['waveform_info'][i]['Time_50']-x_new['waveform_info'][i]['Time_10'])\n",
    "            time_90_prime.append(x_new['waveform_info'][i]['Time_90'])\n",
    "            charge_prime.append(x_new['waveform_info'][i]['Charge_PE'])\n",
    "            time_prime.append(x_new['waveform_info'][i]['Time_90'])\n",
    "            HLC_charge_prime.append(x_new['waveform_info'][i]['Charge_PE'])\n",
    "            \n",
    "        for key in x_new['SLC_Info']['charge'].keys():\n",
    "            charge_prime.append(x_new['SLC_Info']['charge'][key])\n",
    "            time_prime.append(x_new['SLC_Info']['time'][key])\n",
    "            SLC_charge_prime.append(x_new['SLC_Info']['charge'][key])\n",
    "            radius_SLC_prime.append(x_new['SLC_Info']['radius'][key])\n",
    "            \n",
    "        for key in x_new['All_pulses'].keys():\n",
    "            all_charge_prime.append(x_new['All_pulses'][key]['charge'])\n",
    "            all_time_prime.append(x_new['All_pulses'][key]['time'])\n",
    "            all_radius_prime.append(x_new['All_pulses'][key]['radius'])\n",
    "            \n",
    "        \n",
    "        radius.append(radius_prime)\n",
    "        signal_50.append(signal_50_prime)\n",
    "        signal_90.append(signal_90_prime)\n",
    "        charge.append(charge_prime)\n",
    "        time_90.append(time_90_prime)\n",
    "        energy.append(x_new['energy'])\n",
    "        time.append(time_prime)\n",
    "        SLC_charge.append(SLC_charge_prime)\n",
    "        HLC_charge.append(HLC_charge_prime)\n",
    "        radius_SLC.append(radius_SLC_prime)\n",
    "        all_charge.append(all_charge_prime)\n",
    "        all_time.append(all_time_prime)\n",
    "        all_radius.append(all_radius_prime)"
   ]
  },
  {
   "cell_type": "code",
   "execution_count": 31,
   "metadata": {},
   "outputs": [],
   "source": [
    "plot_value = [np.append(i,j) for i,j in zip(SLC_charge,HLC_charge)]\n",
    "radius_value = [np.append(i,j) for i,j in zip(radius_SLC,radius)]"
   ]
  },
  {
   "cell_type": "code",
   "execution_count": 32,
   "metadata": {},
   "outputs": [],
   "source": [
    "check = []\n",
    "for i in energy:\n",
    "    if i <= 8 and i > 7.5:\n",
    "        check.append(True)\n",
    "    else:\n",
    "        check.append(False)\n",
    "        \n",
    "proton_check = []\n",
    "iron_check = []\n",
    "for i in range(len(check)):\n",
    "    if check[i]:\n",
    "        if i < 1000:\n",
    "            proton_check.append(i)\n",
    "        else:\n",
    "            iron_check.append(i)"
   ]
  },
  {
   "cell_type": "code",
   "execution_count": 33,
   "metadata": {},
   "outputs": [],
   "source": [
    "proton = []\n",
    "proton_radius = []\n",
    "iron = []\n",
    "iron_radius = []\n",
    "energy_proton = []\n",
    "energy_iron = []\n",
    "\n",
    "for i in range(len(proton_check)):\n",
    "    if proton_check[i]:\n",
    "        proton.append(plot_value[i])\n",
    "        proton_radius.append(radius_value[i])\n",
    "        energy_proton.append(energy[i])\n",
    "       \n",
    "count = 0\n",
    "\n",
    "for i in range(len(iron_check)):\n",
    "    if iron_check[i]:\n",
    "        value = i+1000\n",
    "        iron.append(plot_value[value])\n",
    "        iron_radius.append(radius_value[value])\n",
    "        energy_iron.append(energy[value])\n",
    "    count +=1\n",
    "proton = np.hstack(proton)\n",
    "proton_radius = np.hstack(proton_radius)\n",
    "iron = np.hstack(iron)\n",
    "iron_radius = np.hstack(iron_radius)\n",
    "energy_proton = np.hstack(energy_proton)\n",
    "energy_iron = np.hstack(energy_iron)"
   ]
  },
  {
   "cell_type": "code",
   "execution_count": 75,
   "metadata": {},
   "outputs": [
    {
     "data": {
      "image/png": "[encoded data removed]",
      "text/plain": [
       "<Figure size 432x288 with 1 Axes>"
      ]
     },
     "metadata": {
      "needs_background": "light"
     },
     "output_type": "display_data"
    }
   ],
   "source": [
    "x = []\n",
    "y = []\n",
    "for number in range(1000):\n",
    "    for i in range(len(all_time[number])):\n",
    "        if all_time[number][i] < 0:\n",
    "            x.append(-all_radius[number][i])\n",
    "            y.append(all_time[number][i])\n",
    "        else:\n",
    "            x.append(all_radius[number][i])\n",
    "            y.append(-all_time[number][i])\n",
    "plt.scatter(x,y)\n",
    "plt.show()"
   ]
  },
  {
   "cell_type": "code",
   "execution_count": 76,
   "metadata": {},
   "outputs": [
    {
     "data": {
      "image/png": "[encoded data removed]",
      "text/plain": [
       "<Figure size 432x288 with 1 Axes>"
      ]
     },
     "metadata": {
      "needs_background": "light"
     },
     "output_type": "display_data"
    }
   ],
   "source": [
    "x1 = []\n",
    "y1 = []\n",
    "for number in range(1000,2000):\n",
    "    for i in range(len(all_time[number])):\n",
    "        if all_time[number][i] < 0:\n",
    "            x1.append(-all_radius[number][i])\n",
    "            y1.append(all_time[number][i])\n",
    "        else:\n",
    "            x1.append(all_radius[number][i])\n",
    "            y1.append(-all_time[number][i])\n",
    "plt.scatter(x1,y1)\n",
    "plt.show()"
   ]
  },
  {
   "cell_type": "code",
   "execution_count": 77,
   "metadata": {},
   "outputs": [],
   "source": [
    "mean1,std1,bins1 = binning(x,y,bins=100)\n",
    "mean2,std2,bins2 = binning(x1,y1,bins=100)"
   ]
  },
  {
   "cell_type": "code",
   "execution_count": 89,
   "metadata": {},
   "outputs": [
    {
     "data": {
      "image/png": "[encoded data removed]",
      "text/plain": [
       "<Figure size 432x288 with 1 Axes>"
      ]
     },
     "metadata": {
      "needs_background": "light"
     },
     "output_type": "display_data"
    }
   ],
   "source": [
    "plt.errorbar(bins1,mean1,yerr=std1,fmt='.',label='proton')\n",
    "plt.errorbar(bins2,mean2,yerr=std2,fmt='.',label='iron')\n",
    "plt.xlabel('r/m')\n",
    "plt.ylabel('time_delay [ns]')\n",
    "plt.legend()\n",
    "plt.savefig('Mean_value_for_deltaT')"
   ]
  },
  {
   "cell_type": "code",
   "execution_count": null,
   "metadata": {},
   "outputs": [],
   "source": []
  }
 ],
 "metadata": {
  "kernelspec": {
   "display_name": "Python 2",
   "language": "python",
   "name": "python2"
  },
  "language_info": {
   "codemirror_mode": {
    "name": "ipython",
    "version": 3
   },
   "file_extension": ".py",
   "mimetype": "text/x-python",
   "name": "python",
   "nbconvert_exporter": "python",
   "pygments_lexer": "ipython3",
   "version": "3.6.9"
  }
 },
 "nbformat": 4,
 "nbformat_minor": 4
}
