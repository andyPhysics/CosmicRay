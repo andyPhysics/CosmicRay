{
 "cells": [
  {
   "cell_type": "code",
   "execution_count": 1,
   "metadata": {},
   "outputs": [],
   "source": [
    "import pickle\n",
    "import numpy as np\n",
    "import matplotlib.pylab as plt\n",
    "import uproot\n",
    "from sklearn.metrics import confusion_matrix"
   ]
  },
  {
   "cell_type": "code",
   "execution_count": 2,
   "metadata": {},
   "outputs": [],
   "source": [
    "def return_accuracy(predict1,predict2,validation):\n",
    "    mass_predict1 = []\n",
    "    for i in predict1:\n",
    "        if i <2.5:\n",
    "            mass_predict1.append(1)\n",
    "        else:\n",
    "            mass_predict1.append(4)\n",
    "    cm=confusion_matrix(validation,mass_predict1)\n",
    "\n",
    "    mass_predict4 = []\n",
    "    for i in predict2:\n",
    "        if i <2.5:\n",
    "            mass_predict4.append(1)\n",
    "        else:\n",
    "            mass_predict4.append(4)\n",
    "    cm1=confusion_matrix(validation,mass_predict4)\n",
    "    \n",
    "    return cm[0][0]/np.sum(cm[0]),cm1[1][1]/np.sum(cm1[1]),np.array(mass_predict1),np.array(mass_predict4)"
   ]
  },
  {
   "cell_type": "code",
   "execution_count": 3,
   "metadata": {},
   "outputs": [],
   "source": [
    "file = uproot.open('/home/andy/12632.root')\n",
    "file2 = uproot.open('/home/andy/12633.root')"
   ]
  },
  {
   "cell_type": "code",
   "execution_count": 4,
   "metadata": {},
   "outputs": [],
   "source": [
    "cut_model = pickle.load((open('cut_model.sav','rb')))\n",
    "model1 =  pickle.load((open('model.sav','rb')))"
   ]
  },
  {
   "cell_type": "code",
   "execution_count": 5,
   "metadata": {},
   "outputs": [],
   "source": [
    "S125_1 = np.log10(file['LaputopParams']['s125'].array())\n",
    "S125_2 = np.log10(file2['LaputopParams']['s125'].array())\n",
    "A1 = file['CurvatureOnlyParams']['A'].array()\n",
    "A2 = file2['CurvatureOnlyParams']['A'].array()\n",
    "D1 = file['CurvatureOnlyParams']['D'].array()\n",
    "D2 = file2['CurvatureOnlyParams']['D'].array()\n",
    "N1 = file['CurvatureOnlyParams']['N'].array()\n",
    "N2 = file2['CurvatureOnlyParams']['N'].array()\n",
    "beta1 = file['LaputopParams']['beta'].array()\n",
    "beta2 = file2['LaputopParams']['beta'].array()\n",
    "zenith1 = file['Laputop']['zenith'].array()\n",
    "zenith2 = file2['Laputop']['zenith'].array()\n",
    "energy1 = file['MCPrimary']['energy'].array()\n",
    "energy2 = file2['MCPrimary']['energy'].array()\n",
    "chi2_1 = file['CurvatureOnlyParams']['chi2_time'].array()\n",
    "chi2_2 = file2['CurvatureOnlyParams']['chi2_time'].array()\n",
    "\n",
    "slc_charge1 = file['LaputopSLCPE']['charge'].array()\n",
    "slc_charge2 = file2['LaputopSLCPE']['charge'].array()\n",
    "\n",
    "slc_charge1 = [np.sum(i) for i in slc_charge1]\n",
    "slc_charge2 = [np.sum(i) for i in slc_charge2]\n",
    "\n",
    "hlc_charge1 = file['LaputopHLCPE']['charge'].array()\n",
    "hlc_charge2 = file2['LaputopHLCPE']['charge'].array()\n",
    "\n",
    "hlc_charge1 = [np.sum(i) for i in hlc_charge1]\n",
    "hlc_charge2 = [np.sum(i) for i in hlc_charge2]\n",
    "\n",
    "Qtot1 = [i+j for i,j in zip(slc_charge1,hlc_charge1)]\n",
    "Qtot2 = [i+j for i,j in zip(slc_charge2,hlc_charge2)]\n",
    "\n",
    "mass1 = [1 for i in range(len(Qtot1))]\n",
    "mass2 = [4 for i in range(len(Qtot2))]"
   ]
  },
  {
   "cell_type": "code",
   "execution_count": 6,
   "metadata": {},
   "outputs": [
    {
     "name": "stdout",
     "output_type": "stream",
     "text": [
      "74114\n"
     ]
    },
    {
     "name": "stderr",
     "output_type": "stream",
     "text": [
      "/home/andy/.local/lib/python3.6/site-packages/ipykernel_launcher.py:14: RuntimeWarning: divide by zero encountered in log10\n",
      "  \n",
      "/home/andy/.local/lib/python3.6/site-packages/ipykernel_launcher.py:15: RuntimeWarning: divide by zero encountered in log10\n",
      "  from ipykernel import kernelapp as app\n"
     ]
    }
   ],
   "source": [
    "A = np.append(A1,A2)\n",
    "D = np.append(D1,D2)\n",
    "N = np.append(N1,N2)\n",
    "S125 = np.append(S125_1,S125_2)\n",
    "beta = np.log10(np.append(beta1,beta2))\n",
    "chi2 = np.log10(np.append(chi2_1,chi2_2))\n",
    "zenith = np.cos(np.append(zenith1,zenith2))\n",
    "zenith_new = np.append(zenith1,zenith2)\n",
    "mass = np.append(mass1,mass2)\n",
    "slc_charge = np.append(slc_charge1,slc_charge2)\n",
    "hlc_charge = np.append(hlc_charge1,hlc_charge2)\n",
    "qtot = np.append(Qtot1,Qtot2)\n",
    "\n",
    "hlc_charge = np.log10(hlc_charge)\n",
    "qtot = np.log10(qtot)\n",
    "\n",
    "energy = np.append(energy1,energy2)\n",
    "print(len(energy))"
   ]
  },
  {
   "cell_type": "code",
   "execution_count": 7,
   "metadata": {},
   "outputs": [],
   "source": [
    "A = A[np.isfinite(chi2)]\n",
    "D = D[np.isfinite(chi2)]\n",
    "S125 = S125[np.isfinite(chi2)]\n",
    "beta = beta[np.isfinite(chi2)]\n",
    "chi2_new = chi2[np.isfinite(chi2)]\n",
    "zenith = zenith[np.isfinite(chi2)]\n",
    "mass = mass[np.isfinite(chi2)]\n",
    "energy = np.log10(energy[np.isfinite(chi2)])\n",
    "slc_charge = np.array(slc_charge)[np.isfinite(chi2)]\n",
    "hlc_charge = np.array(hlc_charge)[np.isfinite(chi2)]\n",
    "qtot = np.array(qtot)[np.isfinite(chi2)]\n",
    "zenith_new = np.array(zenith_new)[np.isfinite(chi2)]"
   ]
  },
  {
   "cell_type": "code",
   "execution_count": 8,
   "metadata": {},
   "outputs": [],
   "source": [
    "mask = cut_model.predict(list(zip(S125,slc_charge,hlc_charge,qtot,zenith,chi2_new)))"
   ]
  },
  {
   "cell_type": "code",
   "execution_count": 9,
   "metadata": {},
   "outputs": [],
   "source": [
    "mask_new = []\n",
    "for i in mask:\n",
    "    if i < 0.5:\n",
    "        mask_new.append(False)\n",
    "    else:\n",
    "        mask_new.append(True)"
   ]
  },
  {
   "cell_type": "code",
   "execution_count": 10,
   "metadata": {},
   "outputs": [
    {
     "name": "stdout",
     "output_type": "stream",
     "text": [
      "63358\n"
     ]
    }
   ],
   "source": [
    "print(len(mass[mask_new]))"
   ]
  },
  {
   "cell_type": "code",
   "execution_count": 11,
   "metadata": {},
   "outputs": [],
   "source": [
    "input_variable2_old = np.array([np.append(np.append(np.append(np.append(np.append(i,j),k),l),m),n) for i,j,k,l,m,n in np.array(list(zip(D[mask_new],beta[mask_new],slc_charge[mask_new],S125[mask_new],zenith[mask_new],chi2_new[mask_new])))[10**chi2_new[mask_new]<3]])\n",
    "output_new_old = np.array(mass[mask_new])[10**chi2_new[mask_new]<3]\n",
    "energy_new = np.array(zenith_new[mask_new])[10**chi2_new[mask_new]<3]"
   ]
  },
  {
   "cell_type": "code",
   "execution_count": 12,
   "metadata": {},
   "outputs": [],
   "source": [
    "prediction1 = model1.predict(input_variable2_old)\n",
    "#prediction2 = model1.predict(input_variable2_old)\n",
    "#prediction1 = (prediction1+prediction2)/2"
   ]
  },
  {
   "cell_type": "code",
   "execution_count": 13,
   "metadata": {},
   "outputs": [],
   "source": [
    "data1 = np.array(list(zip(input_variable2_old,output_new_old)))\n",
    "data2 = np.array(energy_new)\n",
    "array_split = np.array_split(sorted(list(zip(data1,data2)),key=lambda x:x[1]),20)"
   ]
  },
  {
   "cell_type": "code",
   "execution_count": 14,
   "metadata": {},
   "outputs": [],
   "source": [
    "x = []\n",
    "y_proton = []\n",
    "y_iron = []\n",
    "for i in array_split:\n",
    "    energy = list(zip(*i))[1]\n",
    "    mass = list(zip(*list(zip(*i))[0]))[1]\n",
    "    data = list(zip(*list(zip(*i))[0]))[0]\n",
    "    prediction1 = model1.predict(data)\n",
    "    #prediction2 = model2.predict(data)\n",
    "    #prediction1 = (prediction1+prediction2)/2\n",
    "    output_prediction = []\n",
    "    for i in prediction1:\n",
    "        if i < 2.5:\n",
    "            output_prediction.append(1)\n",
    "        else:\n",
    "            output_prediction.append(4)\n",
    "    \n",
    "    cm = confusion_matrix(output_prediction,mass)\n",
    "    x.append((max(energy)+min(energy))/2)\n",
    "    y_proton.append(cm[0][0]/np.sum(cm[0]))\n",
    "    y_iron.append(cm[1][1]/np.sum(cm[1]))"
   ]
  },
  {
   "cell_type": "code",
   "execution_count": 15,
   "metadata": {},
   "outputs": [
    {
     "data": {
      "image/png": "[encoded data removed]",
      "text/plain": [
       "<Figure size 432x288 with 1 Axes>"
      ]
     },
     "metadata": {
      "needs_background": "light"
     },
     "output_type": "display_data"
    }
   ],
   "source": [
    "plt.scatter(x,y_proton,label='proton')\n",
    "plt.scatter(x,y_iron,label='iron')\n",
    "plt.legend()\n",
    "plt.show()"
   ]
  },
  {
   "cell_type": "code",
   "execution_count": 16,
   "metadata": {},
   "outputs": [
    {
     "name": "stdout",
     "output_type": "stream",
     "text": [
      "[0.5930795847750865, 0.6789883268482491, 0.6844502277163305, 0.6534717715768981, 0.6602067183462532, 0.6470994475138122, 0.6266002844950214, 0.7005532503457814, 0.6427566807313643, 0.6318021201413427, 0.7075070821529745, 0.6904109589041096, 0.625086625086625, 0.6455516014234876, 0.6714677640603567, 0.6031957390146472, 0.6610878661087866, 0.6504782928623988, 0.6322097378277154, 0.6325878594249201] 0.6519295969678081\n"
     ]
    }
   ],
   "source": [
    "print(y_iron,np.mean(y_iron))"
   ]
  },
  {
   "cell_type": "code",
   "execution_count": 17,
   "metadata": {},
   "outputs": [
    {
     "name": "stdout",
     "output_type": "stream",
     "text": [
      "[0.7913322632423756, 0.7458659704090513, 0.7415437987857763, 0.7754569190600522, 0.8038528896672504, 0.8091787439613527, 0.7975077881619937, 0.7813504823151125, 0.7941640378548895, 0.7803921568627451, 0.8020344287949922, 0.7951219512195122, 0.8171611868484362, 0.82568093385214, 0.8092532467532467, 0.7760942760942761, 0.7754777070063694, 0.7655897821187078, 0.788929889298893, 0.7671111111111111] 0.7871549781709143\n"
     ]
    }
   ],
   "source": [
    "print(y_proton,np.mean(y_proton))"
   ]
  },
  {
   "cell_type": "code",
   "execution_count": null,
   "metadata": {},
   "outputs": [],
   "source": []
  }
 ],
 "metadata": {
  "kernelspec": {
   "display_name": "Python 3",
   "language": "python",
   "name": "python3"
  },
  "language_info": {
   "codemirror_mode": {
    "name": "ipython",
    "version": 3
   },
   "file_extension": ".py",
   "mimetype": "text/x-python",
   "name": "python",
   "nbconvert_exporter": "python",
   "pygments_lexer": "ipython3",
   "version": "3.6.9"
  }
 },
 "nbformat": 4,
 "nbformat_minor": 4
}
