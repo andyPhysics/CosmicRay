{
 "cells": [
  {
   "cell_type": "code",
   "execution_count": 1,
   "metadata": {},
   "outputs": [],
   "source": [
    "import pickle\n",
    "import numpy as np\n",
    "import matplotlib.pylab as plt\n",
    "import uproot\n",
    "from sklearn.metrics import confusion_matrix"
   ]
  },
  {
   "cell_type": "code",
   "execution_count": 2,
   "metadata": {},
   "outputs": [],
   "source": [
    "def return_accuracy(predict1,predict2,validation):\n",
    "    mass_predict1 = []\n",
    "    for i in predict1:\n",
    "        if i <2.5:\n",
    "            mass_predict1.append(1)\n",
    "        else:\n",
    "            mass_predict1.append(4)\n",
    "    cm=confusion_matrix(validation,mass_predict1)\n",
    "\n",
    "    mass_predict4 = []\n",
    "    for i in predict2:\n",
    "        if i <2.5:\n",
    "            mass_predict4.append(1)\n",
    "        else:\n",
    "            mass_predict4.append(4)\n",
    "    cm1=confusion_matrix(validation,mass_predict4)\n",
    "    \n",
    "    return cm[0][0]/np.sum(cm[0]),cm1[1][1]/np.sum(cm1[1]),np.array(mass_predict1),np.array(mass_predict4)"
   ]
  },
  {
   "cell_type": "code",
   "execution_count": 3,
   "metadata": {},
   "outputs": [],
   "source": [
    "file = uproot.open('/home/andy/12360.root')\n",
    "file2 = uproot.open('/home/andy/12362.root')"
   ]
  },
  {
   "cell_type": "code",
   "execution_count": 4,
   "metadata": {},
   "outputs": [],
   "source": [
    "cut_model = pickle.load((open('cut_model.sav','rb')))\n",
    "proton_model =  pickle.load((open('proton_best_model.sav','rb')))\n",
    "iron_model =  pickle.load((open('iron_best_model.sav','rb')))"
   ]
  },
  {
   "cell_type": "code",
   "execution_count": 5,
   "metadata": {},
   "outputs": [],
   "source": [
    "S125_1 = np.log10(file['LaputopParams']['s125'].array())\n",
    "S125_2 = np.log10(file2['LaputopParams']['s125'].array())\n",
    "A1 = file['CurvatureOnlyParams']['A'].array()\n",
    "A2 = file2['CurvatureOnlyParams']['A'].array()\n",
    "D1 = file['CurvatureOnlyParams']['D'].array()\n",
    "D2 = file2['CurvatureOnlyParams']['D'].array()\n",
    "beta1 = file['LaputopParams']['beta'].array()\n",
    "beta2 = file2['LaputopParams']['beta'].array()\n",
    "zenith1 = file['Laputop']['zenith'].array()\n",
    "zenith2 = file2['Laputop']['zenith'].array()\n",
    "chi2_1 = file['CurvatureOnlyParams']['chi2_time'].array()\n",
    "chi2_2 = file2['CurvatureOnlyParams']['chi2_time'].array()\n",
    "energy1 = file['MCPrimary']['energy'].array()\n",
    "energy2 = file2['MCPrimary']['energy'].array()\n",
    "mass1 = [1 for i in range(len(energy1))]\n",
    "mass2 = [4 for i in range(len(energy2))]"
   ]
  },
  {
   "cell_type": "code",
   "execution_count": 6,
   "metadata": {},
   "outputs": [],
   "source": [
    "A = np.append(A1,A2)\n",
    "D = np.append(D1,D2)\n",
    "S125 = np.append(S125_1,S125_2)\n",
    "beta = np.log10(np.append(beta1,beta2))\n",
    "chi2 = np.log10(np.append(chi2_1,chi2_2))\n",
    "zenith = np.cos(np.append(zenith1,zenith2))\n",
    "zenith_new = np.append(zenith1,zenith2)*180/np.pi\n",
    "mass = np.append(mass1,mass2)\n",
    "energy = np.append(energy1,energy2)"
   ]
  },
  {
   "cell_type": "code",
   "execution_count": 7,
   "metadata": {},
   "outputs": [],
   "source": [
    "mask = cut_model.predict(list(zip(S125,A,zenith,chi2)))"
   ]
  },
  {
   "cell_type": "code",
   "execution_count": 8,
   "metadata": {},
   "outputs": [],
   "source": [
    "mask_new = []\n",
    "for i in mask:\n",
    "    if i < 0.5:\n",
    "        mask_new.append(False)\n",
    "    else:\n",
    "        mask_new.append(True)"
   ]
  },
  {
   "cell_type": "code",
   "execution_count": 9,
   "metadata": {},
   "outputs": [],
   "source": [
    "input_variable2_old = np.array([np.append(i,j) for i,j in zip(D[mask_new],beta[mask_new])])\n",
    "output_new_old = mass[mask_new]\n",
    "energy_new = zenith_new[mask_new]\n",
    "\n",
    "import random\n",
    "validation_x = []\n",
    "validation_y = []\n",
    "input_variable2 = []\n",
    "output_new = []\n",
    "validation_energy = []\n",
    "\n",
    "for i in range(len(input_variable2_old)):\n",
    "    if random.random() < 0.1:\n",
    "        validation_x.append(input_variable2_old[i])\n",
    "        validation_y.append(output_new_old[i])\n",
    "        validation_energy.append(energy_new[i])\n",
    "    else:\n",
    "        input_variable2.append(input_variable2_old[i])\n",
    "        output_new.append(output_new_old[i])"
   ]
  },
  {
   "cell_type": "code",
   "execution_count": 10,
   "metadata": {},
   "outputs": [],
   "source": [
    "from sklearn.model_selection import train_test_split\n",
    "seed = 7\n",
    "test_size = 0.2\n",
    "X_train, X_test, y_train_1, y_test_1 = train_test_split(input_variable2,output_new , test_size=test_size, random_state=seed)"
   ]
  },
  {
   "cell_type": "code",
   "execution_count": 11,
   "metadata": {},
   "outputs": [
    {
     "name": "stdout",
     "output_type": "stream",
     "text": [
      "(0.954890613501037, 0.9144546998751611, array([1, 1, 1, ..., 1, 1, 1]), array([1, 4, 4, ..., 4, 4, 1]))\n"
     ]
    }
   ],
   "source": [
    "prediction1 = proton_model.predict(X_train)\n",
    "prediction2 = iron_model.predict(X_train)\n",
    "print(return_accuracy(prediction1,prediction2,y_train_1))"
   ]
  },
  {
   "cell_type": "code",
   "execution_count": 12,
   "metadata": {},
   "outputs": [
    {
     "name": "stdout",
     "output_type": "stream",
     "text": [
      "(0.9547893748323047, 0.9140758873929009, array([1, 1, 1, ..., 1, 1, 1]), array([4, 1, 1, ..., 4, 1, 4]))\n"
     ]
    }
   ],
   "source": [
    "prediction1 = proton_model.predict(X_test)\n",
    "prediction2 = iron_model.predict(X_test)\n",
    "print(return_accuracy(prediction1,prediction2,y_test_1))"
   ]
  },
  {
   "cell_type": "code",
   "execution_count": 13,
   "metadata": {},
   "outputs": [
    {
     "name": "stdout",
     "output_type": "stream",
     "text": [
      "(0.9558125380401704, 0.9146890958245719, array([1, 1, 1, ..., 1, 1, 1]), array([1, 1, 4, ..., 4, 4, 4]))\n"
     ]
    }
   ],
   "source": [
    "prediction1 = proton_model.predict(validation_x)\n",
    "prediction2 = iron_model.predict(validation_x)\n",
    "print(return_accuracy(prediction1,prediction2,validation_y))"
   ]
  },
  {
   "cell_type": "code",
   "execution_count": 14,
   "metadata": {},
   "outputs": [],
   "source": [
    "data1 = np.array(list(zip(validation_x,validation_y)))\n",
    "data2 = np.array(np.log10(validation_energy))\n",
    "array_split = np.array_split(sorted(list(zip(data1,data2)),key=lambda x:x[1]),20)"
   ]
  },
  {
   "cell_type": "code",
   "execution_count": 15,
   "metadata": {},
   "outputs": [],
   "source": [
    "x = []\n",
    "y_proton = []\n",
    "y_iron = []\n",
    "for i in array_split:\n",
    "    energy = list(zip(*i))[1]\n",
    "    mass = list(zip(*list(zip(*i))[0]))[1]\n",
    "    data = list(zip(*list(zip(*i))[0]))[0]\n",
    "    prediction1 = proton_model.predict(data)\n",
    "    prediction2 = iron_model.predict(data)\n",
    "    acc_proton,acc_iron,something1,something2 = return_accuracy(prediction1,prediction2,mass)\n",
    "    y_proton.append(acc_proton)\n",
    "    y_iron.append(acc_iron)\n",
    "    x.append((max(energy)+min(energy))/2)"
   ]
  },
  {
   "cell_type": "code",
   "execution_count": 16,
   "metadata": {},
   "outputs": [
    {
     "data": {
      "image/png": "[encoded data removed]",
      "text/plain": [
       "<Figure size 432x288 with 1 Axes>"
      ]
     },
     "metadata": {
      "needs_background": "light"
     },
     "output_type": "display_data"
    }
   ],
   "source": [
    "plt.scatter(x,y_proton)\n",
    "plt.show()"
   ]
  },
  {
   "cell_type": "code",
   "execution_count": 17,
   "metadata": {},
   "outputs": [
    {
     "data": {
      "text/plain": [
       "<matplotlib.collections.PathCollection at 0x7f8d5d2c1b00>"
      ]
     },
     "execution_count": 17,
     "metadata": {},
     "output_type": "execute_result"
    },
    {
     "data": {
      "image/png": "[encoded data removed]",
      "text/plain": [
       "<Figure size 432x288 with 1 Axes>"
      ]
     },
     "metadata": {
      "needs_background": "light"
     },
     "output_type": "display_data"
    }
   ],
   "source": [
    "plt.scatter(x,y_iron)"
   ]
  },
  {
   "cell_type": "code",
   "execution_count": null,
   "metadata": {},
   "outputs": [],
   "source": []
  }
 ],
 "metadata": {
  "kernelspec": {
   "display_name": "Python 3",
   "language": "python",
   "name": "python3"
  },
  "language_info": {
   "codemirror_mode": {
    "name": "ipython",
    "version": 3
   },
   "file_extension": ".py",
   "mimetype": "text/x-python",
   "name": "python",
   "nbconvert_exporter": "python",
   "pygments_lexer": "ipython3",
   "version": "3.6.9"
  }
 },
 "nbformat": 4,
 "nbformat_minor": 4
}
