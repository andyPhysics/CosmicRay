{
 "cells": [
  {
   "cell_type": "code",
   "execution_count": 1,
   "metadata": {},
   "outputs": [],
   "source": [
    "import numpy as np\n",
    "import uproot\n",
    "import matplotlib.pyplot as plt\n",
    "from sklearn.tree import DecisionTreeRegressor, ExtraTreeRegressor\n",
    "from sklearn.ensemble import AdaBoostRegressor, StackingRegressor\n",
    "from sklearn.multioutput import MultiOutputRegressor\n",
    "from random import random\n",
    "from sklearn.model_selection import cross_validate"
   ]
  },
  {
   "cell_type": "code",
   "execution_count": 2,
   "metadata": {},
   "outputs": [],
   "source": [
    "file = uproot.open('12360.root')\n",
    "file2 = uproot.open('12362.root')"
   ]
  },
  {
   "cell_type": "code",
   "execution_count": 3,
   "metadata": {},
   "outputs": [],
   "source": [
    "def make_equal(x,length):\n",
    "    x_len = len(x)\n",
    "    while len(x) < length:\n",
    "        x = np.append(x,[0])\n",
    "    return x"
   ]
  },
  {
   "cell_type": "code",
   "execution_count": 5,
   "metadata": {},
   "outputs": [],
   "source": [
    "energy1 = np.log10(file['MCPrimary']['energy'].array())\n",
    "t_core1 = file['ShowerCOG']['time'].array()\n",
    "HLCPE = file['LaputopHLCPE']['time'].array()\n",
    "SLCPE = file['LaputopSLCPE']['time'].array()\n",
    "time1 = [np.append(i,j) for i,j in zip(HLCPE,SLCPE)]\n",
    "for i in range(len(time1)):\n",
    "    time1[i] = time1[i] - t_core1[i]\n",
    "charge1 = file['All_pulses']['charge'].array()\n",
    "S125_1 = np.log10(file['LaputopParams']['s125'].array())\n",
    "zenith1 = file['MCPrimary']['zenith'].array()\n",
    "mass1 = []\n",
    "for i in range(len(zenith1)):\n",
    "    mass1.append(1)\n",
    "\n",
    "energy2 = np.log10(file2['MCPrimary']['energy'].array())\n",
    "t_core2 = file2['ShowerCOG']['time'].array()\n",
    "HLCPE = file2['LaputopHLCPE']['time'].array()\n",
    "SLCPE = file2['LaputopSLCPE']['time'].array()\n",
    "time2 = [np.append(i,j) for i,j in zip(HLCPE,SLCPE)]\n",
    "for i in range(len(time2)):\n",
    "    time2[i] = time2[i] - t_core2[i]\n",
    "charge2 = file2['All_pulses']['charge'].array()\n",
    "S125_2 = np.log10(file2['LaputopParams']['s125'].array())\n",
    "zenith2 = file2['MCPrimary']['zenith'].array()\n",
    "mass2 = []\n",
    "for i in range(len(zenith2)):\n",
    "    mass2.append(4)\n",
    "    \n",
    "energy = np.append(energy1,energy2)\n",
    "\n",
    "S125 = np.append(S125_1,S125_2)\n",
    "\n",
    "zenith = np.append(zenith1,zenith2)\n",
    "\n",
    "mass = np.append(mass1,mass2)\n",
    "\n",
    "\n",
    "charge = np.append(charge1,charge2)\n",
    "charge = [np.append(i,j) for i,j in zip(charge,S125)]\n",
    "time = np.append(time1,time2)\n",
    "data = [np.append(i,j) for i,j in zip(energy,zenith)]\n",
    "data = [np.append(i,j) for i,j in zip(data,mass)]"
   ]
  },
  {
   "cell_type": "code",
   "execution_count": 6,
   "metadata": {},
   "outputs": [],
   "source": [
    "new_time = [make_equal(i,163) for i in time]\n",
    "new_charge= [make_equal(i,163) for i in charge]"
   ]
  },
  {
   "cell_type": "code",
   "execution_count": 7,
   "metadata": {},
   "outputs": [],
   "source": [
    "input_variable = [np.append(i,j) for i,j in zip(new_time,new_charge)]"
   ]
  },
  {
   "cell_type": "code",
   "execution_count": 8,
   "metadata": {},
   "outputs": [],
   "source": [
    "from sklearn.model_selection import train_test_split\n",
    "seed = 7\n",
    "test_size = 0.2\n",
    "X_train, X_test, y_train, y_test = train_test_split(input_variable, np.array(data), test_size=test_size, random_state=seed)"
   ]
  },
  {
   "cell_type": "code",
   "execution_count": 9,
   "metadata": {},
   "outputs": [],
   "source": [
    "np.save('All_data_old',{'X_train':X_train,'X_test':X_test,'y_train':y_train,'y_test':y_test})"
   ]
  },
  {
   "cell_type": "code",
   "execution_count": null,
   "metadata": {},
   "outputs": [],
   "source": []
  }
 ],
 "metadata": {
  "kernelspec": {
   "display_name": "Python 3",
   "language": "python",
   "name": "python3"
  },
  "language_info": {
   "codemirror_mode": {
    "name": "ipython",
    "version": 3
   },
   "file_extension": ".py",
   "mimetype": "text/x-python",
   "name": "python",
   "nbconvert_exporter": "python",
   "pygments_lexer": "ipython3",
   "version": "3.6.9"
  }
 },
 "nbformat": 4,
 "nbformat_minor": 4
}
