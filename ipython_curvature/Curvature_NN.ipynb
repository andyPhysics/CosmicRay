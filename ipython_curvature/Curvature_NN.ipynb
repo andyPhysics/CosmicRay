{
 "cells": [
  {
   "cell_type": "code",
   "execution_count": 160,
   "metadata": {},
   "outputs": [],
   "source": [
    "import numpy as np\n",
    "import uproot\n",
    "import matplotlib.pyplot as plt\n",
    "import sklearn\n",
    "from random import random\n",
    "from sklearn.model_selection import cross_validate\n",
    "import matplotlib\n",
    "from waveform_methods import binning\n",
    "import pandas as pd\n",
    "\n",
    "from scipy.stats import norm\n",
    "import pickle\n",
    "from statistics import mode\n",
    "from sklearn.metrics import confusion_matrix\n",
    "from sklearn.model_selection import StratifiedKFold\n",
    "from sklearn.preprocessing import scale"
   ]
  },
  {
   "cell_type": "code",
   "execution_count": 161,
   "metadata": {},
   "outputs": [],
   "source": [
    "file = uproot.open('/home/andy/12360.root')\n",
    "file2 = uproot.open('/home/andy/12362.root')"
   ]
  },
  {
   "cell_type": "code",
   "execution_count": 162,
   "metadata": {},
   "outputs": [
    {
     "name": "stdout",
     "output_type": "stream",
     "text": [
      "[b'Run', b'Event', b'SubEvent', b'SubEventStream', b'SubEventStream_String', b'exists', b'eloss_1000', b'eloss_1500', b'eloss_1600', b'eloss_1700', b'eloss_1800', b'eloss_1900', b'eloss_2000', b'eloss_2100', b'eloss_2200', b'eloss_2300', b'eloss_2400', b'eloss_3000', b'a_estim', b'a_estim_err', b'e0_estim', b'e0_estim_err', b'stoch_energy', b'rel_stoch_energy', b'total_stoch_energy', b'total_rel_stoch_energy', b'highest_stoch_energy', b'highest_rel_stoch_energy', b'chi2', b'chi2_red', b'stoch_depth', b'n_he_stoch', b'fit_status', b'fit_status_String']\n"
     ]
    }
   ],
   "source": [
    "print(file['Stoch_Reco'].keys())"
   ]
  },
  {
   "cell_type": "code",
   "execution_count": 163,
   "metadata": {},
   "outputs": [],
   "source": [
    "Eloss_keys = file['Stoch_Reco'].keys()[6:18]\n",
    "for i in range(len(Eloss_keys)):\n",
    "    if i == 0:\n",
    "        Eloss1 = file['Stoch_Reco'][Eloss_keys[i]].array()\n",
    "    else:\n",
    "        Eloss1 += file['Stoch_Reco'][Eloss_keys[i]].array()\n",
    "Eloss1 = Eloss1/len(Eloss_keys)\n",
    "\n",
    "Eloss_keys = file2['Stoch_Reco'].keys()[6:18]\n",
    "for i in range(len(Eloss_keys)):\n",
    "    if i == 0:\n",
    "        Eloss2 = file2['Stoch_Reco'][Eloss_keys[i]].array()\n",
    "    else:\n",
    "        Eloss2 += file2['Stoch_Reco'][Eloss_keys[i]].array()\n",
    "Eloss2 = Eloss2/len(Eloss_keys)\n",
    "\n",
    "Eloss = np.append(Eloss1,Eloss2)"
   ]
  },
  {
   "cell_type": "code",
   "execution_count": 164,
   "metadata": {},
   "outputs": [],
   "source": [
    "cut = []\n",
    "for i in file['IT73AnalysisInIceQualityCuts'].keys()[6:11]:\n",
    "    cut.append(file['IT73AnalysisInIceQualityCuts'][i].array())\n",
    "cut2 = list(zip(cut))\n",
    "for i in range(len(cut2)):\n",
    "    if i == 0:\n",
    "        final_cut = cut2[i][0]\n",
    "    else:\n",
    "        final_cut = [j and k for j,k in zip(final_cut,cut2[i][0])]\n",
    "        \n",
    "cut = []\n",
    "for i in file2['IT73AnalysisInIceQualityCuts'].keys()[6:11]:\n",
    "    cut.append(file2['IT73AnalysisInIceQualityCuts'][i].array())\n",
    "cut2 = list(zip(cut))\n",
    "for i in range(len(cut2)):\n",
    "    if i == 0:\n",
    "        final_cut2 = cut2[i][0]\n",
    "    else:\n",
    "        final_cut2 = [j and k for j,k in zip(final_cut,cut2[i][0])]\n",
    "        \n",
    "in_ice_cuts = np.append(final_cut,final_cut2)"
   ]
  },
  {
   "cell_type": "code",
   "execution_count": 165,
   "metadata": {},
   "outputs": [],
   "source": [
    "Xmax1 = file['MCPrimaryInfo']['ghMaxDepth'].array()\n",
    "valueDepth = file['MCPrimaryInfo']['longNumCharged'].array()\n",
    "Depth1 = file['MCPrimaryInfo']['longDepth'].array()\n",
    "chi2_1 = file['CurvatureOnlyParams']['chi2_time'].array()\n",
    "red1 = file['MCPrimaryInfo']['ghRedChiSqr'].array()\n",
    "mass1 = [1 for i in range(len(red1))]\n",
    "        \n",
    "Xmax2 = file2['MCPrimaryInfo']['ghMaxDepth'].array()\n",
    "valueDepth = file2['MCPrimaryInfo']['longNumCharged'].array()\n",
    "Depth2 = file2['MCPrimaryInfo']['longDepth'].array()\n",
    "chi2_2 = file2['CurvatureOnlyParams']['chi2_time'].array()\n",
    "red2 = file2['MCPrimaryInfo']['ghRedChiSqr'].array()\n",
    "mass2 = [4 for i in range(len(red2))]\n"
   ]
  },
  {
   "cell_type": "code",
   "execution_count": 166,
   "metadata": {},
   "outputs": [],
   "source": [
    "S125_1 = file['LaputopParams']['s125'].array()\n",
    "S125_2 = file2['LaputopParams']['s125'].array()\n",
    "A1 = file['CurvatureOnlyParams']['A'].array()\n",
    "A2 = file2['CurvatureOnlyParams']['A'].array()\n",
    "D1 = file['CurvatureOnlyParams']['D'].array()\n",
    "D2 = file2['CurvatureOnlyParams']['D'].array()\n",
    "N1 = file['CurvatureOnlyParams']['N'].array()\n",
    "N2 = file2['CurvatureOnlyParams']['N'].array()\n",
    "beta1 = file['LaputopParams']['beta'].array()\n",
    "beta2 = file2['LaputopParams']['beta'].array()\n",
    "zenith1 = file['Laputop']['zenith'].array()\n",
    "zenith2 = file2['Laputop']['zenith'].array()\n",
    "energy1 = file['MCPrimary']['energy'].array()\n",
    "energy2 = file2['MCPrimary']['energy'].array()\n",
    "stoch1_1 = file['Stoch_Reco']['n_he_stoch'].array()\n",
    "stoch1_2 = file2['Stoch_Reco']['n_he_stoch'].array()\n",
    "stoch2_1 = file['Stoch_Reco2']['n_he_stoch'].array()\n",
    "stoch2_2 = file2['Stoch_Reco2']['n_he_stoch'].array()\n",
    "\n",
    "slc_charge1 = file['LaputopSLCPE']['charge'].array()\n",
    "slc_charge2 = file2['LaputopSLCPE']['charge'].array()\n",
    "\n",
    "slc_charge1 = [np.sum(i[np.isnan(i)==False]) for i in slc_charge1]\n",
    "slc_charge2 = [np.sum(i[np.isnan(i)==False]) for i in slc_charge2]\n",
    "\n",
    "hlc_charge1 = file['LaputopHLCPE']['charge'].array()\n",
    "hlc_charge2 = file2['LaputopHLCPE']['charge'].array()\n",
    "\n",
    "hlc_charge1 = [np.sum(i[np.isnan(i) ==False]) for i in hlc_charge1]\n",
    "hlc_charge2 = [np.sum(i[np.isnan(i)==False]) for i in hlc_charge2]\n",
    "\n",
    "Qtot1 = [i+j for i,j in zip(slc_charge1,hlc_charge1)]\n",
    "Qtot2 = [i+j for i,j in zip(slc_charge2,hlc_charge2)]"
   ]
  },
  {
   "cell_type": "code",
   "execution_count": 167,
   "metadata": {},
   "outputs": [],
   "source": [
    "A = np.append(A1,A2)\n",
    "D = np.append(D1,D2)\n",
    "N = np.append(N1,N2)\n",
    "S125 = np.log10(np.append(S125_1,S125_2))\n",
    "beta = np.log10(np.append(beta1,beta2))\n",
    "chi2 = np.append(chi2_1,chi2_2)\n",
    "red = np.append(red1,red2)\n",
    "zenith = np.cos(np.append(zenith1,zenith2))\n",
    "Xmax = np.append(Xmax1,Xmax2)\n",
    "red = np.append(red1,red2)\n",
    "mass = np.append(mass1,mass2)\n",
    "slc_charge = np.append(slc_charge1,slc_charge2)\n",
    "hlc_charge = np.append(hlc_charge1,hlc_charge2)\n",
    "qtot = np.append(Qtot1,Qtot2)\n",
    "stoch1 = np.append(stoch1_1,stoch1_2)\n",
    "stoch2 = np.append(stoch2_1,stoch2_2)\n",
    "for i in range(len(stoch1)):\n",
    "    if not in_ice_cuts[i]:\n",
    "        stoch1[i] = 0\n",
    "        stoch2[i] = 0\n",
    "\n",
    "energy_loss = Eloss\n",
    "for i in range(len(energy_loss)):\n",
    "    if ((energy_loss[i] != 0 and in_ice_cuts[i]) and np.isfinite(energy_loss[i])) and not np.isnan(energy_loss[i]):\n",
    "        energy_loss[i] = np.log10(abs(energy_loss[i]))\n",
    "    else:\n",
    "        energy_loss[i] = 0\n",
    "        \n",
    "energy = np.log10(np.append(energy1,energy2))"
   ]
  },
  {
   "cell_type": "code",
   "execution_count": 168,
   "metadata": {},
   "outputs": [
    {
     "name": "stdout",
     "output_type": "stream",
     "text": [
      "[[ 1.00000000e+00 -1.67488960e-01 -1.59570024e-01 -1.19173749e-01\n",
      "  -1.91653200e-01 -1.32195338e-01  1.25447376e-01  4.29808393e-02\n",
      "  -2.00833332e-01  1.33948905e-02  5.60756736e-04  2.68353149e-01\n",
      "  -1.26407490e-02 -1.08003071e-02]\n",
      " [-1.67488960e-01  1.00000000e+00  8.08854556e-01  3.82294608e-01\n",
      "   6.20143587e-02 -5.45574992e-02 -4.71564816e-02  1.91778746e-01\n",
      "   1.59400512e-01  3.30219081e-01 -2.20658129e-02 -6.91919950e-02\n",
      "   1.49829065e-01  1.49196148e-01]\n",
      " [-1.59570024e-01  8.08854556e-01  1.00000000e+00  5.23775355e-01\n",
      "   8.03260903e-02 -1.17366307e-02 -4.60883112e-02  1.29606149e-01\n",
      "   1.45734553e-01  3.12321477e-01 -1.32530912e-02 -8.71389675e-02\n",
      "   1.18129195e-01  1.17408360e-01]\n",
      " [-1.19173749e-01  3.82294608e-01  5.23775355e-01  1.00000000e+00\n",
      "   9.62204274e-02  5.95681240e-02 -4.57410568e-02 -1.92431528e-02\n",
      "   9.24728093e-02  2.00266772e-01  3.91724063e-03 -1.02598803e-01\n",
      "   1.45791996e-03  7.57915232e-04]\n",
      " [-1.91653200e-01  6.20143587e-02  8.03260903e-02  9.62204274e-02\n",
      "   1.00000000e+00  3.81056235e-01 -1.13932152e-01 -2.16043350e-01\n",
      "   2.23904995e-01  3.22390602e-01  4.32776547e-01 -3.60749154e-01\n",
      "  -1.26346490e-01 -1.28665721e-01]\n",
      " [-1.32195338e-01 -5.45574992e-02 -1.17366307e-02  5.95681240e-02\n",
      "   3.81056235e-01  1.00000000e+00 -1.70741441e-02 -5.38419316e-01\n",
      "   5.60844617e-02 -8.64729489e-03  1.40487983e-01 -2.81087920e-01\n",
      "  -2.66642312e-01 -2.68267660e-01]\n",
      " [ 1.25447376e-01 -4.71564816e-02 -4.60883112e-02 -4.57410568e-02\n",
      "  -1.13932152e-01 -1.70741441e-02  1.00000000e+00  9.32826889e-02\n",
      "  -1.63639634e-01 -1.94162290e-01  6.10401147e-01  1.75085904e-01\n",
      "   1.87490020e-01  1.88479301e-01]\n",
      " [ 4.29808393e-02  1.91778746e-01  1.29606149e-01 -1.92431528e-02\n",
      "  -2.16043350e-01 -5.38419316e-01  9.32826889e-02  1.00000000e+00\n",
      "   7.57518716e-02  1.95359207e-01 -1.23829094e-01  3.23825614e-01\n",
      "   6.70966750e-01  6.72446129e-01]\n",
      " [-2.00833332e-01  1.59400512e-01  1.45734553e-01  9.24728093e-02\n",
      "   2.23904995e-01  5.60844617e-02 -1.63639634e-01  7.57518716e-02\n",
      "   1.00000000e+00  4.18919768e-01 -3.84708959e-02 -2.42250790e-01\n",
      "   7.74485483e-02  7.57157659e-02]\n",
      " [ 1.33948905e-02  3.30219081e-01  3.12321477e-01  2.00266772e-01\n",
      "   3.22390602e-01 -8.64729489e-03 -1.94162290e-01  1.95359207e-01\n",
      "   4.18919768e-01  1.00000000e+00 -3.26756522e-02 -4.64639811e-01\n",
      "   1.36155380e-01  1.32845274e-01]\n",
      " [ 5.60756736e-04 -2.20658129e-02 -1.32530912e-02  3.91724063e-03\n",
      "   4.32776547e-01  1.40487983e-01  6.10401147e-01 -1.23829094e-01\n",
      "  -3.84708959e-02 -3.26756522e-02  1.00000000e+00 -5.22009188e-02\n",
      "  -6.58379527e-02 -6.61221619e-02]\n",
      " [ 2.68353149e-01 -6.91919950e-02 -8.71389675e-02 -1.02598803e-01\n",
      "  -3.60749154e-01 -2.81087920e-01  1.75085904e-01  3.23825614e-01\n",
      "  -2.42250790e-01 -4.64639811e-01 -5.22009188e-02  1.00000000e+00\n",
      "   1.55413380e-01  1.62052828e-01]\n",
      " [-1.26407490e-02  1.49829065e-01  1.18129195e-01  1.45791996e-03\n",
      "  -1.26346490e-01 -2.66642312e-01  1.87490020e-01  6.70966750e-01\n",
      "   7.74485483e-02  1.36155380e-01 -6.58379527e-02  1.55413380e-01\n",
      "   1.00000000e+00  9.99977389e-01]\n",
      " [-1.08003071e-02  1.49196148e-01  1.17408360e-01  7.57915232e-04\n",
      "  -1.28665721e-01 -2.68267660e-01  1.88479301e-01  6.72446129e-01\n",
      "   7.57157659e-02  1.32845274e-01 -6.61221619e-02  1.62052828e-01\n",
      "   9.99977389e-01  1.00000000e+00]]\n"
     ]
    }
   ],
   "source": [
    "values = [mass,\n",
    "            energy_loss,\n",
    "            stoch1,\n",
    "            stoch2,\n",
    "            A,\n",
    "            D,\n",
    "            N,\n",
    "            S125,\n",
    "            beta,\n",
    "            zenith,\n",
    "            chi2,\n",
    "            slc_charge,\n",
    "            hlc_charge,\n",
    "            qtot\n",
    "            ]\n",
    "\n",
    "print(np.corrcoef(values))"
   ]
  },
  {
   "cell_type": "code",
   "execution_count": 169,
   "metadata": {},
   "outputs": [],
   "source": [
    "import random\n",
    "#model coinc:slc_charge,A,N,beta,energy_loss,stoch1,zenith\n",
    "#model not coinc:slc_charge,beta,A,zenith\n",
    "input_variable2_old = np.array(list(zip(slc_charge,A,energy_loss,beta,stoch1,S125)))[in_ice_cuts]\n",
    "output_new_old = mass[in_ice_cuts]\n",
    "energy_value = energy[in_ice_cuts]\n",
    "\n",
    "validation = []\n",
    "output = []\n",
    "\n",
    "for i in range(len(input_variable2_old)):\n",
    "    if random.random() < 0.1:\n",
    "        validation.append(i)\n",
    "    else:\n",
    "        output.append(i)\n",
    "        \n",
    "validation_x = input_variable2_old[validation]\n",
    "validation_y = output_new_old[validation]\n",
    "input_variable = np.array(input_variable2_old)[output]\n",
    "output_new = np.array(output_new_old)[output]\n",
    "energy_value = energy_value[output]"
   ]
  },
  {
   "cell_type": "code",
   "execution_count": 170,
   "metadata": {},
   "outputs": [],
   "source": [
    "from sklearn.preprocessing import minmax_scale\n",
    "import keras\n",
    "from keras import initializers,regularizers\n",
    "from keras.layers import Dense, Dropout, Flatten, Input, Concatenate, LeakyReLU\n",
    "from keras.models import Model, load_model\n",
    "import keras.backend as K\n",
    "from tensorflow.python.framework import ops\n",
    "from tensorflow.python.ops import gen_math_ops as math_ops\n",
    "from sklearn.model_selection import train_test_split"
   ]
  },
  {
   "cell_type": "code",
   "execution_count": 171,
   "metadata": {},
   "outputs": [],
   "source": [
    "train_features,test_features,train_labels,test_labels = train_test_split(input_variable,output_new,test_size=0.2,random_state=42)"
   ]
  },
  {
   "cell_type": "code",
   "execution_count": 172,
   "metadata": {},
   "outputs": [],
   "source": [
    "best_model = keras.callbacks.ModelCheckpoint('Mass_model_best.h5',\n",
    "                                             monitor='val_loss',\n",
    "                                             save_best_only=True,\n",
    "                                             save_weights_only=False,\n",
    "                                             mode='auto')"
   ]
  },
  {
   "cell_type": "code",
   "execution_count": 175,
   "metadata": {},
   "outputs": [
    {
     "name": "stdout",
     "output_type": "stream",
     "text": [
      "Model: \"model_30\"\n",
      "_________________________________________________________________\n",
      "Layer (type)                 Output Shape              Param #   \n",
      "=================================================================\n",
      "input_31 (InputLayer)        (None, 6)                 0         \n",
      "_________________________________________________________________\n",
      "dense_88 (Dense)             (None, 7)                 49        \n",
      "_________________________________________________________________\n",
      "leaky_re_lu_59 (LeakyReLU)   (None, 7)                 0         \n",
      "_________________________________________________________________\n",
      "dropout_30 (Dropout)         (None, 7)                 0         \n",
      "_________________________________________________________________\n",
      "dense_89 (Dense)             (None, 4)                 32        \n",
      "_________________________________________________________________\n",
      "leaky_re_lu_60 (LeakyReLU)   (None, 4)                 0         \n",
      "_________________________________________________________________\n",
      "dense_90 (Dense)             (None, 1)                 5         \n",
      "=================================================================\n",
      "Total params: 86\n",
      "Trainable params: 86\n",
      "Non-trainable params: 0\n",
      "_________________________________________________________________\n",
      "None\n"
     ]
    }
   ],
   "source": [
    "input_layer = Input(shape=(6,))\n",
    "\n",
    "model1 = Dense(7)(input_layer)\n",
    "\n",
    "model1 = LeakyReLU()(model1)\n",
    "\n",
    "model1 = Dropout(rate=0.1)(model1)\n",
    "\n",
    "model2 = Dense(4)(model1)\n",
    "\n",
    "model2 = LeakyReLU()(model2)\n",
    "\n",
    "predictions = Dense(1,activation='linear')(model2)\n",
    "\n",
    "model = Model(inputs=input_layer,outputs=predictions)\n",
    "\n",
    "opt = keras.optimizers.RMSprop(decay=1e-5)\n",
    "#opt= keras.optimizers.Adam(decay=1e-5,lr=3e-4)                                                               \n",
    "\n",
    "model.compile(optimizer=opt , loss = 'mse')\n",
    "\n",
    "print(model.summary())"
   ]
  },
  {
   "cell_type": "code",
   "execution_count": 176,
   "metadata": {},
   "outputs": [
    {
     "name": "stdout",
     "output_type": "stream",
     "text": [
      "Train on 18778 samples, validate on 4695 samples\n",
      "Epoch 1/10\n",
      "18778/18778 [==============================] - 1s 62us/step - loss: 0.4933 - val_loss: 1.3819\n",
      "Epoch 2/10\n",
      "18778/18778 [==============================] - 1s 57us/step - loss: 0.3726 - val_loss: 1.4311\n",
      "Epoch 3/10\n",
      "18778/18778 [==============================] - 1s 56us/step - loss: 0.3318 - val_loss: 1.1495\n",
      "Epoch 4/10\n",
      "18778/18778 [==============================] - 1s 55us/step - loss: 0.3139 - val_loss: 1.0931\n",
      "Epoch 5/10\n",
      "18778/18778 [==============================] - 1s 55us/step - loss: 0.3042 - val_loss: 1.0826\n",
      "Epoch 6/10\n",
      "18778/18778 [==============================] - 1s 57us/step - loss: 0.2986 - val_loss: 1.2387\n",
      "Epoch 7/10\n",
      "18778/18778 [==============================] - 1s 57us/step - loss: 0.2995 - val_loss: 0.9234\n",
      "Epoch 8/10\n",
      "18778/18778 [==============================] - 1s 57us/step - loss: 0.2959 - val_loss: 1.0534\n",
      "Epoch 9/10\n",
      "18778/18778 [==============================] - 1s 57us/step - loss: 0.2914 - val_loss: 1.0776\n",
      "Epoch 10/10\n",
      "18778/18778 [==============================] - 1s 56us/step - loss: 0.2944 - val_loss: 1.1853\n"
     ]
    }
   ],
   "source": [
    "history = model.fit(train_features,train_labels,\n",
    "                    batch_size=15,\n",
    "                    epochs=10,\n",
    "                    validation_data = (test_features,test_labels),\n",
    "                    callbacks=[best_model],\n",
    "                   class_weight = {1:0.125,4:0.875})\n",
    "\n",
    "model.save('Mass_model.h5')"
   ]
  },
  {
   "cell_type": "code",
   "execution_count": 177,
   "metadata": {},
   "outputs": [],
   "source": [
    "new_model = load_model('Mass_model_best.h5')\n",
    "predict = new_model.predict(validation_x)"
   ]
  },
  {
   "cell_type": "code",
   "execution_count": 178,
   "metadata": {},
   "outputs": [
    {
     "data": {
      "image/png": "[encoded data removed]",
      "text/plain": [
       "<Figure size 432x288 with 1 Axes>"
      ]
     },
     "metadata": {
      "needs_background": "light"
     },
     "output_type": "display_data"
    },
    {
     "name": "stdout",
     "output_type": "stream",
     "text": [
      "274\n",
      "1954\n"
     ]
    }
   ],
   "source": [
    "plt.hist(predict,bins=100)\n",
    "plt.show()\n",
    "count = 0\n",
    "for i in predict[validation_y==4]>2.5:\n",
    "    if i:\n",
    "        count+=1\n",
    "print(count)\n",
    "\n",
    "count = 0\n",
    "for i in predict[validation_y==1]<2.5:\n",
    "    if i:\n",
    "        count+=1\n",
    "print(count)"
   ]
  },
  {
   "cell_type": "code",
   "execution_count": 179,
   "metadata": {},
   "outputs": [
    {
     "name": "stdout",
     "output_type": "stream",
     "text": [
      "2153\n",
      "380\n"
     ]
    }
   ],
   "source": [
    "count = 0\n",
    "for i in validation_y==1:\n",
    "    if i:\n",
    "        count+=1\n",
    "print(count)\n",
    "\n",
    "count = 0\n",
    "for i in validation_y==4:\n",
    "    if i:\n",
    "        count+=1\n",
    "print(count)"
   ]
  },
  {
   "cell_type": "code",
   "execution_count": 180,
   "metadata": {},
   "outputs": [
    {
     "data": {
      "image/png": "[encoded data removed]",
      "text/plain": [
       "<Figure size 432x288 with 1 Axes>"
      ]
     },
     "metadata": {
      "needs_background": "light"
     },
     "output_type": "display_data"
    }
   ],
   "source": [
    "plt.hist(test_labels)\n",
    "plt.show()"
   ]
  },
  {
   "cell_type": "code",
   "execution_count": null,
   "metadata": {},
   "outputs": [],
   "source": []
  }
 ],
 "metadata": {
  "kernelspec": {
   "display_name": "Python 3",
   "language": "python",
   "name": "python3"
  },
  "language_info": {
   "codemirror_mode": {
    "name": "ipython",
    "version": 3
   },
   "file_extension": ".py",
   "mimetype": "text/x-python",
   "name": "python",
   "nbconvert_exporter": "python",
   "pygments_lexer": "ipython3",
   "version": "3.6.9"
  }
 },
 "nbformat": 4,
 "nbformat_minor": 4
}
