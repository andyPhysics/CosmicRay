{
 "cells": [
  {
   "cell_type": "code",
   "execution_count": 1,
   "metadata": {},
   "outputs": [],
   "source": [
    "import numpy as np\n",
    "import uproot\n",
    "import matplotlib.pyplot as plt\n",
    "import sklearn\n",
    "from random import random\n",
    "from sklearn.model_selection import cross_validate\n",
    "import matplotlib\n",
    "from waveform_methods import binning\n",
    "import pandas as pd\n",
    "\n",
    "from scipy.stats import norm\n",
    "import pickle\n",
    "from statistics import mode\n",
    "from sklearn.metrics import confusion_matrix\n",
    "from sklearn.model_selection import StratifiedKFold\n",
    "from sklearn.preprocessing import scale"
   ]
  },
  {
   "cell_type": "code",
   "execution_count": 2,
   "metadata": {},
   "outputs": [],
   "source": [
    "file = uproot.open('/home/andy/12360.root')\n",
    "file2 = uproot.open('/home/andy/12362.root')\n",
    "log_normal = np.load('log_normal.npz',allow_pickle=True,encoding='latin1')['arr_0'].item()"
   ]
  },
  {
   "cell_type": "code",
   "execution_count": 3,
   "metadata": {},
   "outputs": [
    {
     "name": "stdout",
     "output_type": "stream",
     "text": [
      "[b'Run', b'Event', b'SubEvent', b'SubEventStream', b'SubEventStream_String', b'exists', b'eloss_1000', b'eloss_1500', b'eloss_1600', b'eloss_1700', b'eloss_1800', b'eloss_1900', b'eloss_2000', b'eloss_2100', b'eloss_2200', b'eloss_2300', b'eloss_2400', b'eloss_3000', b'a_estim', b'a_estim_err', b'e0_estim', b'e0_estim_err', b'stoch_energy', b'rel_stoch_energy', b'total_stoch_energy', b'total_rel_stoch_energy', b'highest_stoch_energy', b'highest_rel_stoch_energy', b'chi2', b'chi2_red', b'stoch_depth', b'n_he_stoch', b'fit_status', b'fit_status_String']\n"
     ]
    }
   ],
   "source": [
    "print(file['Stoch_Reco'].keys())"
   ]
  },
  {
   "cell_type": "code",
   "execution_count": 4,
   "metadata": {},
   "outputs": [],
   "source": [
    "Eloss_keys = file['Stoch_Reco'].keys()[6:18]\n",
    "for i in range(len(Eloss_keys)):\n",
    "    if i == 0:\n",
    "        Eloss1 = file['Stoch_Reco'][Eloss_keys[i]].array()\n",
    "    else:\n",
    "        Eloss1 += file['Stoch_Reco'][Eloss_keys[i]].array()\n",
    "Eloss1 = Eloss1/len(Eloss_keys)\n",
    "\n",
    "Eloss_keys = file2['Stoch_Reco'].keys()[6:18]\n",
    "for i in range(len(Eloss_keys)):\n",
    "    if i == 0:\n",
    "        Eloss2 = file2['Stoch_Reco'][Eloss_keys[i]].array()\n",
    "    else:\n",
    "        Eloss2 += file2['Stoch_Reco'][Eloss_keys[i]].array()\n",
    "Eloss2 = Eloss2/len(Eloss_keys)\n",
    "\n",
    "Eloss = np.append(Eloss1,Eloss2)"
   ]
  },
  {
   "cell_type": "code",
   "execution_count": 5,
   "metadata": {},
   "outputs": [],
   "source": [
    "cut = []\n",
    "for i in file['IT73AnalysisInIceQualityCuts'].keys()[6:11]:\n",
    "    cut.append(file['IT73AnalysisInIceQualityCuts'][i].array())\n",
    "cut2 = list(zip(cut))\n",
    "for i in range(len(cut2)):\n",
    "    if i == 0:\n",
    "        final_cut = cut2[i][0]\n",
    "    else:\n",
    "        final_cut = [j and k for j,k in zip(final_cut,cut2[i][0])]\n",
    "        \n",
    "cut = []\n",
    "for i in file2['IT73AnalysisInIceQualityCuts'].keys()[6:11]:\n",
    "    cut.append(file2['IT73AnalysisInIceQualityCuts'][i].array())\n",
    "cut2 = list(zip(cut))\n",
    "for i in range(len(cut2)):\n",
    "    if i == 0:\n",
    "        final_cut2 = cut2[i][0]\n",
    "    else:\n",
    "        final_cut2 = [j and k for j,k in zip(final_cut,cut2[i][0])]\n",
    "        \n",
    "in_ice_cuts = np.append(final_cut,final_cut2)"
   ]
  },
  {
   "cell_type": "code",
   "execution_count": 6,
   "metadata": {},
   "outputs": [],
   "source": [
    "Xmax1 = file['MCPrimaryInfo']['ghMaxDepth'].array()\n",
    "valueDepth = file['MCPrimaryInfo']['longNumCharged'].array()\n",
    "Depth1 = file['MCPrimaryInfo']['longDepth'].array()\n",
    "chi2_1 = file['CurvatureOnlyParams']['chi2_time'].array()\n",
    "red1 = file['MCPrimaryInfo']['ghRedChiSqr'].array()\n",
    "mass1 = [1 for i in range(len(red1))]\n",
    "        \n",
    "Xmax2 = file2['MCPrimaryInfo']['ghMaxDepth'].array()\n",
    "valueDepth = file2['MCPrimaryInfo']['longNumCharged'].array()\n",
    "Depth2 = file2['MCPrimaryInfo']['longDepth'].array()\n",
    "chi2_2 = file2['CurvatureOnlyParams']['chi2_time'].array()\n",
    "red2 = file2['MCPrimaryInfo']['ghRedChiSqr'].array()\n",
    "mass2 = [4 for i in range(len(red2))]\n"
   ]
  },
  {
   "cell_type": "code",
   "execution_count": 7,
   "metadata": {},
   "outputs": [],
   "source": [
    "S125_1 = file['LaputopParams']['s125'].array()\n",
    "S125_2 = file2['LaputopParams']['s125'].array()\n",
    "A1 = file['CurvatureOnlyParams']['A'].array()\n",
    "A2 = file2['CurvatureOnlyParams']['A'].array()\n",
    "D1 = file['CurvatureOnlyParams']['D'].array()\n",
    "D2 = file2['CurvatureOnlyParams']['D'].array()\n",
    "N1 = file['CurvatureOnlyParams']['N'].array()\n",
    "N2 = file2['CurvatureOnlyParams']['N'].array()\n",
    "beta1 = file['LaputopParams']['beta'].array()\n",
    "beta2 = file2['LaputopParams']['beta'].array()\n",
    "zenith1 = file['Laputop']['zenith'].array()\n",
    "zenith2 = file2['Laputop']['zenith'].array()\n",
    "energy1 = file['MCPrimary']['energy'].array()\n",
    "energy2 = file2['MCPrimary']['energy'].array()\n",
    "stoch1_1 = file['Stoch_Reco']['n_he_stoch'].array()\n",
    "stoch1_2 = file2['Stoch_Reco']['n_he_stoch'].array()\n",
    "stoch2_1 = file['Stoch_Reco2']['n_he_stoch'].array()\n",
    "stoch2_2 = file2['Stoch_Reco2']['n_he_stoch'].array()\n",
    "\n",
    "slc_charge1 = file['LaputopSLCPE']['charge'].array()\n",
    "slc_charge2 = file2['LaputopSLCPE']['charge'].array()\n",
    "\n",
    "slc_charge1 = [np.sum(i[np.isnan(i)==False]) for i in slc_charge1]\n",
    "slc_charge2 = [np.sum(i[np.isnan(i)==False]) for i in slc_charge2]\n",
    "\n",
    "hlc_charge1 = file['LaputopHLCPE']['charge'].array()\n",
    "hlc_charge2 = file2['LaputopHLCPE']['charge'].array()\n",
    "\n",
    "hlc_charge1 = [np.sum(i[np.isnan(i) ==False]) for i in hlc_charge1]\n",
    "hlc_charge2 = [np.sum(i[np.isnan(i)==False]) for i in hlc_charge2]\n",
    "\n",
    "Qtot1 = [i+j for i,j in zip(slc_charge1,hlc_charge1)]\n",
    "Qtot2 = [i+j for i,j in zip(slc_charge2,hlc_charge2)]"
   ]
  },
  {
   "cell_type": "code",
   "execution_count": 8,
   "metadata": {},
   "outputs": [],
   "source": [
    "A = np.append(A1,A2)\n",
    "D = np.append(D1,D2)\n",
    "N = np.append(N1,N2)\n",
    "S125 = np.log10(np.append(S125_1,S125_2))\n",
    "beta = np.log10(np.append(beta1,beta2))\n",
    "chi2 = np.append(chi2_1,chi2_2)\n",
    "red = np.append(red1,red2)\n",
    "zenith = np.cos(np.append(zenith1,zenith2))\n",
    "Xmax = np.append(Xmax1,Xmax2)\n",
    "red = np.append(red1,red2)\n",
    "mass = np.append(mass1,mass2)\n",
    "slc_charge = np.append(slc_charge1,slc_charge2)\n",
    "hlc_charge = np.append(hlc_charge1,hlc_charge2)\n",
    "qtot = np.append(Qtot1,Qtot2)\n",
    "stoch1 = np.append(stoch1_1,stoch1_2)\n",
    "stoch2 = np.append(stoch2_1,stoch2_2)\n",
    "for i in range(len(stoch1)):\n",
    "    if not in_ice_cuts[i]:\n",
    "        stoch1[i] = 0\n",
    "        stoch2[i] = 0\n",
    "\n",
    "energy_loss = Eloss\n",
    "for i in range(len(energy_loss)):\n",
    "    if ((energy_loss[i] != 0 and in_ice_cuts[i]) and np.isfinite(energy_loss[i])) and not np.isnan(energy_loss[i]):\n",
    "        energy_loss[i] = np.log10(abs(energy_loss[i]))\n",
    "    else:\n",
    "        energy_loss[i] = 0\n",
    "        \n",
    "energy = np.log10(np.append(energy1,energy2))\n",
    "\n",
    "s = log_normal['s']\n",
    "m = log_normal['m']\n",
    "fit_status = log_normal['fit_status']\n",
    "\n",
    "for i in range(len(in_ice_cuts)):\n",
    "    if fit_status[i] == True and in_ice_cuts[i] == False:\n",
    "        in_ice_cuts[i] = False\n",
    "    else:\n",
    "        in_ice_cuts[i] = True"
   ]
  },
  {
   "cell_type": "code",
   "execution_count": 9,
   "metadata": {},
   "outputs": [],
   "source": [
    "values = [mass[in_ice_cuts==False],\n",
    "            A[in_ice_cuts==False],\n",
    "            D[in_ice_cuts==False],\n",
    "            N[in_ice_cuts==False],\n",
    "            S125[in_ice_cuts==False],\n",
    "            beta[in_ice_cuts==False],\n",
    "            zenith[in_ice_cuts==False],\n",
    "            chi2[in_ice_cuts==False],\n",
    "            slc_charge[in_ice_cuts==False],\n",
    "            hlc_charge[in_ice_cuts==False],\n",
    "            qtot[in_ice_cuts==False]\n",
    "            ]\n"
   ]
  },
  {
   "cell_type": "code",
   "execution_count": 10,
   "metadata": {},
   "outputs": [],
   "source": [
    "import random\n",
    "from sklearn.model_selection import train_test_split\n",
    "from sklearn.preprocessing import scale\n",
    "from sklearn.preprocessing import minmax_scale\n",
    "\n",
    "#model coinc:slc_charge,A,N,beta,energy_loss,stoch1,zenith\n",
    "#model not coinc:slc_charge,beta,A,zenith\n",
    "input_variable2_old = scale(np.array(list(zip(A,N,beta,S125,zenith,m,s)))[in_ice_cuts==False])\n",
    "output_new_old = mass[in_ice_cuts==False]\n",
    "energy_value = energy[in_ice_cuts==False]\n",
    "\n",
    "index = range(len(output_new_old))\n",
    "\n",
    "output,validation,output_mass,validation_mass = train_test_split(index,output_new_old,test_size=0.1,random_state=42)\n",
    "        \n",
    "validation_x = input_variable2_old[validation]\n",
    "validation_y = output_new_old[validation]\n",
    "validation_energy = energy_value[validation]\n",
    "input_variable = np.array(input_variable2_old)[output]\n",
    "output_new = np.array(output_new_old)[output]\n",
    "energy_value = energy_value[output]\n",
    "weights = np.array((qtot**0.5)[output])\n",
    "index = np.array(range(len(weights)))"
   ]
  },
  {
   "cell_type": "code",
   "execution_count": 11,
   "metadata": {},
   "outputs": [
    {
     "name": "stderr",
     "output_type": "stream",
     "text": [
      "Using TensorFlow backend.\n"
     ]
    }
   ],
   "source": [
    "import keras\n",
    "from keras import initializers,regularizers\n",
    "from keras.layers import Dense, Dropout, Flatten, Input, Concatenate, LeakyReLU, BatchNormalization\n",
    "from keras.models import Model, load_model\n",
    "import keras.backend as K\n",
    "from tensorflow.python.framework import ops\n",
    "from tensorflow.python.ops import gen_math_ops as math_ops"
   ]
  },
  {
   "cell_type": "code",
   "execution_count": 12,
   "metadata": {},
   "outputs": [],
   "source": [
    "train_index,test_index,train_labels,test_labels = train_test_split(index,output_new,test_size=0.2,random_state=42)"
   ]
  },
  {
   "cell_type": "code",
   "execution_count": 13,
   "metadata": {},
   "outputs": [],
   "source": [
    "best_model = keras.callbacks.ModelCheckpoint('Mass_model_best.h5',\n",
    "                                             monitor='val_loss',\n",
    "                                             save_best_only=True,\n",
    "                                             save_weights_only=False,\n",
    "                                             mode='auto')\n",
    "callback = keras.callbacks.EarlyStopping(monitor='val_loss', patience=2)"
   ]
  },
  {
   "cell_type": "code",
   "execution_count": 14,
   "metadata": {},
   "outputs": [
    {
     "name": "stdout",
     "output_type": "stream",
     "text": [
      "Model: \"model_1\"\n",
      "_________________________________________________________________\n",
      "Layer (type)                 Output Shape              Param #   \n",
      "=================================================================\n",
      "input_1 (InputLayer)         (None, 8)                 0         \n",
      "_________________________________________________________________\n",
      "dense_1 (Dense)              (None, 16)                144       \n",
      "_________________________________________________________________\n",
      "dropout_1 (Dropout)          (None, 16)                0         \n",
      "_________________________________________________________________\n",
      "dense_2 (Dense)              (None, 16)                272       \n",
      "_________________________________________________________________\n",
      "dense_3 (Dense)              (None, 1)                 17        \n",
      "=================================================================\n",
      "Total params: 433\n",
      "Trainable params: 433\n",
      "Non-trainable params: 0\n",
      "_________________________________________________________________\n",
      "None\n"
     ]
    }
   ],
   "source": [
    "input_layer = Input(shape=(8,))\n",
    "\n",
    "model1 = Dense(16,activation='sigmoid')(input_layer)\n",
    "\n",
    "model1 = Dropout(rate=0.5)(model1)\n",
    "\n",
    "model2 = Dense(16,activation='sigmoid')(model1)\n",
    "\n",
    "predictions = Dense(1,activation='linear')(model2)\n",
    "\n",
    "model = Model(inputs=input_layer,outputs=predictions)\n",
    "\n",
    "opt = keras.optimizers.RMSprop(decay=1e-5)\n",
    "#opt= keras.optimizers.Adam(decay=1e-5,amsgrad=True)  \n",
    "\n",
    "model.compile(optimizer=opt , loss = 'mae')\n",
    "\n",
    "print(model.summary())"
   ]
  },
  {
   "cell_type": "code",
   "execution_count": 15,
   "metadata": {},
   "outputs": [
    {
     "name": "stdout",
     "output_type": "stream",
     "text": [
      "Train on 151599 samples, validate on 37900 samples\n",
      "Epoch 1/200\n",
      "151599/151599 [==============================] - 4s 24us/step - loss: 1.1709 - val_loss: 0.9673\n",
      "Epoch 2/200\n",
      "151599/151599 [==============================] - 3s 21us/step - loss: 0.9478 - val_loss: 0.8798\n",
      "Epoch 3/200\n",
      "151599/151599 [==============================] - 3s 21us/step - loss: 0.9009 - val_loss: 0.8639\n",
      "Epoch 4/200\n",
      "151599/151599 [==============================] - 3s 22us/step - loss: 0.8857 - val_loss: 0.8576\n",
      "Epoch 5/200\n",
      "151599/151599 [==============================] - 3s 21us/step - loss: 0.8781 - val_loss: 0.8524\n",
      "Epoch 6/200\n",
      "151599/151599 [==============================] - 3s 22us/step - loss: 0.8719 - val_loss: 0.8477\n",
      "Epoch 7/200\n",
      "151599/151599 [==============================] - 3s 21us/step - loss: 0.8692 - val_loss: 0.8467\n",
      "Epoch 8/200\n",
      "151599/151599 [==============================] - 3s 21us/step - loss: 0.8636 - val_loss: 0.8424\n",
      "Epoch 9/200\n",
      "151599/151599 [==============================] - 3s 21us/step - loss: 0.8623 - val_loss: 0.8397\n",
      "Epoch 10/200\n",
      "151599/151599 [==============================] - 3s 21us/step - loss: 0.8574 - val_loss: 0.8372\n",
      "Epoch 11/200\n",
      "151599/151599 [==============================] - 3s 21us/step - loss: 0.8553 - val_loss: 0.8343\n",
      "Epoch 12/200\n",
      "151599/151599 [==============================] - 3s 21us/step - loss: 0.8552 - val_loss: 0.8330\n",
      "Epoch 13/200\n",
      "151599/151599 [==============================] - 3s 22us/step - loss: 0.8539 - val_loss: 0.8304\n",
      "Epoch 14/200\n",
      "151599/151599 [==============================] - 3s 21us/step - loss: 0.8501 - val_loss: 0.8286\n",
      "Epoch 15/200\n",
      "151599/151599 [==============================] - 3s 21us/step - loss: 0.8479 - val_loss: 0.8269\n",
      "Epoch 16/200\n",
      "151599/151599 [==============================] - 3s 22us/step - loss: 0.8458 - val_loss: 0.8251\n",
      "Epoch 17/200\n",
      "151599/151599 [==============================] - 3s 22us/step - loss: 0.8434 - val_loss: 0.8245\n",
      "Epoch 18/200\n",
      "151599/151599 [==============================] - 3s 22us/step - loss: 0.8409 - val_loss: 0.8230\n",
      "Epoch 19/200\n",
      "151599/151599 [==============================] - 3s 22us/step - loss: 0.8419 - val_loss: 0.8197\n",
      "Epoch 20/200\n",
      "151599/151599 [==============================] - 3s 22us/step - loss: 0.8396 - val_loss: 0.8199\n",
      "Epoch 21/200\n",
      "151599/151599 [==============================] - 3s 22us/step - loss: 0.8391 - val_loss: 0.8172\n",
      "Epoch 22/200\n",
      "151599/151599 [==============================] - 3s 22us/step - loss: 0.8386 - val_loss: 0.8156\n",
      "Epoch 23/200\n",
      "151599/151599 [==============================] - 3s 22us/step - loss: 0.8361 - val_loss: 0.8145\n",
      "Epoch 24/200\n",
      "151599/151599 [==============================] - 3s 22us/step - loss: 0.8360 - val_loss: 0.8133\n",
      "Epoch 25/200\n",
      "151599/151599 [==============================] - 3s 22us/step - loss: 0.8345 - val_loss: 0.8137\n",
      "Epoch 26/200\n",
      "151599/151599 [==============================] - 3s 22us/step - loss: 0.8329 - val_loss: 0.8117\n",
      "Epoch 27/200\n",
      "151599/151599 [==============================] - 3s 22us/step - loss: 0.8333 - val_loss: 0.8117\n",
      "Epoch 28/200\n",
      "151599/151599 [==============================] - 3s 22us/step - loss: 0.8322 - val_loss: 0.8111\n",
      "Epoch 29/200\n",
      "151599/151599 [==============================] - 3s 22us/step - loss: 0.8327 - val_loss: 0.8080\n",
      "Epoch 30/200\n",
      "151599/151599 [==============================] - 3s 22us/step - loss: 0.8304 - val_loss: 0.8072\n",
      "Epoch 31/200\n",
      "151599/151599 [==============================] - 3s 22us/step - loss: 0.8279 - val_loss: 0.8065\n",
      "Epoch 32/200\n",
      "151599/151599 [==============================] - 3s 22us/step - loss: 0.8294 - val_loss: 0.8056\n",
      "Epoch 33/200\n",
      "151599/151599 [==============================] - 3s 22us/step - loss: 0.8258 - val_loss: 0.8054\n",
      "Epoch 34/200\n",
      "151599/151599 [==============================] - 3s 22us/step - loss: 0.8278 - val_loss: 0.8044\n",
      "Epoch 35/200\n",
      "151599/151599 [==============================] - 3s 22us/step - loss: 0.8253 - val_loss: 0.8039\n",
      "Epoch 36/200\n",
      "151599/151599 [==============================] - 3s 22us/step - loss: 0.8242 - val_loss: 0.8050\n",
      "Epoch 37/200\n",
      "151599/151599 [==============================] - 3s 22us/step - loss: 0.8237 - val_loss: 0.8023\n",
      "Epoch 38/200\n",
      "151599/151599 [==============================] - 3s 22us/step - loss: 0.8203 - val_loss: 0.8024\n",
      "Epoch 39/200\n",
      "151599/151599 [==============================] - 3s 22us/step - loss: 0.8235 - val_loss: 0.8018\n",
      "Epoch 40/200\n",
      "151599/151599 [==============================] - 3s 22us/step - loss: 0.8230 - val_loss: 0.8009\n",
      "Epoch 41/200\n",
      "151599/151599 [==============================] - 3s 22us/step - loss: 0.8230 - val_loss: 0.8010\n",
      "Epoch 42/200\n",
      "151599/151599 [==============================] - 3s 22us/step - loss: 0.8224 - val_loss: 0.8010\n"
     ]
    }
   ],
   "source": [
    "history = model.fit(input_variable[train_index],train_labels,\n",
    "                    batch_size=40,\n",
    "                    epochs=200,\n",
    "                    validation_data = (input_variable[test_index],test_labels),\n",
    "                    callbacks=[best_model,callback],\n",
    "                    class_weight=weights[train_index]\n",
    "                   )\n",
    "\n",
    "model.save('Mass_model.h5')"
   ]
  },
  {
   "cell_type": "code",
   "execution_count": 16,
   "metadata": {},
   "outputs": [],
   "source": [
    "new_model = load_model('Mass_model_best.h5')\n",
    "predict = new_model.predict(validation_x)"
   ]
  },
  {
   "cell_type": "code",
   "execution_count": 17,
   "metadata": {},
   "outputs": [
    {
     "data": {
      "image/png": "[encoded data removed]",
      "text/plain": [
       "<Figure size 432x288 with 1 Axes>"
      ]
     },
     "metadata": {
      "needs_background": "light"
     },
     "output_type": "display_data"
    },
    {
     "data": {
      "image/png": "[encoded data removed]",
      "text/plain": [
       "<Figure size 432x288 with 1 Axes>"
      ]
     },
     "metadata": {
      "needs_background": "light"
     },
     "output_type": "display_data"
    },
    {
     "name": "stdout",
     "output_type": "stream",
     "text": [
      "1.0\n",
      "0.0\n"
     ]
    }
   ],
   "source": [
    "plt.hist(predict[validation_y==1],bins=100)\n",
    "plt.show()\n",
    "plt.hist(predict[validation_y==4],bins=100)\n",
    "plt.show()\n",
    "count = 0\n",
    "for i in predict[validation_y==4]:\n",
    "    if i > .5:\n",
    "        count+=1\n",
    "print(count/len(validation_y[validation_y==4]))\n",
    "\n",
    "count = 0\n",
    "for i in predict[validation_y==1]:\n",
    "    if i <= .5:\n",
    "        count+=1\n",
    "print(count/len(validation_y[validation_y==1]))"
   ]
  },
  {
   "cell_type": "code",
   "execution_count": 18,
   "metadata": {},
   "outputs": [],
   "source": [
    "index = range(len(validation_energy))\n",
    "array_split = np.array_split(sorted(list(zip(index,validation_energy)),key=lambda x:x[1]),20)"
   ]
  },
  {
   "cell_type": "code",
   "execution_count": 19,
   "metadata": {},
   "outputs": [],
   "source": [
    "model = load_model('Mass_model_best.h5')\n",
    "x = []\n",
    "y_proton = []\n",
    "y_iron = []\n",
    "for i in array_split:\n",
    "    index1 = []\n",
    "    for k in list(zip(*i))[0]:\n",
    "        index1.append(int(k))\n",
    "    energy = validation_energy[index1]\n",
    "    mass1 = validation_y[index1]\n",
    "    data = validation_x[index1]\n",
    "    #prediction1 = prediction_model(data)\n",
    "    prediction1 = dnns_classifier.predict(data)\n",
    "    prediction = np.hstack(prediction1)\n",
    "    \n",
    "    for j in range(len(prediction1)):\n",
    "        if prediction1[j] < 2.5:\n",
    "            prediction1[j] = 1\n",
    "        else:\n",
    "            prediction1[j] = 4\n",
    "    cm = confusion_matrix(mass1,prediction1)\n",
    "    x.append((max(energy)+min(energy))/2)\n",
    "    y_proton.append(cm[0][0]/np.sum(cm[0]))\n",
    "    y_iron.append(cm[1][1]/np.sum(cm[1]))"
   ]
  },
  {
   "cell_type": "code",
   "execution_count": 20,
   "metadata": {},
   "outputs": [
    {
     "data": {
      "image/png": "[encoded data removed]",
      "text/plain": [
       "<Figure size 432x288 with 1 Axes>"
      ]
     },
     "metadata": {
      "needs_background": "light"
     },
     "output_type": "display_data"
    }
   ],
   "source": [
    "plt.scatter(x,y_proton,label='proton')\n",
    "plt.scatter(x,y_iron,label='iron')\n",
    "plt.xlabel('Energy')\n",
    "plt.ylabel('Accuracy')\n",
    "plt.legend()\n",
    "plt.savefig('Energy_accuracy')"
   ]
  },
  {
   "cell_type": "code",
   "execution_count": 27,
   "metadata": {},
   "outputs": [],
   "source": [
    "from sklearn.neighbors import KNeighborsClassifier\n",
    "knn_classifier = KNeighborsClassifier()\n",
    "knn_classifier.fit(input_variable[train_index],train_labels)\n",
    "knn_predictions=knn_classifier.predict(input_variable[test_index])"
   ]
  },
  {
   "cell_type": "code",
   "execution_count": 29,
   "metadata": {},
   "outputs": [
    {
     "name": "stdout",
     "output_type": "stream",
     "text": [
      "0.7373632100052111 0.6983965793693212\n"
     ]
    }
   ],
   "source": [
    "cm = confusion_matrix(test_labels,knn_predictions)\n",
    "print(cm[0][0]/np.sum(cm[0]),cm[1][1]/np.sum(cm[1]))"
   ]
  },
  {
   "cell_type": "code",
   "execution_count": 33,
   "metadata": {},
   "outputs": [],
   "source": [
    "from sklearn.ensemble import RandomForestClassifier\n",
    "rf_classifier = RandomForestClassifier()\n",
    "rf_classifier.fit(input_variable[train_index],train_labels)\n",
    "rf_predictions = rf_classifier.predict(input_variable[test_index])"
   ]
  },
  {
   "cell_type": "code",
   "execution_count": 34,
   "metadata": {},
   "outputs": [
    {
     "name": "stdout",
     "output_type": "stream",
     "text": [
      "0.7636268890046899 0.7417423837520043\n"
     ]
    }
   ],
   "source": [
    "cm = confusion_matrix(test_labels,rf_predictions)\n",
    "print(cm[0][0]/np.sum(cm[0]),cm[1][1]/np.sum(cm[1]))"
   ]
  },
  {
   "cell_type": "code",
   "execution_count": 14,
   "metadata": {},
   "outputs": [],
   "source": [
    "from sklearn.neural_network import MLPClassifier\n",
    "snn_classifier = MLPClassifier(hidden_layer_sizes = [16]*5)\n",
    "snn_classifier.fit(input_variable[train_index],train_labels)\n",
    "snn_predictions= snn_classifier.predict(input_variable[test_index])"
   ]
  },
  {
   "cell_type": "code",
   "execution_count": 40,
   "metadata": {},
   "outputs": [
    {
     "name": "stdout",
     "output_type": "stream",
     "text": [
      "0.7779051589369463 0.7452164617851417\n"
     ]
    }
   ],
   "source": [
    "cm = confusion_matrix(test_labels,snn_predictions)\n",
    "print(cm[0][0]/np.sum(cm[0]),cm[1][1]/np.sum(cm[1]))"
   ]
  },
  {
   "cell_type": "code",
   "execution_count": 43,
   "metadata": {},
   "outputs": [],
   "source": [
    "from sklearn.svm import SVC\n",
    "svm_classifier = SVC(decision_function_shape='ovr')\n",
    "svm_classifier.fit(input_variable[train_index],train_labels)\n",
    "svm_predicitons_labels = svm_classifier.predict(input_variable[test_index])"
   ]
  },
  {
   "cell_type": "code",
   "execution_count": 45,
   "metadata": {},
   "outputs": [
    {
     "name": "stdout",
     "output_type": "stream",
     "text": [
      "0.771235018238666 0.7466060929983965\n"
     ]
    }
   ],
   "source": [
    "cm = confusion_matrix(test_labels,svm_predicitons_labels)\n",
    "print(cm[0][0]/np.sum(cm[0]),cm[1][1]/np.sum(cm[1]))"
   ]
  },
  {
   "cell_type": "code",
   "execution_count": 15,
   "metadata": {},
   "outputs": [],
   "source": [
    "from sklearn.multiclass import OneVsRestClassifier\n",
    "dnns_classifier = OneVsRestClassifier(MLPClassifier(hidden_layer_sizes = [16]*5,solver='adam',learning_rate='adaptive',max_iter=300,early_stopping=True))\n",
    "dnns_classifier.fit(input_variable[train_index],train_labels)\n",
    "dnns_predictions_labels = dnns_classifier.predict(input_variable[test_index])"
   ]
  },
  {
   "cell_type": "code",
   "execution_count": 16,
   "metadata": {},
   "outputs": [
    {
     "name": "stdout",
     "output_type": "stream",
     "text": [
      "0.7364773319437207 0.6414751469802245\n"
     ]
    }
   ],
   "source": [
    "cm = confusion_matrix(test_labels,dnns_predictions_labels)\n",
    "print(cm[0][0]/np.sum(cm[0]),cm[1][1]/np.sum(cm[1]))"
   ]
  },
  {
   "cell_type": "code",
   "execution_count": 54,
   "metadata": {},
   "outputs": [],
   "source": [
    "from xgboost import XGBClassifier\n",
    "xgb_classifier = OneVsRestClassifier(XGBClassifier())\n",
    "xgb_classifier.fit(input_variable[train_index],train_labels)\n",
    "xgb_classifier_labels = xgb_classifier.predict(input_variable[test_index])"
   ]
  },
  {
   "cell_type": "code",
   "execution_count": 55,
   "metadata": {},
   "outputs": [
    {
     "name": "stdout",
     "output_type": "stream",
     "text": [
      "0.7707139134966128 0.7451630144307857\n"
     ]
    }
   ],
   "source": [
    "cm = confusion_matrix(test_labels,xgb_classifier_labels)\n",
    "print(cm[0][0]/np.sum(cm[0]),cm[1][1]/np.sum(cm[1]))"
   ]
  },
  {
   "cell_type": "code",
   "execution_count": null,
   "metadata": {},
   "outputs": [],
   "source": []
  }
 ],
 "metadata": {
  "kernelspec": {
   "display_name": "Python 3",
   "language": "python",
   "name": "python3"
  },
  "language_info": {
   "codemirror_mode": {
    "name": "ipython",
    "version": 3
   },
   "file_extension": ".py",
   "mimetype": "text/x-python",
   "name": "python",
   "nbconvert_exporter": "python",
   "pygments_lexer": "ipython3",
   "version": "3.6.9"
  }
 },
 "nbformat": 4,
 "nbformat_minor": 4
}
