{
 "cells": [
  {
   "cell_type": "code",
   "execution_count": 32,
   "metadata": {},
   "outputs": [],
   "source": [
    "import pickle\n",
    "import numpy as np\n",
    "import matplotlib.pylab as plt\n",
    "import uproot\n",
    "from sklearn.metrics import confusion_matrix"
   ]
  },
  {
   "cell_type": "code",
   "execution_count": 33,
   "metadata": {},
   "outputs": [],
   "source": [
    "def return_accuracy(predict1,predict2,validation):\n",
    "    mass_predict1 = []\n",
    "    for i in predict1:\n",
    "        if i <2.5:\n",
    "            mass_predict1.append(1)\n",
    "        else:\n",
    "            mass_predict1.append(4)\n",
    "    cm=confusion_matrix(validation,mass_predict1)\n",
    "\n",
    "    mass_predict4 = []\n",
    "    for i in predict2:\n",
    "        if i <2.5:\n",
    "            mass_predict4.append(1)\n",
    "        else:\n",
    "            mass_predict4.append(4)\n",
    "    cm1=confusion_matrix(validation,mass_predict4)\n",
    "    \n",
    "    return cm[0][0]/np.sum(cm[0]),cm1[1][1]/np.sum(cm1[1]),np.array(mass_predict1),np.array(mass_predict4)"
   ]
  },
  {
   "cell_type": "code",
   "execution_count": 34,
   "metadata": {},
   "outputs": [],
   "source": [
    "file = uproot.open('/home/andy/12632.root')\n",
    "file2 = uproot.open('/home/andy/12633.root')"
   ]
  },
  {
   "cell_type": "code",
   "execution_count": 35,
   "metadata": {},
   "outputs": [],
   "source": [
    "model1 =  pickle.load((open('model.sav','rb')))"
   ]
  },
  {
   "cell_type": "code",
   "execution_count": 36,
   "metadata": {},
   "outputs": [],
   "source": [
    "S125_1 = file['LaputopParams']['s125'].array()\n",
    "S125_2 = file2['LaputopParams']['s125'].array()\n",
    "A1 = file['CurvatureOnlyParams']['A'].array()\n",
    "A2 = file2['CurvatureOnlyParams']['A'].array()\n",
    "D1 = file['CurvatureOnlyParams']['D'].array()\n",
    "D2 = file2['CurvatureOnlyParams']['D'].array()\n",
    "N1 = file['CurvatureOnlyParams']['N'].array()\n",
    "N2 = file2['CurvatureOnlyParams']['N'].array()\n",
    "beta1 = file['LaputopParams']['beta'].array()\n",
    "beta2 = file2['LaputopParams']['beta'].array()\n",
    "zenith1 = file['Laputop']['zenith'].array()\n",
    "zenith2 = file2['Laputop']['zenith'].array()\n",
    "energy1 = file['MCPrimary']['energy'].array()\n",
    "energy2 = file2['MCPrimary']['energy'].array()\n",
    "chi2_1 = file['CurvatureOnlyParams']['chi2_time'].array()\n",
    "chi2_2 = file2['CurvatureOnlyParams']['chi2_time'].array()\n",
    "\n",
    "slc_charge1 = file['LaputopSLCPE']['charge'].array()\n",
    "slc_charge2 = file2['LaputopSLCPE']['charge'].array()\n",
    "\n",
    "slc_charge1 = [np.sum(i) for i in slc_charge1]\n",
    "slc_charge2 = [np.sum(i) for i in slc_charge2]\n",
    "\n",
    "hlc_charge1 = file['LaputopHLCPE']['charge'].array()\n",
    "hlc_charge2 = file2['LaputopHLCPE']['charge'].array()\n",
    "\n",
    "hlc_charge1 = [np.sum(i) for i in hlc_charge1]\n",
    "hlc_charge2 = [np.sum(i) for i in hlc_charge2]\n",
    "\n",
    "Qtot1 = [i+j for i,j in zip(slc_charge1,hlc_charge1)]\n",
    "Qtot2 = [i+j for i,j in zip(slc_charge2,hlc_charge2)]\n",
    "\n",
    "mass1 = [1 for i in range(len(Qtot1))]\n",
    "mass2 = [4 for i in range(len(Qtot2))]\n",
    "\n",
    "red1 = file['MCPrimaryInfo']['ghRedChiSqr'].array()\n",
    "red2 = file2['MCPrimaryInfo']['ghRedChiSqr'].array()"
   ]
  },
  {
   "cell_type": "code",
   "execution_count": 37,
   "metadata": {},
   "outputs": [],
   "source": [
    "A = np.append(A1,A2)\n",
    "D = np.append(D1,D2)\n",
    "N = np.append(N1,N2)\n",
    "S125 = np.append(S125_1,S125_2)\n",
    "beta = np.append(beta1,beta2)\n",
    "chi2 = np.append(chi2_1,chi2_2)\n",
    "zenith = np.append(zenith1,zenith2)\n",
    "zenith_new = np.append(zenith1,zenith2)\n",
    "mass = np.append(mass1,mass2)\n",
    "slc_charge = np.append(slc_charge1,slc_charge2)\n",
    "hlc_charge = np.append(hlc_charge1,hlc_charge2)\n",
    "qtot = np.append(Qtot1,Qtot2)\n",
    "\n",
    "energy = np.append(energy1,energy2)\n",
    "red = np.append(red1,red2)"
   ]
  },
  {
   "cell_type": "code",
   "execution_count": 38,
   "metadata": {},
   "outputs": [],
   "source": [
    "A = A[np.isfinite(chi2)]\n",
    "D = D[np.isfinite(chi2)]\n",
    "S125 = np.log10(S125[np.isfinite(chi2)])\n",
    "beta = np.log10(beta[np.isfinite(chi2)])\n",
    "chi2_new = chi2[np.isfinite(chi2)]\n",
    "zenith = np.cos(zenith[np.isfinite(chi2)])\n",
    "mass = mass[np.isfinite(chi2)]\n",
    "energy = np.log10(energy[np.isfinite(chi2)])\n",
    "slc_charge = np.array(slc_charge)[np.isfinite(chi2)]\n",
    "hlc_charge = np.array(hlc_charge)[np.isfinite(chi2)]\n",
    "qtot = np.array(qtot)[np.isfinite(chi2)]\n",
    "zenith_new = np.array(zenith_new)[np.isfinite(chi2)]\n",
    "red = np.array(red)[np.isfinite(chi2)]"
   ]
  },
  {
   "cell_type": "code",
   "execution_count": 39,
   "metadata": {},
   "outputs": [
    {
     "ename": "IndexError",
     "evalue": "arrays used as indices must be of integer (or boolean) type",
     "output_type": "error",
     "traceback": [
      "\u001b[0;31m---------------------------------------------------------------------------\u001b[0m",
      "\u001b[0;31mIndexError\u001b[0m                                Traceback (most recent call last)",
      "\u001b[0;32m<ipython-input-39-5a9c35e5977f>\u001b[0m in \u001b[0;36m<module>\u001b[0;34m\u001b[0m\n\u001b[0;32m----> 1\u001b[0;31m \u001b[0minput_variable2_old\u001b[0m \u001b[0;34m=\u001b[0m \u001b[0mnp\u001b[0m\u001b[0;34m.\u001b[0m\u001b[0marray\u001b[0m\u001b[0;34m(\u001b[0m\u001b[0mlist\u001b[0m\u001b[0;34m(\u001b[0m\u001b[0mzip\u001b[0m\u001b[0;34m(\u001b[0m\u001b[0mA\u001b[0m\u001b[0;34m,\u001b[0m\u001b[0mslc_charge\u001b[0m\u001b[0;34m,\u001b[0m\u001b[0mbeta\u001b[0m\u001b[0;34m,\u001b[0m\u001b[0mchi2_new\u001b[0m\u001b[0;34m)\u001b[0m\u001b[0;34m)\u001b[0m\u001b[0;34m)\u001b[0m\u001b[0;34m[\u001b[0m\u001b[0mchi2_new\u001b[0m\u001b[0;34m<\u001b[0m\u001b[0;36m5\u001b[0m\u001b[0;34m]\u001b[0m\u001b[0;34m[\u001b[0m\u001b[0mred\u001b[0m\u001b[0;34m[\u001b[0m\u001b[0mchi2_new\u001b[0m\u001b[0;34m<\u001b[0m\u001b[0;36m5\u001b[0m\u001b[0;34m]\u001b[0m\u001b[0;34m[\u001b[0m\u001b[0mred\u001b[0m\u001b[0;34m[\u001b[0m\u001b[0mchi2_new\u001b[0m\u001b[0;34m<\u001b[0m\u001b[0;36m5\u001b[0m\u001b[0;34m]\u001b[0m\u001b[0;34m<\u001b[0m\u001b[0;36m300\u001b[0m\u001b[0;34m]\u001b[0m\u001b[0;34m]\u001b[0m\u001b[0;34m\u001b[0m\u001b[0;34m\u001b[0m\u001b[0m\n\u001b[0m\u001b[1;32m      2\u001b[0m \u001b[0moutput_new_old\u001b[0m \u001b[0;34m=\u001b[0m \u001b[0mnp\u001b[0m\u001b[0;34m.\u001b[0m\u001b[0marray\u001b[0m\u001b[0;34m(\u001b[0m\u001b[0mmass\u001b[0m\u001b[0;34m)\u001b[0m\u001b[0;34m[\u001b[0m\u001b[0mchi2_new\u001b[0m\u001b[0;34m<\u001b[0m\u001b[0;36m5\u001b[0m\u001b[0;34m]\u001b[0m\u001b[0;34m[\u001b[0m\u001b[0mchi2_new\u001b[0m\u001b[0;34m<\u001b[0m\u001b[0;36m5\u001b[0m\u001b[0;34m]\u001b[0m\u001b[0;34m[\u001b[0m\u001b[0mred\u001b[0m\u001b[0;34m[\u001b[0m\u001b[0mchi2_new\u001b[0m\u001b[0;34m<\u001b[0m\u001b[0;36m5\u001b[0m\u001b[0;34m]\u001b[0m\u001b[0;34m[\u001b[0m\u001b[0mred\u001b[0m\u001b[0;34m[\u001b[0m\u001b[0mchi2_new\u001b[0m\u001b[0;34m<\u001b[0m\u001b[0;36m5\u001b[0m\u001b[0;34m]\u001b[0m\u001b[0;34m<\u001b[0m\u001b[0;36m300\u001b[0m\u001b[0;34m]\u001b[0m\u001b[0;34m]\u001b[0m\u001b[0;34m\u001b[0m\u001b[0;34m\u001b[0m\u001b[0m\n\u001b[1;32m      3\u001b[0m \u001b[0menergy_new\u001b[0m \u001b[0;34m=\u001b[0m \u001b[0mnp\u001b[0m\u001b[0;34m.\u001b[0m\u001b[0marray\u001b[0m\u001b[0;34m(\u001b[0m\u001b[0menergy\u001b[0m\u001b[0;34m)\u001b[0m\u001b[0;34m[\u001b[0m\u001b[0mchi2_new\u001b[0m\u001b[0;34m<\u001b[0m\u001b[0;36m5\u001b[0m\u001b[0;34m]\u001b[0m\u001b[0;34m[\u001b[0m\u001b[0mchi2_new\u001b[0m\u001b[0;34m<\u001b[0m\u001b[0;36m5\u001b[0m\u001b[0;34m]\u001b[0m\u001b[0;34m[\u001b[0m\u001b[0mred\u001b[0m\u001b[0;34m[\u001b[0m\u001b[0mchi2_new\u001b[0m\u001b[0;34m<\u001b[0m\u001b[0;36m5\u001b[0m\u001b[0;34m]\u001b[0m\u001b[0;34m[\u001b[0m\u001b[0mred\u001b[0m\u001b[0;34m[\u001b[0m\u001b[0mchi2_new\u001b[0m\u001b[0;34m<\u001b[0m\u001b[0;36m5\u001b[0m\u001b[0;34m]\u001b[0m\u001b[0;34m<\u001b[0m\u001b[0;36m300\u001b[0m\u001b[0;34m]\u001b[0m\u001b[0;34m]\u001b[0m\u001b[0;34m\u001b[0m\u001b[0;34m\u001b[0m\u001b[0m\n",
      "\u001b[0;31mIndexError\u001b[0m: arrays used as indices must be of integer (or boolean) type"
     ]
    }
   ],
   "source": [
    "input_variable2_old = np.array(list(zip(A,slc_charge,beta,chi2_new)))[chi2_new<5]\n",
    "output_new_old = np.array(mass)[chi2_new<5][chi2_new<5]\n",
    "energy_new = np.array(energy)[chi2_new<5][chi2_new<5]"
   ]
  },
  {
   "cell_type": "code",
   "execution_count": null,
   "metadata": {},
   "outputs": [],
   "source": [
    "prediction1 = model1.predict(input_variable2_old)"
   ]
  },
  {
   "cell_type": "code",
   "execution_count": null,
   "metadata": {},
   "outputs": [],
   "source": [
    "data1 = np.array(list(zip(input_variable2_old,output_new_old)))\n",
    "data2 = np.array(energy_new)\n",
    "array_split = np.array_split(sorted(list(zip(data1,data2)),key=lambda x:x[1]),20)"
   ]
  },
  {
   "cell_type": "code",
   "execution_count": null,
   "metadata": {},
   "outputs": [],
   "source": [
    "x = []\n",
    "y_proton = []\n",
    "y_iron = []\n",
    "for i in array_split:\n",
    "    energy = list(zip(*i))[1]\n",
    "    mass = list(zip(*list(zip(*i))[0]))[1]\n",
    "    data = list(zip(*list(zip(*i))[0]))[0]\n",
    "    prediction1 = model1.predict(data)\n",
    "    #prediction2 = model2.predict(data)\n",
    "    #prediction1 = (prediction1+prediction2)/2\n",
    "    output_prediction = []\n",
    "    for i in prediction1:\n",
    "        if i < 2.5:\n",
    "            output_prediction.append(1)\n",
    "        else:\n",
    "            output_prediction.append(4)\n",
    "    \n",
    "    cm = confusion_matrix(output_prediction,mass)\n",
    "    x.append((max(energy)+min(energy))/2)\n",
    "    y_proton.append(cm[0][0]/np.sum(cm[0]))\n",
    "    y_iron.append(cm[1][1]/np.sum(cm[1]))"
   ]
  },
  {
   "cell_type": "code",
   "execution_count": null,
   "metadata": {},
   "outputs": [],
   "source": [
    "plt.scatter(x,y_proton,label='proton')\n",
    "plt.scatter(x,y_iron,label='iron')\n",
    "plt.legend()\n",
    "plt.show()"
   ]
  },
  {
   "cell_type": "code",
   "execution_count": null,
   "metadata": {},
   "outputs": [],
   "source": [
    "print(y_iron,np.mean(y_iron))"
   ]
  },
  {
   "cell_type": "code",
   "execution_count": null,
   "metadata": {},
   "outputs": [],
   "source": [
    "print(y_proton,np.mean(y_proton))"
   ]
  },
  {
   "cell_type": "code",
   "execution_count": null,
   "metadata": {},
   "outputs": [],
   "source": [
    "print(np.mean(y_iron)/2+np.mean(y_proton)/2)"
   ]
  },
  {
   "cell_type": "code",
   "execution_count": null,
   "metadata": {},
   "outputs": [],
   "source": [
    "plt.hist(red[red<300],bins=100)\n",
    "plt.show()"
   ]
  },
  {
   "cell_type": "code",
   "execution_count": null,
   "metadata": {},
   "outputs": [],
   "source": []
  }
 ],
 "metadata": {
  "kernelspec": {
   "display_name": "Python 3",
   "language": "python",
   "name": "python3"
  },
  "language_info": {
   "codemirror_mode": {
    "name": "ipython",
    "version": 3
   },
   "file_extension": ".py",
   "mimetype": "text/x-python",
   "name": "python",
   "nbconvert_exporter": "python",
   "pygments_lexer": "ipython3",
   "version": "3.6.9"
  }
 },
 "nbformat": 4,
 "nbformat_minor": 4
}
