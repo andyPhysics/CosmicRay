{
 "cells": [
  {
   "cell_type": "code",
   "execution_count": 30,
   "metadata": {},
   "outputs": [],
   "source": [
    "import pickle\n",
    "import numpy as np\n",
    "import matplotlib.pylab as plt\n",
    "import uproot\n",
    "from sklearn.metrics import confusion_matrix"
   ]
  },
  {
   "cell_type": "code",
   "execution_count": 31,
   "metadata": {},
   "outputs": [],
   "source": [
    "file = uproot.open('/home/andy/12360.root')\n",
    "file2 = uproot.open('/home/andy/12362.root')"
   ]
  },
  {
   "cell_type": "code",
   "execution_count": 32,
   "metadata": {},
   "outputs": [],
   "source": [
    "cut_model = pickle.load((open('cut_model.sav','rb')))"
   ]
  },
  {
   "cell_type": "code",
   "execution_count": 33,
   "metadata": {},
   "outputs": [],
   "source": [
    "Eloss_keys = file['Stoch_Reco'].keys()[6:18]\n",
    "for i in range(len(Eloss_keys)):\n",
    "    if i == 0:\n",
    "        Eloss = file['Stoch_Reco'][Eloss_keys[i]].array()\n",
    "    else:\n",
    "        Eloss += file['Stoch_Reco'][Eloss_keys[i]].array()\n",
    "Eloss = Eloss/len(Eloss_keys)\n",
    "\n",
    "Eloss_keys = file2['Stoch_Reco'].keys()[6:18]\n",
    "for i in range(len(Eloss_keys)):\n",
    "    if i == 0:\n",
    "        Eloss2 = file2['Stoch_Reco'][Eloss_keys[i]].array()\n",
    "    else:\n",
    "        Eloss2 += file2['Stoch_Reco'][Eloss_keys[i]].array()\n",
    "Eloss2 = Eloss2/len(Eloss_keys)\n",
    "\n",
    "Eloss = np.append(Eloss,Eloss2)"
   ]
  },
  {
   "cell_type": "code",
   "execution_count": 34,
   "metadata": {},
   "outputs": [],
   "source": [
    "cut = []\n",
    "for i in file['IT73AnalysisInIceQualityCuts'].keys()[6:11]:\n",
    "    cut.append(file['IT73AnalysisInIceQualityCuts'][i].array())\n",
    "cut2 = list(zip(cut))\n",
    "for i in range(len(cut2)):\n",
    "    if i == 0:\n",
    "        final_cut = cut2[i][0]\n",
    "    else:\n",
    "        final_cut = [j and k for j,k in zip(final_cut,cut2[i][0])]\n",
    "        \n",
    "cut = []\n",
    "for i in file2['IT73AnalysisInIceQualityCuts'].keys()[6:11]:\n",
    "    cut.append(file2['IT73AnalysisInIceQualityCuts'][i].array())\n",
    "cut2 = list(zip(cut))\n",
    "for i in range(len(cut2)):\n",
    "    if i == 0:\n",
    "        final_cut2 = cut2[i][0]\n",
    "    else:\n",
    "        final_cut2 = [j and k for j,k in zip(final_cut,cut2[i][0])]\n",
    "        \n",
    "in_ice_cuts = np.append(final_cut,final_cut2)"
   ]
  },
  {
   "cell_type": "code",
   "execution_count": 35,
   "metadata": {},
   "outputs": [],
   "source": [
    "Xmax1 = file['MCPrimaryInfo']['ghMaxDepth'].array()\n",
    "valueDepth = file['MCPrimaryInfo']['longNumCharged'].array()\n",
    "Depth1 = file['MCPrimaryInfo']['longDepth'].array()\n",
    "chi2_1 = file['CurvatureOnlyParams']['chi2_time'].array()\n",
    "red1 = file['MCPrimaryInfo']['ghRedChiSqr'].array()\n",
    "mass1 = [1 for i in range(len(red1))]\n",
    "        \n",
    "Xmax2 = file2['MCPrimaryInfo']['ghMaxDepth'].array()\n",
    "valueDepth = file2['MCPrimaryInfo']['longNumCharged'].array()\n",
    "Depth2 = file2['MCPrimaryInfo']['longDepth'].array()\n",
    "chi2_2 = file2['CurvatureOnlyParams']['chi2_time'].array()\n",
    "red2 = file2['MCPrimaryInfo']['ghRedChiSqr'].array()\n",
    "mass2 = [4 for i in range(len(red2))]"
   ]
  },
  {
   "cell_type": "code",
   "execution_count": 36,
   "metadata": {},
   "outputs": [],
   "source": [
    "S125_1 = file['LaputopParams']['s125'].array()\n",
    "S125_2 = file2['LaputopParams']['s125'].array()\n",
    "A1 = file['CurvatureOnlyParams']['A'].array()\n",
    "A2 = file2['CurvatureOnlyParams']['A'].array()\n",
    "D1 = file['CurvatureOnlyParams']['D'].array()\n",
    "D2 = file2['CurvatureOnlyParams']['D'].array()\n",
    "N1 = file['CurvatureOnlyParams']['N'].array()\n",
    "N2 = file2['CurvatureOnlyParams']['N'].array()\n",
    "beta1 = file['LaputopParams']['beta'].array()\n",
    "beta2 = file2['LaputopParams']['beta'].array()\n",
    "zenith1 = file['Laputop']['zenith'].array()\n",
    "zenith2 = file2['Laputop']['zenith'].array()\n",
    "energy1 = file['MCPrimary']['energy'].array()\n",
    "energy2 = file2['MCPrimary']['energy'].array()\n",
    "stoch1_1 = file['Stoch_Reco']['n_he_stoch'].array()\n",
    "stoch1_2 = file2['Stoch_Reco']['n_he_stoch'].array()\n",
    "stoch2_1 = file['Stoch_Reco2']['n_he_stoch'].array()\n",
    "stoch2_2 = file2['Stoch_Reco2']['n_he_stoch'].array()\n",
    "\n",
    "slc_charge1 = file['LaputopSLCPE']['charge'].array()\n",
    "slc_charge2 = file2['LaputopSLCPE']['charge'].array()\n",
    "\n",
    "slc_charge1 = [np.sum(i[np.isnan(i)==False]) for i in slc_charge1]\n",
    "slc_charge2 = [np.sum(i[np.isnan(i)==False]) for i in slc_charge2]\n",
    "\n",
    "hlc_charge1 = file['LaputopHLCPE']['charge'].array()\n",
    "hlc_charge2 = file2['LaputopHLCPE']['charge'].array()\n",
    "\n",
    "hlc_charge1 = [np.sum(i[np.isnan(i) ==False]) for i in hlc_charge1]\n",
    "hlc_charge2 = [np.sum(i[np.isnan(i)==False]) for i in hlc_charge2]\n",
    "\n",
    "Qtot1 = [i+j for i,j in zip(slc_charge1,hlc_charge1)]\n",
    "Qtot2 = [i+j for i,j in zip(slc_charge2,hlc_charge2)]"
   ]
  },
  {
   "cell_type": "code",
   "execution_count": 37,
   "metadata": {},
   "outputs": [],
   "source": [
    "chi2 = np.append(chi2_1,chi2_2)\n",
    "A = np.append(A1,A2)[np.isfinite(chi2)]\n",
    "D = np.append(D1,D2)[np.isfinite(chi2)]\n",
    "N = np.append(N1,N2)[np.isfinite(chi2)]\n",
    "S125 = np.log10(np.append(S125_1,S125_2))[np.isfinite(chi2)]\n",
    "beta = np.log10(np.append(beta1,beta2))[np.isfinite(chi2)]\n",
    "red = np.append(red1,red2)[np.isfinite(chi2)]\n",
    "zenith = np.cos(np.append(zenith1,zenith2))[np.isfinite(chi2)]\n",
    "Xmax = np.append(Xmax1,Xmax2)[np.isfinite(chi2)]\n",
    "red = np.append(red1,red2)[np.isfinite(chi2)]\n",
    "mass = np.append(mass1,mass2)[np.isfinite(chi2)]\n",
    "slc_charge = np.append(slc_charge1,slc_charge2)[np.isfinite(chi2)]\n",
    "hlc_charge = np.append(hlc_charge1,hlc_charge2)[np.isfinite(chi2)]\n",
    "qtot = np.append(Qtot1,Qtot2)[np.isfinite(chi2)]\n",
    "stoch1 = np.append(stoch1_1,stoch1_2)[np.isfinite(chi2)]\n",
    "stoch2 = np.append(stoch2_1,stoch2_2)[np.isfinite(chi2)]\n",
    "for i in range(len(stoch1)):\n",
    "    if not in_ice_cuts[i]:\n",
    "        stoch1[i] = 0\n",
    "        stoch2[i] = 0\n",
    "\n",
    "energy_loss = Eloss[np.isfinite(chi2)]\n",
    "for i in range(len(energy_loss)):\n",
    "    if ((energy_loss[i] != 0 and in_ice_cuts[i]) and np.isfinite(energy_loss[i])) and not np.isnan(energy_loss[i]):\n",
    "        energy_loss[i] = np.log10(abs(energy_loss[i]))\n",
    "    else:\n",
    "        energy_loss[i] = 0\n",
    "        \n",
    "\n",
    "energy = np.log10(np.append(energy1,energy2))[np.isfinite(chi2)]\n",
    "in_ice_cuts = in_ice_cuts[np.isfinite(chi2)]\n",
    "chi2 = np.append(chi2_1,chi2_2)[np.isfinite(chi2)]"
   ]
  },
  {
   "cell_type": "code",
   "execution_count": 38,
   "metadata": {},
   "outputs": [],
   "source": [
    "from sklearn.preprocessing import scale\n",
    "from keras.models import load_model\n",
    "input_variable2_old = np.array(list(zip(slc_charge,A,energy_loss,beta,stoch1,S125)))[in_ice_cuts]\n",
    "output_new_old = np.array(mass)[in_ice_cuts]\n",
    "energy_new = np.array(energy)[in_ice_cuts]"
   ]
  },
  {
   "cell_type": "code",
   "execution_count": 39,
   "metadata": {},
   "outputs": [],
   "source": [
    "index = range(len(energy_new))\n",
    "array_split = np.array_split(sorted(list(zip(index,energy_new)),key=lambda x:x[1]),20)"
   ]
  },
  {
   "cell_type": "code",
   "execution_count": 40,
   "metadata": {},
   "outputs": [],
   "source": [
    "model = load_model('Mass_model_best.h5')\n",
    "x = []\n",
    "y_proton = []\n",
    "y_iron = []\n",
    "for i in array_split:\n",
    "    index1 = []\n",
    "    for k in list(zip(*i))[0]:\n",
    "        index1.append(int(k))\n",
    "    energy = list(zip(*i))[1]\n",
    "    mass1 = output_new_old[index1]\n",
    "    data = input_variable2_old[index1]\n",
    "    #prediction1 = prediction_model(data)\n",
    "    prediction1 = model.predict(data)\n",
    "    \n",
    "    for j in range(len(prediction1)):\n",
    "        if prediction1[j] < 2.5:\n",
    "            prediction1[j] = 1\n",
    "        else:\n",
    "            prediction1[j] = 4\n",
    "    prediction1 = np.hstack(prediction1)\n",
    "    cm = confusion_matrix(mass1,prediction1)\n",
    "    x.append((max(energy)+min(energy))/2)\n",
    "    y_proton.append(cm[0][0]/np.sum(cm[0]))\n",
    "    y_iron.append(cm[1][1]/np.sum(cm[1]))"
   ]
  },
  {
   "cell_type": "code",
   "execution_count": 41,
   "metadata": {},
   "outputs": [
    {
     "data": {
      "image/png": "[encoded data removed]",
      "text/plain": [
       "<Figure size 432x288 with 1 Axes>"
      ]
     },
     "metadata": {
      "needs_background": "light"
     },
     "output_type": "display_data"
    }
   ],
   "source": [
    "plt.scatter(x,y_proton,label='proton')\n",
    "plt.scatter(x,y_iron,label='iron')\n",
    "plt.xlabel('Energy')\n",
    "plt.ylabel('Accuracy')\n",
    "plt.legend()\n",
    "plt.savefig('Energy_accuracy')"
   ]
  },
  {
   "cell_type": "code",
   "execution_count": 42,
   "metadata": {},
   "outputs": [
    {
     "name": "stdout",
     "output_type": "stream",
     "text": [
      "[0.4722222222222222, 0.5, 0.5714285714285714, 0.7294117647058823, 0.7127659574468085, 0.6717948717948717, 0.7399103139013453, 0.788659793814433, 0.7148936170212766, 0.7215909090909091, 0.6882352941176471, 0.8153846153846154, 0.6868131868131868, 0.7625, 0.768361581920904, 0.7671232876712328, 0.7142857142857143, 0.7486910994764397, 0.6896551724137931, 0.5732484076433121] 0.6918488190576584\n"
     ]
    }
   ],
   "source": [
    "print(y_iron,np.mean(y_iron))"
   ]
  },
  {
   "cell_type": "code",
   "execution_count": 43,
   "metadata": {},
   "outputs": [
    {
     "name": "stdout",
     "output_type": "stream",
     "text": [
      "[0.886899918633035, 0.8515429524603837, 0.8353552859618717, 0.852343059239611, 0.8796046720575023, 0.8761301989150091, 0.8690807799442897, 0.9041591320072333, 0.8873239436619719, 0.9128113879003559, 0.8761061946902655, 0.9285067873303168, 0.9257602862254025, 0.9537735849056603, 0.9296527159394479, 0.9537465309898242, 0.9675967596759676, 0.9558160504959423, 0.9699179580674567, 0.9693788276465442] 0.9092753513374046\n"
     ]
    }
   ],
   "source": [
    "print(y_proton,np.mean(y_proton))"
   ]
  },
  {
   "cell_type": "code",
   "execution_count": 44,
   "metadata": {},
   "outputs": [
    {
     "name": "stdout",
     "output_type": "stream",
     "text": [
      "0.8005620851975315\n"
     ]
    }
   ],
   "source": [
    "print(np.mean(y_iron)/2+np.mean(y_proton)/2)"
   ]
  },
  {
   "cell_type": "code",
   "execution_count": null,
   "metadata": {},
   "outputs": [],
   "source": []
  }
 ],
 "metadata": {
  "kernelspec": {
   "display_name": "Python 3",
   "language": "python",
   "name": "python3"
  },
  "language_info": {
   "codemirror_mode": {
    "name": "ipython",
    "version": 3
   },
   "file_extension": ".py",
   "mimetype": "text/x-python",
   "name": "python",
   "nbconvert_exporter": "python",
   "pygments_lexer": "ipython3",
   "version": "3.6.9"
  }
 },
 "nbformat": 4,
 "nbformat_minor": 4
}
