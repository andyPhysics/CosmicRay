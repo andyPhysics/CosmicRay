{
 "cells": [
  {
   "cell_type": "code",
   "execution_count": 1,
   "metadata": {},
   "outputs": [],
   "source": [
    "import numpy as np\n",
    "import pandas as pd\n",
    "import matplotlib.pylab as plt\n",
    "import matplotlib"
   ]
  },
  {
   "cell_type": "code",
   "execution_count": 2,
   "metadata": {},
   "outputs": [],
   "source": [
    "df = pd.read_csv('Events.csv')"
   ]
  },
  {
   "cell_type": "code",
   "execution_count": 3,
   "metadata": {},
   "outputs": [],
   "source": [
    "df = df[(df['chi2']!=0)]"
   ]
  },
  {
   "cell_type": "code",
   "execution_count": 4,
   "metadata": {},
   "outputs": [
    {
     "data": {
      "image/png": "[encoded data removed]",
      "text/plain": [
       "<Figure size 432x288 with 1 Axes>"
      ]
     },
     "metadata": {
      "needs_background": "light"
     },
     "output_type": "display_data"
    }
   ],
   "source": [
    "plt.hist(df['chi2'],bins=100)\n",
    "plt.show()"
   ]
  },
  {
   "cell_type": "code",
   "execution_count": 5,
   "metadata": {},
   "outputs": [
    {
     "data": {
      "image/png": "[encoded data removed]",
      "text/plain": [
       "<Figure size 432x288 with 1 Axes>"
      ]
     },
     "metadata": {
      "needs_background": "light"
     },
     "output_type": "display_data"
    }
   ],
   "source": [
    "plt.hist(df['sigmat0'])\n",
    "plt.show()"
   ]
  },
  {
   "cell_type": "code",
   "execution_count": 6,
   "metadata": {},
   "outputs": [
    {
     "data": {
      "text/plain": [
       "Index(['Unnamed: 0', 'Unnamed: 1', 'run_number', 'event_number', 'zenith',\n",
       "       'azimuth', 'energy', 'x', 'y', 'z', 'ShowerCOG_x', 'ShowerCOG_y',\n",
       "       'ShowerCOG_z', 'ShowerCOG_time', 'ShowerCOG_zen', 'ShowerCOG_az', 'm',\n",
       "       's', 't0', 'charge', 'chargePe', 'chargeVEM', 'chi2', 'sigmat0',\n",
       "       'sigmam', 'sigmas', 'feimpedance', 'spemean', 'pe_per_vem',\n",
       "       'angular_resolution', 'chi2_ldf', 'chi2_time', 'Laputop_dir_zenith',\n",
       "       'Laputop_dir_azimuth', 'Laputop_time', 'Laputop_pos_x',\n",
       "       'Laputop_pos_y'],\n",
       "      dtype='object')"
      ]
     },
     "execution_count": 6,
     "metadata": {},
     "output_type": "execute_result"
    }
   ],
   "source": [
    "df.keys()"
   ]
  },
  {
   "cell_type": "code",
   "execution_count": 7,
   "metadata": {},
   "outputs": [],
   "source": [
    "r = ((df['x'].values-df['ShowerCOG_x'].values)**2.0 + (df['y'].values-df['ShowerCOG_y'].values)**2.0 + (df['z'].values-df['ShowerCOG_z'].values)**2.0)**0.5"
   ]
  },
  {
   "cell_type": "code",
   "execution_count": 8,
   "metadata": {},
   "outputs": [],
   "source": [
    "for i in range(len(r)):\n",
    "    if df['ShowerCOG_time'].values[i] < df['t0'].values[i]:\n",
    "        r[i] = r[i]\n",
    "    else:\n",
    "        r[i] = -r[i]"
   ]
  },
  {
   "cell_type": "code",
   "execution_count": 9,
   "metadata": {},
   "outputs": [],
   "source": [
    "df['r'] = r"
   ]
  },
  {
   "cell_type": "code",
   "execution_count": 10,
   "metadata": {},
   "outputs": [],
   "source": [
    "c = .299"
   ]
  },
  {
   "cell_type": "code",
   "execution_count": 11,
   "metadata": {},
   "outputs": [],
   "source": [
    "def get_delta(r,a):\n",
    "    delta = a * r**2.0 #+ b * (1-np.exp(-(r**2.0)/(2*sigma**2.0)))\n",
    "    return delta"
   ]
  },
  {
   "cell_type": "code",
   "execution_count": 12,
   "metadata": {},
   "outputs": [],
   "source": [
    "def get_n(x,y,z):\n",
    "    x,y,z = np.array([x,y,z])/(x**2.0+y**2.0+z**2.0)**0.5\n",
    "    return [x,y,z]"
   ]
  },
  {
   "cell_type": "code",
   "execution_count": 13,
   "metadata": {},
   "outputs": [],
   "source": [
    "def get_n_cos(zen,az):\n",
    "    x = -np.sin(zen) * np.cos(az)\n",
    "    y = -np.sin(zen) * np.sin(az)\n",
    "    z = -np.cos(zen)\n",
    "    return x,y,z"
   ]
  },
  {
   "cell_type": "code",
   "execution_count": 14,
   "metadata": {},
   "outputs": [],
   "source": [
    "def get_t(X,x1,y1,z1,a,xc,yc,zc,tc):\n",
    "    x,y,z,r = X\n",
    "    n = get_n(x1,y1,z1)\n",
    "    x_new = np.array([(i-xc)*n[0] for i in x])\n",
    "    y_new = np.array([(i-yc)*n[1] for i in y])\n",
    "    z_new = np.array([(i-zc)*n[2] for i in z])\n",
    "    new = x_new + y_new + z_new\n",
    "    tc = np.array([tc for i in range(len(z_new))])\n",
    "    t = tc + (1/c)*new + get_delta(r,a)\n",
    "    return t"
   ]
  },
  {
   "cell_type": "code",
   "execution_count": 15,
   "metadata": {},
   "outputs": [],
   "source": [
    "def get_ang_diff(x1,y1,z1,x2,y2,z2):\n",
    "    n1 = np.array(get_n(x1,y1,z1))\n",
    "    n2 = np.array(get_n(x2,y2,z2))\n",
    "    if np.dot(n1,n2)>1:\n",
    "        value = 1\n",
    "        angular_diff = np.arccos(value)*180/np.pi\n",
    "    else:\n",
    "        angular_diff = np.arccos(np.dot(n1,n2))*180/np.pi\n",
    "    return angular_diff"
   ]
  },
  {
   "cell_type": "code",
   "execution_count": 16,
   "metadata": {},
   "outputs": [],
   "source": [
    "def ldf(r,S125,beta):\n",
    "    k = 0.30264\n",
    "    VEM = S125*(r/125)**(-beta-k*np.log10(r/125))\n",
    "    return VEM"
   ]
  },
  {
   "cell_type": "code",
   "execution_count": 17,
   "metadata": {},
   "outputs": [
    {
     "data": {
      "text/plain": [
       "Index(['Unnamed: 0', 'Unnamed: 1', 'run_number', 'event_number', 'zenith',\n",
       "       'azimuth', 'energy', 'x', 'y', 'z', 'ShowerCOG_x', 'ShowerCOG_y',\n",
       "       'ShowerCOG_z', 'ShowerCOG_time', 'ShowerCOG_zen', 'ShowerCOG_az', 'm',\n",
       "       's', 't0', 'charge', 'chargePe', 'chargeVEM', 'chi2', 'sigmat0',\n",
       "       'sigmam', 'sigmas', 'feimpedance', 'spemean', 'pe_per_vem',\n",
       "       'angular_resolution', 'chi2_ldf', 'chi2_time', 'Laputop_dir_zenith',\n",
       "       'Laputop_dir_azimuth', 'Laputop_time', 'Laputop_pos_x', 'Laputop_pos_y',\n",
       "       'r'],\n",
       "      dtype='object')"
      ]
     },
     "execution_count": 17,
     "metadata": {},
     "output_type": "execute_result"
    }
   ],
   "source": [
    "df.keys()"
   ]
  },
  {
   "cell_type": "code",
   "execution_count": 18,
   "metadata": {},
   "outputs": [],
   "source": [
    "def clean(event1):\n",
    "    doms = []\n",
    "    strings = []\n",
    "    chi2 = []\n",
    "    chargeVEM = []\n",
    "    remove_index_list = []\n",
    "    for value in range(len(event1)):\n",
    "        doms.append(event1['Unnamed: 1'].values[value].split(',')[1])\n",
    "        strings.append(event1['Unnamed: 1'].values[value].split(',')[0].split('(')[1])\n",
    "        chi2.append(event1['chi2'].values[value])\n",
    "        chargeVEM.append(event1['r'].values[value])\n",
    "    doms = np.array(doms)\n",
    "    strings = np.array(strings)\n",
    "    chi2 = np.array(chi2)\n",
    "    chargeVEM = np.array(chargeVEM)\n",
    "    \n",
    "    check = []\n",
    "    \n",
    "    for string in np.unique(strings):\n",
    "        if np.sum(strings==string)==2:\n",
    "            index_max = np.argmax(chi2[strings==string])\n",
    "            if index_max == 0:\n",
    "                check.append(False)\n",
    "            else:\n",
    "                check.append(True)\n",
    "            if check[-1]:\n",
    "                check.append(False)\n",
    "            else:\n",
    "                check.append(True)\n",
    "        else:\n",
    "            check.append(True)\n",
    "            \n",
    "    for i in range(len(check)):\n",
    "        cutoff = np.mean(chi2[check])+2*np.mean(chi2[check])/len(chi2[check])\n",
    "        if (chi2[i]>=cutoff):\n",
    "            check[i] = False\n",
    "    \n",
    "    for i in range(len(check)):\n",
    "        if not check[i]:\n",
    "            remove_index_list.append(i)\n",
    "    return remove_index_list,check"
   ]
  },
  {
   "cell_type": "code",
   "execution_count": 19,
   "metadata": {},
   "outputs": [],
   "source": [
    "from scipy.optimize import curve_fit"
   ]
  },
  {
   "cell_type": "code",
   "execution_count": 20,
   "metadata": {},
   "outputs": [],
   "source": [
    "from functools import partial"
   ]
  },
  {
   "cell_type": "code",
   "execution_count": 21,
   "metadata": {},
   "outputs": [],
   "source": [
    "from random import choice"
   ]
  },
  {
   "cell_type": "code",
   "execution_count": 22,
   "metadata": {},
   "outputs": [],
   "source": [
    "events = df['Unnamed: 0'].unique()"
   ]
  },
  {
   "cell_type": "code",
   "execution_count": 23,
   "metadata": {},
   "outputs": [],
   "source": [
    "laputop_zenith = []\n",
    "laputop_azimuth = []\n",
    "mc_zenith = []\n",
    "mc_azimuth = []\n",
    "angular_resolution = []\n",
    "for event in events:\n",
    "    event1 = df.loc[df['Unnamed: 0'] == event]\n",
    "    laputop_zenith.append(event1['Laputop_dir_zenith'].values[0])\n",
    "    laputop_azimuth.append(event1['Laputop_dir_azimuth'].values[0])\n",
    "    mc_zenith.append(event1['zenith'].values[0])\n",
    "    mc_azimuth.append(event1['azimuth'].values[0])\n",
    "    angular_resolution.append(event1['angular_resolution'].values[0])"
   ]
  },
  {
   "cell_type": "code",
   "execution_count": 109,
   "metadata": {},
   "outputs": [],
   "source": [
    "ang_res = []\n",
    "laputop_res = []\n",
    "residuals = []\n",
    "energy = []\n",
    "zenith = []\n",
    "\n",
    "def get_fit(event):\n",
    "    event1 = df.loc[df['Unnamed: 0'] == event]\n",
    "    event1 = event1.loc[abs(event1['r'])>50]\n",
    "    \n",
    "    energy = event1['energy'].values[0]\n",
    "    zenith = event1['zenith'].values[0]\n",
    "    true_zen = event1['zenith'].values[0]\n",
    "    true_az = event1['azimuth'].values[0]\n",
    "    \n",
    "    true_x,true_y,true_z = get_n_cos(true_zen,true_az)\n",
    "\n",
    "    tc = event1['ShowerCOG_time'].values[0]\n",
    "    xc = event1['ShowerCOG_x'].values[0]\n",
    "    yc = event1['ShowerCOG_y'].values[0]\n",
    "    zc = event1['ShowerCOG_z'].values[0]\n",
    "    zen_shower = event1['ShowerCOG_zen'].values[0]\n",
    "    az_shower = event1['ShowerCOG_az'].values[0]\n",
    "    \n",
    "    x_start,y_start,z_start = get_n_cos(zen_shower,az_shower)\n",
    "    a_start = 4.823*10**-4\n",
    "    \n",
    "    x_o = event1['x'].values\n",
    "    y_o = event1['y'].values\n",
    "    z_o = event1['z'].values\n",
    "    r_o = event1['r'].values\n",
    "    t0_o = event1['t0'].values\n",
    "    \n",
    "    get_t_new = partial(get_t,tc=tc,xc=xc,yc=yc,zc=zc)\n",
    "    \n",
    "    if len(event1)<20:\n",
    "        remove_index_list = []\n",
    "        check = [True for i in range(len(event1))]\n",
    "    else:\n",
    "        remove_index_list,check = clean(event1)\n",
    "    fit_original = curve_fit(get_t_new,(x_o[check],y_o[check],z_o[check],r_o[check]),t0_o[check],\n",
    "                    p0=[x_start,y_start,z_start,a_start],\n",
    "                    bounds=((-1,-1,-1,0),(1,1,0,1e-3)),\n",
    "                    maxfev=3000,\n",
    "                    absolute_sigma=True)\n",
    "    \n",
    "    fit_old = curve_fit(get_t_new,(x_o,y_o,z_o,r_o),t0_o,\n",
    "                    p0=[x_start,y_start,z_start,a_start],\n",
    "                    bounds=((-1,-1,-1,0),(1,1,0,1e-3)),\n",
    "                    maxfev=3000,\n",
    "                    absolute_sigma=True)\n",
    "    \n",
    "    ang_diff_fit_o = get_ang_diff(fit_original[0][0],fit_original[0][1],fit_original[0][2],true_x,true_y,true_z)\n",
    "\n",
    "    fit_list = []\n",
    "    fit_list.append(fit_original)\n",
    "    \n",
    "    ang_res_list = []\n",
    "    ang_res_list.append(ang_diff_fit_o)\n",
    "    \n",
    "    var_list = [np.inf]\n",
    "    ang_diff_test = [np.inf]\n",
    "    \n",
    "    pass_value = False\n",
    "\n",
    "    count = 0\n",
    "    \n",
    "    while True:\n",
    "        if count == 0:\n",
    "            check1 = np.copy(check)\n",
    "        else:\n",
    "            check1[remove_index] = False\n",
    "\n",
    "        ang_list_test = []\n",
    "        fit_check = []\n",
    "        removed = []\n",
    "        \n",
    "        for i in np.array(range(len(check1))):\n",
    "            check2 = np.copy(check1)\n",
    "            check2[i] = False\n",
    "            \n",
    "            if i in remove_index_list:\n",
    "                continue\n",
    "\n",
    "            x = event1['x'].values[check2]\n",
    "            y = event1['y'].values[check2]\n",
    "            z = event1['z'].values[check2]\n",
    "            r = event1['r'].values[check2]\n",
    "            t0 = event1['t0'].values[check2]\n",
    "    \n",
    "            try:\n",
    "                fit = curve_fit(get_t_new,(x,y,z,r),t0,\n",
    "                            p0=[fit_list[-1][0][0],fit_list[-1][0][1],fit_list[-1][0][2],fit_list[-1][0][3]],\n",
    "                            bounds=((-1,-1,-1,0),(1,1,0,1e-3)),\n",
    "                            maxfev=3000,\n",
    "                            absolute_sigma=True)\n",
    "            except RuntimeError:\n",
    "                pass_value = True\n",
    "                break\n",
    "            \n",
    "            ang_diff_new = get_ang_diff(fit[0][0],fit[0][1],fit[0][2],fit_list[-1][0][0],fit_list[-1][0][1],fit_list[-1][0][2])\n",
    "            chi2_penalty = event1['chi2'].values[i]\n",
    "            ang_list_test.append(ang_diff_new*chi2_penalty)\n",
    "            fit_check.append(fit)\n",
    "            removed.append(i)\n",
    "        \n",
    "        if not pass_value:\n",
    "            mean = np.mean(ang_list_test)\n",
    "            var = ((len(ang_list_test)-1)/len(ang_list_test))*np.sum([(i-mean)**2.0 for i in ang_list_test])\n",
    "            \n",
    "            remove_index = removed[np.argmax(ang_list_test)]\n",
    "            remove_index_list.append(remove_index)\n",
    "            check1[remove_index]=False\n",
    "        \n",
    "            fit_new = fit_check[np.argmax(ang_list_test)]\n",
    "            fit_list.append(fit_new)\n",
    "\n",
    "            ang_diff_check = get_ang_diff(fit_new[0][0],fit_new[0][1],fit_new[0][2],fit_list[-2][0][0],fit_list[-2][0][1],fit_list[-2][0][2])\n",
    "            ang_diff_true = get_ang_diff(fit_new[0][0],fit_new[0][1],fit_new[0][2],true_x,true_y,true_z)\n",
    "        \n",
    "            ang_res_list.append(ang_diff_true)\n",
    "            var_list.append(var)\n",
    "            ang_diff_test.append(ang_diff_check)\n",
    "        \n",
    "            if (np.sum(check1)<=3):\n",
    "                ang_diff_final=ang_res_list[np.argmin(var_list)]\n",
    "                var = var_list[np.argmin(var_list)]\n",
    "                ang_test = var_list[np.argmin(var_list)]\n",
    "                check1[remove_index]==True\n",
    "                break\n",
    "        else:\n",
    "            ang_diff_final = ang_res_list[np.argmin(var_list)]\n",
    "            var = var_list[np.argmin(var_list)]\n",
    "            break\n",
    "\n",
    "        count+=1  \n",
    "        \n",
    "    return event,ang_diff_final,len(event1),var\n",
    "        \n",
    "    "
   ]
  },
  {
   "cell_type": "code",
   "execution_count": 110,
   "metadata": {},
   "outputs": [
    {
     "data": {
      "text/plain": [
       "Index(['Unnamed: 0', 'Unnamed: 1', 'run_number', 'event_number', 'zenith',\n",
       "       'azimuth', 'energy', 'x', 'y', 'z', 'ShowerCOG_x', 'ShowerCOG_y',\n",
       "       'ShowerCOG_z', 'ShowerCOG_time', 'ShowerCOG_zen', 'ShowerCOG_az', 'm',\n",
       "       's', 't0', 'charge', 'chargePe', 'chargeVEM', 'chi2', 'sigmat0',\n",
       "       'sigmam', 'sigmas', 'feimpedance', 'spemean', 'pe_per_vem',\n",
       "       'angular_resolution', 'chi2_ldf', 'chi2_time', 'Laputop_dir_zenith',\n",
       "       'Laputop_dir_azimuth', 'Laputop_time', 'Laputop_pos_x', 'Laputop_pos_y',\n",
       "       'r'],\n",
       "      dtype='object')"
      ]
     },
     "execution_count": 110,
     "metadata": {},
     "output_type": "execute_result"
    }
   ],
   "source": [
    "df.keys()"
   ]
  },
  {
   "cell_type": "code",
   "execution_count": 111,
   "metadata": {},
   "outputs": [],
   "source": [
    "import time"
   ]
  },
  {
   "cell_type": "code",
   "execution_count": 113,
   "metadata": {},
   "outputs": [
    {
     "name": "stdout",
     "output_type": "stream",
     "text": [
      "0.10674687717852432\n"
     ]
    }
   ],
   "source": [
    "our_dict = {}\n",
    "count = 0\n",
    "for event in [events[0]]:\n",
    "    if count == 100:\n",
    "        print(count)\n",
    "        count = 0\n",
    "    time1 = time.time()\n",
    "    value,ang_res_overall,length,var = get_fit(event)\n",
    "    our_dict[value] = {}\n",
    "    our_dict[value]['new'] = ang_res_overall\n",
    "    our_dict[value]['length'] = length\n",
    "    our_dict[value]['var'] = var\n",
    "    print(ang_res_overall)\n",
    "    \n",
    "    time2 = time.time()\n",
    "    count+=1"
   ]
  },
  {
   "cell_type": "code",
   "execution_count": 39,
   "metadata": {},
   "outputs": [],
   "source": [
    "res = []\n",
    "length = []\n",
    "var = []\n",
    "for i in our_dict.keys():\n",
    "    event1 = df.loc[df['Unnamed: 0'] == i]\n",
    "    res.append(our_dict[i]['new'])\n",
    "    length.append(our_dict[i]['length'])\n",
    "    var.append(our_dict[i]['var'])\n",
    "res = np.array(res)\n",
    "length = np.array(length)\n",
    "var = np.array(var)"
   ]
  },
  {
   "cell_type": "code",
   "execution_count": 40,
   "metadata": {},
   "outputs": [],
   "source": [
    "import seaborn as sns"
   ]
  },
  {
   "cell_type": "code",
   "execution_count": 41,
   "metadata": {},
   "outputs": [
    {
     "data": {
      "image/png": "[encoded data removed]",
      "text/plain": [
       "<Figure size 432x288 with 1 Axes>"
      ]
     },
     "metadata": {
      "needs_background": "light"
     },
     "output_type": "display_data"
    }
   ],
   "source": [
    "plt.plot(res)\n",
    "plt.show()"
   ]
  },
  {
   "cell_type": "code",
   "execution_count": 42,
   "metadata": {},
   "outputs": [
    {
     "data": {
      "text/plain": [
       "'event_753'"
      ]
     },
     "execution_count": 42,
     "metadata": {},
     "output_type": "execute_result"
    }
   ],
   "source": [
    "events[np.argmax(res)]"
   ]
  },
  {
   "cell_type": "code",
   "execution_count": 43,
   "metadata": {},
   "outputs": [
    {
     "data": {
      "image/png": "[encoded data removed]",
      "text/plain": [
       "<Figure size 432x288 with 1 Axes>"
      ]
     },
     "metadata": {
      "needs_background": "light"
     },
     "output_type": "display_data"
    }
   ],
   "source": [
    "hist = plt.hist(res[res<1.2],bins=100,density=True)\n",
    "plt.xlabel('Angular Resolution [Degrees]')\n",
    "plt.ylabel('Counts')\n",
    "plt.show()"
   ]
  },
  {
   "cell_type": "code",
   "execution_count": 44,
   "metadata": {},
   "outputs": [],
   "source": [
    "#np.save('Model1',our_dict)"
   ]
  },
  {
   "cell_type": "code",
   "execution_count": 45,
   "metadata": {},
   "outputs": [],
   "source": [
    "def Rayleigh(x,sigma):\n",
    "    y = (x/sigma**2.0)*np.exp(-(x**2.0)/(2*sigma**2.0))\n",
    "    return y"
   ]
  },
  {
   "cell_type": "code",
   "execution_count": 46,
   "metadata": {},
   "outputs": [],
   "source": [
    "from math import gamma"
   ]
  },
  {
   "cell_type": "code",
   "execution_count": 47,
   "metadata": {},
   "outputs": [],
   "source": [
    "def chi2(x,k):\n",
    "    chi2 = (1/((2**(k/2))*gamma(k/2)))*(x**(k/2-1))*np.exp(-x/2)\n",
    "    return chi2"
   ]
  },
  {
   "cell_type": "code",
   "execution_count": 48,
   "metadata": {},
   "outputs": [],
   "source": [
    "fit = curve_fit(Rayleigh,hist[0],hist[1][0:-1])"
   ]
  },
  {
   "cell_type": "code",
   "execution_count": 49,
   "metadata": {},
   "outputs": [
    {
     "name": "stderr",
     "output_type": "stream",
     "text": [
      "/home/andy/.local/lib/python3.6/site-packages/ipykernel_launcher.py:2: RuntimeWarning: divide by zero encountered in power\n",
      "  \n"
     ]
    }
   ],
   "source": [
    "fit2 = curve_fit(chi2,hist[0],hist[1][0:-1],p0=[3])"
   ]
  },
  {
   "cell_type": "code",
   "execution_count": 50,
   "metadata": {},
   "outputs": [
    {
     "data": {
      "image/png": "[encoded data removed]",
      "text/plain": [
       "<Figure size 432x288 with 1 Axes>"
      ]
     },
     "metadata": {
      "needs_background": "light"
     },
     "output_type": "display_data"
    }
   ],
   "source": [
    "hist = plt.hist(res[res<10],bins=100,density=True)\n",
    "x = np.linspace(min(hist[1]),max(hist[1]),1000)\n",
    "y = Rayleigh(x,fit[0])\n",
    "#y = chi2(x,fit2[0])\n",
    "plt.plot(x,y)\n",
    "plt.xlabel('Angular Resolution [Degrees]')\n",
    "plt.ylabel('Counts')\n",
    "plt.savefig('rayleigh_Angular_resolution')"
   ]
  },
  {
   "cell_type": "code",
   "execution_count": 51,
   "metadata": {},
   "outputs": [
    {
     "data": {
      "text/plain": [
       "(array([0.93998122]), array([[0.00249009]]))"
      ]
     },
     "execution_count": 51,
     "metadata": {},
     "output_type": "execute_result"
    }
   ],
   "source": [
    "fit"
   ]
  },
  {
   "cell_type": "code",
   "execution_count": 52,
   "metadata": {},
   "outputs": [
    {
     "name": "stdout",
     "output_type": "stream",
     "text": [
      "mean 1.178091747305913\n",
      "median 1.1067433051475843\n",
      "95% 2.3008360433050465\n",
      "mode 0.9399812163846587\n",
      "variance 0.3792292092416658\n"
     ]
    }
   ],
   "source": [
    "print('mean',fit[0][0]*(np.pi/2)**0.5)\n",
    "print('median',fit[0][0]*(-2*np.log(1-0.5))**0.5)\n",
    "print('95%',fit[0][0]*(-2*np.log(1-0.95))**0.5)\n",
    "print('mode',fit[0][0])\n",
    "print('variance',((4-np.pi)/2)*fit[0][0]**2.0)"
   ]
  },
  {
   "cell_type": "code",
   "execution_count": null,
   "metadata": {},
   "outputs": [],
   "source": []
  }
 ],
 "metadata": {
  "kernelspec": {
   "display_name": "Python 3",
   "language": "python",
   "name": "python3"
  },
  "language_info": {
   "codemirror_mode": {
    "name": "ipython",
    "version": 3
   },
   "file_extension": ".py",
   "mimetype": "text/x-python",
   "name": "python",
   "nbconvert_exporter": "python",
   "pygments_lexer": "ipython3",
   "version": "3.6.9"
  }
 },
 "nbformat": 4,
 "nbformat_minor": 4
}
