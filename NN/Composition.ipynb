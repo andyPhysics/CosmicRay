{
 "cells": [
  {
   "cell_type": "code",
   "execution_count": 1,
   "metadata": {},
   "outputs": [],
   "source": [
    "import numpy as np\n",
    "import matplotlib.pylab as plt\n",
    "import pandas as pd\n",
    "import sys,os\n",
    "import glob\n",
    "import crflux.models as mods\n",
    "import gsf\n",
    "from methods import *\n",
    "import scipy.stats\n",
    "import joblib\n",
    "from tensorflow.keras.models import load_model\n",
    "from functools import partial\n",
    "from scipy.optimize import curve_fit\n",
    "import matplotlib\n",
    "from scipy.stats import chisquare"
   ]
  },
  {
   "cell_type": "code",
   "execution_count": 2,
   "metadata": {},
   "outputs": [],
   "source": [
    "Energy = np.linspace(10**6.5,10**8,10000)"
   ]
  },
  {
   "cell_type": "code",
   "execution_count": 3,
   "metadata": {},
   "outputs": [],
   "source": [
    "corsika_id = [14,402,1608,5426]"
   ]
  },
  {
   "cell_type": "code",
   "execution_count": 4,
   "metadata": {},
   "outputs": [
    {
     "name": "stderr",
     "output_type": "stream",
     "text": [
      "/home/andy/anaconda3/lib/python3.7/site-packages/pandas/core/series.py:726: RuntimeWarning: divide by zero encountered in log10\n",
      "  result = getattr(ufunc, method)(*inputs, **kwargs)\n"
     ]
    }
   ],
   "source": [
    "data = pd.read_csv('files/data.csv')\n",
    "data = new_df_data(data)"
   ]
  },
  {
   "cell_type": "code",
   "execution_count": 5,
   "metadata": {},
   "outputs": [],
   "source": [
    "def xmax_model(df):\n",
    "    inputs = ['cos_zenith','S125','log_energy_loss','he_stoch','he_stoch2','m_r','m_o','m_125','s_mean','s_std','A']\n",
    "    files = np.sort(np.array(glob.glob('files/model_coinc_best_*.h5')))\n",
    "    correction = np.sort(np.array(glob.glob('files/Xmax_bias_correction*')))\n",
    "    prediction = []\n",
    "    for i in range(len(files)):\n",
    "        model = load_model(files[i]) \n",
    "        bias = joblib.load(correction[i])\n",
    "        xmax = model.predict(df[inputs])[:,1]\n",
    "        bias_value = bias.predict(xmax.reshape(-1,1))\n",
    "        xmax_predictions = np.array([(i-j) for i,j in zip(xmax,bias_value)])\n",
    "        prediction.append(xmax_predictions)\n",
    "    output = np.array([np.mean(i) for i in list(zip(*prediction))])\n",
    "    return output"
   ]
  },
  {
   "cell_type": "code",
   "execution_count": 6,
   "metadata": {},
   "outputs": [],
   "source": [
    "xmax_data = xmax_model(data)"
   ]
  },
  {
   "cell_type": "code",
   "execution_count": 7,
   "metadata": {},
   "outputs": [
    {
     "data": {
      "image/png": "[encoded data removed]",
      "text/plain": [
       "<Figure size 432x288 with 1 Axes>"
      ]
     },
     "metadata": {
      "needs_background": "light"
     },
     "output_type": "display_data"
    }
   ],
   "source": [
    "plt.hist(xmax_data,bins=1000)\n",
    "plt.show()"
   ]
  },
  {
   "cell_type": "code",
   "execution_count": 8,
   "metadata": {},
   "outputs": [],
   "source": [
    "def mass_model(df):\n",
    "    inputs = ['cos_zenith','S125','log_energy_loss','he_stoch','he_stoch2','m_r','m_o','m_125','s_mean','s_std','A']\n",
    "    files = np.sort(np.array(glob.glob('files/mass_model*')))\n",
    "    prediction = []\n",
    "    for i in range(len(files)):\n",
    "        model = joblib.load(files[i]) \n",
    "        mass = model.predict(df[inputs])\n",
    "        prediction.append(mass)\n",
    "    output = np.array([np.mean(i) for i in list(zip(*prediction))])\n",
    "    return output"
   ]
  },
  {
   "cell_type": "code",
   "execution_count": 9,
   "metadata": {},
   "outputs": [],
   "source": [
    "mass_data = mass_model(data)"
   ]
  },
  {
   "cell_type": "code",
   "execution_count": 10,
   "metadata": {},
   "outputs": [],
   "source": [
    "def Energy_model(df):\n",
    "    inputs = ['cos_zenith','S125','log_energy_loss','he_stoch','he_stoch2','m_r','m_o','m_125','s_mean','s_std','A']\n",
    "    files = np.sort(np.array(glob.glob('files/Energy_model*')))\n",
    "    prediction = []\n",
    "    for i in range(len(files)):\n",
    "        model = joblib.load(files[i]) \n",
    "        mass = model.predict(df[inputs])\n",
    "        prediction.append(mass)\n",
    "    output = np.array([np.mean(i) for i in list(zip(*prediction))])\n",
    "    return output"
   ]
  },
  {
   "cell_type": "code",
   "execution_count": 11,
   "metadata": {},
   "outputs": [],
   "source": [
    "energy_data = Energy_model(data)"
   ]
  },
  {
   "cell_type": "code",
   "execution_count": 12,
   "metadata": {},
   "outputs": [
    {
     "data": {
      "image/png": "[encoded data removed]",
      "text/plain": [
       "<Figure size 432x288 with 1 Axes>"
      ]
     },
     "metadata": {
      "needs_background": "light"
     },
     "output_type": "display_data"
    }
   ],
   "source": [
    "plt.hist(energy_data,bins=100)\n",
    "plt.show()"
   ]
  },
  {
   "cell_type": "code",
   "execution_count": 13,
   "metadata": {},
   "outputs": [
    {
     "data": {
      "image/png": "[encoded data removed]",
      "text/plain": [
       "<Figure size 432x288 with 1 Axes>"
      ]
     },
     "metadata": {
      "needs_background": "light"
     },
     "output_type": "display_data"
    }
   ],
   "source": [
    "plt.hist(mass_data,bins=100)\n",
    "plt.show()"
   ]
  },
  {
   "cell_type": "code",
   "execution_count": 14,
   "metadata": {},
   "outputs": [],
   "source": [
    "proton_flux = mods.HillasGaisser2012('H3a').nucleus_flux(14,Energy)\n",
    "helium_flux = mods.HillasGaisser2012('H3a').nucleus_flux(402,Energy)\n",
    "oxygen_flux = mods.HillasGaisser2012('H3a').nucleus_flux(1206,Energy)\n",
    "iron_flux = mods.HillasGaisser2012('H3a').nucleus_flux(5426,Energy)\n",
    "lnA_H3A = mods.HillasGaisser2012('H3a').lnA(Energy)\n",
    "total_flux = mods.HillasGaisser2012('H3a').total_flux(Energy)"
   ]
  },
  {
   "cell_type": "code",
   "execution_count": 15,
   "metadata": {},
   "outputs": [],
   "source": [
    "H3A = mods.HillasGaisser2012('H3a')"
   ]
  },
  {
   "cell_type": "code",
   "execution_count": 16,
   "metadata": {},
   "outputs": [],
   "source": [
    "proton_flux1 = mods.HillasGaisser2012('H4a').nucleus_flux(14,Energy)\n",
    "helium_flux1 = mods.HillasGaisser2012('H4a').nucleus_flux(402,Energy)\n",
    "oxygen_flux1 = mods.HillasGaisser2012('H4a').nucleus_flux(1206,Energy)\n",
    "iron_flux1 = mods.HillasGaisser2012('H4a').nucleus_flux(5426,Energy)\n",
    "lnA_H4A = mods.HillasGaisser2012('H4a').lnA(Energy)\n",
    "total_flux1 = mods.HillasGaisser2012('H4a').total_flux(Energy)"
   ]
  },
  {
   "cell_type": "code",
   "execution_count": 17,
   "metadata": {},
   "outputs": [],
   "source": [
    "H4A = mods.HillasGaisser2012('H4a')"
   ]
  },
  {
   "cell_type": "code",
   "execution_count": 18,
   "metadata": {},
   "outputs": [],
   "source": [
    "proton_flux2 = mods.GaisserStanevTilav('4-gen').nucleus_flux(14,Energy)\n",
    "helium_flux2 = mods.GaisserStanevTilav('4-gen').nucleus_flux(402,Energy)\n",
    "oxygen_flux2 = mods.GaisserStanevTilav('4-gen').nucleus_flux(1206,Energy)\n",
    "iron_flux2 = mods.GaisserStanevTilav('4-gen').nucleus_flux(5426,Energy)\n",
    "lnA_GST = mods.GaisserStanevTilav('4-gen').lnA(Energy)\n",
    "total_flux2 = mods.GaisserStanevTilav('4-gen').total_flux(Energy)"
   ]
  },
  {
   "cell_type": "code",
   "execution_count": 19,
   "metadata": {},
   "outputs": [],
   "source": [
    "GST = mods.GaisserStanevTilav('4-gen')"
   ]
  },
  {
   "cell_type": "code",
   "execution_count": 20,
   "metadata": {},
   "outputs": [
    {
     "data": {
      "image/png": "[encoded data removed]",
      "text/plain": [
       "<Figure size 432x288 with 1 Axes>"
      ]
     },
     "metadata": {
      "needs_background": "light"
     },
     "output_type": "display_data"
    }
   ],
   "source": [
    "plt.hist2d(energy_data,xmax_data,bins=100,norm=matplotlib.colors.LogNorm())\n",
    "plt.show()"
   ]
  },
  {
   "cell_type": "code",
   "execution_count": 21,
   "metadata": {},
   "outputs": [],
   "source": [
    "mean_overall,std_mean,bins,median,ten,ninety = binning(energy_data,xmax_data,20)"
   ]
  },
  {
   "cell_type": "code",
   "execution_count": 22,
   "metadata": {},
   "outputs": [
    {
     "data": {
      "image/png": "[encoded data removed]",
      "text/plain": [
       "<Figure size 432x288 with 1 Axes>"
      ]
     },
     "metadata": {
      "needs_background": "light"
     },
     "output_type": "display_data"
    }
   ],
   "source": [
    "plt.scatter(bins,mean_overall)\n",
    "plt.xlabel('Log(E/GeV)')\n",
    "plt.ylabel('<Xmax>')\n",
    "plt.savefig('Mean_Xmax_plot.png')"
   ]
  },
  {
   "cell_type": "code",
   "execution_count": 23,
   "metadata": {},
   "outputs": [
    {
     "data": {
      "image/png": "[encoded data removed]",
      "text/plain": [
       "<Figure size 432x288 with 1 Axes>"
      ]
     },
     "metadata": {
      "needs_background": "light"
     },
     "output_type": "display_data"
    }
   ],
   "source": [
    "plt.scatter(bins,std_mean)\n",
    "plt.xlabel('Log(E/GeV)')\n",
    "plt.ylabel('$\\\\sigma_{Xmax}')\n",
    "plt.savefig('sigma_Xmax.png')"
   ]
  },
  {
   "cell_type": "code",
   "execution_count": 24,
   "metadata": {},
   "outputs": [],
   "source": [
    "files2 = glob.glob('files/kde_plots_*.npy')"
   ]
  },
  {
   "cell_type": "code",
   "execution_count": 25,
   "metadata": {},
   "outputs": [],
   "source": [
    "energy_stuff = ['6.5 - 6.65', '6.65 - 6.8', '6.8 - 6.95', '6.95 - 7.1', '7.1 - 7.25', '7.25 - 7.4', '7.4 - 7.55', '7.55 - 7.7', '7.7 - 7.85', '7.85 - 8.0']"
   ]
  },
  {
   "cell_type": "code",
   "execution_count": 26,
   "metadata": {},
   "outputs": [],
   "source": [
    "def kde_model(x,species='proton',energy_range='6.5 - 6.75'):\n",
    "    kde_models = []\n",
    "    for i in files2:\n",
    "        predictions_dict = np.load(i,allow_pickle=True).item()\n",
    "        if 'mass' in species:\n",
    "            kde_models.append(scipy.stats.gaussian_kde(predictions_dict[energy_range][species]))\n",
    "        else:\n",
    "            #weights = [1/abs(i) for i in predictions_dict[energy_range][species+'_error']]\n",
    "            kde_models.append(scipy.stats.gaussian_kde(predictions_dict[energy_range][species]))\n",
    "    output = []\n",
    "    for i in kde_models:\n",
    "        output.append(i.evaluate(x))\n",
    "    return np.array([np.mean(i) for i in list(zip(*output))])"
   ]
  },
  {
   "cell_type": "code",
   "execution_count": 27,
   "metadata": {},
   "outputs": [],
   "source": [
    "Energy_range = np.linspace(400,800,1000)\n",
    "mass_range = np.linspace(0,5,1000)"
   ]
  },
  {
   "cell_type": "code",
   "execution_count": null,
   "metadata": {},
   "outputs": [],
   "source": [
    "fig,axs = plt.subplots(5,2,figsize=(16,16*2))\n",
    "count = 0\n",
    "count2 = 0\n",
    "for i in energy_stuff:\n",
    "    kde_plot_proton = kde_model(Energy_range,species='proton',energy_range = i)\n",
    "    kde_plot_helium = kde_model(Energy_range,species='helium',energy_range = i)\n",
    "    kde_plot_oxygen = kde_model(Energy_range,species='oxygen',energy_range = i)\n",
    "    kde_plot_iron = kde_model(Energy_range,species='iron',energy_range = i)\n",
    "    \n",
    "    axs[count][count2].plot(Energy_range,kde_plot_proton,label='proton')\n",
    "    axs[count][count2].plot(Energy_range,kde_plot_helium,label='helium')\n",
    "    axs[count][count2].plot(Energy_range,kde_plot_oxygen,label='oxygen')\n",
    "    axs[count][count2].plot(Energy_range,kde_plot_iron,label='iron')\n",
    "    axs[count][count2].set_title(i)\n",
    "    axs[count][count2].legend()\n",
    "    axs[count][count2].grid(True,linestyle='dashed')\n",
    "    axs[count][count2].set_xlabel('Xmax[g/$cm^2$]')\n",
    "    \n",
    "    count2 += 1\n",
    "    if count2 == 2:\n",
    "        count2 = 0\n",
    "        count += 1\n",
    "plt.savefig('Xmax_kde_plots.png')"
   ]
  },
  {
   "cell_type": "code",
   "execution_count": null,
   "metadata": {},
   "outputs": [],
   "source": [
    "fig,axs = plt.subplots(5,2,figsize=(16,16*2))\n",
    "count = 0\n",
    "count2 = 0\n",
    "for i in energy_stuff:\n",
    "    kde_plot_proton_mass = kde_model(mass_range,species='proton_mass',energy_range=i)\n",
    "    kde_plot_helium_mass = kde_model(mass_range,species='helium_mass',energy_range=i)\n",
    "    kde_plot_oxygen_mass = kde_model(mass_range,species='oxygen_mass',energy_range=i)\n",
    "    kde_plot_iron_mass = kde_model(mass_range,species='iron_mass',energy_range=i)\n",
    "    \n",
    "    axs[count][count2].plot(mass_range,kde_plot_proton_mass,label='proton')\n",
    "    axs[count][count2].plot(mass_range,kde_plot_helium_mass,label='helium')\n",
    "    axs[count][count2].plot(mass_range,kde_plot_oxygen_mass,label='oxygen')\n",
    "    axs[count][count2].plot(mass_range,kde_plot_iron_mass,label='iron')\n",
    "    axs[count][count2].set_title(i)\n",
    "    axs[count][count2].legend()\n",
    "    \n",
    "    count2 += 1\n",
    "    if count2 == 2:\n",
    "        count2 = 0\n",
    "        count += 1\n",
    "plt.show()"
   ]
  },
  {
   "cell_type": "code",
   "execution_count": null,
   "metadata": {},
   "outputs": [],
   "source": [
    "def xmax_kde(x,a,b,c,d,energy_range='6.5 - 6.75'):\n",
    "    return a * kde_model(x,species='proton',energy_range=energy_range) + b * kde_model(x,species='helium',energy_range=energy_range) + c * kde_model(x,species= 'oxygen',energy_range=energy_range) + d * kde_model(x,species='iron',energy_range=energy_range)"
   ]
  },
  {
   "cell_type": "code",
   "execution_count": null,
   "metadata": {},
   "outputs": [],
   "source": [
    "def mass_kde(x,a,b,c,d,energy_range='6.5 - 6.75'):\n",
    "    return a * kde_model(x,species='proton_mass',energy_range=energy_range) + b * kde_model(x,species='helium_mass',energy_range=energy_range) + c * kde_model(x,species= 'oxygen_mass',energy_range=energy_range) + d * kde_model(x,species='iron_mass',energy_range=energy_range)"
   ]
  },
  {
   "cell_type": "code",
   "execution_count": null,
   "metadata": {},
   "outputs": [],
   "source": [
    "def mse(f_obs,f_exp):\n",
    "    return np.mean([(i-j)**2 for i,j in zip(f_obs,f_exp)])"
   ]
  },
  {
   "cell_type": "code",
   "execution_count": null,
   "metadata": {},
   "outputs": [],
   "source": [
    "def plot_model(model,name,bin_value,plot = False):\n",
    "    if plot:\n",
    "        fig,axs = plt.subplots(5,2,figsize=(16,16*2))\n",
    "\n",
    "    count = 0\n",
    "    count2 = 0\n",
    "    \n",
    "    num_bins = [bin_value]\n",
    "    \n",
    "    energy_bin = []\n",
    "    chi2 = [[]]\n",
    "\n",
    "    count_new = 0\n",
    "    \n",
    "    \n",
    "    for i in energy_stuff:\n",
    "        value = i.split('-')\n",
    "        max_value = float(value[1])\n",
    "        min_value = float(value[0])\n",
    "    \n",
    "        my_function = partial(xmax_kde,energy_range = i)\n",
    "    \n",
    "        counts,bins = np.histogram(xmax_data[(energy_data>=min_value)&(energy_data<=max_value)],bins=num_bins[0],density=True)\n",
    "      \n",
    "        energy  = 10**np.mean([min_value,max_value])\n",
    "        \n",
    "        sum_flux = model.nucleus_flux(14,energy) + model.nucleus_flux(402,energy) + model.nucleus_flux(1206,energy) + model.nucleus_flux(5426,energy)\n",
    "        proton_frac = model.nucleus_flux(14,energy)/sum_flux\n",
    "        helium_frac = model.nucleus_flux(402,energy)/sum_flux\n",
    "        oxygen_frac = model.nucleus_flux(1206,energy)/sum_flux\n",
    "        iron_frac = model.nucleus_flux(5426,energy)/sum_flux\n",
    "    \n",
    "        energy_bin.append(np.mean([min_value,max_value]))\n",
    "        \n",
    "        sum_kde = my_function(bins[0:-1],proton_frac,helium_frac,oxygen_frac,iron_frac)\n",
    "        \n",
    "        chi2[count_new].append(mse(f_obs = sum_kde[counts>0],f_exp = counts[counts>0]))\n",
    "        \n",
    "        if plot:\n",
    "            axs[count][count2].scatter(bins[0:-1],counts,label='data')\n",
    "            axs[count][count2].plot(bins[0:-1],my_function(bins[0:-1],proton_frac,helium_frac,oxygen_frac,iron_frac),label='fit')\n",
    "            axs[count][count2].plot(bins[0:-1],proton_frac* kde_model(bins[0:-1],species='proton',energy_range=i),label='proton')\n",
    "            axs[count][count2].plot(bins[0:-1],helium_frac* kde_model(bins[0:-1],species='helium',energy_range=i),label='helium')\n",
    "            axs[count][count2].plot(bins[0:-1],oxygen_frac* kde_model(bins[0:-1],species='oxygen',energy_range=i),label='oxygen')\n",
    "            axs[count][count2].plot(bins[0:-1],iron_frac* kde_model(bins[0:-1],species='iron',energy_range=i),label='iron')\n",
    "            axs[count][count2].legend()\n",
    "            axs[count][count2].set_title('Energy: %s, Proton: %.2f, Helium: %.2f, Oxygen: %.2f, Iron: %.2f'%(i,proton_frac,helium_frac,oxygen_frac,iron_frac))\n",
    "    \n",
    "        count2 += 1\n",
    "        if count2 == 2:\n",
    "            count2 = 0\n",
    "            count += 1\n",
    "    if plot:    \n",
    "        plt.savefig(name)\n",
    "    \n",
    "    return energy_bin,chi2"
   ]
  },
  {
   "cell_type": "code",
   "execution_count": null,
   "metadata": {},
   "outputs": [],
   "source": [
    "def get_values(my_list):\n",
    "    output = [[] for i in range(len(my_list[0][0]))]\n",
    "    for i in range(len(my_list)):\n",
    "        for j in range(len(my_list[0][0])):\n",
    "            output[j].append(my_list[i][0][j])\n",
    "    return output"
   ]
  },
  {
   "cell_type": "code",
   "execution_count": null,
   "metadata": {},
   "outputs": [],
   "source": [
    "from sklearn.utils import resample"
   ]
  },
  {
   "cell_type": "code",
   "execution_count": null,
   "metadata": {},
   "outputs": [],
   "source": [
    "def resample_method(input_value):\n",
    "    mean_value = []\n",
    "    for i in range(5000):\n",
    "        new_one = resample(input_value)\n",
    "        mean_value.append(np.mean(new_one))\n",
    "    return mean_value"
   ]
  },
  {
   "cell_type": "code",
   "execution_count": null,
   "metadata": {},
   "outputs": [],
   "source": [
    "H3A_chi2 = []\n",
    "for i in range(5,105,5):\n",
    "    energy_bin,chi2 = plot_model(H3A,'H3A_fit.png',bin_value=i)\n",
    "    H3A_chi2.append(chi2)"
   ]
  },
  {
   "cell_type": "code",
   "execution_count": null,
   "metadata": {},
   "outputs": [],
   "source": [
    "plot_model(H3A,'H3A_fit.png',bin_value=50,plot=True)"
   ]
  },
  {
   "cell_type": "code",
   "execution_count": null,
   "metadata": {},
   "outputs": [],
   "source": [
    "H3A_chi2_mean = [np.mean(resample_method(i)) for i in get_values(H3A_chi2)]\n",
    "H3A_std = [np.std(resample_method(i)) for i,j in zip(get_values(H3A_chi2),H3A_chi2_mean)]"
   ]
  },
  {
   "cell_type": "code",
   "execution_count": null,
   "metadata": {},
   "outputs": [],
   "source": [
    "H4A_chi2 = []\n",
    "for i in range(5,105,5):\n",
    "    energy_bin,chi2 = plot_model(H4A,'H4A_fit.png',bin_value=i)\n",
    "    H4A_chi2.append(chi2)"
   ]
  },
  {
   "cell_type": "code",
   "execution_count": null,
   "metadata": {},
   "outputs": [],
   "source": [
    "plot_model(H4A,'H4A_fit.png',bin_value=50,plot=True)"
   ]
  },
  {
   "cell_type": "code",
   "execution_count": null,
   "metadata": {},
   "outputs": [],
   "source": [
    "H4A_chi2_mean = [np.mean(resample_method(i)) for i in get_values(H4A_chi2)]\n",
    "H4A_std = [np.std(resample_method(i)) for i,j in zip(get_values(H4A_chi2),H4A_chi2_mean)]"
   ]
  },
  {
   "cell_type": "code",
   "execution_count": null,
   "metadata": {},
   "outputs": [],
   "source": [
    "GST_chi2 = []\n",
    "for i in range(5,105,5):\n",
    "    energy_bin,chi2 = plot_model(GST,'GST_fit.png',bin_value=i)\n",
    "    GST_chi2.append(chi2)"
   ]
  },
  {
   "cell_type": "code",
   "execution_count": null,
   "metadata": {},
   "outputs": [],
   "source": [
    "plot_model(GST,'GST_fit.png',bin_value=50,plot=True)"
   ]
  },
  {
   "cell_type": "code",
   "execution_count": null,
   "metadata": {},
   "outputs": [],
   "source": [
    "GST_chi2_mean = [np.mean(resample_method(i)) for i in get_values(GST_chi2)]\n",
    "GST_std = [np.std(resample_method(i)) for i,j in zip(get_values(GST_chi2),GST_chi2_mean)]"
   ]
  },
  {
   "cell_type": "code",
   "execution_count": null,
   "metadata": {},
   "outputs": [],
   "source": [
    "G3gen_chi2 = []\n",
    "for i in range(5,105,5):\n",
    "    energy_bin,chi2 = plot_model(mods.GaisserStanevTilav('3-gen'),'GH_fit.png',bin_value=i)\n",
    "    G3gen_chi2.append(chi2)"
   ]
  },
  {
   "cell_type": "code",
   "execution_count": null,
   "metadata": {},
   "outputs": [],
   "source": [
    "G3gen_chi2_mean = [np.mean(resample_method(i)) for i in get_values(G3gen_chi2)]\n",
    "G3gen_std = [np.std(resample_method(i)) for i,j in zip(get_values(G3gen_chi2),G3gen_chi2_mean)]"
   ]
  },
  {
   "cell_type": "code",
   "execution_count": null,
   "metadata": {},
   "outputs": [],
   "source": [
    "plt.hist(resample_method(get_values(GST_chi2)[0]),bins=100)\n",
    "plt.vlines(np.mean(get_values(GST_chi2)[0])+np.std(get_values(GST_chi2)[0])/2,0,200)\n",
    "plt.vlines(np.mean(get_values(GST_chi2)[0])-np.std(get_values(GST_chi2)[0])/2,0,200)\n",
    "plt.vlines(np.quantile(get_values(GST_chi2)[0],0.16),0,200)\n",
    "plt.vlines(np.quantile(get_values(GST_chi2)[0],0.84),0,200)\n",
    "plt.show()"
   ]
  },
  {
   "cell_type": "code",
   "execution_count": null,
   "metadata": {},
   "outputs": [],
   "source": [
    "plt.errorbar(energy_bin,H3A_chi2_mean,yerr =  np.array(H3A_std)/2,label='H3A',fmt='o')\n",
    "plt.errorbar(energy_bin,H4A_chi2_mean,yerr = np.array(H4A_std)/2,label='H4A',fmt='o')\n",
    "plt.errorbar(energy_bin,GST_chi2_mean,yerr = np.array(GST_std)/2,label='GST',fmt='o')\n",
    "plt.errorbar(energy_bin,G3gen_chi2_mean,yerr = np.array(G3gen_std)/2,label='G3gen',fmt='o')\n",
    "plt.legend()\n",
    "plt.ylabel('RMSE')\n",
    "plt.xlabel('$Log_{10}$(E/GeV)')\n",
    "plt.savefig('Model_fit_comparison.png')"
   ]
  },
  {
   "cell_type": "code",
   "execution_count": null,
   "metadata": {},
   "outputs": [],
   "source": [
    "plt.scatter(energy_bin,[i-j for i,j in zip(GST_chi2_mean,G3gen_chi2_mean)])\n",
    "plt.show()"
   ]
  },
  {
   "cell_type": "code",
   "execution_count": null,
   "metadata": {},
   "outputs": [],
   "source": [
    "fig,axs = plt.subplots(5,2,figsize=(16,16*2))\n",
    "#fit2,axs2 = plt.subplots(3,2,figsize=(11,11))\n",
    "count = 0\n",
    "count2 = 0\n",
    "\n",
    "#num_bins = list(range(5,55,5))\n",
    "num_bins = [10,25,50]\n",
    "\n",
    "proton_frac = [[] for i in range(len(num_bins))]\n",
    "proton_std = [[] for i in range(len(num_bins))]\n",
    "\n",
    "helium_frac = [[] for i in range(len(num_bins))]\n",
    "helium_std = [[] for i in range(len(num_bins))]\n",
    "\n",
    "oxygen_frac = [[] for i in range(len(num_bins))]\n",
    "oxygen_std = [[] for i in range(len(num_bins))]\n",
    "\n",
    "iron_frac = [[] for i in range(len(num_bins))]\n",
    "iron_std = [[] for i in range(len(num_bins))]\n",
    "\n",
    "lnA = [[] for i in range(len(num_bins))]\n",
    "\n",
    "energy_bin1 = []\n",
    "\n",
    "for i in energy_stuff:\n",
    "    value = i.split('-')\n",
    "    max_value = float(value[1])\n",
    "    min_value = float(value[0])\n",
    "    \n",
    "    my_function = partial(xmax_kde,energy_range = i)\n",
    "    #my_function2 = partial(mass_kde,energy_range=i)\n",
    "    \n",
    "    count_bin = 0\n",
    "    for bin_value in num_bins:\n",
    "        counts,bins = np.histogram(xmax_data[(energy_data>=min_value)&(energy_data<=max_value)],bins=bin_value,density=True)\n",
    "        #counts2,bins2 = np.histogram(mass_data[(energy_data>=min_value)&(energy_data<=max_value)],bins=31,density=True)\n",
    "    \n",
    "        energy  = 10**np.mean([min_value,max_value])\n",
    "        \n",
    "        sum_flux = GST.nucleus_flux(14,energy) + GST.nucleus_flux(402,energy) + GST.nucleus_flux(1206,energy) + GST.nucleus_flux(5426,energy)\n",
    "        \n",
    "        proton_init = GST.nucleus_flux(14,energy)/sum_flux\n",
    "        helium_init = GST.nucleus_flux(402,energy)/sum_flux\n",
    "        oxygen_init = GST.nucleus_flux(1206,energy)/sum_flux\n",
    "        iron_init = GST.nucleus_flux(5426,energy)/sum_flux\n",
    "        \n",
    "        fit = curve_fit(my_function,bins[0:-1],counts,bounds=(0,1),p0=[proton_init,helium_init,oxygen_init,iron_init])\n",
    "    \n",
    "        #fit2 = curve_fit(my_function2,bins2[0:-1],counts2,bounds=(0,1))\n",
    "    \n",
    "        proton_frac[count_bin].append(fit[0][0])\n",
    "        proton_std[count_bin].append(fit[1][0][0]**0.5)\n",
    "    \n",
    "        helium_frac[count_bin].append(fit[0][1])\n",
    "        helium_std[count_bin].append(fit[1][1][1]**0.5)\n",
    "    \n",
    "        oxygen_frac[count_bin].append(fit[0][2])\n",
    "        oxygen_std[count_bin].append(fit[1][2][2]**0.5)\n",
    "    \n",
    "        iron_frac[count_bin].append(fit[0][3])\n",
    "        iron_std[count_bin].append(fit[1][3][3]**0.5)\n",
    "        \n",
    "        lnA[count_bin].append(1*fit[0][0] + 2 * fit[0][1] +3 * fit[0][2] + 4 * fit[0][3])\n",
    "        \n",
    "        count_bin += 1\n",
    "    \n",
    "    energy_bin1.append(np.mean([min_value,max_value]))\n",
    "    \n",
    "    axs[count][count2].scatter(bins[0:-1],counts,label='data')\n",
    "    axs[count][count2].plot(bins[0:-1],my_function(bins[0:-1],fit[0][0],fit[0][1],fit[0][2],fit[0][3]),label='fit')\n",
    "    axs[count][count2].plot(bins[0:-1],fit[0][0]* kde_model(bins[0:-1],species='proton',energy_range=i),label='proton')\n",
    "    axs[count][count2].plot(bins[0:-1],fit[0][1]* kde_model(bins[0:-1],species='helium',energy_range=i),label='helium')\n",
    "    axs[count][count2].plot(bins[0:-1],fit[0][2]* kde_model(bins[0:-1],species='oxygen',energy_range=i),label='oxygen')\n",
    "    axs[count][count2].plot(bins[0:-1],fit[0][3]* kde_model(bins[0:-1],species='iron',energy_range=i),label='iron')\n",
    "    axs[count][count2].legend()\n",
    "    axs[count][count2].set_title('Proton: %.2f, Helium: %.2f, Oxygen: %.2f, Iron: %.2f'%(fit[0][0],fit[0][1],fit[0][2],fit[0][3]))\n",
    "    \n",
    "    #axs2[count][count2].scatter(bins2[0:-1],counts2)\n",
    "    #axs2[count][count2].plot(bins2[0:-1],my_function2(bins2[0:-1],fit[0][0],fit[0][1],fit[0][2],fit[0][3]))\n",
    "      \n",
    "    count2 += 1\n",
    "    if count2 == 2:\n",
    "        count2 = 0\n",
    "        count += 1\n",
    "plt.savefig('KDE_fit.png')"
   ]
  },
  {
   "cell_type": "code",
   "execution_count": null,
   "metadata": {},
   "outputs": [],
   "source": [
    "def output(frac,std):\n",
    "    x1 = list(zip(*frac))\n",
    "    x2 = list(zip(*std))\n",
    "    value_update = []\n",
    "    for i in range(len(x1)):\n",
    "        value = 0\n",
    "        value2 = 0\n",
    "        for j in range(len(x1[i])):\n",
    "            value += x1[i][j]/x2[i][j]\n",
    "            value2 += 1/x2[i][j]\n",
    "        value_update.append(value/value2)\n",
    "    return value_update\n",
    "\n",
    "def std_output(std):\n",
    "    x1 = list(zip(*std))\n",
    "    value_update = []\n",
    "    for i in range(len(x1)):\n",
    "        value = 0\n",
    "        for j in range(len(x1[i])):\n",
    "            value += 1/x1[i][j]**2\n",
    "        value_update.append((len(x1[i])/value)**0.5)\n",
    "    return value_update"
   ]
  },
  {
   "cell_type": "code",
   "execution_count": null,
   "metadata": {},
   "outputs": [],
   "source": [
    "proton_frac_mean = output(proton_frac,proton_std)\n",
    "helium_frac_mean = output(helium_frac,helium_std)\n",
    "oxygen_frac_mean = output(oxygen_frac,oxygen_std)\n",
    "iron_frac_mean = output(iron_frac,iron_std)\n",
    "\n",
    "proton_frac_std = std_output(proton_std)\n",
    "helium_frac_std = std_output(helium_std)\n",
    "oxygen_frac_std = std_output(oxygen_std)\n",
    "iron_frac_std = std_output(iron_std)\n",
    "\n",
    "lnA_mean = [np.mean(i) for i in list(zip(*lnA))]"
   ]
  },
  {
   "cell_type": "code",
   "execution_count": null,
   "metadata": {},
   "outputs": [],
   "source": [
    "#icecube = np.genfromtxt('files/composition.csv',delimiter=',')\n",
    "#hydrogen_icecube = np.genfromtxt('files/hydrogen.csv',delimiter=',')\n",
    "#iron_icecube = np.genfromtxt('files/iron.csv',delimiter=',')\n",
    "#helium_icecube = np.genfromtxt('files/helium.csv',delimiter=',')\n",
    "#oxygen_icecube = np.genfromtxt('files/oxygen.csv',delimiter=',')"
   ]
  },
  {
   "cell_type": "code",
   "execution_count": null,
   "metadata": {},
   "outputs": [],
   "source": [
    "print(total_flux)"
   ]
  },
  {
   "cell_type": "code",
   "execution_count": null,
   "metadata": {},
   "outputs": [],
   "source": [
    "plt.figure(figsize=(10,5))\n",
    "plt.errorbar(energy_bin1,proton_frac_mean,fmt='o',color='r',yerr=np.array(proton_frac_std)/2)\n",
    "#plt.errorbar(energy_bin,proton_frac_ten,fmt='--',color='r')\n",
    "#plt.errorbar(energy_bin,proton_frac_ninety,fmt='--',color='r')\n",
    "plt.plot(np.log10(Energy),proton_flux/total_flux,label='H3a')\n",
    "plt.plot(np.log10(Energy),proton_flux1/total_flux1,label='H4a')\n",
    "plt.plot(np.log10(Energy),proton_flux2/total_flux2,label='GST')\n",
    "#plt.scatter(list(zip(*hydrogen_icecube))[0],list(zip(*hydrogen_icecube))[1])\n",
    "plt.legend()\n",
    "plt.savefig('proton_result.png')"
   ]
  },
  {
   "cell_type": "code",
   "execution_count": null,
   "metadata": {},
   "outputs": [],
   "source": [
    "plt.figure(figsize=(10,5))\n",
    "plt.errorbar(energy_bin1,helium_frac_mean,fmt='o',color='r',yerr=np.array(helium_frac_std)/2)\n",
    "#plt.errorbar(energy_bin,helium_frac_ten,fmt='--',color='r')\n",
    "#plt.errorbar(energy_bin,helium_frac_ninety,fmt='--',color='r')\n",
    "plt.plot(np.log10(Energy),helium_flux/total_flux,label='H3a')\n",
    "plt.plot(np.log10(Energy),helium_flux1/total_flux1,label='H4a')\n",
    "plt.plot(np.log10(Energy),helium_flux2/total_flux2,label='GST')\n",
    "#plt.scatter(list(zip(*helium_icecube))[0],list(zip(*helium_icecube))[1])\n",
    "plt.legend()\n",
    "plt.savefig('helium_result.png')"
   ]
  },
  {
   "cell_type": "code",
   "execution_count": null,
   "metadata": {},
   "outputs": [],
   "source": [
    "plt.figure(figsize=(10,5))\n",
    "plt.errorbar(energy_bin1,oxygen_frac_mean,fmt='o',color='r',yerr=np.array(oxygen_frac_std)/2)\n",
    "#plt.errorbar(energy_bin,oxygen_frac_ten,fmt='--',color='r')\n",
    "#plt.errorbar(energy_bin,oxygen_frac_ninety,fmt='--',color='r')\n",
    "plt.plot(np.log10(Energy),oxygen_flux/total_flux,label='H3a')\n",
    "plt.plot(np.log10(Energy),oxygen_flux1/total_flux1,label='H4a')\n",
    "plt.plot(np.log10(Energy),oxygen_flux2/total_flux2,label='GST')\n",
    "#plt.scatter(list(zip(*oxygen_icecube))[0],list(zip(*oxygen_icecube))[1])\n",
    "plt.legend()\n",
    "plt.savefig('oxygen_result.png')"
   ]
  },
  {
   "cell_type": "code",
   "execution_count": null,
   "metadata": {},
   "outputs": [],
   "source": [
    "plt.figure(figsize=(10,5))\n",
    "plt.errorbar(energy_bin1,iron_frac_mean,fmt='o',color='r',yerr=np.array(iron_frac_std)/2)\n",
    "#plt.errorbar(energy_bin,iron_frac_ten,fmt='--',color='r')\n",
    "#plt.errorbar(energy_bin,iron_frac_ninety,fmt='--',color='r')\n",
    "plt.plot(np.log10(Energy),iron_flux/total_flux,label='H3a')\n",
    "plt.plot(np.log10(Energy),iron_flux1/total_flux1,label='H4a')\n",
    "plt.plot(np.log10(Energy),iron_flux2/total_flux2,label='GST')\n",
    "#plt.scatter(list(zip(*iron_icecube))[0],list(zip(*iron_icecube))[1])\n",
    "plt.legend()\n",
    "plt.savefig('iron_result.png')"
   ]
  },
  {
   "cell_type": "code",
   "execution_count": null,
   "metadata": {},
   "outputs": [],
   "source": [
    "lnA_std = [((1*i)**2 + (2*j)**2 + (3*k)**2 + (4*l)**2)**0.5 for i,j,k,l in zip(proton_frac_std,helium_frac_std,oxygen_frac_std,iron_frac_std)]"
   ]
  },
  {
   "cell_type": "code",
   "execution_count": null,
   "metadata": {},
   "outputs": [],
   "source": [
    "plt.figure(figsize=(10,5))\n",
    "plt.errorbar(energy_bin1,lnA_mean,fmt='o',color='r',yerr=np.array(lnA_std)/2)\n",
    "#plt.errorbar(energy_bin,lnA_ten,fmt='--',color='r')\n",
    "#plt.errorbar(energy_bin,lnA_ninety,fmt='--',color='r')\n",
    "plt.plot(np.log10(Energy),lnA_H3A,label='H3a')\n",
    "plt.plot(np.log10(Energy),lnA_H4A,label='H4a')\n",
    "plt.plot(np.log10(Energy),lnA_GST,label='GST')\n",
    "#plt.scatter(list(zip(*icecube))[0],list(zip(*icecube))[1])\n",
    "plt.legend()\n",
    "plt.savefig('lnA_result.png')"
   ]
  },
  {
   "cell_type": "code",
   "execution_count": null,
   "metadata": {},
   "outputs": [],
   "source": []
  },
  {
   "cell_type": "code",
   "execution_count": null,
   "metadata": {},
   "outputs": [],
   "source": [
    "[i+j+k+l for i,j,k,l in zip(proton_frac_mean,helium_frac_mean,oxygen_frac_mean,iron_frac_mean)]"
   ]
  },
  {
   "cell_type": "code",
   "execution_count": null,
   "metadata": {},
   "outputs": [],
   "source": [
    "iron = pd.read_csv('files/Iron.csv')\n",
    "proton = pd.read_csv('files/Proton.csv')\n",
    "helium = pd.read_csv('files/Helium.csv')\n",
    "oxygen = pd.read_csv('files/Oxygen.csv')"
   ]
  },
  {
   "cell_type": "code",
   "execution_count": null,
   "metadata": {},
   "outputs": [],
   "source": [
    "iron = new_df(iron,4)\n",
    "proton = new_df(proton,1)\n",
    "helium = new_df(helium,2)\n",
    "oxygen = new_df(oxygen,3)"
   ]
  },
  {
   "cell_type": "code",
   "execution_count": null,
   "metadata": {},
   "outputs": [],
   "source": [
    "df = iron.append(proton)\n",
    "df = df.append(helium)\n",
    "df = df.append(oxygen)"
   ]
  },
  {
   "cell_type": "code",
   "execution_count": null,
   "metadata": {},
   "outputs": [],
   "source": [
    "xmax_predictions = xmax_model(df)"
   ]
  },
  {
   "cell_type": "code",
   "execution_count": null,
   "metadata": {},
   "outputs": [],
   "source": [
    "xmax_true = df['Xmax'].values"
   ]
  },
  {
   "cell_type": "code",
   "execution_count": null,
   "metadata": {},
   "outputs": [],
   "source": [
    "energy_true = df['log_energy'].values"
   ]
  },
  {
   "cell_type": "code",
   "execution_count": null,
   "metadata": {},
   "outputs": [],
   "source": [
    "error = [(i-j)**2 for i,j in zip(xmax_predictions,xmax_true)]"
   ]
  },
  {
   "cell_type": "code",
   "execution_count": null,
   "metadata": {},
   "outputs": [],
   "source": [
    "mean_overall,std_mean,bins,median,ten,ninety = binning(xmax_true,error,bins=20)"
   ]
  },
  {
   "cell_type": "code",
   "execution_count": null,
   "metadata": {},
   "outputs": [],
   "source": [
    "plt.errorbar(bins,mean_overall**0.5,fmt='o')\n",
    "plt.plot(bins,np.array(ten)**0.5)\n",
    "plt.plot(bins,np.array(ninety)**0.5)\n",
    "plt.show()"
   ]
  },
  {
   "cell_type": "code",
   "execution_count": null,
   "metadata": {},
   "outputs": [],
   "source": [
    "import matplotlib"
   ]
  },
  {
   "cell_type": "code",
   "execution_count": null,
   "metadata": {},
   "outputs": [],
   "source": [
    "plt.hist2d(xmax_true,np.array(error)**0.5,bins=100,norm=matplotlib.colors.LogNorm())\n",
    "plt.show()"
   ]
  },
  {
   "cell_type": "code",
   "execution_count": null,
   "metadata": {},
   "outputs": [],
   "source": [
    "plt.hist2d(energy_true,np.array(error)**0.5,bins=100,norm=matplotlib.colors.LogNorm())\n",
    "plt.show()"
   ]
  },
  {
   "cell_type": "code",
   "execution_count": null,
   "metadata": {},
   "outputs": [],
   "source": [
    "mean_overall,std_mean,bins,median,ten,ninety = binning(energy_true,error,bins=20)"
   ]
  },
  {
   "cell_type": "code",
   "execution_count": null,
   "metadata": {},
   "outputs": [],
   "source": [
    "plt.errorbar(bins,mean_overall**0.5,fmt='o')\n",
    "plt.plot(bins,np.array(ten)**0.5)\n",
    "plt.plot(bins,np.array(ninety)**0.5)\n",
    "plt.show()"
   ]
  },
  {
   "cell_type": "code",
   "execution_count": null,
   "metadata": {},
   "outputs": [],
   "source": []
  },
  {
   "cell_type": "code",
   "execution_count": null,
   "metadata": {},
   "outputs": [],
   "source": []
  }
 ],
 "metadata": {
  "kernelspec": {
   "display_name": "Python 3",
   "language": "python",
   "name": "python3"
  },
  "language_info": {
   "codemirror_mode": {
    "name": "ipython",
    "version": 3
   },
   "file_extension": ".py",
   "mimetype": "text/x-python",
   "name": "python",
   "nbconvert_exporter": "python",
   "pygments_lexer": "ipython3",
   "version": "3.7.9"
  }
 },
 "nbformat": 4,
 "nbformat_minor": 4
}
