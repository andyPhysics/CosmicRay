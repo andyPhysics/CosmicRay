{
 "cells": [
  {
   "cell_type": "code",
   "execution_count": 1,
   "metadata": {},
   "outputs": [],
   "source": [
    "import tensorflow.keras as keras\n",
    "from tensorflow.keras import initializers,regularizers\n",
    "from tensorflow.keras.layers import Dense, Dropout, Flatten, Input, Concatenate\n",
    "from tensorflow.keras.models import Model\n",
    "import tensorflow.keras.backend as K\n",
    "import math"
   ]
  },
  {
   "cell_type": "code",
   "execution_count": 2,
   "metadata": {},
   "outputs": [],
   "source": [
    "import numpy as np\n",
    "import pandas as pd\n",
    "import matplotlib.pylab as plt\n",
    "import matplotlib"
   ]
  },
  {
   "cell_type": "code",
   "execution_count": 3,
   "metadata": {},
   "outputs": [],
   "source": [
    "iron = pd.read_csv('Iron.csv')\n",
    "proton = pd.read_csv('Proton.csv')\n",
    "proton['mass'] = [1 for i in range(len(proton))]\n",
    "helium = pd.read_csv('Helium.csv')\n",
    "helium['mass'] = [2 for i in range(len(helium))]\n",
    "oxygen = pd.read_csv('Oxygen.csv')\n",
    "oxygen['mass'] = [3 for i in range(len(oxygen))]"
   ]
  },
  {
   "cell_type": "code",
   "execution_count": 4,
   "metadata": {},
   "outputs": [],
   "source": [
    "df = iron.append(proton)\n",
    "df = df.append(helium)\n",
    "df = df.append(oxygen)"
   ]
  },
  {
   "cell_type": "code",
   "execution_count": 5,
   "metadata": {},
   "outputs": [
    {
     "name": "stderr",
     "output_type": "stream",
     "text": [
      "/home/andy/.local/lib/python3.6/site-packages/pandas/core/series.py:856: RuntimeWarning: invalid value encountered in log10\n",
      "  result = getattr(ufunc, method)(*inputs, **kwargs)\n"
     ]
    }
   ],
   "source": [
    "df['log_energy'] = np.log10(df['energy'])\n",
    "df['cos_zenith'] = np.cos(df['zenith'])\n",
    "df['log_energy_loss'] = np.log10(df['energy_loss'])"
   ]
  },
  {
   "cell_type": "code",
   "execution_count": 6,
   "metadata": {},
   "outputs": [],
   "source": [
    "df = df.loc[(df['Xmax']<900)&(df['Xmax']>400)&(df['chi2']<3)&(df['S125']>0)]"
   ]
  },
  {
   "cell_type": "code",
   "execution_count": 7,
   "metadata": {},
   "outputs": [],
   "source": [
    "check = [math.isnan(i)==0 for i in df['energy_loss'].values]"
   ]
  },
  {
   "cell_type": "code",
   "execution_count": 8,
   "metadata": {},
   "outputs": [],
   "source": [
    "df_coinc = df[check]\n",
    "check2 = [i==0 for i in np.isnan(df_coinc['log_energy_loss'].values)]\n",
    "df_coinc = df_coinc.loc[check2]"
   ]
  },
  {
   "cell_type": "code",
   "execution_count": 9,
   "metadata": {},
   "outputs": [],
   "source": [
    "from sklearn.model_selection import train_test_split"
   ]
  },
  {
   "cell_type": "code",
   "execution_count": 10,
   "metadata": {},
   "outputs": [],
   "source": [
    "y = df_coinc[['log_energy_loss']].values\n",
    "X = df_coinc[['cos_zenith','S125','alpha','beta','chi','omega']].values"
   ]
  },
  {
   "cell_type": "code",
   "execution_count": 11,
   "metadata": {},
   "outputs": [],
   "source": [
    "X_train, X_test, y_train, y_test = train_test_split(X, y, test_size=0.2, random_state=42)"
   ]
  },
  {
   "cell_type": "code",
   "execution_count": 12,
   "metadata": {},
   "outputs": [],
   "source": [
    "from sklearn.ensemble import BaggingRegressor\n",
    "from sklearn.tree import DecisionTreeRegressor"
   ]
  },
  {
   "cell_type": "code",
   "execution_count": 13,
   "metadata": {},
   "outputs": [],
   "source": [
    "regressor = BaggingRegressor(DecisionTreeRegressor(),n_estimators=100)"
   ]
  },
  {
   "cell_type": "code",
   "execution_count": 14,
   "metadata": {},
   "outputs": [
    {
     "name": "stderr",
     "output_type": "stream",
     "text": [
      "/home/andy/.local/lib/python3.6/site-packages/sklearn/ensemble/_bagging.py:399: DataConversionWarning: A column-vector y was passed when a 1d array was expected. Please change the shape of y to (n_samples, ), for example using ravel().\n",
      "  return column_or_1d(y, warn=True)\n"
     ]
    },
    {
     "data": {
      "text/plain": [
       "BaggingRegressor(base_estimator=DecisionTreeRegressor(ccp_alpha=0.0,\n",
       "                                                      criterion='mse',\n",
       "                                                      max_depth=None,\n",
       "                                                      max_features=None,\n",
       "                                                      max_leaf_nodes=None,\n",
       "                                                      min_impurity_decrease=0.0,\n",
       "                                                      min_impurity_split=None,\n",
       "                                                      min_samples_leaf=1,\n",
       "                                                      min_samples_split=2,\n",
       "                                                      min_weight_fraction_leaf=0.0,\n",
       "                                                      presort='deprecated',\n",
       "                                                      random_state=None,\n",
       "                                                      splitter='best'),\n",
       "                 bootstrap=True, bootstrap_features=False, max_features=1.0,\n",
       "                 max_samples=1.0, n_estimators=100, n_jobs=None,\n",
       "                 oob_score=False, random_state=None, verbose=0,\n",
       "                 warm_start=False)"
      ]
     },
     "execution_count": 14,
     "metadata": {},
     "output_type": "execute_result"
    }
   ],
   "source": [
    "regressor.fit(X_train,y_train)"
   ]
  },
  {
   "cell_type": "code",
   "execution_count": 15,
   "metadata": {},
   "outputs": [],
   "source": [
    "predictions = regressor.predict(X_test)"
   ]
  },
  {
   "cell_type": "code",
   "execution_count": 16,
   "metadata": {},
   "outputs": [
    {
     "data": {
      "image/png": "[encoded data removed]",
      "text/plain": [
       "<Figure size 432x288 with 1 Axes>"
      ]
     },
     "metadata": {
      "needs_background": "light"
     },
     "output_type": "display_data"
    }
   ],
   "source": [
    "plt.hist2d(np.hstack(y_test),predictions,bins=100,norm=matplotlib.colors.LogNorm())\n",
    "plt.plot(y_test,y_test,color='r')\n",
    "plt.show()"
   ]
  },
  {
   "cell_type": "code",
   "execution_count": 17,
   "metadata": {},
   "outputs": [],
   "source": [
    "df['log_energy_loss_prediction'] = regressor.predict(df[['cos_zenith','S125','alpha','beta','chi','omega']].values)"
   ]
  },
  {
   "cell_type": "code",
   "execution_count": 18,
   "metadata": {},
   "outputs": [
    {
     "data": {
      "text/html": [
       "<div>\n",
       "<style scoped>\n",
       "    .dataframe tbody tr th:only-of-type {\n",
       "        vertical-align: middle;\n",
       "    }\n",
       "\n",
       "    .dataframe tbody tr th {\n",
       "        vertical-align: top;\n",
       "    }\n",
       "\n",
       "    .dataframe thead th {\n",
       "        text-align: right;\n",
       "    }\n",
       "</style>\n",
       "<table border=\"1\" class=\"dataframe\">\n",
       "  <thead>\n",
       "    <tr style=\"text-align: right;\">\n",
       "      <th></th>\n",
       "      <th>Unnamed: 0</th>\n",
       "      <th>mass</th>\n",
       "      <th>energy</th>\n",
       "      <th>zenith</th>\n",
       "      <th>S125</th>\n",
       "      <th>energy_loss</th>\n",
       "      <th>he_stoch</th>\n",
       "      <th>he_stoch2</th>\n",
       "      <th>alpha</th>\n",
       "      <th>beta</th>\n",
       "      <th>chi</th>\n",
       "      <th>chi2</th>\n",
       "      <th>omega</th>\n",
       "      <th>Xmax</th>\n",
       "      <th>log_energy</th>\n",
       "      <th>cos_zenith</th>\n",
       "      <th>log_energy_loss</th>\n",
       "      <th>log_energy_loss_prediction</th>\n",
       "    </tr>\n",
       "  </thead>\n",
       "  <tbody>\n",
       "    <tr>\n",
       "      <th>0</th>\n",
       "      <td>0</td>\n",
       "      <td>4</td>\n",
       "      <td>10728140.0</td>\n",
       "      <td>0.898194</td>\n",
       "      <td>0.276340</td>\n",
       "      <td>NaN</td>\n",
       "      <td>NaN</td>\n",
       "      <td>NaN</td>\n",
       "      <td>0.383703</td>\n",
       "      <td>4.433823</td>\n",
       "      <td>0.000993</td>\n",
       "      <td>0.344318</td>\n",
       "      <td>-4.549848e-07</td>\n",
       "      <td>511.545624</td>\n",
       "      <td>7.030524</td>\n",
       "      <td>0.623024</td>\n",
       "      <td>NaN</td>\n",
       "      <td>1.630861</td>\n",
       "    </tr>\n",
       "    <tr>\n",
       "      <th>1</th>\n",
       "      <td>1</td>\n",
       "      <td>4</td>\n",
       "      <td>10728140.0</td>\n",
       "      <td>0.875574</td>\n",
       "      <td>0.252234</td>\n",
       "      <td>NaN</td>\n",
       "      <td>NaN</td>\n",
       "      <td>NaN</td>\n",
       "      <td>0.575905</td>\n",
       "      <td>4.373029</td>\n",
       "      <td>0.000368</td>\n",
       "      <td>0.391465</td>\n",
       "      <td>-4.452286e-06</td>\n",
       "      <td>511.545624</td>\n",
       "      <td>7.030524</td>\n",
       "      <td>0.640557</td>\n",
       "      <td>NaN</td>\n",
       "      <td>1.705583</td>\n",
       "    </tr>\n",
       "    <tr>\n",
       "      <th>2</th>\n",
       "      <td>2</td>\n",
       "      <td>4</td>\n",
       "      <td>10728140.0</td>\n",
       "      <td>0.883769</td>\n",
       "      <td>0.332662</td>\n",
       "      <td>NaN</td>\n",
       "      <td>NaN</td>\n",
       "      <td>NaN</td>\n",
       "      <td>0.530668</td>\n",
       "      <td>4.290579</td>\n",
       "      <td>-0.000152</td>\n",
       "      <td>0.332593</td>\n",
       "      <td>2.043415e-07</td>\n",
       "      <td>511.545624</td>\n",
       "      <td>7.030524</td>\n",
       "      <td>0.634242</td>\n",
       "      <td>NaN</td>\n",
       "      <td>1.572232</td>\n",
       "    </tr>\n",
       "    <tr>\n",
       "      <th>3</th>\n",
       "      <td>3</td>\n",
       "      <td>4</td>\n",
       "      <td>10728140.0</td>\n",
       "      <td>0.885476</td>\n",
       "      <td>0.341780</td>\n",
       "      <td>NaN</td>\n",
       "      <td>NaN</td>\n",
       "      <td>NaN</td>\n",
       "      <td>0.557937</td>\n",
       "      <td>4.291585</td>\n",
       "      <td>-0.000100</td>\n",
       "      <td>0.481211</td>\n",
       "      <td>-5.748144e-07</td>\n",
       "      <td>511.545624</td>\n",
       "      <td>7.030524</td>\n",
       "      <td>0.632921</td>\n",
       "      <td>NaN</td>\n",
       "      <td>1.643350</td>\n",
       "    </tr>\n",
       "    <tr>\n",
       "      <th>4</th>\n",
       "      <td>4</td>\n",
       "      <td>4</td>\n",
       "      <td>10728140.0</td>\n",
       "      <td>0.874735</td>\n",
       "      <td>0.230328</td>\n",
       "      <td>NaN</td>\n",
       "      <td>NaN</td>\n",
       "      <td>NaN</td>\n",
       "      <td>0.714769</td>\n",
       "      <td>4.424826</td>\n",
       "      <td>-0.002416</td>\n",
       "      <td>0.319403</td>\n",
       "      <td>5.148087e-06</td>\n",
       "      <td>511.545624</td>\n",
       "      <td>7.030524</td>\n",
       "      <td>0.641201</td>\n",
       "      <td>NaN</td>\n",
       "      <td>1.684653</td>\n",
       "    </tr>\n",
       "  </tbody>\n",
       "</table>\n",
       "</div>"
      ],
      "text/plain": [
       "   Unnamed: 0  mass      energy    zenith      S125  energy_loss  he_stoch  \\\n",
       "0           0     4  10728140.0  0.898194  0.276340          NaN       NaN   \n",
       "1           1     4  10728140.0  0.875574  0.252234          NaN       NaN   \n",
       "2           2     4  10728140.0  0.883769  0.332662          NaN       NaN   \n",
       "3           3     4  10728140.0  0.885476  0.341780          NaN       NaN   \n",
       "4           4     4  10728140.0  0.874735  0.230328          NaN       NaN   \n",
       "\n",
       "   he_stoch2     alpha      beta       chi      chi2         omega  \\\n",
       "0        NaN  0.383703  4.433823  0.000993  0.344318 -4.549848e-07   \n",
       "1        NaN  0.575905  4.373029  0.000368  0.391465 -4.452286e-06   \n",
       "2        NaN  0.530668  4.290579 -0.000152  0.332593  2.043415e-07   \n",
       "3        NaN  0.557937  4.291585 -0.000100  0.481211 -5.748144e-07   \n",
       "4        NaN  0.714769  4.424826 -0.002416  0.319403  5.148087e-06   \n",
       "\n",
       "         Xmax  log_energy  cos_zenith  log_energy_loss  \\\n",
       "0  511.545624    7.030524    0.623024              NaN   \n",
       "1  511.545624    7.030524    0.640557              NaN   \n",
       "2  511.545624    7.030524    0.634242              NaN   \n",
       "3  511.545624    7.030524    0.632921              NaN   \n",
       "4  511.545624    7.030524    0.641201              NaN   \n",
       "\n",
       "   log_energy_loss_prediction  \n",
       "0                    1.630861  \n",
       "1                    1.705583  \n",
       "2                    1.572232  \n",
       "3                    1.643350  \n",
       "4                    1.684653  "
      ]
     },
     "execution_count": 18,
     "metadata": {},
     "output_type": "execute_result"
    }
   ],
   "source": [
    "df.head()"
   ]
  },
  {
   "cell_type": "code",
   "execution_count": 19,
   "metadata": {},
   "outputs": [],
   "source": [
    "y = df['mass'].values\n",
    "X = df[['log_energy_loss_prediction','cos_zenith','S125','alpha','beta','chi','omega']].values"
   ]
  },
  {
   "cell_type": "code",
   "execution_count": 20,
   "metadata": {},
   "outputs": [],
   "source": [
    "X_train, X_test, y_train, y_test = train_test_split(X, y, test_size=0.2, random_state=42)"
   ]
  },
  {
   "cell_type": "code",
   "execution_count": 21,
   "metadata": {},
   "outputs": [],
   "source": [
    "regressor = BaggingRegressor(DecisionTreeRegressor(),n_estimators=100)"
   ]
  },
  {
   "cell_type": "code",
   "execution_count": 22,
   "metadata": {},
   "outputs": [
    {
     "data": {
      "text/plain": [
       "BaggingRegressor(base_estimator=DecisionTreeRegressor(ccp_alpha=0.0,\n",
       "                                                      criterion='mse',\n",
       "                                                      max_depth=None,\n",
       "                                                      max_features=None,\n",
       "                                                      max_leaf_nodes=None,\n",
       "                                                      min_impurity_decrease=0.0,\n",
       "                                                      min_impurity_split=None,\n",
       "                                                      min_samples_leaf=1,\n",
       "                                                      min_samples_split=2,\n",
       "                                                      min_weight_fraction_leaf=0.0,\n",
       "                                                      presort='deprecated',\n",
       "                                                      random_state=None,\n",
       "                                                      splitter='best'),\n",
       "                 bootstrap=True, bootstrap_features=False, max_features=1.0,\n",
       "                 max_samples=1.0, n_estimators=100, n_jobs=None,\n",
       "                 oob_score=False, random_state=None, verbose=0,\n",
       "                 warm_start=False)"
      ]
     },
     "execution_count": 22,
     "metadata": {},
     "output_type": "execute_result"
    }
   ],
   "source": [
    "regressor.fit(X_train,y_train)"
   ]
  },
  {
   "cell_type": "code",
   "execution_count": 23,
   "metadata": {},
   "outputs": [],
   "source": [
    "predictions2 = regressor.predict(X_test)"
   ]
  },
  {
   "cell_type": "code",
   "execution_count": 24,
   "metadata": {},
   "outputs": [],
   "source": [
    "mass = y_test"
   ]
  },
  {
   "cell_type": "code",
   "execution_count": 25,
   "metadata": {},
   "outputs": [],
   "source": [
    "iron_prediction = predictions2[mass==4]\n",
    "proton_prediction = predictions2[mass==1]\n",
    "helium_prediction = predictions2[mass==2]\n",
    "oxygen_prediction = predictions2[mass==3]"
   ]
  },
  {
   "cell_type": "code",
   "execution_count": 26,
   "metadata": {},
   "outputs": [
    {
     "data": {
      "image/png": "[encoded data removed]",
      "text/plain": [
       "<Figure size 432x288 with 1 Axes>"
      ]
     },
     "metadata": {
      "needs_background": "light"
     },
     "output_type": "display_data"
    }
   ],
   "source": [
    "plt.hist(iron_prediction,bins=100,facecolor='w',edgecolor='r',alpha=0.5)\n",
    "plt.hist(proton_prediction,bins=100,facecolor='w',edgecolor='b',alpha=0.5)\n",
    "plt.hist(helium_prediction,bins=100,facecolor='w',edgecolor='g',alpha=0.5)\n",
    "plt.hist(oxygen_prediction,bins=100,facecolor='w',edgecolor='orange',alpha=0.5)\n",
    "plt.show()"
   ]
  },
  {
   "cell_type": "code",
   "execution_count": null,
   "metadata": {},
   "outputs": [],
   "source": []
  }
 ],
 "metadata": {
  "kernelspec": {
   "display_name": "Python 3",
   "language": "python",
   "name": "python3"
  },
  "language_info": {
   "codemirror_mode": {
    "name": "ipython",
    "version": 3
   },
   "file_extension": ".py",
   "mimetype": "text/x-python",
   "name": "python",
   "nbconvert_exporter": "python",
   "pygments_lexer": "ipython3",
   "version": "3.6.9"
  }
 },
 "nbformat": 4,
 "nbformat_minor": 4
}
