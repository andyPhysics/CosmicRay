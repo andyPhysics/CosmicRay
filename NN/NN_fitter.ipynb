{
 "cells": [
  {
   "cell_type": "code",
   "execution_count": 1,
   "metadata": {},
   "outputs": [],
   "source": [
    "import tensorflow.keras as keras\n",
    "from tensorflow.keras import initializers,regularizers\n",
    "from tensorflow.keras.layers import Dense, Dropout, Flatten, Input, Concatenate\n",
    "from tensorflow.keras.models import Model, load_model\n",
    "import tensorflow.keras.backend as K\n",
    "import math\n",
    "import matplotlib.pylab as plt\n",
    "import matplotlib\n",
    "from random import random"
   ]
  },
  {
   "cell_type": "code",
   "execution_count": 2,
   "metadata": {},
   "outputs": [],
   "source": [
    "import numpy as np\n",
    "import pandas as pd"
   ]
  },
  {
   "cell_type": "code",
   "execution_count": 3,
   "metadata": {},
   "outputs": [],
   "source": [
    "def new_df(df,mass):\n",
    "    df['mass'] = [mass for i in range(len(df))]\n",
    "    df['log_energy'] = np.log10(df['energy'])\n",
    "    df['cos_zenith'] = np.cos(df['zenith'])\n",
    "    df['log_energy_loss'] = np.log10(df['energy_loss'])\n",
    "    df['log_xmax'] = np.log(df['Xmax'])\n",
    "    df = df.loc[(df['Xmax']<900)&(df['Xmax']>400)&(df['m_chi2']!=0)&(df['s_chi2']!=0)&(df['m_chi2']<2)&(df['s_chi2']<2)]\n",
    "    return df"
   ]
  },
  {
   "cell_type": "code",
   "execution_count": 4,
   "metadata": {},
   "outputs": [],
   "source": [
    "iron = pd.read_csv('Iron.csv')\n",
    "proton = pd.read_csv('Proton.csv')\n",
    "#helium = pd.read_csv('Helium.csv')\n",
    "#oxygen = pd.read_csv('Oxygen.csv')"
   ]
  },
  {
   "cell_type": "code",
   "execution_count": 5,
   "metadata": {},
   "outputs": [
    {
     "data": {
      "text/plain": [
       "Index(['Unnamed: 0', 'mass', 'energy', 'zenith', 'S125', 'energy_loss',\n",
       "       'he_stoch', 'he_stoch2', 'Xmax', 'A', 'm_125', 'm_z', 'm_r', 'm_o',\n",
       "       'm_chi2', 's_125', 's_z', 's_r', 's_o', 's_mix', 's_chi2'],\n",
       "      dtype='object')"
      ]
     },
     "execution_count": 5,
     "metadata": {},
     "output_type": "execute_result"
    }
   ],
   "source": [
    "iron.keys()"
   ]
  },
  {
   "cell_type": "code",
   "execution_count": 6,
   "metadata": {},
   "outputs": [
    {
     "name": "stderr",
     "output_type": "stream",
     "text": [
      "/home/andy/.local/lib/python3.6/site-packages/pandas/core/series.py:856: RuntimeWarning: invalid value encountered in log10\n",
      "  result = getattr(ufunc, method)(*inputs, **kwargs)\n",
      "/home/andy/.local/lib/python3.6/site-packages/pandas/core/series.py:856: RuntimeWarning: divide by zero encountered in log\n",
      "  result = getattr(ufunc, method)(*inputs, **kwargs)\n"
     ]
    }
   ],
   "source": [
    "iron = new_df(iron,4)\n",
    "proton = new_df(proton,1)\n",
    "#helium = new_df(helium,2)\n",
    "#oxygen = new_df(oxygen,3)"
   ]
  },
  {
   "cell_type": "code",
   "execution_count": 7,
   "metadata": {},
   "outputs": [],
   "source": [
    "df = iron.append(proton)\n",
    "#df = df.append(helium)\n",
    "#df = df.append(oxygen)"
   ]
  },
  {
   "cell_type": "code",
   "execution_count": 8,
   "metadata": {},
   "outputs": [],
   "source": [
    "df['log_energy'] = df['log_energy'].values"
   ]
  },
  {
   "cell_type": "code",
   "execution_count": 9,
   "metadata": {},
   "outputs": [
    {
     "data": {
      "text/html": [
       "<div>\n",
       "<style scoped>\n",
       "    .dataframe tbody tr th:only-of-type {\n",
       "        vertical-align: middle;\n",
       "    }\n",
       "\n",
       "    .dataframe tbody tr th {\n",
       "        vertical-align: top;\n",
       "    }\n",
       "\n",
       "    .dataframe thead th {\n",
       "        text-align: right;\n",
       "    }\n",
       "</style>\n",
       "<table border=\"1\" class=\"dataframe\">\n",
       "  <thead>\n",
       "    <tr style=\"text-align: right;\">\n",
       "      <th></th>\n",
       "      <th>Unnamed: 0</th>\n",
       "      <th>mass</th>\n",
       "      <th>energy</th>\n",
       "      <th>zenith</th>\n",
       "      <th>S125</th>\n",
       "      <th>energy_loss</th>\n",
       "      <th>he_stoch</th>\n",
       "      <th>he_stoch2</th>\n",
       "      <th>Xmax</th>\n",
       "      <th>A</th>\n",
       "      <th>...</th>\n",
       "      <th>s_125</th>\n",
       "      <th>s_z</th>\n",
       "      <th>s_r</th>\n",
       "      <th>s_o</th>\n",
       "      <th>s_mix</th>\n",
       "      <th>s_chi2</th>\n",
       "      <th>log_energy</th>\n",
       "      <th>cos_zenith</th>\n",
       "      <th>log_energy_loss</th>\n",
       "      <th>log_xmax</th>\n",
       "    </tr>\n",
       "  </thead>\n",
       "  <tbody>\n",
       "    <tr>\n",
       "      <th>1</th>\n",
       "      <td>1</td>\n",
       "      <td>4</td>\n",
       "      <td>10826061.0</td>\n",
       "      <td>0.508086</td>\n",
       "      <td>0.907269</td>\n",
       "      <td>NaN</td>\n",
       "      <td>NaN</td>\n",
       "      <td>NaN</td>\n",
       "      <td>477.023376</td>\n",
       "      <td>0.000172</td>\n",
       "      <td>...</td>\n",
       "      <td>4.557713</td>\n",
       "      <td>0.020636</td>\n",
       "      <td>0.122279</td>\n",
       "      <td>-7.509688</td>\n",
       "      <td>-3.079320e-04</td>\n",
       "      <td>0.225366</td>\n",
       "      <td>7.03447</td>\n",
       "      <td>0.873677</td>\n",
       "      <td>NaN</td>\n",
       "      <td>6.167565</td>\n",
       "    </tr>\n",
       "    <tr>\n",
       "      <th>2</th>\n",
       "      <td>2</td>\n",
       "      <td>4</td>\n",
       "      <td>10826061.0</td>\n",
       "      <td>0.503435</td>\n",
       "      <td>0.892701</td>\n",
       "      <td>NaN</td>\n",
       "      <td>NaN</td>\n",
       "      <td>NaN</td>\n",
       "      <td>477.023376</td>\n",
       "      <td>0.000215</td>\n",
       "      <td>...</td>\n",
       "      <td>3.036345</td>\n",
       "      <td>0.038314</td>\n",
       "      <td>0.567552</td>\n",
       "      <td>-51.097699</td>\n",
       "      <td>-4.210312e-04</td>\n",
       "      <td>0.560012</td>\n",
       "      <td>7.03447</td>\n",
       "      <td>0.875930</td>\n",
       "      <td>NaN</td>\n",
       "      <td>6.167565</td>\n",
       "    </tr>\n",
       "    <tr>\n",
       "      <th>3</th>\n",
       "      <td>3</td>\n",
       "      <td>4</td>\n",
       "      <td>10826061.0</td>\n",
       "      <td>0.512100</td>\n",
       "      <td>0.915605</td>\n",
       "      <td>NaN</td>\n",
       "      <td>NaN</td>\n",
       "      <td>NaN</td>\n",
       "      <td>477.023376</td>\n",
       "      <td>0.000775</td>\n",
       "      <td>...</td>\n",
       "      <td>0.794777</td>\n",
       "      <td>-0.000764</td>\n",
       "      <td>0.000105</td>\n",
       "      <td>0.959791</td>\n",
       "      <td>2.032333e-07</td>\n",
       "      <td>0.033513</td>\n",
       "      <td>7.03447</td>\n",
       "      <td>0.871717</td>\n",
       "      <td>NaN</td>\n",
       "      <td>6.167565</td>\n",
       "    </tr>\n",
       "    <tr>\n",
       "      <th>4</th>\n",
       "      <td>4</td>\n",
       "      <td>4</td>\n",
       "      <td>10826061.0</td>\n",
       "      <td>0.504864</td>\n",
       "      <td>0.911405</td>\n",
       "      <td>NaN</td>\n",
       "      <td>NaN</td>\n",
       "      <td>NaN</td>\n",
       "      <td>477.023376</td>\n",
       "      <td>0.000370</td>\n",
       "      <td>...</td>\n",
       "      <td>1.415908</td>\n",
       "      <td>0.043345</td>\n",
       "      <td>0.084347</td>\n",
       "      <td>-3.850656</td>\n",
       "      <td>-7.857305e-04</td>\n",
       "      <td>0.004969</td>\n",
       "      <td>7.03447</td>\n",
       "      <td>0.875240</td>\n",
       "      <td>NaN</td>\n",
       "      <td>6.167565</td>\n",
       "    </tr>\n",
       "    <tr>\n",
       "      <th>5</th>\n",
       "      <td>5</td>\n",
       "      <td>4</td>\n",
       "      <td>10826061.0</td>\n",
       "      <td>0.510181</td>\n",
       "      <td>0.840283</td>\n",
       "      <td>NaN</td>\n",
       "      <td>NaN</td>\n",
       "      <td>NaN</td>\n",
       "      <td>477.023376</td>\n",
       "      <td>0.000731</td>\n",
       "      <td>...</td>\n",
       "      <td>5.226838</td>\n",
       "      <td>0.003506</td>\n",
       "      <td>-0.030455</td>\n",
       "      <td>2.302172</td>\n",
       "      <td>2.668582e-04</td>\n",
       "      <td>0.576149</td>\n",
       "      <td>7.03447</td>\n",
       "      <td>0.872656</td>\n",
       "      <td>NaN</td>\n",
       "      <td>6.167565</td>\n",
       "    </tr>\n",
       "  </tbody>\n",
       "</table>\n",
       "<p>5 rows × 25 columns</p>\n",
       "</div>"
      ],
      "text/plain": [
       "   Unnamed: 0  mass      energy    zenith      S125  energy_loss  he_stoch  \\\n",
       "1           1     4  10826061.0  0.508086  0.907269          NaN       NaN   \n",
       "2           2     4  10826061.0  0.503435  0.892701          NaN       NaN   \n",
       "3           3     4  10826061.0  0.512100  0.915605          NaN       NaN   \n",
       "4           4     4  10826061.0  0.504864  0.911405          NaN       NaN   \n",
       "5           5     4  10826061.0  0.510181  0.840283          NaN       NaN   \n",
       "\n",
       "   he_stoch2        Xmax         A  ...     s_125       s_z       s_r  \\\n",
       "1        NaN  477.023376  0.000172  ...  4.557713  0.020636  0.122279   \n",
       "2        NaN  477.023376  0.000215  ...  3.036345  0.038314  0.567552   \n",
       "3        NaN  477.023376  0.000775  ...  0.794777 -0.000764  0.000105   \n",
       "4        NaN  477.023376  0.000370  ...  1.415908  0.043345  0.084347   \n",
       "5        NaN  477.023376  0.000731  ...  5.226838  0.003506 -0.030455   \n",
       "\n",
       "         s_o         s_mix    s_chi2  log_energy  cos_zenith  log_energy_loss  \\\n",
       "1  -7.509688 -3.079320e-04  0.225366     7.03447    0.873677              NaN   \n",
       "2 -51.097699 -4.210312e-04  0.560012     7.03447    0.875930              NaN   \n",
       "3   0.959791  2.032333e-07  0.033513     7.03447    0.871717              NaN   \n",
       "4  -3.850656 -7.857305e-04  0.004969     7.03447    0.875240              NaN   \n",
       "5   2.302172  2.668582e-04  0.576149     7.03447    0.872656              NaN   \n",
       "\n",
       "   log_xmax  \n",
       "1  6.167565  \n",
       "2  6.167565  \n",
       "3  6.167565  \n",
       "4  6.167565  \n",
       "5  6.167565  \n",
       "\n",
       "[5 rows x 25 columns]"
      ]
     },
     "execution_count": 9,
     "metadata": {},
     "output_type": "execute_result"
    }
   ],
   "source": [
    "df.head()"
   ]
  },
  {
   "cell_type": "code",
   "execution_count": 10,
   "metadata": {},
   "outputs": [],
   "source": [
    "check = [math.isnan(i)==0 for i in df['energy_loss'].values]"
   ]
  },
  {
   "cell_type": "code",
   "execution_count": 11,
   "metadata": {},
   "outputs": [],
   "source": [
    "df_coinc = df[check]"
   ]
  },
  {
   "cell_type": "code",
   "execution_count": 12,
   "metadata": {},
   "outputs": [],
   "source": [
    "check2 = [i==0 for i in np.isnan(df_coinc['log_energy_loss'].values)]\n",
    "df_coinc = df_coinc.loc[check2]"
   ]
  },
  {
   "cell_type": "code",
   "execution_count": 13,
   "metadata": {},
   "outputs": [
    {
     "data": {
      "text/plain": [
       "Index(['Unnamed: 0', 'mass', 'energy', 'zenith', 'S125', 'energy_loss',\n",
       "       'he_stoch', 'he_stoch2', 'Xmax', 'A', 'm_125', 'm_z', 'm_r', 'm_o',\n",
       "       'm_chi2', 's_125', 's_z', 's_r', 's_o', 's_mix', 's_chi2', 'log_energy',\n",
       "       'cos_zenith', 'log_energy_loss', 'log_xmax'],\n",
       "      dtype='object')"
      ]
     },
     "execution_count": 13,
     "metadata": {},
     "output_type": "execute_result"
    }
   ],
   "source": [
    "df_coinc.keys()"
   ]
  },
  {
   "cell_type": "code",
   "execution_count": 30,
   "metadata": {},
   "outputs": [
    {
     "data": {
      "image/png": "[encoded data removed]",
      "text/plain": [
       "<Figure size 432x288 with 1 Axes>"
      ]
     },
     "metadata": {
      "needs_background": "light"
     },
     "output_type": "display_data"
    }
   ],
   "source": [
    "plt.hist2d(df_coinc['m_125'].values[(df_coinc['m_125']>0)&(df_coinc['m_125']<10)],df_coinc['Xmax'].values[(df_coinc['m_125']>0)&(df_coinc['m_125']<10)],bins=50,norm =matplotlib.colors.LogNorm() )\n",
    "plt.show()"
   ]
  },
  {
   "cell_type": "code",
   "execution_count": 15,
   "metadata": {},
   "outputs": [
    {
     "data": {
      "text/plain": [
       "(3.733046095739403, 3.270127529187203)"
      ]
     },
     "execution_count": 15,
     "metadata": {},
     "output_type": "execute_result"
    }
   ],
   "source": [
    "np.mean(iron['m_125']),np.mean(proton['m_125'])"
   ]
  },
  {
   "cell_type": "code",
   "execution_count": 16,
   "metadata": {},
   "outputs": [],
   "source": [
    "from sklearn.model_selection import train_test_split"
   ]
  },
  {
   "cell_type": "code",
   "execution_count": 17,
   "metadata": {},
   "outputs": [],
   "source": [
    "y = df_coinc[['mass','log_energy']].values\n",
    "X = df_coinc[['cos_zenith','S125','log_energy_loss','he_stoch','he_stoch2','m_r','s_r','m_o','s_o','m_125','s_125','s_z','m_z']].values"
   ]
  },
  {
   "cell_type": "code",
   "execution_count": 18,
   "metadata": {},
   "outputs": [
    {
     "data": {
      "image/png": "[encoded data removed]",
      "text/plain": [
       "<Figure size 432x288 with 1 Axes>"
      ]
     },
     "metadata": {
      "needs_background": "light"
     },
     "output_type": "display_data"
    }
   ],
   "source": [
    "plt.hist(y)\n",
    "plt.show()"
   ]
  },
  {
   "cell_type": "code",
   "execution_count": 19,
   "metadata": {},
   "outputs": [],
   "source": [
    "X_train, X_test, y_train, y_test = train_test_split(X, y, test_size=0.2, random_state=42)"
   ]
  },
  {
   "cell_type": "code",
   "execution_count": 20,
   "metadata": {},
   "outputs": [],
   "source": [
    "weight = []\n",
    "for i in y_train:\n",
    "    if i[0] == 1:\n",
    "        weight.append(1)\n",
    "    elif i[0] == 2:\n",
    "        weight.append(1)\n",
    "    elif i[0] == 3:\n",
    "        weight.append(1)\n",
    "    else:\n",
    "        weight.append(1)"
   ]
  },
  {
   "cell_type": "code",
   "execution_count": 21,
   "metadata": {},
   "outputs": [
    {
     "name": "stdout",
     "output_type": "stream",
     "text": [
      "WARNING:tensorflow:From /home/andy/.local/lib/python3.6/site-packages/tensorflow_core/python/ops/resource_variable_ops.py:1630: calling BaseResourceVariable.__init__ (from tensorflow.python.ops.resource_variable_ops) with constraint is deprecated and will be removed in a future version.\n",
      "Instructions for updating:\n",
      "If using Keras pass *_constraint arguments to layers.\n"
     ]
    }
   ],
   "source": [
    "model_best = 'model_coinc_best.h5'\n",
    "\n",
    "best_model = keras.callbacks.ModelCheckpoint(model_best,\n",
    "                                             monitor='val_loss',\n",
    "                                             save_best_only=True,\n",
    "                                             save_weights_only=False,\n",
    "                                             mode='auto')\n",
    "\n",
    "input_layer = Input(shape=(13,))\n",
    "\n",
    "model1 = Dense(7,activation='relu')(input_layer)\n",
    "\n",
    "model1 = Dropout(rate=0.1)(model1)\n",
    "\n",
    "model2 = Dense(4,activation='relu')(model1)\n",
    "\n",
    "model3 = Concatenate(axis=-1)([input_layer,model1,model2])\n",
    "\n",
    "predictions = Dense(2,activation='linear')(model3)\n",
    "\n",
    "model = Model(inputs=input_layer,outputs=predictions)\n",
    "\n",
    "opt = keras.optimizers.RMSprop(decay=1e-5)\n",
    "\n",
    "model.compile(optimizer=opt , loss = 'mse')\n"
   ]
  },
  {
   "cell_type": "code",
   "execution_count": 22,
   "metadata": {},
   "outputs": [
    {
     "name": "stdout",
     "output_type": "stream",
     "text": [
      "Train on 2376 samples, validate on 594 samples\n",
      "Epoch 1/500\n",
      "2376/2376 [==============================] - 0s 137us/sample - loss: 434680.0400 - val_loss: 1246299.3800\n",
      "Epoch 2/500\n",
      "2376/2376 [==============================] - 0s 36us/sample - loss: 373911.3393 - val_loss: 1062940.0167\n",
      "Epoch 3/500\n",
      "2376/2376 [==============================] - 0s 34us/sample - loss: 365476.1910 - val_loss: 873489.4859\n",
      "Epoch 4/500\n",
      "2376/2376 [==============================] - 0s 37us/sample - loss: 196812.0990 - val_loss: 516737.4151\n",
      "Epoch 5/500\n",
      "2376/2376 [==============================] - 0s 35us/sample - loss: 197528.4828 - val_loss: 393540.1309\n",
      "Epoch 6/500\n",
      "2376/2376 [==============================] - 0s 36us/sample - loss: 105050.7601 - val_loss: 247632.2184\n",
      "Epoch 7/500\n",
      "2376/2376 [==============================] - 0s 35us/sample - loss: 119596.3914 - val_loss: 177706.6752\n",
      "Epoch 8/500\n",
      "2376/2376 [==============================] - 0s 36us/sample - loss: 56231.4128 - val_loss: 133802.1168\n",
      "Epoch 9/500\n",
      "2376/2376 [==============================] - 0s 35us/sample - loss: 36449.5324 - val_loss: 96670.8125\n",
      "Epoch 10/500\n",
      "2376/2376 [==============================] - 0s 35us/sample - loss: 17510.0614 - val_loss: 46484.5343\n",
      "Epoch 11/500\n",
      "2376/2376 [==============================] - 0s 36us/sample - loss: 8164.3697 - val_loss: 29521.3946\n",
      "Epoch 12/500\n",
      "2376/2376 [==============================] - 0s 35us/sample - loss: 9186.4438 - val_loss: 18157.2125\n",
      "Epoch 13/500\n",
      "2376/2376 [==============================] - 0s 34us/sample - loss: 27959.8470 - val_loss: 11095.8086\n",
      "Epoch 14/500\n",
      "2376/2376 [==============================] - 0s 30us/sample - loss: 3150.0432 - val_loss: 16223.8624\n",
      "Epoch 15/500\n",
      "2376/2376 [==============================] - 0s 31us/sample - loss: 5036.4354 - val_loss: 14736.0925\n",
      "Epoch 16/500\n",
      "2376/2376 [==============================] - 0s 35us/sample - loss: 3042.1147 - val_loss: 8553.4004\n",
      "Epoch 17/500\n",
      "2376/2376 [==============================] - 0s 36us/sample - loss: 3376.2897 - val_loss: 6810.8388\n",
      "Epoch 18/500\n",
      "2376/2376 [==============================] - 0s 31us/sample - loss: 2651.5484 - val_loss: 7889.2175\n",
      "Epoch 19/500\n",
      "2376/2376 [==============================] - 0s 36us/sample - loss: 109464.3377 - val_loss: 4330.2811\n",
      "Epoch 20/500\n",
      "2376/2376 [==============================] - 0s 36us/sample - loss: 6871.0836 - val_loss: 5125.6602\n",
      "Epoch 21/500\n",
      "2376/2376 [==============================] - 0s 44us/sample - loss: 2042.7997 - val_loss: 7086.3676\n",
      "Epoch 22/500\n",
      "2376/2376 [==============================] - 0s 43us/sample - loss: 1728.1046 - val_loss: 10485.0378\n",
      "Epoch 23/500\n",
      "2376/2376 [==============================] - 0s 52us/sample - loss: 89507.9207 - val_loss: 3387.5812\n",
      "Epoch 24/500\n",
      "2376/2376 [==============================] - 0s 31us/sample - loss: 1517.0786 - val_loss: 4311.3550\n",
      "Epoch 25/500\n",
      "2376/2376 [==============================] - 0s 40us/sample - loss: 72569.2230 - val_loss: 1513.2921\n",
      "Epoch 26/500\n",
      "2376/2376 [==============================] - 0s 32us/sample - loss: 2072.4344 - val_loss: 4973.1424\n",
      "Epoch 27/500\n",
      "2376/2376 [==============================] - 0s 34us/sample - loss: 16257.1464 - val_loss: 3090.3824\n",
      "Epoch 28/500\n",
      "2376/2376 [==============================] - 0s 34us/sample - loss: 6087.5921 - val_loss: 4978.4725\n",
      "Epoch 29/500\n",
      "2376/2376 [==============================] - 0s 42us/sample - loss: 4270.1254 - val_loss: 5339.0019\n",
      "Epoch 30/500\n",
      "2376/2376 [==============================] - 0s 47us/sample - loss: 3568.2384 - val_loss: 5600.4715\n",
      "Epoch 31/500\n",
      "2376/2376 [==============================] - 0s 46us/sample - loss: 3936.1936 - val_loss: 4904.8893\n",
      "Epoch 32/500\n",
      "2376/2376 [==============================] - 0s 37us/sample - loss: 47808.9174 - val_loss: 3143.7142\n",
      "Epoch 33/500\n",
      "2376/2376 [==============================] - 0s 50us/sample - loss: 2563.1364 - val_loss: 4864.6406\n",
      "Epoch 34/500\n",
      "2376/2376 [==============================] - 0s 39us/sample - loss: 867.9262 - val_loss: 5787.4460\n",
      "Epoch 35/500\n",
      "2376/2376 [==============================] - 0s 44us/sample - loss: 9496.5186 - val_loss: 4289.1049\n",
      "Epoch 36/500\n",
      "2376/2376 [==============================] - 0s 41us/sample - loss: 2411.5019 - val_loss: 6659.1024\n",
      "Epoch 37/500\n",
      "2376/2376 [==============================] - 0s 40us/sample - loss: 1264.8233 - val_loss: 6680.3090\n",
      "Epoch 38/500\n",
      "2376/2376 [==============================] - 0s 41us/sample - loss: 2320.0599 - val_loss: 6151.9686\n",
      "Epoch 39/500\n",
      "2376/2376 [==============================] - 0s 40us/sample - loss: 1661.7101 - val_loss: 8198.9824\n",
      "Epoch 40/500\n",
      "2376/2376 [==============================] - 0s 37us/sample - loss: 1943.6249 - val_loss: 5999.4903\n",
      "Epoch 41/500\n",
      "2376/2376 [==============================] - 0s 35us/sample - loss: 1499.6914 - val_loss: 5137.6843\n",
      "Epoch 42/500\n",
      "2376/2376 [==============================] - 0s 36us/sample - loss: 34779.5076 - val_loss: 2876.6243\n",
      "Epoch 43/500\n",
      "2376/2376 [==============================] - 0s 32us/sample - loss: 1672.8116 - val_loss: 2727.2123\n",
      "Epoch 44/500\n",
      "2376/2376 [==============================] - 0s 33us/sample - loss: 1471.5500 - val_loss: 1612.9938\n",
      "Epoch 45/500\n",
      "2376/2376 [==============================] - 0s 32us/sample - loss: 1953.5634 - val_loss: 3595.9927\n",
      "Epoch 46/500\n",
      "2376/2376 [==============================] - 0s 35us/sample - loss: 1640.5654 - val_loss: 3644.6176\n",
      "Epoch 47/500\n",
      "2376/2376 [==============================] - 0s 47us/sample - loss: 486.7244 - val_loss: 913.7751\n",
      "Epoch 48/500\n",
      "2376/2376 [==============================] - 0s 30us/sample - loss: 3066.7796 - val_loss: 1470.8645\n",
      "Epoch 49/500\n",
      "2376/2376 [==============================] - 0s 31us/sample - loss: 655.3593 - val_loss: 6786.3626\n",
      "Epoch 50/500\n",
      "2376/2376 [==============================] - 0s 34us/sample - loss: 4401.0716 - val_loss: 2351.2924\n",
      "Epoch 51/500\n",
      "2376/2376 [==============================] - 0s 39us/sample - loss: 2912.0931 - val_loss: 729.3753\n",
      "Epoch 52/500\n",
      "2376/2376 [==============================] - 0s 34us/sample - loss: 3017.2313 - val_loss: 1177.2143\n",
      "Epoch 53/500\n",
      "2376/2376 [==============================] - 0s 32us/sample - loss: 2421.3735 - val_loss: 2631.9338\n",
      "Epoch 54/500\n",
      "2376/2376 [==============================] - 0s 39us/sample - loss: 919.8938 - val_loss: 4550.8250\n",
      "Epoch 55/500\n",
      "2376/2376 [==============================] - 0s 47us/sample - loss: 571.8647 - val_loss: 3589.0746\n",
      "Epoch 56/500\n",
      "2376/2376 [==============================] - 0s 49us/sample - loss: 1517.4573 - val_loss: 5328.7500\n",
      "Epoch 57/500\n",
      "2376/2376 [==============================] - 0s 44us/sample - loss: 772.4311 - val_loss: 1439.0029\n",
      "Epoch 58/500\n",
      "2376/2376 [==============================] - 0s 42us/sample - loss: 14972.9205 - val_loss: 1431.0798\n",
      "Epoch 59/500\n",
      "2376/2376 [==============================] - 0s 48us/sample - loss: 12227.1948 - val_loss: 669.6932\n",
      "Epoch 60/500\n",
      "2376/2376 [==============================] - 0s 48us/sample - loss: 244.3111 - val_loss: 2237.9142\n",
      "Epoch 61/500\n",
      "2376/2376 [==============================] - 0s 59us/sample - loss: 11465.2520 - val_loss: 485.3692\n",
      "Epoch 62/500\n",
      "2376/2376 [==============================] - 0s 45us/sample - loss: 1003.4676 - val_loss: 649.6736\n",
      "Epoch 63/500\n",
      "2376/2376 [==============================] - 0s 50us/sample - loss: 1017.0521 - val_loss: 1292.5597\n",
      "Epoch 64/500\n",
      "2376/2376 [==============================] - 0s 39us/sample - loss: 1609.0886 - val_loss: 1246.2610\n",
      "Epoch 65/500\n",
      "2376/2376 [==============================] - 0s 51us/sample - loss: 294.5072 - val_loss: 354.5165\n",
      "Epoch 66/500\n",
      "2376/2376 [==============================] - 0s 37us/sample - loss: 475.8305 - val_loss: 667.4848\n",
      "Epoch 67/500\n",
      "2376/2376 [==============================] - 0s 36us/sample - loss: 448.1747 - val_loss: 2160.6253\n",
      "Epoch 68/500\n",
      "2376/2376 [==============================] - 0s 39us/sample - loss: 551.5503 - val_loss: 611.4975\n",
      "Epoch 69/500\n",
      "2376/2376 [==============================] - 0s 36us/sample - loss: 448.9441 - val_loss: 566.1590\n",
      "Epoch 70/500\n",
      "2376/2376 [==============================] - 0s 36us/sample - loss: 4058.8135 - val_loss: 772.9339\n",
      "Epoch 71/500\n",
      "2376/2376 [==============================] - 0s 32us/sample - loss: 278.5143 - val_loss: 699.5270\n",
      "Epoch 72/500\n",
      "2376/2376 [==============================] - 0s 31us/sample - loss: 4090.7896 - val_loss: 484.4074\n",
      "Epoch 73/500\n",
      "2376/2376 [==============================] - 0s 35us/sample - loss: 187.8038 - val_loss: 491.3640\n",
      "Epoch 74/500\n",
      "2376/2376 [==============================] - 0s 32us/sample - loss: 3334.4711 - val_loss: 906.3386\n",
      "Epoch 75/500\n",
      "2376/2376 [==============================] - 0s 32us/sample - loss: 1780.9985 - val_loss: 1909.0971\n",
      "Epoch 76/500\n",
      "2376/2376 [==============================] - 0s 32us/sample - loss: 352.2634 - val_loss: 1420.1111\n",
      "Epoch 77/500\n",
      "2376/2376 [==============================] - 0s 36us/sample - loss: 730.1896 - val_loss: 1380.6626\n",
      "Epoch 78/500\n",
      "2376/2376 [==============================] - 0s 32us/sample - loss: 201.6566 - val_loss: 1787.5665\n",
      "Epoch 79/500\n",
      "2376/2376 [==============================] - 0s 31us/sample - loss: 746.0339 - val_loss: 1606.2934\n",
      "Epoch 80/500\n",
      "2376/2376 [==============================] - 0s 34us/sample - loss: 356.7601 - val_loss: 1240.1170\n",
      "Epoch 81/500\n",
      "2376/2376 [==============================] - 0s 41us/sample - loss: 362.6586 - val_loss: 283.0965\n",
      "Epoch 82/500\n",
      "2376/2376 [==============================] - 0s 36us/sample - loss: 181.4953 - val_loss: 599.0675\n",
      "Epoch 83/500\n",
      "2376/2376 [==============================] - 0s 41us/sample - loss: 368.2782 - val_loss: 218.2311\n",
      "Epoch 84/500\n",
      "2376/2376 [==============================] - 0s 34us/sample - loss: 110.0243 - val_loss: 407.4774\n",
      "Epoch 85/500\n",
      "2376/2376 [==============================] - 0s 31us/sample - loss: 157.9001 - val_loss: 3981.8181\n",
      "Epoch 86/500\n",
      "2376/2376 [==============================] - 0s 31us/sample - loss: 275.8283 - val_loss: 2428.5928\n",
      "Epoch 87/500\n",
      "2376/2376 [==============================] - 0s 37us/sample - loss: 172.1192 - val_loss: 310.3222\n",
      "Epoch 88/500\n",
      "2376/2376 [==============================] - 0s 33us/sample - loss: 131.7072 - val_loss: 1932.2521\n",
      "Epoch 89/500\n",
      "2376/2376 [==============================] - 0s 44us/sample - loss: 157.0490 - val_loss: 667.1085\n",
      "Epoch 90/500\n",
      "2376/2376 [==============================] - 0s 51us/sample - loss: 249.2214 - val_loss: 1770.6247\n",
      "Epoch 91/500\n",
      "2376/2376 [==============================] - 0s 47us/sample - loss: 144.6567 - val_loss: 553.4555\n",
      "Epoch 92/500\n",
      "2376/2376 [==============================] - 0s 46us/sample - loss: 1534.8234 - val_loss: 554.1839\n",
      "Epoch 93/500\n",
      "2376/2376 [==============================] - 0s 36us/sample - loss: 65.1224 - val_loss: 1389.0591\n",
      "Epoch 94/500\n",
      "2376/2376 [==============================] - 0s 33us/sample - loss: 521.0216 - val_loss: 964.5518\n",
      "Epoch 95/500\n",
      "2376/2376 [==============================] - 0s 51us/sample - loss: 135.1469 - val_loss: 185.2017\n",
      "Epoch 96/500\n",
      "2376/2376 [==============================] - 0s 49us/sample - loss: 544.0362 - val_loss: 388.0057\n",
      "Epoch 97/500\n",
      "2376/2376 [==============================] - 0s 49us/sample - loss: 372.7474 - val_loss: 1644.5531\n",
      "Epoch 98/500\n",
      "2376/2376 [==============================] - 0s 39us/sample - loss: 488.9116 - val_loss: 623.9201\n",
      "Epoch 99/500\n",
      "2376/2376 [==============================] - 0s 32us/sample - loss: 74.8192 - val_loss: 2773.7681\n",
      "Epoch 100/500\n",
      "2376/2376 [==============================] - 0s 35us/sample - loss: 105.4520 - val_loss: 627.3156\n",
      "Epoch 101/500\n",
      "2376/2376 [==============================] - 0s 36us/sample - loss: 83.2759 - val_loss: 2155.4462\n",
      "Epoch 102/500\n",
      "2376/2376 [==============================] - 0s 35us/sample - loss: 86.8191 - val_loss: 940.8042\n",
      "Epoch 103/500\n",
      "2376/2376 [==============================] - 0s 37us/sample - loss: 38.3184 - val_loss: 771.0429\n",
      "Epoch 104/500\n",
      "2376/2376 [==============================] - 0s 32us/sample - loss: 410.8141 - val_loss: 849.2303\n",
      "Epoch 105/500\n",
      "2376/2376 [==============================] - 0s 35us/sample - loss: 122.0076 - val_loss: 2969.6997\n",
      "Epoch 106/500\n",
      "2376/2376 [==============================] - 0s 35us/sample - loss: 105.7809 - val_loss: 2606.2950\n",
      "Epoch 107/500\n",
      "2376/2376 [==============================] - 0s 35us/sample - loss: 123.3923 - val_loss: 910.4301\n",
      "Epoch 108/500\n",
      "2376/2376 [==============================] - 0s 36us/sample - loss: 140.6613 - val_loss: 1716.6050\n",
      "Epoch 109/500\n",
      "2376/2376 [==============================] - 0s 46us/sample - loss: 64.6965 - val_loss: 2465.1937\n",
      "Epoch 110/500\n",
      "2376/2376 [==============================] - 0s 41us/sample - loss: 42.9331 - val_loss: 1532.4360\n",
      "Epoch 111/500\n",
      "2376/2376 [==============================] - 0s 42us/sample - loss: 36.3460 - val_loss: 853.2417\n",
      "Epoch 112/500\n",
      "2376/2376 [==============================] - 0s 48us/sample - loss: 39.5705 - val_loss: 1514.9161\n",
      "Epoch 113/500\n",
      "2376/2376 [==============================] - 0s 40us/sample - loss: 66.3305 - val_loss: 1535.3629\n",
      "Epoch 114/500\n",
      "2376/2376 [==============================] - 0s 39us/sample - loss: 65.9343 - val_loss: 235.0035\n",
      "Epoch 115/500\n",
      "2376/2376 [==============================] - 0s 40us/sample - loss: 108.7490 - val_loss: 1608.9733\n",
      "Epoch 116/500\n",
      "2376/2376 [==============================] - 0s 40us/sample - loss: 35.9386 - val_loss: 1903.5845\n",
      "Epoch 117/500\n",
      "2376/2376 [==============================] - 0s 33us/sample - loss: 54.5120 - val_loss: 1185.7474\n",
      "Epoch 118/500\n",
      "2376/2376 [==============================] - 0s 37us/sample - loss: 101.0737 - val_loss: 2066.1206\n",
      "Epoch 119/500\n",
      "2376/2376 [==============================] - 0s 38us/sample - loss: 27.5892 - val_loss: 170.4980\n",
      "Epoch 120/500\n",
      "2376/2376 [==============================] - 0s 32us/sample - loss: 52.2813 - val_loss: 985.3630\n",
      "Epoch 121/500\n",
      "2376/2376 [==============================] - 0s 33us/sample - loss: 32.6493 - val_loss: 984.6475\n",
      "Epoch 122/500\n",
      "2376/2376 [==============================] - 0s 39us/sample - loss: 10633.2806 - val_loss: 167.9214\n",
      "Epoch 123/500\n",
      "2376/2376 [==============================] - 0s 31us/sample - loss: 44.1873 - val_loss: 1361.9620\n",
      "Epoch 124/500\n",
      "2376/2376 [==============================] - 0s 33us/sample - loss: 100.8487 - val_loss: 412.5549\n",
      "Epoch 125/500\n",
      "2376/2376 [==============================] - 0s 34us/sample - loss: 112.3321 - val_loss: 252.6648\n",
      "Epoch 126/500\n",
      "2376/2376 [==============================] - 0s 38us/sample - loss: 39.0926 - val_loss: 429.6617\n",
      "Epoch 127/500\n",
      "2376/2376 [==============================] - 0s 33us/sample - loss: 186.6191 - val_loss: 621.1684\n",
      "Epoch 128/500\n",
      "2376/2376 [==============================] - 0s 34us/sample - loss: 271.7544 - val_loss: 659.5680\n",
      "Epoch 129/500\n",
      "2376/2376 [==============================] - 0s 37us/sample - loss: 34.8352 - val_loss: 297.0488\n",
      "Epoch 130/500\n",
      "2376/2376 [==============================] - 0s 33us/sample - loss: 120.5491 - val_loss: 751.3848\n",
      "Epoch 131/500\n",
      "2376/2376 [==============================] - 0s 31us/sample - loss: 23.6975 - val_loss: 1067.9983\n",
      "Epoch 132/500\n",
      "2376/2376 [==============================] - 0s 35us/sample - loss: 53.6524 - val_loss: 604.4643\n",
      "Epoch 133/500\n",
      "2376/2376 [==============================] - 0s 34us/sample - loss: 67.6922 - val_loss: 1659.6447\n",
      "Epoch 134/500\n",
      "2376/2376 [==============================] - 0s 31us/sample - loss: 23.9114 - val_loss: 204.4687\n",
      "Epoch 135/500\n",
      "2376/2376 [==============================] - 0s 32us/sample - loss: 45.9865 - val_loss: 750.4805\n",
      "Epoch 136/500\n",
      "2376/2376 [==============================] - 0s 36us/sample - loss: 28.8510 - val_loss: 1211.5685\n",
      "Epoch 137/500\n",
      "2376/2376 [==============================] - 0s 34us/sample - loss: 19.1357 - val_loss: 254.2459\n",
      "Epoch 138/500\n",
      "2376/2376 [==============================] - 0s 33us/sample - loss: 36.7108 - val_loss: 1338.4210\n",
      "Epoch 139/500\n",
      "2376/2376 [==============================] - 0s 31us/sample - loss: 23.5625 - val_loss: 2173.1085\n",
      "Epoch 140/500\n",
      "2376/2376 [==============================] - 0s 34us/sample - loss: 51.5261 - val_loss: 1719.6075\n",
      "Epoch 141/500\n",
      "2376/2376 [==============================] - 0s 39us/sample - loss: 28.4868 - val_loss: 296.3830\n",
      "Epoch 142/500\n",
      "2376/2376 [==============================] - 0s 39us/sample - loss: 51.8217 - val_loss: 1082.6689\n",
      "Epoch 143/500\n",
      "2376/2376 [==============================] - 0s 39us/sample - loss: 25.5418 - val_loss: 445.7144\n",
      "Epoch 144/500\n",
      "2376/2376 [==============================] - 0s 33us/sample - loss: 96.7902 - val_loss: 1110.1524\n",
      "Epoch 145/500\n",
      "2376/2376 [==============================] - 0s 37us/sample - loss: 22.1140 - val_loss: 1599.0594\n",
      "Epoch 146/500\n",
      "2376/2376 [==============================] - 0s 31us/sample - loss: 43.3467 - val_loss: 241.6482\n",
      "Epoch 147/500\n",
      "2376/2376 [==============================] - 0s 32us/sample - loss: 53.0652 - val_loss: 618.0152\n",
      "Epoch 148/500\n",
      "2376/2376 [==============================] - 0s 32us/sample - loss: 19.5002 - val_loss: 248.0780\n",
      "Epoch 149/500\n",
      "2376/2376 [==============================] - 0s 33us/sample - loss: 39.9134 - val_loss: 529.3746\n",
      "Epoch 150/500\n",
      "  32/2376 [..............................] - ETA: 0s - loss: 19.5044"
     ]
    },
    {
     "ename": "KeyboardInterrupt",
     "evalue": "",
     "output_type": "error",
     "traceback": [
      "\u001b[0;31m---------------------------------------------------------------------------\u001b[0m",
      "\u001b[0;31mKeyboardInterrupt\u001b[0m                         Traceback (most recent call last)",
      "\u001b[0;32m<ipython-input-22-a5961b8b4209>\u001b[0m in \u001b[0;36m<module>\u001b[0;34m\u001b[0m\n\u001b[1;32m      3\u001b[0m                     \u001b[0mvalidation_data\u001b[0m \u001b[0;34m=\u001b[0m \u001b[0;34m(\u001b[0m\u001b[0mX_test\u001b[0m\u001b[0;34m,\u001b[0m\u001b[0my_test\u001b[0m\u001b[0;34m)\u001b[0m\u001b[0;34m,\u001b[0m\u001b[0;34m\u001b[0m\u001b[0;34m\u001b[0m\u001b[0m\n\u001b[1;32m      4\u001b[0m                     \u001b[0mcallbacks\u001b[0m\u001b[0;34m=\u001b[0m\u001b[0;34m[\u001b[0m\u001b[0mbest_model\u001b[0m\u001b[0;34m]\u001b[0m\u001b[0;34m,\u001b[0m\u001b[0;34m\u001b[0m\u001b[0;34m\u001b[0m\u001b[0m\n\u001b[0;32m----> 5\u001b[0;31m                     class_weight = weight)\n\u001b[0m",
      "\u001b[0;32m~/.local/lib/python3.6/site-packages/tensorflow_core/python/keras/engine/training.py\u001b[0m in \u001b[0;36mfit\u001b[0;34m(self, x, y, batch_size, epochs, verbose, callbacks, validation_split, validation_data, shuffle, class_weight, sample_weight, initial_epoch, steps_per_epoch, validation_steps, validation_freq, max_queue_size, workers, use_multiprocessing, **kwargs)\u001b[0m\n\u001b[1;32m    725\u001b[0m         \u001b[0mmax_queue_size\u001b[0m\u001b[0;34m=\u001b[0m\u001b[0mmax_queue_size\u001b[0m\u001b[0;34m,\u001b[0m\u001b[0;34m\u001b[0m\u001b[0;34m\u001b[0m\u001b[0m\n\u001b[1;32m    726\u001b[0m         \u001b[0mworkers\u001b[0m\u001b[0;34m=\u001b[0m\u001b[0mworkers\u001b[0m\u001b[0;34m,\u001b[0m\u001b[0;34m\u001b[0m\u001b[0;34m\u001b[0m\u001b[0m\n\u001b[0;32m--> 727\u001b[0;31m         use_multiprocessing=use_multiprocessing)\n\u001b[0m\u001b[1;32m    728\u001b[0m \u001b[0;34m\u001b[0m\u001b[0m\n\u001b[1;32m    729\u001b[0m   def evaluate(self,\n",
      "\u001b[0;32m~/.local/lib/python3.6/site-packages/tensorflow_core/python/keras/engine/training_arrays.py\u001b[0m in \u001b[0;36mfit\u001b[0;34m(self, model, x, y, batch_size, epochs, verbose, callbacks, validation_split, validation_data, shuffle, class_weight, sample_weight, initial_epoch, steps_per_epoch, validation_steps, validation_freq, **kwargs)\u001b[0m\n\u001b[1;32m    673\u001b[0m         \u001b[0mvalidation_steps\u001b[0m\u001b[0;34m=\u001b[0m\u001b[0mvalidation_steps\u001b[0m\u001b[0;34m,\u001b[0m\u001b[0;34m\u001b[0m\u001b[0;34m\u001b[0m\u001b[0m\n\u001b[1;32m    674\u001b[0m         \u001b[0mvalidation_freq\u001b[0m\u001b[0;34m=\u001b[0m\u001b[0mvalidation_freq\u001b[0m\u001b[0;34m,\u001b[0m\u001b[0;34m\u001b[0m\u001b[0;34m\u001b[0m\u001b[0m\n\u001b[0;32m--> 675\u001b[0;31m         steps_name='steps_per_epoch')\n\u001b[0m\u001b[1;32m    676\u001b[0m \u001b[0;34m\u001b[0m\u001b[0m\n\u001b[1;32m    677\u001b[0m   def evaluate(self,\n",
      "\u001b[0;32m~/.local/lib/python3.6/site-packages/tensorflow_core/python/keras/engine/training_arrays.py\u001b[0m in \u001b[0;36mmodel_iteration\u001b[0;34m(model, inputs, targets, sample_weights, batch_size, epochs, verbose, callbacks, val_inputs, val_targets, val_sample_weights, shuffle, initial_epoch, steps_per_epoch, validation_steps, validation_freq, mode, validation_in_fit, prepared_feed_values_from_dataset, steps_name, **kwargs)\u001b[0m\n\u001b[1;32m    388\u001b[0m         \u001b[0;31m# Callbacks batch_begin.\u001b[0m\u001b[0;34m\u001b[0m\u001b[0;34m\u001b[0m\u001b[0;34m\u001b[0m\u001b[0m\n\u001b[1;32m    389\u001b[0m         \u001b[0mbatch_logs\u001b[0m \u001b[0;34m=\u001b[0m \u001b[0;34m{\u001b[0m\u001b[0;34m'batch'\u001b[0m\u001b[0;34m:\u001b[0m \u001b[0mbatch_index\u001b[0m\u001b[0;34m,\u001b[0m \u001b[0;34m'size'\u001b[0m\u001b[0;34m:\u001b[0m \u001b[0mlen\u001b[0m\u001b[0;34m(\u001b[0m\u001b[0mbatch_ids\u001b[0m\u001b[0;34m)\u001b[0m\u001b[0;34m}\u001b[0m\u001b[0;34m\u001b[0m\u001b[0;34m\u001b[0m\u001b[0m\n\u001b[0;32m--> 390\u001b[0;31m         \u001b[0mcallbacks\u001b[0m\u001b[0;34m.\u001b[0m\u001b[0m_call_batch_hook\u001b[0m\u001b[0;34m(\u001b[0m\u001b[0mmode\u001b[0m\u001b[0;34m,\u001b[0m \u001b[0;34m'begin'\u001b[0m\u001b[0;34m,\u001b[0m \u001b[0mbatch_index\u001b[0m\u001b[0;34m,\u001b[0m \u001b[0mbatch_logs\u001b[0m\u001b[0;34m)\u001b[0m\u001b[0;34m\u001b[0m\u001b[0;34m\u001b[0m\u001b[0m\n\u001b[0m\u001b[1;32m    391\u001b[0m         \u001b[0mprogbar\u001b[0m\u001b[0;34m.\u001b[0m\u001b[0mon_batch_begin\u001b[0m\u001b[0;34m(\u001b[0m\u001b[0mbatch_index\u001b[0m\u001b[0;34m,\u001b[0m \u001b[0mbatch_logs\u001b[0m\u001b[0;34m)\u001b[0m\u001b[0;34m\u001b[0m\u001b[0;34m\u001b[0m\u001b[0m\n\u001b[1;32m    392\u001b[0m \u001b[0;34m\u001b[0m\u001b[0m\n",
      "\u001b[0;32m~/.local/lib/python3.6/site-packages/tensorflow_core/python/keras/callbacks.py\u001b[0m in \u001b[0;36m_call_batch_hook\u001b[0;34m(self, mode, hook, batch, logs)\u001b[0m\n\u001b[1;32m    237\u001b[0m     \u001b[0mself\u001b[0m\u001b[0;34m.\u001b[0m\u001b[0m_delta_ts\u001b[0m\u001b[0;34m[\u001b[0m\u001b[0mhook_name\u001b[0m\u001b[0;34m]\u001b[0m\u001b[0;34m.\u001b[0m\u001b[0mappend\u001b[0m\u001b[0;34m(\u001b[0m\u001b[0mtime\u001b[0m\u001b[0;34m.\u001b[0m\u001b[0mtime\u001b[0m\u001b[0;34m(\u001b[0m\u001b[0;34m)\u001b[0m \u001b[0;34m-\u001b[0m \u001b[0mt_before_callbacks\u001b[0m\u001b[0;34m)\u001b[0m\u001b[0;34m\u001b[0m\u001b[0;34m\u001b[0m\u001b[0m\n\u001b[1;32m    238\u001b[0m \u001b[0;34m\u001b[0m\u001b[0m\n\u001b[0;32m--> 239\u001b[0;31m     \u001b[0mdelta_t_median\u001b[0m \u001b[0;34m=\u001b[0m \u001b[0mnp\u001b[0m\u001b[0;34m.\u001b[0m\u001b[0mmedian\u001b[0m\u001b[0;34m(\u001b[0m\u001b[0mself\u001b[0m\u001b[0;34m.\u001b[0m\u001b[0m_delta_ts\u001b[0m\u001b[0;34m[\u001b[0m\u001b[0mhook_name\u001b[0m\u001b[0;34m]\u001b[0m\u001b[0;34m)\u001b[0m\u001b[0;34m\u001b[0m\u001b[0;34m\u001b[0m\u001b[0m\n\u001b[0m\u001b[1;32m    240\u001b[0m     if (self._delta_t_batch > 0. and\n\u001b[1;32m    241\u001b[0m         delta_t_median > 0.95 * self._delta_t_batch and delta_t_median > 0.1):\n",
      "\u001b[0;32m<__array_function__ internals>\u001b[0m in \u001b[0;36mmedian\u001b[0;34m(*args, **kwargs)\u001b[0m\n",
      "\u001b[0;32m~/.local/lib/python3.6/site-packages/numpy/lib/function_base.py\u001b[0m in \u001b[0;36mmedian\u001b[0;34m(a, axis, out, overwrite_input, keepdims)\u001b[0m\n\u001b[1;32m   3500\u001b[0m     \"\"\"\n\u001b[1;32m   3501\u001b[0m     r, k = _ureduce(a, func=_median, axis=axis, out=out,\n\u001b[0;32m-> 3502\u001b[0;31m                     overwrite_input=overwrite_input)\n\u001b[0m\u001b[1;32m   3503\u001b[0m     \u001b[0;32mif\u001b[0m \u001b[0mkeepdims\u001b[0m\u001b[0;34m:\u001b[0m\u001b[0;34m\u001b[0m\u001b[0;34m\u001b[0m\u001b[0m\n\u001b[1;32m   3504\u001b[0m         \u001b[0;32mreturn\u001b[0m \u001b[0mr\u001b[0m\u001b[0;34m.\u001b[0m\u001b[0mreshape\u001b[0m\u001b[0;34m(\u001b[0m\u001b[0mk\u001b[0m\u001b[0;34m)\u001b[0m\u001b[0;34m\u001b[0m\u001b[0;34m\u001b[0m\u001b[0m\n",
      "\u001b[0;32m~/.local/lib/python3.6/site-packages/numpy/lib/function_base.py\u001b[0m in \u001b[0;36m_ureduce\u001b[0;34m(a, func, **kwargs)\u001b[0m\n\u001b[1;32m   3408\u001b[0m         \u001b[0mkeepdim\u001b[0m \u001b[0;34m=\u001b[0m \u001b[0;34m(\u001b[0m\u001b[0;36m1\u001b[0m\u001b[0;34m,\u001b[0m\u001b[0;34m)\u001b[0m \u001b[0;34m*\u001b[0m \u001b[0ma\u001b[0m\u001b[0;34m.\u001b[0m\u001b[0mndim\u001b[0m\u001b[0;34m\u001b[0m\u001b[0;34m\u001b[0m\u001b[0m\n\u001b[1;32m   3409\u001b[0m \u001b[0;34m\u001b[0m\u001b[0m\n\u001b[0;32m-> 3410\u001b[0;31m     \u001b[0mr\u001b[0m \u001b[0;34m=\u001b[0m \u001b[0mfunc\u001b[0m\u001b[0;34m(\u001b[0m\u001b[0ma\u001b[0m\u001b[0;34m,\u001b[0m \u001b[0;34m**\u001b[0m\u001b[0mkwargs\u001b[0m\u001b[0;34m)\u001b[0m\u001b[0;34m\u001b[0m\u001b[0;34m\u001b[0m\u001b[0m\n\u001b[0m\u001b[1;32m   3411\u001b[0m     \u001b[0;32mreturn\u001b[0m \u001b[0mr\u001b[0m\u001b[0;34m,\u001b[0m \u001b[0mkeepdim\u001b[0m\u001b[0;34m\u001b[0m\u001b[0;34m\u001b[0m\u001b[0m\n\u001b[1;32m   3412\u001b[0m \u001b[0;34m\u001b[0m\u001b[0m\n",
      "\u001b[0;32m~/.local/lib/python3.6/site-packages/numpy/lib/function_base.py\u001b[0m in \u001b[0;36m_median\u001b[0;34m(a, axis, out, overwrite_input)\u001b[0m\n\u001b[1;32m   3553\u001b[0m     \u001b[0;32mif\u001b[0m \u001b[0mnp\u001b[0m\u001b[0;34m.\u001b[0m\u001b[0missubdtype\u001b[0m\u001b[0;34m(\u001b[0m\u001b[0ma\u001b[0m\u001b[0;34m.\u001b[0m\u001b[0mdtype\u001b[0m\u001b[0;34m,\u001b[0m \u001b[0mnp\u001b[0m\u001b[0;34m.\u001b[0m\u001b[0minexact\u001b[0m\u001b[0;34m)\u001b[0m \u001b[0;32mand\u001b[0m \u001b[0msz\u001b[0m \u001b[0;34m>\u001b[0m \u001b[0;36m0\u001b[0m\u001b[0;34m:\u001b[0m\u001b[0;34m\u001b[0m\u001b[0;34m\u001b[0m\u001b[0m\n\u001b[1;32m   3554\u001b[0m         \u001b[0;31m# warn and return nans like mean would\u001b[0m\u001b[0;34m\u001b[0m\u001b[0;34m\u001b[0m\u001b[0;34m\u001b[0m\u001b[0m\n\u001b[0;32m-> 3555\u001b[0;31m         \u001b[0mrout\u001b[0m \u001b[0;34m=\u001b[0m \u001b[0mmean\u001b[0m\u001b[0;34m(\u001b[0m\u001b[0mpart\u001b[0m\u001b[0;34m[\u001b[0m\u001b[0mindexer\u001b[0m\u001b[0;34m]\u001b[0m\u001b[0;34m,\u001b[0m \u001b[0maxis\u001b[0m\u001b[0;34m=\u001b[0m\u001b[0maxis\u001b[0m\u001b[0;34m,\u001b[0m \u001b[0mout\u001b[0m\u001b[0;34m=\u001b[0m\u001b[0mout\u001b[0m\u001b[0;34m)\u001b[0m\u001b[0;34m\u001b[0m\u001b[0;34m\u001b[0m\u001b[0m\n\u001b[0m\u001b[1;32m   3556\u001b[0m         \u001b[0;32mreturn\u001b[0m \u001b[0mnp\u001b[0m\u001b[0;34m.\u001b[0m\u001b[0mlib\u001b[0m\u001b[0;34m.\u001b[0m\u001b[0mutils\u001b[0m\u001b[0;34m.\u001b[0m\u001b[0m_median_nancheck\u001b[0m\u001b[0;34m(\u001b[0m\u001b[0mpart\u001b[0m\u001b[0;34m,\u001b[0m \u001b[0mrout\u001b[0m\u001b[0;34m,\u001b[0m \u001b[0maxis\u001b[0m\u001b[0;34m,\u001b[0m \u001b[0mout\u001b[0m\u001b[0;34m)\u001b[0m\u001b[0;34m\u001b[0m\u001b[0;34m\u001b[0m\u001b[0m\n\u001b[1;32m   3557\u001b[0m     \u001b[0;32melse\u001b[0m\u001b[0;34m:\u001b[0m\u001b[0;34m\u001b[0m\u001b[0;34m\u001b[0m\u001b[0m\n",
      "\u001b[0;32m<__array_function__ internals>\u001b[0m in \u001b[0;36mmean\u001b[0;34m(*args, **kwargs)\u001b[0m\n",
      "\u001b[0;32m~/.local/lib/python3.6/site-packages/numpy/core/fromnumeric.py\u001b[0m in \u001b[0;36mmean\u001b[0;34m(a, axis, dtype, out, keepdims)\u001b[0m\n\u001b[1;32m   3255\u001b[0m \u001b[0;34m\u001b[0m\u001b[0m\n\u001b[1;32m   3256\u001b[0m     return _methods._mean(a, axis=axis, dtype=dtype,\n\u001b[0;32m-> 3257\u001b[0;31m                           out=out, **kwargs)\n\u001b[0m\u001b[1;32m   3258\u001b[0m \u001b[0;34m\u001b[0m\u001b[0m\n\u001b[1;32m   3259\u001b[0m \u001b[0;34m\u001b[0m\u001b[0m\n",
      "\u001b[0;32m~/.local/lib/python3.6/site-packages/numpy/core/_methods.py\u001b[0m in \u001b[0;36m_mean\u001b[0;34m(a, axis, dtype, out, keepdims)\u001b[0m\n\u001b[1;32m    149\u001b[0m             \u001b[0mis_float16_result\u001b[0m \u001b[0;34m=\u001b[0m \u001b[0;32mTrue\u001b[0m\u001b[0;34m\u001b[0m\u001b[0;34m\u001b[0m\u001b[0m\n\u001b[1;32m    150\u001b[0m \u001b[0;34m\u001b[0m\u001b[0m\n\u001b[0;32m--> 151\u001b[0;31m     \u001b[0mret\u001b[0m \u001b[0;34m=\u001b[0m \u001b[0mumr_sum\u001b[0m\u001b[0;34m(\u001b[0m\u001b[0marr\u001b[0m\u001b[0;34m,\u001b[0m \u001b[0maxis\u001b[0m\u001b[0;34m,\u001b[0m \u001b[0mdtype\u001b[0m\u001b[0;34m,\u001b[0m \u001b[0mout\u001b[0m\u001b[0;34m,\u001b[0m \u001b[0mkeepdims\u001b[0m\u001b[0;34m)\u001b[0m\u001b[0;34m\u001b[0m\u001b[0;34m\u001b[0m\u001b[0m\n\u001b[0m\u001b[1;32m    152\u001b[0m     \u001b[0;32mif\u001b[0m \u001b[0misinstance\u001b[0m\u001b[0;34m(\u001b[0m\u001b[0mret\u001b[0m\u001b[0;34m,\u001b[0m \u001b[0mmu\u001b[0m\u001b[0;34m.\u001b[0m\u001b[0mndarray\u001b[0m\u001b[0;34m)\u001b[0m\u001b[0;34m:\u001b[0m\u001b[0;34m\u001b[0m\u001b[0;34m\u001b[0m\u001b[0m\n\u001b[1;32m    153\u001b[0m         ret = um.true_divide(\n",
      "\u001b[0;31mKeyboardInterrupt\u001b[0m: "
     ]
    }
   ],
   "source": [
    "history = model.fit(X_train,y_train,\n",
    "                    epochs=500,\n",
    "                    validation_data = (X_test,y_test),\n",
    "                    callbacks=[best_model],\n",
    "                    class_weight = weight)"
   ]
  },
  {
   "cell_type": "code",
   "execution_count": 90,
   "metadata": {},
   "outputs": [],
   "source": [
    "best_model = load_model('model_coinc_best.h5')"
   ]
  },
  {
   "cell_type": "code",
   "execution_count": 91,
   "metadata": {},
   "outputs": [],
   "source": [
    "predictions = best_model.predict(X_test)"
   ]
  },
  {
   "cell_type": "code",
   "execution_count": 92,
   "metadata": {},
   "outputs": [],
   "source": [
    "mass = np.array(list(zip(*y_test))[0])"
   ]
  },
  {
   "cell_type": "code",
   "execution_count": 93,
   "metadata": {},
   "outputs": [],
   "source": [
    "energy = np.array(list(zip(*y_test))[1])\n",
    "energy_predictions = np.array(list(zip(*predictions))[1])"
   ]
  },
  {
   "cell_type": "code",
   "execution_count": 94,
   "metadata": {},
   "outputs": [],
   "source": [
    "import matplotlib"
   ]
  },
  {
   "cell_type": "code",
   "execution_count": 95,
   "metadata": {},
   "outputs": [
    {
     "data": {
      "image/png": "[encoded data removed]",
      "text/plain": [
       "<Figure size 432x288 with 1 Axes>"
      ]
     },
     "metadata": {
      "needs_background": "light"
     },
     "output_type": "display_data"
    }
   ],
   "source": [
    "plt.hist2d(energy,list(zip(*predictions))[1],bins=100,norm=matplotlib.colors.LogNorm())\n",
    "plt.show()"
   ]
  },
  {
   "cell_type": "code",
   "execution_count": 96,
   "metadata": {},
   "outputs": [],
   "source": [
    "check = (energy_predictions>=0)"
   ]
  },
  {
   "cell_type": "code",
   "execution_count": 97,
   "metadata": {},
   "outputs": [],
   "source": [
    "predictions = predictions[check]"
   ]
  },
  {
   "cell_type": "code",
   "execution_count": 98,
   "metadata": {},
   "outputs": [],
   "source": [
    "mass = mass[check]"
   ]
  },
  {
   "cell_type": "code",
   "execution_count": 99,
   "metadata": {},
   "outputs": [],
   "source": [
    "iron_prediction = np.array(list(zip(*predictions[mass == 4]))[0])\n",
    "proton_prediction = np.array(list(zip(*predictions[mass==1]))[0])\n",
    "#helium_prediction = np.array(list(zip(*predictions[mass==2]))[0])\n",
    "#oxygen_prediction = np.array(list(zip(*predictions[mass==3]))[0])"
   ]
  },
  {
   "cell_type": "code",
   "execution_count": 103,
   "metadata": {},
   "outputs": [
    {
     "data": {
      "image/png": "[encoded data removed]",
      "text/plain": [
       "<Figure size 432x288 with 1 Axes>"
      ]
     },
     "metadata": {
      "needs_background": "light"
     },
     "output_type": "display_data"
    }
   ],
   "source": [
    "hist1 = plt.hist(iron_prediction[iron_prediction>=0],bins=40,facecolor='w',edgecolor='r',alpha=0.5,density=True)\n",
    "hist2 = plt.hist(proton_prediction[proton_prediction>=0],bins=40,facecolor='w',edgecolor='b',alpha=0.5,density=True)\n",
    "#hist3 = plt.hist(helium_prediction[helium_prediction>=0],bins=100,facecolor='w',edgecolor='g',alpha=0.5,density=True)\n",
    "#hist4 = plt.hist(oxygen_prediction[oxygen_prediction>=0],bins=100,facecolor='w',edgecolor='orange',alpha=0.5,density=True)\n",
    "plt.show()"
   ]
  },
  {
   "cell_type": "code",
   "execution_count": 253,
   "metadata": {},
   "outputs": [
    {
     "data": {
      "image/png": "[encoded data removed]",
      "text/plain": [
       "<Figure size 432x288 with 1 Axes>"
      ]
     },
     "metadata": {
      "needs_background": "light"
     },
     "output_type": "display_data"
    }
   ],
   "source": [
    "plt.plot(hist1[1][0:-1],hist1[0],linewidth=0.5)\n",
    "plt.plot(hist2[1][0:-1],hist2[0],linewidth=0.5)\n",
    "plt.plot(hist3[1][0:-1],hist3[0],linewidth=0.5)\n",
    "plt.plot(hist4[1][0:-1],hist4[0],linewidth=0.5)\n",
    "plt.xlim(1,4)\n",
    "plt.savefig('second_attempt_energy_limited.png')"
   ]
  },
  {
   "cell_type": "code",
   "execution_count": 174,
   "metadata": {},
   "outputs": [
    {
     "data": {
      "image/png": "[encoded data removed]",
      "text/plain": [
       "<Figure size 432x288 with 1 Axes>"
      ]
     },
     "metadata": {
      "needs_background": "light"
     },
     "output_type": "display_data"
    }
   ],
   "source": [
    "plt.hist2d(df_coinc['Xmax'],np.log(abs(df_coinc['m_r']-np.mean(df_coinc['m_r']))),bins=100,norm=matplotlib.colors.LogNorm())\n",
    "plt.show()"
   ]
  },
  {
   "cell_type": "code",
   "execution_count": 74,
   "metadata": {},
   "outputs": [
    {
     "data": {
      "image/png": "[encoded data removed]",
      "text/plain": [
       "<Figure size 432x288 with 1 Axes>"
      ]
     },
     "metadata": {
      "needs_background": "light"
     },
     "output_type": "display_data"
    }
   ],
   "source": [
    "plt.hist(df_coinc['m_chi2'][df_coinc['m_chi2']<2],bins=100)\n",
    "plt.show()"
   ]
  },
  {
   "cell_type": "code",
   "execution_count": 175,
   "metadata": {},
   "outputs": [
    {
     "data": {
      "image/png": "[encoded data removed]",
      "text/plain": [
       "<Figure size 432x288 with 1 Axes>"
      ]
     },
     "metadata": {
      "needs_background": "light"
     },
     "output_type": "display_data"
    }
   ],
   "source": [
    "plt.hist(df_coinc['s_chi2'][df_coinc['s_chi2']<2],bins=100)\n",
    "plt.show()"
   ]
  },
  {
   "cell_type": "code",
   "execution_count": null,
   "metadata": {},
   "outputs": [],
   "source": []
  }
 ],
 "metadata": {
  "kernelspec": {
   "display_name": "Python 3",
   "language": "python",
   "name": "python3"
  },
  "language_info": {
   "codemirror_mode": {
    "name": "ipython",
    "version": 3
   },
   "file_extension": ".py",
   "mimetype": "text/x-python",
   "name": "python",
   "nbconvert_exporter": "python",
   "pygments_lexer": "ipython3",
   "version": "3.6.9"
  }
 },
 "nbformat": 4,
 "nbformat_minor": 4
}
