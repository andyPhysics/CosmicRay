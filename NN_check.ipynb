{
 "cells": [
  {
   "cell_type": "code",
   "execution_count": 1,
   "metadata": {},
   "outputs": [],
   "source": [
    "import numpy as np\n",
    "import pandas as pd\n",
    "import matplotlib.pylab as plt\n",
    "import matplotlib"
   ]
  },
  {
   "cell_type": "code",
   "execution_count": 2,
   "metadata": {},
   "outputs": [],
   "source": [
    "df = pd.read_csv('Events.csv')"
   ]
  },
  {
   "cell_type": "code",
   "execution_count": 3,
   "metadata": {},
   "outputs": [],
   "source": [
    "df = df[(df['t0']>9700)&(df['chi2']!=0)&(df['chi2']<0.5)]"
   ]
  },
  {
   "cell_type": "code",
   "execution_count": 4,
   "metadata": {},
   "outputs": [
    {
     "data": {
      "image/png": "[encoded data removed]",
      "text/plain": [
       "<Figure size 432x288 with 1 Axes>"
      ]
     },
     "metadata": {
      "needs_background": "light"
     },
     "output_type": "display_data"
    }
   ],
   "source": [
    "plt.hist(df['chi2'],bins=100)\n",
    "plt.show()"
   ]
  },
  {
   "cell_type": "code",
   "execution_count": 5,
   "metadata": {},
   "outputs": [
    {
     "data": {
      "image/png": "[encoded data removed]",
      "text/plain": [
       "<Figure size 432x288 with 1 Axes>"
      ]
     },
     "metadata": {
      "needs_background": "light"
     },
     "output_type": "display_data"
    }
   ],
   "source": [
    "plt.hist(df['sigmat0'])\n",
    "plt.show()"
   ]
  },
  {
   "cell_type": "code",
   "execution_count": 6,
   "metadata": {},
   "outputs": [
    {
     "data": {
      "text/plain": [
       "Index(['Unnamed: 0', 'Unnamed: 1', 'run_number', 'event_number', 'zenith',\n",
       "       'azimuth', 'energy', 'x', 'y', 'z', 'ShowerCOG_x', 'ShowerCOG_y',\n",
       "       'ShowerCOG_z', 'ShowerCOG_time', 'ShowerCOG_zen', 'ShowerCOG_az', 'm',\n",
       "       's', 't0', 'charge', 'chargePe', 'chargeVEM', 'chi2', 'sigmat0',\n",
       "       'sigmam', 'sigmas', 'feimpedance', 'spemean', 'pe_per_vem',\n",
       "       'angular_resolution', 'chi2_ldf', 'chi2_time', 'Laputop_dir_zenith',\n",
       "       'Laputop_dir_azimuth', 'Laputop_time', 'Laputop_pos_x',\n",
       "       'Laputop_pos_y'],\n",
       "      dtype='object')"
      ]
     },
     "execution_count": 6,
     "metadata": {},
     "output_type": "execute_result"
    }
   ],
   "source": [
    "df.keys()"
   ]
  },
  {
   "cell_type": "code",
   "execution_count": 7,
   "metadata": {},
   "outputs": [],
   "source": [
    "r = ((df['x'].values-df['ShowerCOG_x'].values)**2.0 + (df['y'].values-df['ShowerCOG_y'].values)**2.0 + (df['z'].values-df['ShowerCOG_z'].values)**2.0)**0.5"
   ]
  },
  {
   "cell_type": "code",
   "execution_count": 8,
   "metadata": {},
   "outputs": [],
   "source": [
    "for i in range(len(r)):\n",
    "    if df['ShowerCOG_time'].values[i] < df['t0'].values[i]:\n",
    "        r[i] = r[i]\n",
    "    else:\n",
    "        r[i] = -r[i]"
   ]
  },
  {
   "cell_type": "code",
   "execution_count": 9,
   "metadata": {},
   "outputs": [],
   "source": [
    "df['r'] = r"
   ]
  },
  {
   "cell_type": "code",
   "execution_count": 10,
   "metadata": {},
   "outputs": [],
   "source": [
    "c = .299"
   ]
  },
  {
   "cell_type": "code",
   "execution_count": 11,
   "metadata": {},
   "outputs": [],
   "source": [
    "def get_delta(r,a,b,sigma):\n",
    "    delta = a * r**2.0 #+ b * (1-np.exp(-(r**2.0)/(2*sigma**2.0)))\n",
    "    return delta"
   ]
  },
  {
   "cell_type": "code",
   "execution_count": 12,
   "metadata": {},
   "outputs": [],
   "source": [
    "def get_n(x,y,z):\n",
    "    x,y,z = np.array([x,y,z])/(x**2.0+y**2.0+z**2.0)**0.5\n",
    "    return [x,y,z]"
   ]
  },
  {
   "cell_type": "code",
   "execution_count": 13,
   "metadata": {},
   "outputs": [],
   "source": [
    "def get_t(X,x1,y1,z1,a,b,sigma,xc,yc,zc,tc):\n",
    "    x,y,z,r = X\n",
    "    n = get_n(x1,y1,z1)\n",
    "    x1 = (x-xc)*n[0]\n",
    "    x2 = (y-yc)*n[1]\n",
    "    x3 = (z-zc)*n[2] \n",
    "    new = x1 + x2 + x3\n",
    "    t = tc + (1/c)*np.array(new) + get_delta(r,a,b,sigma)\n",
    "    return t"
   ]
  },
  {
   "cell_type": "code",
   "execution_count": 14,
   "metadata": {},
   "outputs": [],
   "source": [
    "def get_angular_resolution(x1,y1,z1,x2,y2,z2):\n",
    "    n1 = np.array(get_n(x1,y1,z1))\n",
    "    n2 = np.array(get_n(x2,y2,z2))\n",
    "    if np.dot(n1,n2)>1:\n",
    "        value = 1\n",
    "        angular_res = np.arccos(value)*180/np.pi\n",
    "    else:\n",
    "        angular_res = np.arccos(np.dot(n1,n2))*180/np.pi\n",
    "    return angular_res"
   ]
  },
  {
   "cell_type": "code",
   "execution_count": 15,
   "metadata": {},
   "outputs": [],
   "source": [
    "from scipy.optimize import curve_fit"
   ]
  },
  {
   "cell_type": "code",
   "execution_count": 16,
   "metadata": {},
   "outputs": [],
   "source": [
    "from functools import partial"
   ]
  },
  {
   "cell_type": "code",
   "execution_count": 17,
   "metadata": {},
   "outputs": [],
   "source": [
    "events = df['Unnamed: 0'].unique()"
   ]
  },
  {
   "cell_type": "code",
   "execution_count": 18,
   "metadata": {},
   "outputs": [],
   "source": [
    "from sklearn.cluster import MeanShift"
   ]
  },
  {
   "cell_type": "code",
   "execution_count": 19,
   "metadata": {},
   "outputs": [],
   "source": [
    "def clean(event1,check1):\n",
    "    cluster = MeanShift()\n",
    "    cluster.fit(np.array(event1['m']).reshape(-1,1),event1['s'])\n",
    "    labels = cluster.labels_\n",
    "    max_value = list(set(labels))[-1:]\n",
    "            \n",
    "    cluster2 = MeanShift()\n",
    "    cluster2.fit(np.array(event1['x']).reshape(-1,1),event1['y'])\n",
    "    labels2 = cluster2.labels_\n",
    "    max_value2 = list(set(labels))[-1:]\n",
    "    \n",
    "    removed = []\n",
    "            \n",
    "    for i in range(len(check1)):\n",
    "        if check1[i] & ((labels[i] in max_value) or (labels2[i] in max_value2)):\n",
    "            check1[i] = False\n",
    "            removed.append(i)\n",
    "    return check1,removed"
   ]
  },
  {
   "cell_type": "code",
   "execution_count": 20,
   "metadata": {},
   "outputs": [
    {
     "data": {
      "text/plain": [
       "Index(['Unnamed: 0', 'Unnamed: 1', 'run_number', 'event_number', 'zenith',\n",
       "       'azimuth', 'energy', 'x', 'y', 'z', 'ShowerCOG_x', 'ShowerCOG_y',\n",
       "       'ShowerCOG_z', 'ShowerCOG_time', 'ShowerCOG_zen', 'ShowerCOG_az', 'm',\n",
       "       's', 't0', 'charge', 'chargePe', 'chargeVEM', 'chi2', 'sigmat0',\n",
       "       'sigmam', 'sigmas', 'feimpedance', 'spemean', 'pe_per_vem',\n",
       "       'angular_resolution', 'chi2_ldf', 'chi2_time', 'Laputop_dir_zenith',\n",
       "       'Laputop_dir_azimuth', 'Laputop_time', 'Laputop_pos_x', 'Laputop_pos_y',\n",
       "       'r'],\n",
       "      dtype='object')"
      ]
     },
     "execution_count": 20,
     "metadata": {},
     "output_type": "execute_result"
    }
   ],
   "source": [
    "df.keys()"
   ]
  },
  {
   "cell_type": "code",
   "execution_count": 21,
   "metadata": {},
   "outputs": [],
   "source": [
    "laputop_zenith = []\n",
    "laputop_azimuth = []\n",
    "mc_zenith = []\n",
    "mc_azimuth = []\n",
    "angular_resolution = []\n",
    "for event in events:\n",
    "    event1 = df.loc[df['Unnamed: 0'] == event]\n",
    "    laputop_zenith.append(event1['Laputop_dir_zenith'].values[0])\n",
    "    laputop_azimuth.append(event1['Laputop_dir_azimuth'].values[0])\n",
    "    mc_zenith.append(event1['zenith'].values[0])\n",
    "    mc_azimuth.append(event1['azimuth'].values[0])\n",
    "    angular_resolution.append(event1['angular_resolution'].values[0])"
   ]
  },
  {
   "cell_type": "code",
   "execution_count": 146,
   "metadata": {},
   "outputs": [],
   "source": [
    "ang_res = []\n",
    "laputop_res = []\n",
    "residuals = []\n",
    "energy = []\n",
    "zenith = []\n",
    "\n",
    "def get_fit(event):\n",
    "\n",
    "    event1 = df.loc[df['Unnamed: 0'] == event]\n",
    "    #event1 = event1.loc[abs(event1['r'])>50]\n",
    "    \n",
    "    energy = event1['energy'].values[0]\n",
    "    zenith = event1['zenith'].values[0]\n",
    "    true_zen = event1['zenith'].values[0]\n",
    "    true_az = event1['azimuth'].values[0]\n",
    "    \n",
    "    true_x = -np.sin(true_zen) * np.cos(true_az)\n",
    "    true_y = -np.sin(true_zen) * np.sin(true_az)\n",
    "    true_z = -np.cos(true_zen)\n",
    "\n",
    "    tc = event1['ShowerCOG_time'].values[0]\n",
    "    xc = event1['ShowerCOG_x'].values[0]\n",
    "    yc = event1['ShowerCOG_y'].values[0]\n",
    "    zc = event1['ShowerCOG_z'].values[0]\n",
    "    zen_shower = event1['ShowerCOG_zen'].values[0]\n",
    "    az_shower = event1['ShowerCOG_az'].values[0]\n",
    "    \n",
    "    first_x = -np.sin(zen_shower) * np.cos(az_shower)\n",
    "    first_y = -np.sin(zen_shower) * np.sin(az_shower)\n",
    "    first_z = -np.cos(zen_shower) \n",
    "    \n",
    "    x_o = event1['x'].values\n",
    "    y_o = event1['y'].values\n",
    "    z_o = event1['z'].values\n",
    "    r_o = event1['r'].values\n",
    "    t0_o = event1['t0'].values\n",
    "    \n",
    "    get_t_new = partial(get_t,tc=tc,xc=xc,yc=yc,zc=zc)\n",
    "    \n",
    "    check = [True for i in range(len(event1))]\n",
    "    \n",
    "    fit_old = curve_fit(get_t_new,(x_o,y_o,z_o,r_o),t0_o,\n",
    "                    p0=[-0.5,-0.5,-0.5,4.823*10**-4,19.51,83.5],\n",
    "                    bounds=((-1,-1,-1,0,0,0),(0,0,0,1,200,200)),\n",
    "                    maxfev=2000)\n",
    "    \n",
    "    ang_res_fit_o = get_angular_resolution(fit_old[0][0],fit_old[0][1],fit_old[0][2],true_x,true_y,true_z)\n",
    "    \n",
    "    count = 0\n",
    "    remove_index_list = []\n",
    "\n",
    "    fit_list = []\n",
    "    fit_list.append(fit_old)\n",
    "    \n",
    "    ang_res_list = []\n",
    "    ang_res_list.append(ang_res_fit_o)\n",
    "    \n",
    "    while True:\n",
    "        if count == 0:\n",
    "            check1 = np.copy(check)\n",
    "        else:\n",
    "            check1[remove_index] = False\n",
    "\n",
    "        ang_list_test = []\n",
    "        fit_check = []\n",
    "        \n",
    "        for i in np.array(range(len(check1))):\n",
    "            check2 = np.copy(check1)\n",
    "            check2[i] = False\n",
    "            \n",
    "            if i in remove_index_list:\n",
    "                ang_list_test.append(np.inf)\n",
    "                fit_check.append(fit_old)\n",
    "                continue\n",
    "\n",
    "            x = event1['x'].values[check2]\n",
    "            y = event1['y'].values[check2]\n",
    "            z = event1['z'].values[check2]\n",
    "            r = event1['r'].values[check2]\n",
    "            t0 = event1['t0'].values[check2]\n",
    "    \n",
    "            get_t_new = partial(get_t,tc=tc,xc=xc,yc=yc,zc=zc)\n",
    "        \n",
    "            fit = curve_fit(get_t_new,(x,y,z,r),t0,\n",
    "                            p0=[-0.5,-0.5,-0.5,4.823*10**-4,19.51,83.5],\n",
    "                            bounds=((-1,-1,-1,0,0,0),(0,0,0,1,200,200)),\n",
    "                            maxfev=2000)\n",
    "            \n",
    "            ang_res_new = get_angular_resolution(fit[0][0],fit[0][1],fit[0][2],true_x,true_y,true_z)\n",
    "            ang_list_test.append(ang_res_new)\n",
    "            fit_check.append(fit)\n",
    "            \n",
    "        remove_index = np.argmin(ang_list_test)\n",
    "        remove_index_list.append(remove_index)\n",
    "\n",
    "        check1[remove_index]=False\n",
    "        \n",
    "        fit_new = fit_check[remove_index]\n",
    "        fit_list.append(fit_new)\n",
    "        \n",
    "       \n",
    "        ang_res_new = get_angular_resolution(fit_new[0][0],fit_new[0][1],fit_new[0][2],true_x,true_y,true_z)\n",
    "\n",
    "        ang_res_list.append(ang_res_new)\n",
    "        \n",
    "        if (ang_res_new>ang_res_list[-2]) or (np.sum(check1==0)>3):\n",
    "            check1[remove_index] = True\n",
    "            ang_res_final=ang_res_list[-2]\n",
    "            \n",
    "            lap_az = event1['Laputop_dir_azimuth'].values[0]\n",
    "            lap_zen = event1['Laputop_dir_zenith'].values[0]\n",
    "            lapx = -np.sin(lap_zen)*np.cos(lap_az)\n",
    "            lapy = -np.sin(lap_zen)*np.sin(lap_az)\n",
    "            lapz = -np.cos(lap_zen)\n",
    "            laputop = get_angular_resolution(lapx,lapy,lapz,true_x,true_y,true_z)\n",
    "            break\n",
    "        count+=1  \n",
    "        \n",
    "        \n",
    "    return event,check1,ang_res_final\n",
    "        \n",
    "    "
   ]
  },
  {
   "cell_type": "code",
   "execution_count": 147,
   "metadata": {},
   "outputs": [
    {
     "data": {
      "text/plain": [
       "Index(['Unnamed: 0', 'Unnamed: 1', 'run_number', 'event_number', 'zenith',\n",
       "       'azimuth', 'energy', 'x', 'y', 'z', 'ShowerCOG_x', 'ShowerCOG_y',\n",
       "       'ShowerCOG_z', 'ShowerCOG_time', 'ShowerCOG_zen', 'ShowerCOG_az', 'm',\n",
       "       's', 't0', 'charge', 'chargePe', 'chargeVEM', 'chi2', 'sigmat0',\n",
       "       'sigmam', 'sigmas', 'feimpedance', 'spemean', 'pe_per_vem',\n",
       "       'angular_resolution', 'chi2_ldf', 'chi2_time', 'Laputop_dir_zenith',\n",
       "       'Laputop_dir_azimuth', 'Laputop_time', 'Laputop_pos_x', 'Laputop_pos_y',\n",
       "       'r'],\n",
       "      dtype='object')"
      ]
     },
     "execution_count": 147,
     "metadata": {},
     "output_type": "execute_result"
    }
   ],
   "source": [
    "df.keys()"
   ]
  },
  {
   "cell_type": "code",
   "execution_count": 148,
   "metadata": {},
   "outputs": [],
   "source": [
    "import time"
   ]
  },
  {
   "cell_type": "code",
   "execution_count": 149,
   "metadata": {},
   "outputs": [
    {
     "name": "stdout",
     "output_type": "stream",
     "text": [
      "100\n",
      "100\n",
      "100\n",
      "100\n",
      "100\n",
      "100\n",
      "100\n",
      "100\n",
      "100\n",
      "100\n"
     ]
    }
   ],
   "source": [
    "our_dict = {}\n",
    "count = 0\n",
    "for event in events:\n",
    "    if count == 100:\n",
    "        print(count)\n",
    "        count = 0\n",
    "    time1 = time.time()\n",
    "    try:\n",
    "        event_name,check1,ang_res_final = get_fit(event)\n",
    "    except RuntimeError:\n",
    "        count+=1\n",
    "        continue\n",
    "    our_dict[event_name] = {}\n",
    "    our_dict[event_name]['check'] = check1\n",
    "    our_dict[event_name]['ang_res_final'] = ang_res_final\n",
    "    time2 = time.time()\n",
    "    count+=1"
   ]
  },
  {
   "cell_type": "code",
   "execution_count": 150,
   "metadata": {},
   "outputs": [],
   "source": [
    "np.save('best_labels',our_dict)"
   ]
  },
  {
   "cell_type": "code",
   "execution_count": 160,
   "metadata": {},
   "outputs": [],
   "source": [
    "from sklearn.model_selection import train_test_split\n",
    "from sklearn.ensemble import StackingRegressor\n",
    "from keras.preprocessing.sequence import pad_sequences"
   ]
  },
  {
   "cell_type": "code",
   "execution_count": 161,
   "metadata": {},
   "outputs": [],
   "source": [
    "def clean(event1):\n",
    "    event1 = df[df['Unnamed: 0']==event1]\n",
    "    doms = []\n",
    "    strings = []\n",
    "    chi2 = []\n",
    "    remove_index_list = []\n",
    "    for value in range(len(event1)):\n",
    "        doms.append(event1['Unnamed: 1'].values[value].split(',')[1])\n",
    "        strings.append(event1['Unnamed: 1'].values[value].split(',')[0].split('(')[1])\n",
    "        chi2.append(event1['chi2'].values[value])\n",
    "    doms = np.array(doms)\n",
    "    strings = np.array(strings)\n",
    "    chi2 = np.array(chi2)\n",
    "    \n",
    "    check = []\n",
    "    for string in np.unique(strings):\n",
    "        if np.sum(strings==string)==2:\n",
    "            index_max = np.argmax(chi2[strings==string])\n",
    "            if index_max == 0:\n",
    "                check.append(False)\n",
    "            else:\n",
    "                check.append(True)\n",
    "            if check[-1]:\n",
    "                check.append(False)\n",
    "            else:\n",
    "                check.append(True)\n",
    "        else:\n",
    "            check.append(True)\n",
    "            \n",
    "    for i in range(len(check)):\n",
    "        cutoff = np.mean(chi2[check])+2*np.mean(chi2[check])/len(chi2[check])\n",
    "        if (chi2[i]>=cutoff):\n",
    "            check[i] = False\n",
    "    \n",
    "    for i in range(len(check)):\n",
    "        if not check[i]:\n",
    "            remove_index_list.append(i)\n",
    "    return check"
   ]
  },
  {
   "cell_type": "code",
   "execution_count": 162,
   "metadata": {},
   "outputs": [],
   "source": [
    "X = []\n",
    "y = []\n",
    "for i in events:\n",
    "    check = clean(i)\n",
    "    X.append(df[df['Unnamed: 0']==i]['t0'].values[check])\n",
    "    y.append(df[df['Unnamed: 0']==i]['zenith'].values[0])"
   ]
  },
  {
   "cell_type": "code",
   "execution_count": 163,
   "metadata": {},
   "outputs": [],
   "source": [
    "length = [len(i) for i in X]"
   ]
  },
  {
   "cell_type": "code",
   "execution_count": 164,
   "metadata": {},
   "outputs": [],
   "source": [
    "new_X = pad_sequences(X)"
   ]
  },
  {
   "cell_type": "code",
   "execution_count": 165,
   "metadata": {},
   "outputs": [],
   "source": [
    "X_train,X_test,y_train,y_test = train_test_split(new_X,y,test_size = 0.2,random_state=16)"
   ]
  },
  {
   "cell_type": "code",
   "execution_count": 168,
   "metadata": {},
   "outputs": [],
   "source": [
    "from sklearn.linear_model import RidgeCV\n",
    "from sklearn.svm import LinearSVR\n",
    "estimators = [('lr', RidgeCV()),('svr', LinearSVR(random_state=42))]"
   ]
  },
  {
   "cell_type": "code",
   "execution_count": 169,
   "metadata": {},
   "outputs": [],
   "source": [
    "classifier = StackingRegressor(estimators=estimators)"
   ]
  },
  {
   "cell_type": "code",
   "execution_count": 170,
   "metadata": {},
   "outputs": [
    {
     "name": "stderr",
     "output_type": "stream",
     "text": [
      "/home/andy/.local/lib/python3.6/site-packages/sklearn/svm/_base.py:947: ConvergenceWarning: Liblinear failed to converge, increase the number of iterations.\n",
      "  \"the number of iterations.\", ConvergenceWarning)\n",
      "/home/andy/.local/lib/python3.6/site-packages/sklearn/svm/_base.py:947: ConvergenceWarning: Liblinear failed to converge, increase the number of iterations.\n",
      "  \"the number of iterations.\", ConvergenceWarning)\n",
      "/home/andy/.local/lib/python3.6/site-packages/sklearn/svm/_base.py:947: ConvergenceWarning: Liblinear failed to converge, increase the number of iterations.\n",
      "  \"the number of iterations.\", ConvergenceWarning)\n",
      "/home/andy/.local/lib/python3.6/site-packages/sklearn/svm/_base.py:947: ConvergenceWarning: Liblinear failed to converge, increase the number of iterations.\n",
      "  \"the number of iterations.\", ConvergenceWarning)\n",
      "/home/andy/.local/lib/python3.6/site-packages/sklearn/svm/_base.py:947: ConvergenceWarning: Liblinear failed to converge, increase the number of iterations.\n",
      "  \"the number of iterations.\", ConvergenceWarning)\n",
      "/home/andy/.local/lib/python3.6/site-packages/sklearn/svm/_base.py:947: ConvergenceWarning: Liblinear failed to converge, increase the number of iterations.\n",
      "  \"the number of iterations.\", ConvergenceWarning)\n"
     ]
    },
    {
     "data": {
      "text/plain": [
       "StackingRegressor(cv=None,\n",
       "                  estimators=[('lr',\n",
       "                               RidgeCV(alphas=array([ 0.1,  1. , 10. ]),\n",
       "                                       cv=None, fit_intercept=True,\n",
       "                                       gcv_mode=None, normalize=False,\n",
       "                                       scoring=None, store_cv_values=False)),\n",
       "                              ('svr',\n",
       "                               LinearSVR(C=1.0, dual=True, epsilon=0.0,\n",
       "                                         fit_intercept=True,\n",
       "                                         intercept_scaling=1.0,\n",
       "                                         loss='epsilon_insensitive',\n",
       "                                         max_iter=1000, random_state=42,\n",
       "                                         tol=0.0001, verbose=0))],\n",
       "                  final_estimator=None, n_jobs=None, passthrough=False,\n",
       "                  verbose=0)"
      ]
     },
     "execution_count": 170,
     "metadata": {},
     "output_type": "execute_result"
    }
   ],
   "source": [
    "classifier.fit(X_train,y_train)"
   ]
  },
  {
   "cell_type": "code",
   "execution_count": 171,
   "metadata": {},
   "outputs": [],
   "source": [
    "pred = classifier.predict(X_test)"
   ]
  },
  {
   "cell_type": "code",
   "execution_count": 172,
   "metadata": {},
   "outputs": [
    {
     "data": {
      "image/png": "[encoded data removed]",
      "text/plain": [
       "<Figure size 432x288 with 1 Axes>"
      ]
     },
     "metadata": {
      "needs_background": "light"
     },
     "output_type": "display_data"
    }
   ],
   "source": [
    "plt.scatter(pred,y_test)\n",
    "plt.plot(y_test,y_test)\n",
    "plt.show()"
   ]
  },
  {
   "cell_type": "code",
   "execution_count": 173,
   "metadata": {},
   "outputs": [],
   "source": [
    "diff = [abs(i-j)*180/np.pi for i,j in zip(pred,y_test)]"
   ]
  },
  {
   "cell_type": "code",
   "execution_count": 174,
   "metadata": {},
   "outputs": [
    {
     "data": {
      "image/png": "[encoded data removed]",
      "text/plain": [
       "<Figure size 432x288 with 1 Axes>"
      ]
     },
     "metadata": {
      "needs_background": "light"
     },
     "output_type": "display_data"
    }
   ],
   "source": [
    "plt.hist(diff,bins=100)\n",
    "plt.show()"
   ]
  },
  {
   "cell_type": "code",
   "execution_count": 158,
   "metadata": {},
   "outputs": [
    {
     "data": {
      "text/plain": [
       "201"
      ]
     },
     "execution_count": 158,
     "metadata": {},
     "output_type": "execute_result"
    }
   ],
   "source": [
    "len(y_test)"
   ]
  },
  {
   "cell_type": "code",
   "execution_count": null,
   "metadata": {},
   "outputs": [],
   "source": []
  }
 ],
 "metadata": {
  "kernelspec": {
   "display_name": "Python 3",
   "language": "python",
   "name": "python3"
  },
  "language_info": {
   "codemirror_mode": {
    "name": "ipython",
    "version": 3
   },
   "file_extension": ".py",
   "mimetype": "text/x-python",
   "name": "python",
   "nbconvert_exporter": "python",
   "pygments_lexer": "ipython3",
   "version": "3.6.9"
  }
 },
 "nbformat": 4,
 "nbformat_minor": 4
}
