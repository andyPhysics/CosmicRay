{
 "cells": [
  {
   "cell_type": "code",
   "execution_count": 1,
   "metadata": {},
   "outputs": [],
   "source": [
    "import numpy as np\n",
    "import pandas as pd\n",
    "import matplotlib.pylab as plt\n",
    "import matplotlib\n",
    "from vectorDiff import *\n",
    "from scipy.stats import chisquare"
   ]
  },
  {
   "cell_type": "code",
   "execution_count": 2,
   "metadata": {},
   "outputs": [],
   "source": [
    "#This file is checking by not removing all of the events but just the ones that are larger than 200 meters. "
   ]
  },
  {
   "cell_type": "code",
   "execution_count": 3,
   "metadata": {},
   "outputs": [],
   "source": [
    "df = pd.read_csv('Events_iron.csv')\n",
    "df2 = pd.read_csv('Events.csv')"
   ]
  },
  {
   "cell_type": "code",
   "execution_count": 4,
   "metadata": {},
   "outputs": [],
   "source": [
    "df = df.loc[(df['chi2']>0)&(df['chi2']<10)&(df['zenith']<35*np.pi/180)]\n",
    "df2 = df2.loc[(df2['chi2']>0)&(df['chi2']<10)&(df['zenith']<35*np.pi/180)]"
   ]
  },
  {
   "cell_type": "code",
   "execution_count": 5,
   "metadata": {},
   "outputs": [],
   "source": [
    "events = df['Unnamed: 0'].unique()\n",
    "events2 = df2['Unnamed: 0'].unique()"
   ]
  },
  {
   "cell_type": "code",
   "execution_count": 6,
   "metadata": {},
   "outputs": [
    {
     "data": {
      "text/plain": [
       "Index(['Unnamed: 0', 'Unnamed: 1', 'run_number', 'event_number', 'zenith',\n",
       "       'azimuth', 'energy', 'x', 'y', 'z', 'ShowerCOG_x', 'ShowerCOG_y',\n",
       "       'ShowerCOG_z', 'ShowerCOG_time', 'ShowerCOG_zen', 'ShowerCOG_az', 'm',\n",
       "       's', 'charge', 'chargePe', 'chargeVEM', 'chi2', 'sigmam', 'sigmas', 'A',\n",
       "       'feimpedance', 'spemean', 'pe_per_vem', 'angular_resolution',\n",
       "       'chi2_ldf', 'chi2_time', 'Laputop_dir_zenith', 'Laputop_dir_azimuth',\n",
       "       'Laputop_new_zenith', 'Laputop_new_azimuth', 'Laputop_time',\n",
       "       'Laputop_pos_x', 'Laputop_pos_y', 't_0', 'Xmax'],\n",
       "      dtype='object')"
      ]
     },
     "execution_count": 6,
     "metadata": {},
     "output_type": "execute_result"
    }
   ],
   "source": [
    "df.keys()"
   ]
  },
  {
   "cell_type": "code",
   "execution_count": 7,
   "metadata": {},
   "outputs": [],
   "source": [
    "c = .299"
   ]
  },
  {
   "cell_type": "code",
   "execution_count": 8,
   "metadata": {},
   "outputs": [],
   "source": [
    "def get_delta(r,a,b,sigma):\n",
    "    b_start = 19.51\n",
    "    sigma_start = 83.5\n",
    "    delta = a * r**2.0 #+ b_start * (1-np.exp(-(r**2.0)/(2*(sigma_start**2.0))))\n",
    "    return delta"
   ]
  },
  {
   "cell_type": "code",
   "execution_count": 9,
   "metadata": {},
   "outputs": [],
   "source": [
    "def get_n(x,y,z):\n",
    "    x,y,z = np.array([x,y,z])/(x**2.0+y**2.0+z**2.0)**0.5\n",
    "    return [x,y,z]"
   ]
  },
  {
   "cell_type": "code",
   "execution_count": 10,
   "metadata": {},
   "outputs": [],
   "source": [
    "def get_n_cos(zen,az):\n",
    "    x = -np.sin(zen) * np.cos(az)\n",
    "    y = -np.sin(zen) * np.sin(az)\n",
    "    z = -np.cos(zen)\n",
    "    return x,y,z"
   ]
  },
  {
   "cell_type": "code",
   "execution_count": 11,
   "metadata": {},
   "outputs": [],
   "source": [
    "def rotation(X,az,zen):\n",
    "    R1 = np.array([[np.cos(az),-np.sin(az),0],\n",
    "                [np.sin(az),np.cos(az),0],\n",
    "                [0,0,1]])\n",
    "    y_new = np.dot(R1,[0,1,0])\n",
    "    R2_1 = np.cos(zen)*np.array([[1,0,0],[0,1,0],[0,0,1]])\n",
    "    R2_2 = np.sin(zen)*(np.outer(np.cross(y_new,[1,0,0]),[1,0,0]) + np.outer(np.cross(y_new,[0,1,0]),[0,1,0]) + np.outer(np.cross(y_new,[0,0,1]),[0,0,1]))\n",
    "    R2_3 = (1 - np.cos(zen)) * np.outer(y_new,y_new)\n",
    "    R2 = R2_1+R2_2+R2_3\n",
    "    X_prime  = np.dot(R2,np.dot(R1,X))\n",
    "    return X_prime"
   ]
  },
  {
   "cell_type": "code",
   "execution_count": 12,
   "metadata": {},
   "outputs": [],
   "source": [
    "def new_basis(az,zen):\n",
    "    x_prime = rotation([1,0,0],az,zen)\n",
    "    y_prime = rotation([0,1,0],az,zen)\n",
    "    z_prime = rotation([0,0,1],az,zen)\n",
    "    return x_prime,y_prime,z_prime"
   ]
  },
  {
   "cell_type": "code",
   "execution_count": 13,
   "metadata": {},
   "outputs": [],
   "source": [
    "def new_vector(X,az,zen):\n",
    "    x_prime,y_prime,z_prime = new_basis(az,zen)\n",
    "    vector_x_prime = np.dot(x_prime,X)\n",
    "    vector_y_prime = np.dot(y_prime,X)\n",
    "    vector_z_prime = np.dot(z_prime,X)\n",
    "    rho = ((vector_x_prime**2.0)+(vector_y_prime**2.0))**0.5\n",
    "    return np.array([rho,vector_z_prime])"
   ]
  },
  {
   "cell_type": "code",
   "execution_count": 14,
   "metadata": {},
   "outputs": [],
   "source": [
    "x_values = [[df['x'].values[i]-df['ShowerCOG_x'].values[i],\n",
    "             df['y'].values[i]-df['ShowerCOG_y'].values[i],\n",
    "             df['z'].values[i]-df['ShowerCOG_z'].values[i]] for i in range(len(df['x'].values))]\n",
    "x_values2 = [[df2['x'].values[i]-df2['ShowerCOG_x'].values[i],\n",
    "             df2['y'].values[i]-df2['ShowerCOG_y'].values[i],\n",
    "             df2['z'].values[i]-df2['ShowerCOG_z'].values[i]] for i in range(len(df2['x'].values))]"
   ]
  },
  {
   "cell_type": "code",
   "execution_count": null,
   "metadata": {},
   "outputs": [],
   "source": [
    "difference = [new_vector(x_values[i],df['Laputop_dir_azimuth'].values[i],df['Laputop_dir_zenith'].values[i]) for i in range(len(x_values))]\n",
    "difference2 = [new_vector(x_values2[i],df2['Laputop_dir_azimuth'].values[i],df2['Laputop_dir_zenith'].values[i]) for i in range(len(x_values2))]"
   ]
  },
  {
   "cell_type": "code",
   "execution_count": null,
   "metadata": {},
   "outputs": [],
   "source": [
    "df['rho'] = [i[0] for i in difference]\n",
    "df['z_new'] = [i[1] for i in difference]\n",
    "df2['rho'] = [i[0] for i in difference2]\n",
    "df2['z_new'] = [i[1] for i in difference2]"
   ]
  },
  {
   "cell_type": "code",
   "execution_count": null,
   "metadata": {},
   "outputs": [],
   "source": [
    "def get_t(X,x1,y1,z1,a,b,sigma,xc,yc,zc,tc):\n",
    "    x,y,z,r = X\n",
    "    n = get_n(x1,y1,z1)\n",
    "    x_new = np.array([(i-xc)*n[0] for i in x])\n",
    "    y_new = np.array([(i-yc)*n[1] for i in y])\n",
    "    z_new = np.array([(i-zc)*n[2] for i in z])\n",
    "    new = x_new + y_new + z_new\n",
    "    tc = np.array([tc for i in range(len(z_new))])\n",
    "    t = tc + (1/c)*new + get_delta(r,a,b,sigma)\n",
    "    return t"
   ]
  },
  {
   "cell_type": "code",
   "execution_count": null,
   "metadata": {},
   "outputs": [],
   "source": [
    "def get_ang_diff(x1,y1,z1,x2,y2,z2):\n",
    "    n1 = np.array(get_n(x1,y1,z1))\n",
    "    n2 = np.array(get_n(x2,y2,z2))\n",
    "    if np.dot(n1,n2)>1:\n",
    "        value = 1\n",
    "        angular_diff = np.arccos(value)*180/np.pi\n",
    "    else:\n",
    "        angular_diff = np.arccos(np.dot(n1,n2))*180/np.pi\n",
    "    return angular_diff"
   ]
  },
  {
   "cell_type": "code",
   "execution_count": null,
   "metadata": {},
   "outputs": [],
   "source": [
    "def ldf(r,S125,beta):\n",
    "    k = 0.30264\n",
    "    VEM = S125*(r/125)**(-beta-k*np.log10(r/125))\n",
    "    return VEM"
   ]
  },
  {
   "cell_type": "code",
   "execution_count": null,
   "metadata": {},
   "outputs": [],
   "source": [
    "def magnitude_spherical(theta,d_theta,d_phi):\n",
    "    dl = (d_theta)**2.0 + (np.sin(theta)**2.0)*(d_phi)**2.0\n",
    "    return dl"
   ]
  },
  {
   "cell_type": "code",
   "execution_count": null,
   "metadata": {},
   "outputs": [],
   "source": [
    "df.keys()"
   ]
  },
  {
   "cell_type": "code",
   "execution_count": null,
   "metadata": {},
   "outputs": [],
   "source": [
    "from scipy.optimize import curve_fit"
   ]
  },
  {
   "cell_type": "code",
   "execution_count": null,
   "metadata": {},
   "outputs": [],
   "source": [
    "from functools import partial"
   ]
  },
  {
   "cell_type": "code",
   "execution_count": null,
   "metadata": {},
   "outputs": [],
   "source": [
    "from random import choice"
   ]
  },
  {
   "cell_type": "code",
   "execution_count": null,
   "metadata": {},
   "outputs": [],
   "source": [
    "laputop_zenith = []\n",
    "laputop_azimuth = []\n",
    "laputop_new_zen = []\n",
    "laputop_new_az = []\n",
    "mc_zenith = []\n",
    "mc_azimuth = []\n",
    "angular_resolution = []\n",
    "for event in events:\n",
    "    event1 = df.loc[df['Unnamed: 0'] == event]\n",
    "    laputop_zenith.append(event1['Laputop_dir_zenith'].values[0])\n",
    "    laputop_azimuth.append(event1['Laputop_dir_azimuth'].values[0])\n",
    "    mc_zenith.append(event1['zenith'].values[0])\n",
    "    mc_azimuth.append(event1['azimuth'].values[0])\n",
    "    laputop_new_zen.append(event1['Laputop_new_zenith'].values[0])\n",
    "    laputop_new_az.append(event1['Laputop_new_azimuth'].values[0])"
   ]
  },
  {
   "cell_type": "code",
   "execution_count": null,
   "metadata": {},
   "outputs": [],
   "source": [
    "n_lap = [get_n_cos(i,j) for i,j in zip(laputop_zenith,laputop_azimuth)]\n",
    "n_lap_new = [get_n_cos(i,j) for i,j in zip(laputop_new_zen,laputop_new_az)]\n",
    "n_mc = [get_n_cos(i,j) for i,j in zip(mc_zenith,mc_azimuth)]"
   ]
  },
  {
   "cell_type": "code",
   "execution_count": null,
   "metadata": {},
   "outputs": [],
   "source": [
    "ang_resolution = np.array([get_ang_diff(i[0],i[1],i[2],j[0],j[1],j[2]) for i,j in zip(n_lap,n_mc)])\n",
    "ang_resolution_new = np.array([get_ang_diff(i[0],i[1],i[2],j[0],j[1],j[2]) for i,j in zip(n_lap_new,n_mc)])"
   ]
  },
  {
   "cell_type": "code",
   "execution_count": null,
   "metadata": {},
   "outputs": [],
   "source": [
    "plt.hist(ang_resolution[ang_resolution<3],color='r',alpha=0.5,bins=30,label='old')\n",
    "plt.hist(ang_resolution_new[ang_resolution_new<3],color='b',alpha=0.5,bins=30,label='new')\n",
    "plt.xlabel('Degrees')\n",
    "plt.legend()\n",
    "plt.savefig('Old_vs_new.png')"
   ]
  },
  {
   "cell_type": "code",
   "execution_count": null,
   "metadata": {},
   "outputs": [],
   "source": [
    "np.percentile(ang_resolution_new,50)"
   ]
  },
  {
   "cell_type": "code",
   "execution_count": null,
   "metadata": {},
   "outputs": [],
   "source": [
    "np.percentile(ang_resolution,50)"
   ]
  },
  {
   "cell_type": "code",
   "execution_count": null,
   "metadata": {},
   "outputs": [],
   "source": [
    "df.keys()"
   ]
  },
  {
   "cell_type": "code",
   "execution_count": null,
   "metadata": {},
   "outputs": [],
   "source": [
    "import matplotlib"
   ]
  },
  {
   "cell_type": "code",
   "execution_count": null,
   "metadata": {},
   "outputs": [],
   "source": [
    "plt.hist2d(abs(df['z_new'])[(df['sigmam']<0.1)&(df['rho']<400)&(df['sigmas']<0.1)],df['m'][(df['sigmam']<0.1)&(df['rho']<400)&(df['sigmas']<0.1)],bins=100,norm=matplotlib.colors.LogNorm())\n",
    "plt.show()"
   ]
  },
  {
   "cell_type": "code",
   "execution_count": null,
   "metadata": {},
   "outputs": [],
   "source": [
    "plt.hist2d(df['rho'][(df['sigmam']<0.1)&(df['rho']<400)&(df['sigmas']<0.1)],df['m'][(df['sigmam']<0.1)&(df['rho']<400)&(df['sigmas']<0.1)],bins=100,norm=matplotlib.colors.LogNorm())\n",
    "plt.xlabel('rho [m]')\n",
    "plt.ylabel('m')\n",
    "plt.savefig('check_rho.png')"
   ]
  },
  {
   "cell_type": "code",
   "execution_count": null,
   "metadata": {},
   "outputs": [],
   "source": [
    "plt.hist2d(df['s'][(df['sigmam']<0.1)&(df['rho']<400)&(df['sigmas']<0.1)],df['sigmas'][(df['sigmam']<0.1)&(df['rho']<400)&(df['sigmas']<0.1)],bins=100,norm=matplotlib.colors.LogNorm())\n",
    "plt.show()"
   ]
  },
  {
   "cell_type": "code",
   "execution_count": null,
   "metadata": {},
   "outputs": [],
   "source": [
    "plt.hist2d(df['rho'][(df['sigmam']<0.1)&(df['rho']<400)&(df['sigmas']<0.1)],df['sigmas'][(df['sigmam']<0.1)&(df['rho']<400)&(df['sigmas']<0.1)],bins=50,norm=matplotlib.colors.LogNorm())\n",
    "plt.show()"
   ]
  },
  {
   "cell_type": "code",
   "execution_count": null,
   "metadata": {},
   "outputs": [],
   "source": [
    "plt.hist2d(df['s'][(df['sigmam']<0.1)&(df['rho']<400)&(df['sigmas']<0.1)],df['m'][(df['sigmam']<0.1)&(df['rho']<400)&(df['sigmas']<0.1)],bins=100,norm=matplotlib.colors.LogNorm())\n",
    "plt.xlabel('s')\n",
    "plt.ylabel('m')\n",
    "plt.savefig('check_s.png')"
   ]
  },
  {
   "cell_type": "code",
   "execution_count": null,
   "metadata": {},
   "outputs": [],
   "source": [
    "plt.hist2d(abs(df['z_new'])[(df['sigmam']<0.1)&(df['rho']<400)&(df['sigmas']<0.1)],df['s'][(df['sigmam']<0.1)&(df['rho']<400)&(df['sigmas']<0.1)],bins=100,norm=matplotlib.colors.LogNorm())\n",
    "plt.show()"
   ]
  },
  {
   "cell_type": "code",
   "execution_count": null,
   "metadata": {},
   "outputs": [],
   "source": [
    "thingy = (np.log10(df['chargeVEM'].values)>0.25)\n",
    "plt.hist2d(df['rho'][(df['sigmam']<0.1)&(df['rho']<400)&(df['sigmas']<0.1)&thingy],df['s'][(df['sigmam']<0.1)&(df['rho']<400)&(df['sigmas']<0.1)&thingy],bins=100,norm=matplotlib.colors.LogNorm())\n",
    "plt.show()"
   ]
  },
  {
   "cell_type": "code",
   "execution_count": null,
   "metadata": {},
   "outputs": [],
   "source": [
    "plt.hist(df['sigmam'][df['sigmam']<0.1],bins=100)\n",
    "plt.show()"
   ]
  },
  {
   "cell_type": "code",
   "execution_count": null,
   "metadata": {},
   "outputs": [],
   "source": [
    "plt.hist(df2['sigmam'][df2['sigmam']<0.1],bins=100)\n",
    "plt.show()"
   ]
  },
  {
   "cell_type": "code",
   "execution_count": null,
   "metadata": {},
   "outputs": [],
   "source": [
    "plt.hist(df['sigmas'][df['sigmas']<0.1],bins=100)\n",
    "plt.show()"
   ]
  },
  {
   "cell_type": "code",
   "execution_count": null,
   "metadata": {},
   "outputs": [],
   "source": [
    "print(df.iloc[np.argmin(df['A'].values)])"
   ]
  },
  {
   "cell_type": "code",
   "execution_count": null,
   "metadata": {},
   "outputs": [],
   "source": [
    "event1 = df.loc[df['Unnamed: 0']=='event_253']\n",
    "#event1 = df2.loc[df2['Unnamed: 0']=='event_828']"
   ]
  },
  {
   "cell_type": "code",
   "execution_count": null,
   "metadata": {},
   "outputs": [],
   "source": [
    "def get_t(t,X,x1,y1,z1,xc,yc,zc,tc):\n",
    "    x,y,z,r = X\n",
    "    n = get_n(x1,y1,z1)\n",
    "    x1 = (x-xc)*n[0]\n",
    "    x2 = (y-yc)*n[1]\n",
    "    x3 = (z-zc)*n[2] \n",
    "    new = x1 + x2 + x3\n",
    "    get_delta =  t - tc - (1/c)*np.array(new)\n",
    "    return t"
   ]
  },
  {
   "cell_type": "code",
   "execution_count": null,
   "metadata": {},
   "outputs": [],
   "source": [
    "print((event1['Laputop_dir_zenith'].values[0])*(180/np.pi))\n",
    "print((event1['Laputop_dir_azimuth'].values[0])*(180/np.pi))"
   ]
  },
  {
   "cell_type": "code",
   "execution_count": null,
   "metadata": {},
   "outputs": [],
   "source": [
    "def func_s(rho,m,b):\n",
    "    y = m*rho + b\n",
    "    return y\n",
    "\n",
    "def func_m(X,A,B,C,D):\n",
    "    s,rho = X\n",
    "    y = A + B*rho +D*(s-C)**2\n",
    "    return y\n",
    "\n",
    "def chisquare_value(observed,true):\n",
    "    chi2 = np.sum([((i-j)**2)/abs(j) for i,j in zip(observed,true)])\n",
    "\n",
    "    return chi2"
   ]
  },
  {
   "cell_type": "code",
   "execution_count": null,
   "metadata": {},
   "outputs": [],
   "source": [
    "from sklearn.utils import resample"
   ]
  },
  {
   "cell_type": "code",
   "execution_count": null,
   "metadata": {},
   "outputs": [],
   "source": [
    "def get_check(function,z,rho,m,chi2,charge,sigma):\n",
    "    value = []\n",
    "    value2 = []\n",
    "    list_values = [240,260,280,300]\n",
    "    charge_values = [0,0.25,0.5]\n",
    "    try:\n",
    "        for charge_value in charge_values:\n",
    "            check = (np.log10(charge)>charge_value)&(rho<300)\n",
    "            fit_m = curve_fit(func_m,xdata=[z[check],rho[check]],ydata=m[check],bounds=((1e-10,1e-10,1e-10,1e-10),np.inf),sigma=chi2[check]**0.5)\n",
    "            chi2_m = chisquare_value(m[check],func_m(np.array([z[check],rho[check]]),fit_m[0][0],fit_m[0][1],fit_m[0][2],fit_m[0][3]))\n",
    "            value2.append(abs(chi2_m))\n",
    "            min_charge = charge_values[np.argmin(value2)]\n",
    "\n",
    "        for max_value in list_values:\n",
    "            check = (np.log10(charge)>min_charge)&(rho<max_value)\n",
    "            fit_m = curve_fit(func_m,xdata=[z[check],rho[check]],ydata=m[check],bounds=((1e-10,1e-10,1e-10,1e-10),np.inf),sigma=chi2[check]**0.5)\n",
    "            chi2_m = chisquare_value(m[check],func_m(np.array([z[check],rho[check]]),fit_m[0][0],fit_m[0][1],fit_m[0][2],fit_m[0][3]))\n",
    "            value.append(abs(chi2_m))\n",
    "        max_rho = list_values[np.argmax(value)]\n",
    "    except:\n",
    "        min_charge = 0\n",
    "        max_rho = 300\n",
    "        \n",
    "        \n",
    "    value_new = np.mean(sigma) + np.std(sigma)    \n",
    "\n",
    "    check = (np.log10(charge)>min_charge)&(rho<list_values[np.argmax(value)])&(sigma<value_new)\n",
    "    final_fit = curve_fit(func_m,xdata=[z[check],rho[check]],ydata=m[check],bounds=((1e-10,1e-10,1e-10,1e-10),np.inf))\n",
    "    final_out = func_m([z[check],rho[check]],final_fit[0][0],final_fit[0][1],final_fit[0][2],final_fit[0][3])\n",
    "    chi2_m = chisquare_value(m[check],func_m(np.array([z[check],rho[check]]),final_fit[0][0],final_fit[0][1],final_fit[0][2],final_fit[0][3]))\n",
    "    print(chi2_m)\n",
    "    residual = [(i-j) for i,j in zip(m[check],final_out)]\n",
    "    \n",
    "    return check"
   ]
  },
  {
   "cell_type": "code",
   "execution_count": null,
   "metadata": {},
   "outputs": [],
   "source": [
    "from functools import partial"
   ]
  },
  {
   "cell_type": "code",
   "execution_count": null,
   "metadata": {},
   "outputs": [],
   "source": [
    "def get_check(func_m,rho,m,s,sigma,sigma1,charge):\n",
    "    check = (rho<400)&(sigma<0.1)&(sigma1<0.1)&(charge>0.25)\n",
    "    error = np.array([1/i for i in sigma])\n",
    "    fit_m = curve_fit(func_m,xdata=[s[check],rho[check]],ydata=m[check],bounds=((1e-10,1e-10,1e-10,1e-10),np.inf))\n",
    "\n",
    "    new_m = func_m([s,rho],fit_m[0][0],fit_m[0][1],fit_m[0][2],fit_m[0][3])\n",
    "    check = (np.array([(abs(i-j)/j)*100 for i,j in zip(new_m,m)])<=10)&check\n",
    "\n",
    "    return check"
   ]
  },
  {
   "cell_type": "code",
   "execution_count": null,
   "metadata": {},
   "outputs": [],
   "source": [
    "def get_check_s(function,rho,s,sigmas,check):\n",
    "    error = np.array([1/i for i in sigmas])\n",
    "    fit_s = curve_fit(function,xdata=rho[check],ydata=s[check],bounds=((1e-10,1e-10),np.inf))\n",
    "\n",
    "    new_s = function(rho,fit_s[0][0],fit_s[0][1])\n",
    "    check = (np.array([(abs(i-j)/j)*100 for i,j in zip(new_s,s)])<=10)\n",
    "\n",
    "    return check"
   ]
  },
  {
   "cell_type": "code",
   "execution_count": null,
   "metadata": {},
   "outputs": [],
   "source": [
    "check = get_check(func_m,event1['rho'].values,event1['m'].values,event1['s'].values,event1['sigmam'].values,event1['sigmas'].values,event1['chargeVEM'].values)"
   ]
  },
  {
   "cell_type": "code",
   "execution_count": null,
   "metadata": {},
   "outputs": [],
   "source": [
    "check_s = get_check_s(func_s,event1['rho'].values,event1['s'].values,event1['sigmas'].values,check)"
   ]
  },
  {
   "cell_type": "code",
   "execution_count": null,
   "metadata": {},
   "outputs": [],
   "source": [
    "check_s = check"
   ]
  },
  {
   "cell_type": "code",
   "execution_count": null,
   "metadata": {},
   "outputs": [],
   "source": [
    "np.mean(event1['s'][check]),np.std(event1['s'][check])"
   ]
  },
  {
   "cell_type": "code",
   "execution_count": null,
   "metadata": {},
   "outputs": [],
   "source": [
    "error = np.sqrt(event1['chi2'][check])"
   ]
  },
  {
   "cell_type": "code",
   "execution_count": null,
   "metadata": {},
   "outputs": [],
   "source": [
    "plt.errorbar(event1['z_new'][check],event1['m'][check],fmt='o')\n",
    "plt.show()"
   ]
  },
  {
   "cell_type": "code",
   "execution_count": null,
   "metadata": {},
   "outputs": [],
   "source": [
    "plt.errorbar(abs(event1['rho'])[check_s],event1['m'][check_s],fmt='o')\n",
    "plt.show()"
   ]
  },
  {
   "cell_type": "code",
   "execution_count": null,
   "metadata": {},
   "outputs": [],
   "source": [
    "plt.errorbar(event1['rho'],event1['m'],fmt='o')\n",
    "plt.xlabel('rho')\n",
    "plt.ylabel('m')\n",
    "plt.savefig('m_vs_rho.png')"
   ]
  },
  {
   "cell_type": "code",
   "execution_count": null,
   "metadata": {},
   "outputs": [],
   "source": [
    "plt.scatter(event1['rho'][check],np.log10(event1['chargeVEM'][check]))\n",
    "plt.ylabel('log10(chargeVEM)')\n",
    "plt.xlabel('rho')\n",
    "plt.savefig('charge_vs_rho.png')"
   ]
  },
  {
   "cell_type": "code",
   "execution_count": null,
   "metadata": {},
   "outputs": [],
   "source": [
    "plt.scatter(event1['rho'][check_s],np.log10(event1['chargeVEM'][check_s]))\n",
    "plt.ylabel('log10(chargeVEM)')\n",
    "plt.xlabel('rho')\n",
    "plt.show()"
   ]
  },
  {
   "cell_type": "code",
   "execution_count": null,
   "metadata": {},
   "outputs": [],
   "source": [
    "plt.errorbar(event1['rho'][check_s],event1['s'][check_s],fmt='o')\n",
    "plt.xlabel('rho')\n",
    "plt.ylabel('s')\n",
    "plt.savefig('s_vs_rho.png')"
   ]
  },
  {
   "cell_type": "code",
   "execution_count": null,
   "metadata": {},
   "outputs": [],
   "source": [
    "plt.errorbar(event1['rho'][check],event1['chi2'][check],fmt='o')\n",
    "plt.xlabel('rho')\n",
    "plt.ylabel('chi2')\n",
    "plt.show()"
   ]
  },
  {
   "cell_type": "code",
   "execution_count": null,
   "metadata": {},
   "outputs": [],
   "source": [
    "plt.errorbar(event1['s'][check],event1['m'][check],fmt='o')\n",
    "plt.show()"
   ]
  },
  {
   "cell_type": "code",
   "execution_count": null,
   "metadata": {},
   "outputs": [],
   "source": [
    "plt.errorbar(event1['s'][check_s],event1['m'][check_s],fmt='o')\n",
    "plt.show()"
   ]
  },
  {
   "cell_type": "code",
   "execution_count": null,
   "metadata": {},
   "outputs": [],
   "source": [
    "error = [1/i for i in event1['chi2'].values[check_s]]"
   ]
  },
  {
   "cell_type": "code",
   "execution_count": null,
   "metadata": {},
   "outputs": [],
   "source": [
    "X_new = [event1['s'][check],event1['rho'][check]]"
   ]
  },
  {
   "cell_type": "code",
   "execution_count": null,
   "metadata": {},
   "outputs": [],
   "source": [
    "fit = curve_fit(func_m,xdata = X_new,ydata=event1['m'][check])"
   ]
  },
  {
   "cell_type": "code",
   "execution_count": null,
   "metadata": {},
   "outputs": [],
   "source": [
    "from functools import partial"
   ]
  },
  {
   "cell_type": "code",
   "execution_count": null,
   "metadata": {},
   "outputs": [],
   "source": [
    "X_new1 = [event1['rho'][check],event1['z'][check]]"
   ]
  },
  {
   "cell_type": "code",
   "execution_count": null,
   "metadata": {},
   "outputs": [],
   "source": [
    "error = [1/i**0.5 for i in event1['chi2'].values[check]]"
   ]
  },
  {
   "cell_type": "code",
   "execution_count": null,
   "metadata": {},
   "outputs": [],
   "source": [
    "fit2 = curve_fit(func_s,xdata = event1['rho'][check],ydata=event1['s'][check],sigma=error,p0 = [1e-4,fit[0][3]])"
   ]
  },
  {
   "cell_type": "code",
   "execution_count": null,
   "metadata": {},
   "outputs": [],
   "source": [
    "print(fit)\n",
    "print(fit2)"
   ]
  },
  {
   "cell_type": "code",
   "execution_count": null,
   "metadata": {},
   "outputs": [],
   "source": [
    "m_new = func_m(X_new,fit[0][0],fit[0][1],fit[0][2],fit[0][3])\n",
    "s_new = func_s(event1['rho'][check_s],fit2[0][0],fit2[0][1])"
   ]
  },
  {
   "cell_type": "code",
   "execution_count": null,
   "metadata": {},
   "outputs": [],
   "source": [
    "residual_m = event1['m'][check].values-(m_new)\n",
    "residual_s = event1['s'][check_s].values-(s_new)"
   ]
  },
  {
   "cell_type": "code",
   "execution_count": null,
   "metadata": {},
   "outputs": [],
   "source": [
    "plt.scatter(event1['rho'][check],residual_m)\n",
    "plt.xlabel('rho')\n",
    "plt.ylabel('residual')\n",
    "plt.show()"
   ]
  },
  {
   "cell_type": "code",
   "execution_count": null,
   "metadata": {},
   "outputs": [],
   "source": [
    "plt.scatter(event1['rho'][check_s],residual_s)\n",
    "plt.xlabel('rho')\n",
    "plt.ylabel('residual')\n",
    "plt.show()"
   ]
  },
  {
   "cell_type": "code",
   "execution_count": null,
   "metadata": {},
   "outputs": [],
   "source": [
    "plt.scatter(event1['z_new'][check],residual_m)\n",
    "plt.xlabel('z')\n",
    "plt.ylabel('residual')\n",
    "plt.show()"
   ]
  },
  {
   "cell_type": "code",
   "execution_count": null,
   "metadata": {},
   "outputs": [],
   "source": [
    "plt.scatter(event1['z_new'][check_s],residual_s)\n",
    "plt.xlabel('z')\n",
    "plt.ylabel('residual')\n",
    "plt.show()"
   ]
  },
  {
   "cell_type": "code",
   "execution_count": null,
   "metadata": {},
   "outputs": [],
   "source": [
    "plt.scatter(event1['m'][check],residual_m)\n",
    "plt.ylabel('residual')\n",
    "plt.xlabel('m')\n",
    "plt.show()"
   ]
  },
  {
   "cell_type": "code",
   "execution_count": null,
   "metadata": {},
   "outputs": [],
   "source": [
    "plt.scatter(event1['s'][check_s],residual_s)\n",
    "plt.ylabel('residual')\n",
    "plt.xlabel('s')\n",
    "plt.show()"
   ]
  },
  {
   "cell_type": "code",
   "execution_count": null,
   "metadata": {},
   "outputs": [],
   "source": [
    "plt.scatter(event1['m'][check],m_new)\n",
    "plt.errorbar(event1['m'][check],event1['m'][check])\n",
    "plt.show()"
   ]
  },
  {
   "cell_type": "code",
   "execution_count": null,
   "metadata": {},
   "outputs": [],
   "source": [
    "plt.scatter(event1['s'][check_s],s_new)\n",
    "plt.errorbar(event1['s'][check_s],event1['s'][check_s])\n",
    "plt.show()"
   ]
  },
  {
   "cell_type": "code",
   "execution_count": null,
   "metadata": {},
   "outputs": [],
   "source": [
    "chisquare(event1['m'][check],m_new)[0]"
   ]
  },
  {
   "cell_type": "code",
   "execution_count": null,
   "metadata": {},
   "outputs": [],
   "source": [
    "plt.hist(residual_m,bins=20)\n",
    "plt.xlabel('Residual')\n",
    "plt.savefig('Residual_event.png')"
   ]
  },
  {
   "cell_type": "code",
   "execution_count": null,
   "metadata": {},
   "outputs": [],
   "source": [
    "np.mean(residual_m),np.std(residual_m)"
   ]
  },
  {
   "cell_type": "code",
   "execution_count": null,
   "metadata": {},
   "outputs": [],
   "source": [
    "plt.hist(residual_s,bins=20)\n",
    "plt.show()"
   ]
  },
  {
   "cell_type": "code",
   "execution_count": null,
   "metadata": {},
   "outputs": [],
   "source": [
    "plt.scatter(event1['rho'][check],m_new)\n",
    "plt.errorbar(event1['rho'][check],event1['m'][check],fmt='o',color='r')\n",
    "plt.savefig('m_vs_rho.png')"
   ]
  },
  {
   "cell_type": "code",
   "execution_count": null,
   "metadata": {},
   "outputs": [],
   "source": [
    "plt.scatter(event1['s'][check],m_new)\n",
    "plt.errorbar(event1['s'][check],event1['m'][check],fmt='o',color='r')\n",
    "plt.show()"
   ]
  },
  {
   "cell_type": "code",
   "execution_count": null,
   "metadata": {},
   "outputs": [],
   "source": [
    "plt.scatter(abs(event1['z_new'][check]),m_new)\n",
    "plt.errorbar(abs(event1['z_new'][check]),event1['m'][check],fmt='o',color='r')\n",
    "plt.show()"
   ]
  },
  {
   "cell_type": "code",
   "execution_count": null,
   "metadata": {},
   "outputs": [],
   "source": [
    "plt.scatter(event1['rho'][check_s],s_new)\n",
    "plt.errorbar(event1['rho'][check_s],event1['s'][check_s],fmt='o',color='r')\n",
    "plt.xlabel('rho')\n",
    "plt.ylabel('s')\n",
    "plt.savefig('s_rho.png')"
   ]
  },
  {
   "cell_type": "code",
   "execution_count": null,
   "metadata": {},
   "outputs": [],
   "source": [
    "plt.scatter(event1['z_new'][check_s],s_new)\n",
    "plt.errorbar(event1['z_new'][check_s],event1['s'][check_s],fmt='o',color='r')\n",
    "plt.xlabel('rho')\n",
    "plt.ylabel('z')\n",
    "plt.show()"
   ]
  },
  {
   "cell_type": "code",
   "execution_count": null,
   "metadata": {},
   "outputs": [],
   "source": [
    "plt.scatter(event1['rho'][check],np.log10(event1['chargeVEM'][check]))\n",
    "plt.show()"
   ]
  },
  {
   "cell_type": "code",
   "execution_count": null,
   "metadata": {},
   "outputs": [],
   "source": [
    "plt.errorbar(event1['m'][check_s],event1['s'][check_s],fmt='o',color='r')\n",
    "plt.scatter(event1['m'][check_s],s_new)\n",
    "plt.savefig('m_vs_s.png')"
   ]
  },
  {
   "cell_type": "code",
   "execution_count": null,
   "metadata": {},
   "outputs": [],
   "source": [
    "from scipy.stats import chisquare"
   ]
  },
  {
   "cell_type": "code",
   "execution_count": null,
   "metadata": {},
   "outputs": [],
   "source": [
    "A = []\n",
    "B = []\n",
    "C = []\n",
    "m125_1 = []\n",
    "Xmax = []\n",
    "rho_value = []\n",
    "z_value = []\n",
    "energy = []\n",
    "s_mean = []\n",
    "s_std = []\n",
    "chi2_1 = []\n",
    "\n",
    "A1 = []\n",
    "B1 = []\n",
    "C1 = []\n",
    "m125_2 = []\n",
    "Xmax1 = []\n",
    "rho_value1 = []\n",
    "z_value1 = []\n",
    "energy1 = []\n",
    "s1_mean= []\n",
    "s1_std = []\n",
    "chi2_2 = []\n",
    "\n",
    "\n",
    "for i in events:\n",
    "    event1 = df.loc[df['Unnamed: 0']==i]\n",
    "\n",
    "    try:\n",
    "        check = get_check(func_m,event1['rho'].values,event1['m'].values,event1['s'].values,event1['sigmam'].values,event1['sigmas'].values,event1['chargeVEM'].values)\n",
    "    except (TypeError,ValueError,RuntimeError,KeyError) as err:\n",
    "        continue\n",
    "   \n",
    "    X_new = [event1['s'].values[check],event1['rho'].values[check]]\n",
    "    \n",
    "    if np.sum(check) < 4:\n",
    "        continue\n",
    "    \n",
    "    try:\n",
    "        fit = curve_fit(func_m,xdata=X_new,ydata=event1['m'].values[check])\n",
    "        chi2_1.append(chisquare(event1['m'][check],func_m(X_new,fit[0][0],fit[0][1],fit[0][2],fit[0][3]))[0])\n",
    "    except RuntimeError:\n",
    "        continue\n",
    "        \n",
    "    m125_1.append(func_m([fit[0][2],125],fit[0][0],fit[0][1],fit[0][2],fit[0][3]))\n",
    "    A.append(fit[0][0])\n",
    "    B.append(fit[0][1])\n",
    "    C.append(fit[0][2])\n",
    "    Xmax.append(event1['Xmax'].values[0])\n",
    "    z_value.append(event1['z_new'].values)\n",
    "    rho_value.append(event1['rho'].values)\n",
    "    energy.append(event1['energy'].values[0])\n",
    "    s_mean.append(np.mean(event1['s'].values[check]))\n",
    "    s_std.append(np.std(event1['s'].values[check]))\n",
    "    \n",
    "    \n",
    "for i in events2:\n",
    "    event1 = df2.loc[df2['Unnamed: 0']==i]\n",
    "    check = (np.log10(event1['chargeVEM'].values)>0)&(event1['rho'].values<300)&(event1['sigmam']<np.mean(event1['sigmam'])+np.std(event1['sigmam']))\n",
    "    try:\n",
    "        check = get_check(func_m,event1['rho'].values,event1['m'].values,event1['s'].values,event1['sigmam'],event1['sigmas'].values,event1['chargeVEM'].values)\n",
    "    except (TypeError,ValueError,RuntimeError,KeyError) as err:\n",
    "        continue\n",
    "    \n",
    "    error = np.sqrt(event1['chi2'][check])\n",
    "    X_new = [event1['s'][check],event1['rho'][check]]\n",
    "    \n",
    "    if np.sum(check)<4:\n",
    "        continue\n",
    "    try:\n",
    "        fit = curve_fit(func_m,xdata=X_new,ydata=event1['m'][check])  \n",
    "        chi2_2.append(chisquare(event1['m'][check],func_m(X_new,fit[0][0],fit[0][1],fit[0][2],fit[0][3]))[0])\n",
    "    except RuntimeError:\n",
    "        continue\n",
    "    \n",
    "    m125_2.append(func_m([fit[0][2],125],fit[0][0],fit[0][1],fit[0][2],fit[0][3]))\n",
    "    A1.append(fit[0][0])\n",
    "    B1.append(fit[0][1])\n",
    "    C1.append(fit[0][2])\n",
    "    Xmax1.append(event1['Xmax'].values[0])\n",
    "    z_value1.append(event1['z_new'].values)\n",
    "    rho_value1.append(event1['rho'].values)\n",
    "    energy1.append(event1['energy'][check].values[0])\n",
    "    s1_mean.append(np.mean(event1['s'].values[check]))\n",
    "    s1_std.append(np.std(event1['s'].values[check]))"
   ]
  },
  {
   "cell_type": "code",
   "execution_count": null,
   "metadata": {},
   "outputs": [],
   "source": [
    "len(A)"
   ]
  },
  {
   "cell_type": "code",
   "execution_count": null,
   "metadata": {},
   "outputs": [],
   "source": [
    "len(A1)"
   ]
  },
  {
   "cell_type": "code",
   "execution_count": null,
   "metadata": {},
   "outputs": [],
   "source": [
    "energy = np.array(energy)\n",
    "energy1 = np.array(energy1)\n",
    "A = np.array(A)\n",
    "B = np.array(B)\n",
    "C = np.array(C)\n",
    "A1 = np.array(A1)\n",
    "B1 = np.array(B1)\n",
    "C1 = np.array(C1)\n",
    "m125_1 = np.array(m125_1)\n",
    "m125_2 = np.array(m125_2)\n",
    "Xmax = np.array(Xmax)\n",
    "Xmax1 = np.array(Xmax1)\n",
    "s_mean = np.array(s_mean)[energy>7]\n",
    "s1_mean = np.array(s1_mean)[energy1>7]\n",
    "s_std = np.array(s_std)[energy>7]\n",
    "s1_std = np.array(s1_std)[energy1>7]"
   ]
  },
  {
   "cell_type": "code",
   "execution_count": null,
   "metadata": {},
   "outputs": [],
   "source": [
    "plt.hist(C,bins=100)\n",
    "plt.show()"
   ]
  },
  {
   "cell_type": "code",
   "execution_count": null,
   "metadata": {},
   "outputs": [],
   "source": [
    "print(np.corrcoef(A,Xmax)[0][1],np.corrcoef(B,Xmax)[0][1],np.corrcoef(C,Xmax)[0][1])"
   ]
  },
  {
   "cell_type": "code",
   "execution_count": null,
   "metadata": {},
   "outputs": [],
   "source": [
    "0.21574939174672653 0.231497101470742 0.019306044299974907"
   ]
  },
  {
   "cell_type": "code",
   "execution_count": null,
   "metadata": {},
   "outputs": [],
   "source": [
    "print(np.corrcoef(A1,Xmax1)[0][1],np.corrcoef(B1,Xmax1)[0][1],np.corrcoef(C1,Xmax1)[0][1])"
   ]
  },
  {
   "cell_type": "code",
   "execution_count": null,
   "metadata": {},
   "outputs": [],
   "source": [
    "0.08720071845531845 0.21504764945263605 0.018907957460036564"
   ]
  },
  {
   "cell_type": "code",
   "execution_count": null,
   "metadata": {},
   "outputs": [],
   "source": [
    "np.corrcoef(B,chi2_1)"
   ]
  },
  {
   "cell_type": "code",
   "execution_count": null,
   "metadata": {},
   "outputs": [],
   "source": [
    "plt.hist(A[(A>0)&(A<10)],bins=50,facecolor='w',edgecolor='r',alpha=0.5)\n",
    "plt.hist(A1[(A1>0)&(A1<10)],bins=50,facecolor='w',edgecolor='g',alpha=0.5)\n",
    "plt.xlabel('A')\n",
    "plt.show()"
   ]
  },
  {
   "cell_type": "code",
   "execution_count": null,
   "metadata": {},
   "outputs": [],
   "source": [
    "np.mean(A),np.mean(A1)"
   ]
  },
  {
   "cell_type": "code",
   "execution_count": null,
   "metadata": {},
   "outputs": [],
   "source": [
    "plt.hist(B,bins=50,facecolor='w',edgecolor='r',alpha=0.5,density=True)\n",
    "plt.hist(B1,bins=50,facecolor='w',edgecolor='g',alpha=0.5,density=True)\n",
    "plt.xlabel('B')\n",
    "plt.show()"
   ]
  },
  {
   "cell_type": "code",
   "execution_count": null,
   "metadata": {},
   "outputs": [],
   "source": [
    "np.mean(B[np.isfinite(B)]),np.mean(B1[np.isfinite(B1)])"
   ]
  },
  {
   "cell_type": "code",
   "execution_count": null,
   "metadata": {},
   "outputs": [],
   "source": [
    "plt.hist(C,bins=50,facecolor='w',edgecolor='r',alpha=0.5,density=True)\n",
    "plt.hist(C1,bins=50,facecolor='w',edgecolor='g',alpha=0.5,density=True)\n",
    "plt.show()"
   ]
  },
  {
   "cell_type": "code",
   "execution_count": null,
   "metadata": {},
   "outputs": [],
   "source": [
    "np.mean(C),np.mean(C1)"
   ]
  },
  {
   "cell_type": "code",
   "execution_count": null,
   "metadata": {},
   "outputs": [],
   "source": [
    "plt.hist(np.hstack(rho_value),bins=100)\n",
    "plt.hist(np.hstack(rho_value1),bins=100)\n",
    "plt.xlabel('rho')\n",
    "plt.savefig('rho_distribution.png')"
   ]
  },
  {
   "cell_type": "code",
   "execution_count": null,
   "metadata": {},
   "outputs": [],
   "source": [
    "plt.hist(np.hstack(z_value),bins=100)\n",
    "plt.hist(np.hstack(z_value1),bins=100)\n",
    "plt.xlabel('z')\n",
    "plt.savefig('z_value.png')"
   ]
  },
  {
   "cell_type": "code",
   "execution_count": null,
   "metadata": {},
   "outputs": [],
   "source": [
    "import matplotlib\n",
    "plt.hist2d(np.array(Xmax),A,bins=30,norm =matplotlib.colors.LogNorm() )\n",
    "plt.show()"
   ]
  },
  {
   "cell_type": "code",
   "execution_count": null,
   "metadata": {},
   "outputs": [],
   "source": [
    "check = (A1>0)&(A1<10)\n",
    "plt.hist2d(np.array(Xmax1)[check],A1[check],bins=50,norm =matplotlib.colors.LogNorm() )\n",
    "plt.show()"
   ]
  },
  {
   "cell_type": "code",
   "execution_count": null,
   "metadata": {},
   "outputs": [],
   "source": [
    "def line(m,x,b):\n",
    "    y = m * x + b\n",
    "    return y"
   ]
  },
  {
   "cell_type": "code",
   "execution_count": null,
   "metadata": {},
   "outputs": [],
   "source": [
    "B_new = np.append(B,B1)\n",
    "new_xmax = np.append(Xmax,Xmax1)\n",
    "#fit_new = curve_fit(line,B_new,new_xmax)\n",
    "\n",
    "plt.hist2d(new_xmax[np.isfinite(B_new)],B_new[np.isfinite(B_new)],bins=100,norm =matplotlib.colors.LogNorm())\n",
    "#plt.plot(B_new,line(B_new,fit_new[0][0],fit_new[0][1]))\n",
    "plt.xlabel('slope')\n",
    "plt.ylabel('Xmax')\n",
    "plt.savefig('Xmax_vs_slope.png')"
   ]
  },
  {
   "cell_type": "code",
   "execution_count": null,
   "metadata": {},
   "outputs": [],
   "source": [
    "np.corrcoef(np.append(C,C1)[np.isfinite(B_new)],new_xmax[np.isfinite(B_new)])[0][1]"
   ]
  },
  {
   "cell_type": "code",
   "execution_count": null,
   "metadata": {},
   "outputs": [],
   "source": [
    "new_C = np.append(C,C1)"
   ]
  },
  {
   "cell_type": "code",
   "execution_count": null,
   "metadata": {},
   "outputs": [],
   "source": [
    "plt.hist2d(new_C,new_xmax,bins=100,norm =matplotlib.colors.LogNorm() )\n",
    "plt.show()"
   ]
  },
  {
   "cell_type": "code",
   "execution_count": null,
   "metadata": {},
   "outputs": [],
   "source": [
    "plt.hist(np.array(m125_1)[(m125_1>3)&(m125_1<5)],bins=50,alpha=0.5)\n",
    "plt.hist(np.array(m125_2)[(m125_2>3)&(m125_2<5)],bins=50,alpha=0.5)\n",
    "plt.show()"
   ]
  },
  {
   "cell_type": "code",
   "execution_count": null,
   "metadata": {},
   "outputs": [],
   "source": [
    "np.mean(m125_1),np.mean(m125_2)"
   ]
  },
  {
   "cell_type": "code",
   "execution_count": null,
   "metadata": {},
   "outputs": [],
   "source": [
    "m_125_new = np.append(m125_1,m125_2)"
   ]
  },
  {
   "cell_type": "code",
   "execution_count": null,
   "metadata": {},
   "outputs": [],
   "source": [
    "plt.hist2d(m_125_new,new_xmax,bins=20,norm =matplotlib.colors.LogNorm() )\n",
    "plt.xlabel('m_125')\n",
    "plt.ylabel('Xmax')\n",
    "plt.savefig('Xmax_vs_m_125.png')"
   ]
  },
  {
   "cell_type": "code",
   "execution_count": null,
   "metadata": {},
   "outputs": [],
   "source": [
    "np.corrcoef(m_125_new,new_xmax)[0][1]"
   ]
  },
  {
   "cell_type": "code",
   "execution_count": null,
   "metadata": {},
   "outputs": [],
   "source": [
    "plt.hist2d(m_125_new,np.append(energy,energy1),bins=20,norm =matplotlib.colors.LogNorm() )\n",
    "plt.show()"
   ]
  },
  {
   "cell_type": "code",
   "execution_count": null,
   "metadata": {},
   "outputs": [],
   "source": [
    "plt.hist(m125_1,bins=100,alpha=0.5)\n",
    "plt.hist(m125_2,bins=100,alpha=0.5)\n",
    "plt.show()"
   ]
  },
  {
   "cell_type": "code",
   "execution_count": null,
   "metadata": {},
   "outputs": [],
   "source": []
  },
  {
   "cell_type": "code",
   "execution_count": null,
   "metadata": {},
   "outputs": [],
   "source": []
  }
 ],
 "metadata": {
  "kernelspec": {
   "display_name": "Python 3",
   "language": "python",
   "name": "python3"
  },
  "language_info": {
   "codemirror_mode": {
    "name": "ipython",
    "version": 3
   },
   "file_extension": ".py",
   "mimetype": "text/x-python",
   "name": "python",
   "nbconvert_exporter": "python",
   "pygments_lexer": "ipython3",
   "version": "3.7.9"
  }
 },
 "nbformat": 4,
 "nbformat_minor": 4
}
